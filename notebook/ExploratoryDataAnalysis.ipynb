{
 "cells": [
  {
   "cell_type": "code",
   "execution_count": 1,
   "metadata": {},
   "outputs": [
    {
     "data": {
      "application/javascript": [
       "\n",
       "            setTimeout(function() {\n",
       "                var nbb_cell_id = 1;\n",
       "                var nbb_unformatted_code = \"import pandas as pd\\nimport matplotlib.pyplot as plt\\nimport numpy as np\\nfrom sklearn.preprocessing import OneHotEncoder\\n\\n%matplotlib inline\\n%reload_ext nb_black\";\n",
       "                var nbb_formatted_code = \"import pandas as pd\\nimport matplotlib.pyplot as plt\\nimport numpy as np\\nfrom sklearn.preprocessing import OneHotEncoder\\n\\n%matplotlib inline\\n%reload_ext nb_black\";\n",
       "                var nbb_cells = Jupyter.notebook.get_cells();\n",
       "                for (var i = 0; i < nbb_cells.length; ++i) {\n",
       "                    if (nbb_cells[i].input_prompt_number == nbb_cell_id) {\n",
       "                        if (nbb_cells[i].get_text() == nbb_unformatted_code) {\n",
       "                             nbb_cells[i].set_text(nbb_formatted_code);\n",
       "                        }\n",
       "                        break;\n",
       "                    }\n",
       "                }\n",
       "            }, 500);\n",
       "            "
      ],
      "text/plain": [
       "<IPython.core.display.Javascript object>"
      ]
     },
     "metadata": {},
     "output_type": "display_data"
    }
   ],
   "source": [
    "import pandas as pd\n",
    "import matplotlib.pyplot as plt\n",
    "import numpy as np\n",
    "from sklearn.preprocessing import OneHotEncoder\n",
    "\n",
    "%matplotlib inline\n",
    "%reload_ext nb_black"
   ]
  },
  {
   "cell_type": "code",
   "execution_count": 2,
   "metadata": {},
   "outputs": [
    {
     "data": {
      "application/javascript": [
       "\n",
       "            setTimeout(function() {\n",
       "                var nbb_cell_id = 2;\n",
       "                var nbb_unformatted_code = \"df = pd.read_parquet(\\\"../data/data.parquet.gzip\\\")\";\n",
       "                var nbb_formatted_code = \"df = pd.read_parquet(\\\"../data/data.parquet.gzip\\\")\";\n",
       "                var nbb_cells = Jupyter.notebook.get_cells();\n",
       "                for (var i = 0; i < nbb_cells.length; ++i) {\n",
       "                    if (nbb_cells[i].input_prompt_number == nbb_cell_id) {\n",
       "                        if (nbb_cells[i].get_text() == nbb_unformatted_code) {\n",
       "                             nbb_cells[i].set_text(nbb_formatted_code);\n",
       "                        }\n",
       "                        break;\n",
       "                    }\n",
       "                }\n",
       "            }, 500);\n",
       "            "
      ],
      "text/plain": [
       "<IPython.core.display.Javascript object>"
      ]
     },
     "metadata": {},
     "output_type": "display_data"
    }
   ],
   "source": [
    "df = pd.read_parquet(\"../data/data.parquet.gzip\")"
   ]
  },
  {
   "cell_type": "code",
   "execution_count": 3,
   "metadata": {},
   "outputs": [
    {
     "data": {
      "text/html": [
       "<div>\n",
       "<style scoped>\n",
       "    .dataframe tbody tr th:only-of-type {\n",
       "        vertical-align: middle;\n",
       "    }\n",
       "\n",
       "    .dataframe tbody tr th {\n",
       "        vertical-align: top;\n",
       "    }\n",
       "\n",
       "    .dataframe thead th {\n",
       "        text-align: right;\n",
       "    }\n",
       "</style>\n",
       "<table border=\"1\" class=\"dataframe\">\n",
       "  <thead>\n",
       "    <tr style=\"text-align: right;\">\n",
       "      <th></th>\n",
       "      <th>timestamp</th>\n",
       "      <th>country_code</th>\n",
       "      <th>last_order_ts</th>\n",
       "      <th>first_order_ts</th>\n",
       "      <th>total_orders</th>\n",
       "      <th>voucher_amount</th>\n",
       "    </tr>\n",
       "  </thead>\n",
       "  <tbody>\n",
       "    <tr>\n",
       "      <th>0</th>\n",
       "      <td>2018-07-21 18:59:21.102761</td>\n",
       "      <td>Latvia</td>\n",
       "      <td>2018-04-20</td>\n",
       "      <td>2018-04-17</td>\n",
       "      <td>0.0</td>\n",
       "      <td>4400.0</td>\n",
       "    </tr>\n",
       "    <tr>\n",
       "      <th>1</th>\n",
       "      <td>2018-07-21 18:50:02.050224</td>\n",
       "      <td>Peru</td>\n",
       "      <td>2018-04-20</td>\n",
       "      <td>2018-04-20</td>\n",
       "      <td>0.0</td>\n",
       "      <td>4400.0</td>\n",
       "    </tr>\n",
       "    <tr>\n",
       "      <th>2</th>\n",
       "      <td>2018-07-21 18:22:00.561856</td>\n",
       "      <td>Peru</td>\n",
       "      <td>2018-04-20</td>\n",
       "      <td>2018-04-16</td>\n",
       "      <td>1.0</td>\n",
       "      <td>2640.0</td>\n",
       "    </tr>\n",
       "    <tr>\n",
       "      <th>3</th>\n",
       "      <td>2018-07-21 19:00:35.451683</td>\n",
       "      <td>China</td>\n",
       "      <td>2018-04-20</td>\n",
       "      <td>2018-04-20</td>\n",
       "      <td>2.0</td>\n",
       "      <td>3080.0</td>\n",
       "    </tr>\n",
       "    <tr>\n",
       "      <th>4</th>\n",
       "      <td>2015-05-21 18:56:29.671213</td>\n",
       "      <td>Peru</td>\n",
       "      <td>2018-04-20</td>\n",
       "      <td>2018-04-19</td>\n",
       "      <td>0.0</td>\n",
       "      <td>4400.0</td>\n",
       "    </tr>\n",
       "  </tbody>\n",
       "</table>\n",
       "</div>"
      ],
      "text/plain": [
       "                    timestamp country_code last_order_ts first_order_ts  \\\n",
       "0  2018-07-21 18:59:21.102761       Latvia    2018-04-20     2018-04-17   \n",
       "1  2018-07-21 18:50:02.050224         Peru    2018-04-20     2018-04-20   \n",
       "2  2018-07-21 18:22:00.561856         Peru    2018-04-20     2018-04-16   \n",
       "3  2018-07-21 19:00:35.451683        China    2018-04-20     2018-04-20   \n",
       "4  2015-05-21 18:56:29.671213         Peru    2018-04-20     2018-04-19   \n",
       "\n",
       "  total_orders  voucher_amount  \n",
       "0          0.0          4400.0  \n",
       "1          0.0          4400.0  \n",
       "2          1.0          2640.0  \n",
       "3          2.0          3080.0  \n",
       "4          0.0          4400.0  "
      ]
     },
     "execution_count": 3,
     "metadata": {},
     "output_type": "execute_result"
    },
    {
     "data": {
      "application/javascript": [
       "\n",
       "            setTimeout(function() {\n",
       "                var nbb_cell_id = 3;\n",
       "                var nbb_unformatted_code = \"df.head()\";\n",
       "                var nbb_formatted_code = \"df.head()\";\n",
       "                var nbb_cells = Jupyter.notebook.get_cells();\n",
       "                for (var i = 0; i < nbb_cells.length; ++i) {\n",
       "                    if (nbb_cells[i].input_prompt_number == nbb_cell_id) {\n",
       "                        if (nbb_cells[i].get_text() == nbb_unformatted_code) {\n",
       "                             nbb_cells[i].set_text(nbb_formatted_code);\n",
       "                        }\n",
       "                        break;\n",
       "                    }\n",
       "                }\n",
       "            }, 500);\n",
       "            "
      ],
      "text/plain": [
       "<IPython.core.display.Javascript object>"
      ]
     },
     "metadata": {},
     "output_type": "display_data"
    }
   ],
   "source": [
    "df.head()"
   ]
  },
  {
   "cell_type": "code",
   "execution_count": 4,
   "metadata": {},
   "outputs": [
    {
     "name": "stdout",
     "output_type": "stream",
     "text": [
      "<class 'pandas.core.frame.DataFrame'>\n",
      "RangeIndex: 285570 entries, 0 to 285569\n",
      "Data columns (total 6 columns):\n",
      " #   Column          Non-Null Count   Dtype         \n",
      "---  ------          --------------   -----         \n",
      " 0   timestamp       285570 non-null  object        \n",
      " 1   country_code    285570 non-null  object        \n",
      " 2   last_order_ts   285570 non-null  object        \n",
      " 3   first_order_ts  285570 non-null  datetime64[ns]\n",
      " 4   total_orders    285570 non-null  object        \n",
      " 5   voucher_amount  283839 non-null  float64       \n",
      "dtypes: datetime64[ns](1), float64(1), object(4)\n",
      "memory usage: 13.1+ MB\n"
     ]
    },
    {
     "data": {
      "application/javascript": [
       "\n",
       "            setTimeout(function() {\n",
       "                var nbb_cell_id = 4;\n",
       "                var nbb_unformatted_code = \"df.info()\";\n",
       "                var nbb_formatted_code = \"df.info()\";\n",
       "                var nbb_cells = Jupyter.notebook.get_cells();\n",
       "                for (var i = 0; i < nbb_cells.length; ++i) {\n",
       "                    if (nbb_cells[i].input_prompt_number == nbb_cell_id) {\n",
       "                        if (nbb_cells[i].get_text() == nbb_unformatted_code) {\n",
       "                             nbb_cells[i].set_text(nbb_formatted_code);\n",
       "                        }\n",
       "                        break;\n",
       "                    }\n",
       "                }\n",
       "            }, 500);\n",
       "            "
      ],
      "text/plain": [
       "<IPython.core.display.Javascript object>"
      ]
     },
     "metadata": {},
     "output_type": "display_data"
    }
   ],
   "source": [
    "df.info()"
   ]
  },
  {
   "cell_type": "code",
   "execution_count": 5,
   "metadata": {},
   "outputs": [
    {
     "data": {
      "application/javascript": [
       "\n",
       "            setTimeout(function() {\n",
       "                var nbb_cell_id = 5;\n",
       "                var nbb_unformatted_code = \"df[\\\"total_orders\\\"] = pd.to_numeric(df.total_orders)\";\n",
       "                var nbb_formatted_code = \"df[\\\"total_orders\\\"] = pd.to_numeric(df.total_orders)\";\n",
       "                var nbb_cells = Jupyter.notebook.get_cells();\n",
       "                for (var i = 0; i < nbb_cells.length; ++i) {\n",
       "                    if (nbb_cells[i].input_prompt_number == nbb_cell_id) {\n",
       "                        if (nbb_cells[i].get_text() == nbb_unformatted_code) {\n",
       "                             nbb_cells[i].set_text(nbb_formatted_code);\n",
       "                        }\n",
       "                        break;\n",
       "                    }\n",
       "                }\n",
       "            }, 500);\n",
       "            "
      ],
      "text/plain": [
       "<IPython.core.display.Javascript object>"
      ]
     },
     "metadata": {},
     "output_type": "display_data"
    }
   ],
   "source": [
    "df[\"total_orders\"] = pd.to_numeric(df.total_orders)"
   ]
  },
  {
   "cell_type": "code",
   "execution_count": 6,
   "metadata": {},
   "outputs": [
    {
     "data": {
      "image/png": "[encoded data removed]",
      "text/plain": [
       "<Figure size 1440x1080 with 2 Axes>"
      ]
     },
     "metadata": {
      "needs_background": "light"
     },
     "output_type": "display_data"
    },
    {
     "data": {
      "application/javascript": [
       "\n",
       "            setTimeout(function() {\n",
       "                var nbb_cell_id = 6;\n",
       "                var nbb_unformatted_code = \"df.hist(bins=20, figsize=(20, 15))\\nplt.show()\";\n",
       "                var nbb_formatted_code = \"df.hist(bins=20, figsize=(20, 15))\\nplt.show()\";\n",
       "                var nbb_cells = Jupyter.notebook.get_cells();\n",
       "                for (var i = 0; i < nbb_cells.length; ++i) {\n",
       "                    if (nbb_cells[i].input_prompt_number == nbb_cell_id) {\n",
       "                        if (nbb_cells[i].get_text() == nbb_unformatted_code) {\n",
       "                             nbb_cells[i].set_text(nbb_formatted_code);\n",
       "                        }\n",
       "                        break;\n",
       "                    }\n",
       "                }\n",
       "            }, 500);\n",
       "            "
      ],
      "text/plain": [
       "<IPython.core.display.Javascript object>"
      ]
     },
     "metadata": {},
     "output_type": "display_data"
    }
   ],
   "source": [
    "df.hist(bins=20, figsize=(20, 15))\n",
    "plt.show()"
   ]
  },
  {
   "cell_type": "code",
   "execution_count": 7,
   "metadata": {},
   "outputs": [
    {
     "data": {
      "text/plain": [
       "1760.0     52285\n",
       "4400.0     52272\n",
       "8800.0     33123\n",
       "5720.0     31189\n",
       "2200.0     28670\n",
       "2640.0     23040\n",
       "13200.0    21968\n",
       "3520.0     15160\n",
       "11000.0    14607\n",
       "3080.0      8387\n",
       "1540.0      3138\n",
       "Name: voucher_amount, dtype: int64"
      ]
     },
     "execution_count": 7,
     "metadata": {},
     "output_type": "execute_result"
    },
    {
     "data": {
      "application/javascript": [
       "\n",
       "            setTimeout(function() {\n",
       "                var nbb_cell_id = 7;\n",
       "                var nbb_unformatted_code = \"df.voucher_amount.value_counts()\";\n",
       "                var nbb_formatted_code = \"df.voucher_amount.value_counts()\";\n",
       "                var nbb_cells = Jupyter.notebook.get_cells();\n",
       "                for (var i = 0; i < nbb_cells.length; ++i) {\n",
       "                    if (nbb_cells[i].input_prompt_number == nbb_cell_id) {\n",
       "                        if (nbb_cells[i].get_text() == nbb_unformatted_code) {\n",
       "                             nbb_cells[i].set_text(nbb_formatted_code);\n",
       "                        }\n",
       "                        break;\n",
       "                    }\n",
       "                }\n",
       "            }, 500);\n",
       "            "
      ],
      "text/plain": [
       "<IPython.core.display.Javascript object>"
      ]
     },
     "metadata": {},
     "output_type": "display_data"
    }
   ],
   "source": [
    "df.voucher_amount.value_counts()"
   ]
  },
  {
   "cell_type": "code",
   "execution_count": 8,
   "metadata": {},
   "outputs": [
    {
     "data": {
      "text/plain": [
       "voucher_amount    1.000000\n",
       "total_orders     -0.016841\n",
       "Name: voucher_amount, dtype: float64"
      ]
     },
     "execution_count": 8,
     "metadata": {},
     "output_type": "execute_result"
    },
    {
     "data": {
      "application/javascript": [
       "\n",
       "            setTimeout(function() {\n",
       "                var nbb_cell_id = 8;\n",
       "                var nbb_unformatted_code = \"df.corr()[\\\"voucher_amount\\\"].sort_values(ascending=False)\";\n",
       "                var nbb_formatted_code = \"df.corr()[\\\"voucher_amount\\\"].sort_values(ascending=False)\";\n",
       "                var nbb_cells = Jupyter.notebook.get_cells();\n",
       "                for (var i = 0; i < nbb_cells.length; ++i) {\n",
       "                    if (nbb_cells[i].input_prompt_number == nbb_cell_id) {\n",
       "                        if (nbb_cells[i].get_text() == nbb_unformatted_code) {\n",
       "                             nbb_cells[i].set_text(nbb_formatted_code);\n",
       "                        }\n",
       "                        break;\n",
       "                    }\n",
       "                }\n",
       "            }, 500);\n",
       "            "
      ],
      "text/plain": [
       "<IPython.core.display.Javascript object>"
      ]
     },
     "metadata": {},
     "output_type": "display_data"
    }
   ],
   "source": [
    "df.corr()[\"voucher_amount\"].sort_values(ascending=False)"
   ]
  },
  {
   "cell_type": "markdown",
   "metadata": {},
   "source": [
    "### Create Fequent Segment"
   ]
  },
  {
   "cell_type": "code",
   "execution_count": 9,
   "metadata": {},
   "outputs": [
    {
     "data": {
      "application/javascript": [
       "\n",
       "            setTimeout(function() {\n",
       "                var nbb_cell_id = 9;\n",
       "                var nbb_unformatted_code = \"# bins = pd.IntervalIndex.from_tuples([(0, 4), (5, 13), (14, 37), (38, np.inf)])\\nbins = [0.0, 4.0, 13.0, 37.0, np.inf]\\nlabels = [\\\"0-4\\\", \\\"5-13\\\", \\\"13-37\\\", \\\"38-higher\\\"]\";\n",
       "                var nbb_formatted_code = \"# bins = pd.IntervalIndex.from_tuples([(0, 4), (5, 13), (14, 37), (38, np.inf)])\\nbins = [0.0, 4.0, 13.0, 37.0, np.inf]\\nlabels = [\\\"0-4\\\", \\\"5-13\\\", \\\"13-37\\\", \\\"38-higher\\\"]\";\n",
       "                var nbb_cells = Jupyter.notebook.get_cells();\n",
       "                for (var i = 0; i < nbb_cells.length; ++i) {\n",
       "                    if (nbb_cells[i].input_prompt_number == nbb_cell_id) {\n",
       "                        if (nbb_cells[i].get_text() == nbb_unformatted_code) {\n",
       "                             nbb_cells[i].set_text(nbb_formatted_code);\n",
       "                        }\n",
       "                        break;\n",
       "                    }\n",
       "                }\n",
       "            }, 500);\n",
       "            "
      ],
      "text/plain": [
       "<IPython.core.display.Javascript object>"
      ]
     },
     "metadata": {},
     "output_type": "display_data"
    }
   ],
   "source": [
    "# bins = pd.IntervalIndex.from_tuples([(0, 4), (5, 13), (14, 37), (38, np.inf)])\n",
    "bins = [0.0, 4.0, 13.0, 37.0, np.inf]\n",
    "labels = [\"0-4\", \"5-13\", \"13-37\", \"38-higher\"]"
   ]
  },
  {
   "cell_type": "code",
   "execution_count": 10,
   "metadata": {},
   "outputs": [
    {
     "data": {
      "application/javascript": [
       "\n",
       "            setTimeout(function() {\n",
       "                var nbb_cell_id = 10;\n",
       "                var nbb_unformatted_code = \"df[\\\"total_orders_ranges\\\"] = pd.cut(\\n    df[\\\"total_orders\\\"], bins=bins, labels=labels, include_lowest=True\\n)\";\n",
       "                var nbb_formatted_code = \"df[\\\"total_orders_ranges\\\"] = pd.cut(\\n    df[\\\"total_orders\\\"], bins=bins, labels=labels, include_lowest=True\\n)\";\n",
       "                var nbb_cells = Jupyter.notebook.get_cells();\n",
       "                for (var i = 0; i < nbb_cells.length; ++i) {\n",
       "                    if (nbb_cells[i].input_prompt_number == nbb_cell_id) {\n",
       "                        if (nbb_cells[i].get_text() == nbb_unformatted_code) {\n",
       "                             nbb_cells[i].set_text(nbb_formatted_code);\n",
       "                        }\n",
       "                        break;\n",
       "                    }\n",
       "                }\n",
       "            }, 500);\n",
       "            "
      ],
      "text/plain": [
       "<IPython.core.display.Javascript object>"
      ]
     },
     "metadata": {},
     "output_type": "display_data"
    }
   ],
   "source": [
    "df[\"total_orders_ranges\"] = pd.cut(\n",
    "    df[\"total_orders\"], bins=bins, labels=labels, include_lowest=True\n",
    ")"
   ]
  },
  {
   "cell_type": "code",
   "execution_count": 11,
   "metadata": {},
   "outputs": [
    {
     "data": {
      "text/html": [
       "<div>\n",
       "<style scoped>\n",
       "    .dataframe tbody tr th:only-of-type {\n",
       "        vertical-align: middle;\n",
       "    }\n",
       "\n",
       "    .dataframe tbody tr th {\n",
       "        vertical-align: top;\n",
       "    }\n",
       "\n",
       "    .dataframe thead th {\n",
       "        text-align: right;\n",
       "    }\n",
       "</style>\n",
       "<table border=\"1\" class=\"dataframe\">\n",
       "  <thead>\n",
       "    <tr style=\"text-align: right;\">\n",
       "      <th></th>\n",
       "      <th>timestamp</th>\n",
       "      <th>country_code</th>\n",
       "      <th>last_order_ts</th>\n",
       "      <th>first_order_ts</th>\n",
       "      <th>total_orders</th>\n",
       "      <th>voucher_amount</th>\n",
       "      <th>total_orders_ranges</th>\n",
       "    </tr>\n",
       "  </thead>\n",
       "  <tbody>\n",
       "    <tr>\n",
       "      <th>0</th>\n",
       "      <td>2018-07-21 18:59:21.102761</td>\n",
       "      <td>Latvia</td>\n",
       "      <td>2018-04-20</td>\n",
       "      <td>2018-04-17</td>\n",
       "      <td>0.0</td>\n",
       "      <td>4400.0</td>\n",
       "      <td>0-4</td>\n",
       "    </tr>\n",
       "    <tr>\n",
       "      <th>1</th>\n",
       "      <td>2018-07-21 18:50:02.050224</td>\n",
       "      <td>Peru</td>\n",
       "      <td>2018-04-20</td>\n",
       "      <td>2018-04-20</td>\n",
       "      <td>0.0</td>\n",
       "      <td>4400.0</td>\n",
       "      <td>0-4</td>\n",
       "    </tr>\n",
       "    <tr>\n",
       "      <th>2</th>\n",
       "      <td>2018-07-21 18:22:00.561856</td>\n",
       "      <td>Peru</td>\n",
       "      <td>2018-04-20</td>\n",
       "      <td>2018-04-16</td>\n",
       "      <td>1.0</td>\n",
       "      <td>2640.0</td>\n",
       "      <td>0-4</td>\n",
       "    </tr>\n",
       "    <tr>\n",
       "      <th>3</th>\n",
       "      <td>2018-07-21 19:00:35.451683</td>\n",
       "      <td>China</td>\n",
       "      <td>2018-04-20</td>\n",
       "      <td>2018-04-20</td>\n",
       "      <td>2.0</td>\n",
       "      <td>3080.0</td>\n",
       "      <td>0-4</td>\n",
       "    </tr>\n",
       "    <tr>\n",
       "      <th>4</th>\n",
       "      <td>2015-05-21 18:56:29.671213</td>\n",
       "      <td>Peru</td>\n",
       "      <td>2018-04-20</td>\n",
       "      <td>2018-04-19</td>\n",
       "      <td>0.0</td>\n",
       "      <td>4400.0</td>\n",
       "      <td>0-4</td>\n",
       "    </tr>\n",
       "  </tbody>\n",
       "</table>\n",
       "</div>"
      ],
      "text/plain": [
       "                    timestamp country_code last_order_ts first_order_ts  \\\n",
       "0  2018-07-21 18:59:21.102761       Latvia    2018-04-20     2018-04-17   \n",
       "1  2018-07-21 18:50:02.050224         Peru    2018-04-20     2018-04-20   \n",
       "2  2018-07-21 18:22:00.561856         Peru    2018-04-20     2018-04-16   \n",
       "3  2018-07-21 19:00:35.451683        China    2018-04-20     2018-04-20   \n",
       "4  2015-05-21 18:56:29.671213         Peru    2018-04-20     2018-04-19   \n",
       "\n",
       "   total_orders  voucher_amount total_orders_ranges  \n",
       "0           0.0          4400.0                 0-4  \n",
       "1           0.0          4400.0                 0-4  \n",
       "2           1.0          2640.0                 0-4  \n",
       "3           2.0          3080.0                 0-4  \n",
       "4           0.0          4400.0                 0-4  "
      ]
     },
     "execution_count": 11,
     "metadata": {},
     "output_type": "execute_result"
    },
    {
     "data": {
      "application/javascript": [
       "\n",
       "            setTimeout(function() {\n",
       "                var nbb_cell_id = 11;\n",
       "                var nbb_unformatted_code = \"df.head()\";\n",
       "                var nbb_formatted_code = \"df.head()\";\n",
       "                var nbb_cells = Jupyter.notebook.get_cells();\n",
       "                for (var i = 0; i < nbb_cells.length; ++i) {\n",
       "                    if (nbb_cells[i].input_prompt_number == nbb_cell_id) {\n",
       "                        if (nbb_cells[i].get_text() == nbb_unformatted_code) {\n",
       "                             nbb_cells[i].set_text(nbb_formatted_code);\n",
       "                        }\n",
       "                        break;\n",
       "                    }\n",
       "                }\n",
       "            }, 500);\n",
       "            "
      ],
      "text/plain": [
       "<IPython.core.display.Javascript object>"
      ]
     },
     "metadata": {},
     "output_type": "display_data"
    }
   ],
   "source": [
    "df.head()"
   ]
  },
  {
   "cell_type": "code",
   "execution_count": 12,
   "metadata": {},
   "outputs": [
    {
     "data": {
      "application/javascript": [
       "\n",
       "            setTimeout(function() {\n",
       "                var nbb_cell_id = 12;\n",
       "                var nbb_unformatted_code = \"one_hot_freq_segment = pd.get_dummies(df[\\\"total_orders_ranges\\\"], prefix=\\\"freq\\\")\";\n",
       "                var nbb_formatted_code = \"one_hot_freq_segment = pd.get_dummies(df[\\\"total_orders_ranges\\\"], prefix=\\\"freq\\\")\";\n",
       "                var nbb_cells = Jupyter.notebook.get_cells();\n",
       "                for (var i = 0; i < nbb_cells.length; ++i) {\n",
       "                    if (nbb_cells[i].input_prompt_number == nbb_cell_id) {\n",
       "                        if (nbb_cells[i].get_text() == nbb_unformatted_code) {\n",
       "                             nbb_cells[i].set_text(nbb_formatted_code);\n",
       "                        }\n",
       "                        break;\n",
       "                    }\n",
       "                }\n",
       "            }, 500);\n",
       "            "
      ],
      "text/plain": [
       "<IPython.core.display.Javascript object>"
      ]
     },
     "metadata": {},
     "output_type": "display_data"
    }
   ],
   "source": [
    "one_hot_freq_segment = pd.get_dummies(df[\"total_orders_ranges\"], prefix=\"freq\")"
   ]
  },
  {
   "cell_type": "code",
   "execution_count": 13,
   "metadata": {},
   "outputs": [
    {
     "data": {
      "application/javascript": [
       "\n",
       "            setTimeout(function() {\n",
       "                var nbb_cell_id = 13;\n",
       "                var nbb_unformatted_code = \"df = df.drop(\\\"total_orders_ranges\\\", axis=1)\";\n",
       "                var nbb_formatted_code = \"df = df.drop(\\\"total_orders_ranges\\\", axis=1)\";\n",
       "                var nbb_cells = Jupyter.notebook.get_cells();\n",
       "                for (var i = 0; i < nbb_cells.length; ++i) {\n",
       "                    if (nbb_cells[i].input_prompt_number == nbb_cell_id) {\n",
       "                        if (nbb_cells[i].get_text() == nbb_unformatted_code) {\n",
       "                             nbb_cells[i].set_text(nbb_formatted_code);\n",
       "                        }\n",
       "                        break;\n",
       "                    }\n",
       "                }\n",
       "            }, 500);\n",
       "            "
      ],
      "text/plain": [
       "<IPython.core.display.Javascript object>"
      ]
     },
     "metadata": {},
     "output_type": "display_data"
    }
   ],
   "source": [
    "df = df.drop(\"total_orders_ranges\", axis=1)"
   ]
  },
  {
   "cell_type": "code",
   "execution_count": 14,
   "metadata": {},
   "outputs": [
    {
     "data": {
      "application/javascript": [
       "\n",
       "            setTimeout(function() {\n",
       "                var nbb_cell_id = 14;\n",
       "                var nbb_unformatted_code = \"df = df.join(one_hot_freq_segment)\";\n",
       "                var nbb_formatted_code = \"df = df.join(one_hot_freq_segment)\";\n",
       "                var nbb_cells = Jupyter.notebook.get_cells();\n",
       "                for (var i = 0; i < nbb_cells.length; ++i) {\n",
       "                    if (nbb_cells[i].input_prompt_number == nbb_cell_id) {\n",
       "                        if (nbb_cells[i].get_text() == nbb_unformatted_code) {\n",
       "                             nbb_cells[i].set_text(nbb_formatted_code);\n",
       "                        }\n",
       "                        break;\n",
       "                    }\n",
       "                }\n",
       "            }, 500);\n",
       "            "
      ],
      "text/plain": [
       "<IPython.core.display.Javascript object>"
      ]
     },
     "metadata": {},
     "output_type": "display_data"
    }
   ],
   "source": [
    "df = df.join(one_hot_freq_segment)"
   ]
  },
  {
   "cell_type": "code",
   "execution_count": 15,
   "metadata": {},
   "outputs": [
    {
     "data": {
      "text/html": [
       "<div>\n",
       "<style scoped>\n",
       "    .dataframe tbody tr th:only-of-type {\n",
       "        vertical-align: middle;\n",
       "    }\n",
       "\n",
       "    .dataframe tbody tr th {\n",
       "        vertical-align: top;\n",
       "    }\n",
       "\n",
       "    .dataframe thead th {\n",
       "        text-align: right;\n",
       "    }\n",
       "</style>\n",
       "<table border=\"1\" class=\"dataframe\">\n",
       "  <thead>\n",
       "    <tr style=\"text-align: right;\">\n",
       "      <th></th>\n",
       "      <th>timestamp</th>\n",
       "      <th>country_code</th>\n",
       "      <th>last_order_ts</th>\n",
       "      <th>first_order_ts</th>\n",
       "      <th>total_orders</th>\n",
       "      <th>voucher_amount</th>\n",
       "      <th>freq_0-4</th>\n",
       "      <th>freq_5-13</th>\n",
       "      <th>freq_13-37</th>\n",
       "      <th>freq_38-higher</th>\n",
       "    </tr>\n",
       "  </thead>\n",
       "  <tbody>\n",
       "    <tr>\n",
       "      <th>0</th>\n",
       "      <td>2018-07-21 18:59:21.102761</td>\n",
       "      <td>Latvia</td>\n",
       "      <td>2018-04-20</td>\n",
       "      <td>2018-04-17</td>\n",
       "      <td>0.0</td>\n",
       "      <td>4400.0</td>\n",
       "      <td>1</td>\n",
       "      <td>0</td>\n",
       "      <td>0</td>\n",
       "      <td>0</td>\n",
       "    </tr>\n",
       "    <tr>\n",
       "      <th>1</th>\n",
       "      <td>2018-07-21 18:50:02.050224</td>\n",
       "      <td>Peru</td>\n",
       "      <td>2018-04-20</td>\n",
       "      <td>2018-04-20</td>\n",
       "      <td>0.0</td>\n",
       "      <td>4400.0</td>\n",
       "      <td>1</td>\n",
       "      <td>0</td>\n",
       "      <td>0</td>\n",
       "      <td>0</td>\n",
       "    </tr>\n",
       "    <tr>\n",
       "      <th>2</th>\n",
       "      <td>2018-07-21 18:22:00.561856</td>\n",
       "      <td>Peru</td>\n",
       "      <td>2018-04-20</td>\n",
       "      <td>2018-04-16</td>\n",
       "      <td>1.0</td>\n",
       "      <td>2640.0</td>\n",
       "      <td>1</td>\n",
       "      <td>0</td>\n",
       "      <td>0</td>\n",
       "      <td>0</td>\n",
       "    </tr>\n",
       "    <tr>\n",
       "      <th>3</th>\n",
       "      <td>2018-07-21 19:00:35.451683</td>\n",
       "      <td>China</td>\n",
       "      <td>2018-04-20</td>\n",
       "      <td>2018-04-20</td>\n",
       "      <td>2.0</td>\n",
       "      <td>3080.0</td>\n",
       "      <td>1</td>\n",
       "      <td>0</td>\n",
       "      <td>0</td>\n",
       "      <td>0</td>\n",
       "    </tr>\n",
       "    <tr>\n",
       "      <th>4</th>\n",
       "      <td>2015-05-21 18:56:29.671213</td>\n",
       "      <td>Peru</td>\n",
       "      <td>2018-04-20</td>\n",
       "      <td>2018-04-19</td>\n",
       "      <td>0.0</td>\n",
       "      <td>4400.0</td>\n",
       "      <td>1</td>\n",
       "      <td>0</td>\n",
       "      <td>0</td>\n",
       "      <td>0</td>\n",
       "    </tr>\n",
       "  </tbody>\n",
       "</table>\n",
       "</div>"
      ],
      "text/plain": [
       "                    timestamp country_code last_order_ts first_order_ts  \\\n",
       "0  2018-07-21 18:59:21.102761       Latvia    2018-04-20     2018-04-17   \n",
       "1  2018-07-21 18:50:02.050224         Peru    2018-04-20     2018-04-20   \n",
       "2  2018-07-21 18:22:00.561856         Peru    2018-04-20     2018-04-16   \n",
       "3  2018-07-21 19:00:35.451683        China    2018-04-20     2018-04-20   \n",
       "4  2015-05-21 18:56:29.671213         Peru    2018-04-20     2018-04-19   \n",
       "\n",
       "   total_orders  voucher_amount  freq_0-4  freq_5-13  freq_13-37  \\\n",
       "0           0.0          4400.0         1          0           0   \n",
       "1           0.0          4400.0         1          0           0   \n",
       "2           1.0          2640.0         1          0           0   \n",
       "3           2.0          3080.0         1          0           0   \n",
       "4           0.0          4400.0         1          0           0   \n",
       "\n",
       "   freq_38-higher  \n",
       "0               0  \n",
       "1               0  \n",
       "2               0  \n",
       "3               0  \n",
       "4               0  "
      ]
     },
     "execution_count": 15,
     "metadata": {},
     "output_type": "execute_result"
    },
    {
     "data": {
      "application/javascript": [
       "\n",
       "            setTimeout(function() {\n",
       "                var nbb_cell_id = 15;\n",
       "                var nbb_unformatted_code = \"df.head()\";\n",
       "                var nbb_formatted_code = \"df.head()\";\n",
       "                var nbb_cells = Jupyter.notebook.get_cells();\n",
       "                for (var i = 0; i < nbb_cells.length; ++i) {\n",
       "                    if (nbb_cells[i].input_prompt_number == nbb_cell_id) {\n",
       "                        if (nbb_cells[i].get_text() == nbb_unformatted_code) {\n",
       "                             nbb_cells[i].set_text(nbb_formatted_code);\n",
       "                        }\n",
       "                        break;\n",
       "                    }\n",
       "                }\n",
       "            }, 500);\n",
       "            "
      ],
      "text/plain": [
       "<IPython.core.display.Javascript object>"
      ]
     },
     "metadata": {},
     "output_type": "display_data"
    }
   ],
   "source": [
    "df.head()"
   ]
  },
  {
   "cell_type": "code",
   "execution_count": 16,
   "metadata": {},
   "outputs": [
    {
     "name": "stdout",
     "output_type": "stream",
     "text": [
      "<class 'pandas.core.frame.DataFrame'>\n",
      "RangeIndex: 285570 entries, 0 to 285569\n",
      "Data columns (total 10 columns):\n",
      " #   Column          Non-Null Count   Dtype         \n",
      "---  ------          --------------   -----         \n",
      " 0   timestamp       285570 non-null  object        \n",
      " 1   country_code    285570 non-null  object        \n",
      " 2   last_order_ts   285570 non-null  object        \n",
      " 3   first_order_ts  285570 non-null  datetime64[ns]\n",
      " 4   total_orders    262725 non-null  float64       \n",
      " 5   voucher_amount  283839 non-null  float64       \n",
      " 6   freq_0-4        285570 non-null  uint8         \n",
      " 7   freq_5-13       285570 non-null  uint8         \n",
      " 8   freq_13-37      285570 non-null  uint8         \n",
      " 9   freq_38-higher  285570 non-null  uint8         \n",
      "dtypes: datetime64[ns](1), float64(2), object(3), uint8(4)\n",
      "memory usage: 14.2+ MB\n"
     ]
    },
    {
     "data": {
      "application/javascript": [
       "\n",
       "            setTimeout(function() {\n",
       "                var nbb_cell_id = 16;\n",
       "                var nbb_unformatted_code = \"df.info()\";\n",
       "                var nbb_formatted_code = \"df.info()\";\n",
       "                var nbb_cells = Jupyter.notebook.get_cells();\n",
       "                for (var i = 0; i < nbb_cells.length; ++i) {\n",
       "                    if (nbb_cells[i].input_prompt_number == nbb_cell_id) {\n",
       "                        if (nbb_cells[i].get_text() == nbb_unformatted_code) {\n",
       "                             nbb_cells[i].set_text(nbb_formatted_code);\n",
       "                        }\n",
       "                        break;\n",
       "                    }\n",
       "                }\n",
       "            }, 500);\n",
       "            "
      ],
      "text/plain": [
       "<IPython.core.display.Javascript object>"
      ]
     },
     "metadata": {},
     "output_type": "display_data"
    }
   ],
   "source": [
    "df.info()"
   ]
  },
  {
   "cell_type": "code",
   "execution_count": 17,
   "metadata": {},
   "outputs": [
    {
     "data": {
      "text/plain": [
       "voucher_amount    1.000000\n",
       "freq_0-4          0.023263\n",
       "freq_5-13        -0.008318\n",
       "freq_13-37       -0.010647\n",
       "freq_38-higher   -0.014971\n",
       "total_orders     -0.016841\n",
       "Name: voucher_amount, dtype: float64"
      ]
     },
     "execution_count": 17,
     "metadata": {},
     "output_type": "execute_result"
    },
    {
     "data": {
      "application/javascript": [
       "\n",
       "            setTimeout(function() {\n",
       "                var nbb_cell_id = 17;\n",
       "                var nbb_unformatted_code = \"df.corr()[\\\"voucher_amount\\\"].sort_values(ascending=False)\";\n",
       "                var nbb_formatted_code = \"df.corr()[\\\"voucher_amount\\\"].sort_values(ascending=False)\";\n",
       "                var nbb_cells = Jupyter.notebook.get_cells();\n",
       "                for (var i = 0; i < nbb_cells.length; ++i) {\n",
       "                    if (nbb_cells[i].input_prompt_number == nbb_cell_id) {\n",
       "                        if (nbb_cells[i].get_text() == nbb_unformatted_code) {\n",
       "                             nbb_cells[i].set_text(nbb_formatted_code);\n",
       "                        }\n",
       "                        break;\n",
       "                    }\n",
       "                }\n",
       "            }, 500);\n",
       "            "
      ],
      "text/plain": [
       "<IPython.core.display.Javascript object>"
      ]
     },
     "metadata": {},
     "output_type": "display_data"
    }
   ],
   "source": [
    "df.corr()[\"voucher_amount\"].sort_values(ascending=False)"
   ]
  },
  {
   "cell_type": "markdown",
   "metadata": {},
   "source": [
    "### Convert timestamp to datetime"
   ]
  },
  {
   "cell_type": "code",
   "execution_count": 18,
   "metadata": {},
   "outputs": [
    {
     "data": {
      "application/javascript": [
       "\n",
       "            setTimeout(function() {\n",
       "                var nbb_cell_id = 18;\n",
       "                var nbb_unformatted_code = \"df[\\\"timestamp\\\"] = pd.to_datetime(df[\\\"timestamp\\\"] ,format='%Y-%m-%d').dt.date\\ndf[\\\"last_order_ts\\\"] = pd.to_datetime(df[\\\"last_order_ts\\\"], format='%Y-%m-%d')\";\n",
       "                var nbb_formatted_code = \"df[\\\"timestamp\\\"] = pd.to_datetime(df[\\\"timestamp\\\"], format=\\\"%Y-%m-%d\\\").dt.date\\ndf[\\\"last_order_ts\\\"] = pd.to_datetime(df[\\\"last_order_ts\\\"], format=\\\"%Y-%m-%d\\\")\";\n",
       "                var nbb_cells = Jupyter.notebook.get_cells();\n",
       "                for (var i = 0; i < nbb_cells.length; ++i) {\n",
       "                    if (nbb_cells[i].input_prompt_number == nbb_cell_id) {\n",
       "                        if (nbb_cells[i].get_text() == nbb_unformatted_code) {\n",
       "                             nbb_cells[i].set_text(nbb_formatted_code);\n",
       "                        }\n",
       "                        break;\n",
       "                    }\n",
       "                }\n",
       "            }, 500);\n",
       "            "
      ],
      "text/plain": [
       "<IPython.core.display.Javascript object>"
      ]
     },
     "metadata": {},
     "output_type": "display_data"
    }
   ],
   "source": [
    "df[\"timestamp\"] = pd.to_datetime(df[\"timestamp\"] ,format='%Y-%m-%d').dt.date\n",
    "df[\"last_order_ts\"] = pd.to_datetime(df[\"last_order_ts\"], format='%Y-%m-%d')\n"
   ]
  },
  {
   "cell_type": "code",
   "execution_count": 32,
   "metadata": {},
   "outputs": [
    {
     "data": {
      "text/html": [
       "<div>\n",
       "<style scoped>\n",
       "    .dataframe tbody tr th:only-of-type {\n",
       "        vertical-align: middle;\n",
       "    }\n",
       "\n",
       "    .dataframe tbody tr th {\n",
       "        vertical-align: top;\n",
       "    }\n",
       "\n",
       "    .dataframe thead th {\n",
       "        text-align: right;\n",
       "    }\n",
       "</style>\n",
       "<table border=\"1\" class=\"dataframe\">\n",
       "  <thead>\n",
       "    <tr style=\"text-align: right;\">\n",
       "      <th></th>\n",
       "      <th>timestamp</th>\n",
       "      <th>country_code</th>\n",
       "      <th>last_order_ts</th>\n",
       "      <th>first_order_ts</th>\n",
       "      <th>total_orders</th>\n",
       "      <th>voucher_amount</th>\n",
       "      <th>freq_0-4</th>\n",
       "      <th>freq_5-13</th>\n",
       "      <th>freq_13-37</th>\n",
       "      <th>freq_38-higher</th>\n",
       "    </tr>\n",
       "  </thead>\n",
       "  <tbody>\n",
       "    <tr>\n",
       "      <th>0</th>\n",
       "      <td>2018-07-21</td>\n",
       "      <td>Latvia</td>\n",
       "      <td>2018-04-20</td>\n",
       "      <td>2018-04-17</td>\n",
       "      <td>0.0</td>\n",
       "      <td>4400.0</td>\n",
       "      <td>1</td>\n",
       "      <td>0</td>\n",
       "      <td>0</td>\n",
       "      <td>0</td>\n",
       "    </tr>\n",
       "    <tr>\n",
       "      <th>1</th>\n",
       "      <td>2018-07-21</td>\n",
       "      <td>Peru</td>\n",
       "      <td>2018-04-20</td>\n",
       "      <td>2018-04-20</td>\n",
       "      <td>0.0</td>\n",
       "      <td>4400.0</td>\n",
       "      <td>1</td>\n",
       "      <td>0</td>\n",
       "      <td>0</td>\n",
       "      <td>0</td>\n",
       "    </tr>\n",
       "    <tr>\n",
       "      <th>2</th>\n",
       "      <td>2018-07-21</td>\n",
       "      <td>Peru</td>\n",
       "      <td>2018-04-20</td>\n",
       "      <td>2018-04-16</td>\n",
       "      <td>1.0</td>\n",
       "      <td>2640.0</td>\n",
       "      <td>1</td>\n",
       "      <td>0</td>\n",
       "      <td>0</td>\n",
       "      <td>0</td>\n",
       "    </tr>\n",
       "    <tr>\n",
       "      <th>3</th>\n",
       "      <td>2018-07-21</td>\n",
       "      <td>China</td>\n",
       "      <td>2018-04-20</td>\n",
       "      <td>2018-04-20</td>\n",
       "      <td>2.0</td>\n",
       "      <td>3080.0</td>\n",
       "      <td>1</td>\n",
       "      <td>0</td>\n",
       "      <td>0</td>\n",
       "      <td>0</td>\n",
       "    </tr>\n",
       "    <tr>\n",
       "      <th>4</th>\n",
       "      <td>2015-05-21</td>\n",
       "      <td>Peru</td>\n",
       "      <td>2018-04-20</td>\n",
       "      <td>2018-04-19</td>\n",
       "      <td>0.0</td>\n",
       "      <td>4400.0</td>\n",
       "      <td>1</td>\n",
       "      <td>0</td>\n",
       "      <td>0</td>\n",
       "      <td>0</td>\n",
       "    </tr>\n",
       "  </tbody>\n",
       "</table>\n",
       "</div>"
      ],
      "text/plain": [
       "    timestamp country_code last_order_ts first_order_ts  total_orders  \\\n",
       "0  2018-07-21       Latvia    2018-04-20     2018-04-17           0.0   \n",
       "1  2018-07-21         Peru    2018-04-20     2018-04-20           0.0   \n",
       "2  2018-07-21         Peru    2018-04-20     2018-04-16           1.0   \n",
       "3  2018-07-21        China    2018-04-20     2018-04-20           2.0   \n",
       "4  2015-05-21         Peru    2018-04-20     2018-04-19           0.0   \n",
       "\n",
       "   voucher_amount  freq_0-4  freq_5-13  freq_13-37  freq_38-higher  \n",
       "0          4400.0         1          0           0               0  \n",
       "1          4400.0         1          0           0               0  \n",
       "2          2640.0         1          0           0               0  \n",
       "3          3080.0         1          0           0               0  \n",
       "4          4400.0         1          0           0               0  "
      ]
     },
     "execution_count": 32,
     "metadata": {},
     "output_type": "execute_result"
    },
    {
     "data": {
      "application/javascript": [
       "\n",
       "            setTimeout(function() {\n",
       "                var nbb_cell_id = 32;\n",
       "                var nbb_unformatted_code = \"df.head()\";\n",
       "                var nbb_formatted_code = \"df.head()\";\n",
       "                var nbb_cells = Jupyter.notebook.get_cells();\n",
       "                for (var i = 0; i < nbb_cells.length; ++i) {\n",
       "                    if (nbb_cells[i].input_prompt_number == nbb_cell_id) {\n",
       "                        if (nbb_cells[i].get_text() == nbb_unformatted_code) {\n",
       "                             nbb_cells[i].set_text(nbb_formatted_code);\n",
       "                        }\n",
       "                        break;\n",
       "                    }\n",
       "                }\n",
       "            }, 500);\n",
       "            "
      ],
      "text/plain": [
       "<IPython.core.display.Javascript object>"
      ]
     },
     "metadata": {},
     "output_type": "display_data"
    }
   ],
   "source": [
    "df.head()"
   ]
  },
  {
   "cell_type": "code",
   "execution_count": null,
   "metadata": {},
   "outputs": [],
   "source": []
  },
  {
   "cell_type": "code",
   "execution_count": 33,
   "metadata": {},
   "outputs": [
    {
     "data": {
      "application/javascript": [
       "\n",
       "            setTimeout(function() {\n",
       "                var nbb_cell_id = 33;\n",
       "                var nbb_unformatted_code = \"# It's improbable that the timestamp of the event is before the first or last order. \\n# In this case change the event timestamp to max of time stamp as it is a safe assumption,\\n# as the customer might be given the voucher as he hasn't returned back in some time.\\n\\n# df[(df.timestamp < df.last_order_ts) | (df.timestamp < df.first_order_ts)][\\n#     \\\"timestamp\\\"\\n# ] = df.timestamp.max()\\n\\ndf.loc[(df.timestamp < df.last_order_ts) | (df.timestamp < df.first_order_ts), \\\"timestamp\\\"] = df.timestamp.max()\";\n",
       "                var nbb_formatted_code = \"# It's improbable that the timestamp of the event is before the first or last order.\\n# In this case change the event timestamp to max of time stamp as it is a safe assumption,\\n# as the customer might be given the voucher as he hasn't returned back in some time.\\n\\n# df[(df.timestamp < df.last_order_ts) | (df.timestamp < df.first_order_ts)][\\n#     \\\"timestamp\\\"\\n# ] = df.timestamp.max()\\n\\ndf.loc[\\n    (df.timestamp < df.last_order_ts) | (df.timestamp < df.first_order_ts), \\\"timestamp\\\"\\n] = df.timestamp.max()\";\n",
       "                var nbb_cells = Jupyter.notebook.get_cells();\n",
       "                for (var i = 0; i < nbb_cells.length; ++i) {\n",
       "                    if (nbb_cells[i].input_prompt_number == nbb_cell_id) {\n",
       "                        if (nbb_cells[i].get_text() == nbb_unformatted_code) {\n",
       "                             nbb_cells[i].set_text(nbb_formatted_code);\n",
       "                        }\n",
       "                        break;\n",
       "                    }\n",
       "                }\n",
       "            }, 500);\n",
       "            "
      ],
      "text/plain": [
       "<IPython.core.display.Javascript object>"
      ]
     },
     "metadata": {},
     "output_type": "display_data"
    }
   ],
   "source": [
    "# It's improbable that the timestamp of the event is before the first or last order.\n",
    "# In this case change the event timestamp to max of time stamp as it is a safe assumption,\n",
    "# as the customer might be given the voucher as he hasn't returned back in some time.\n",
    "\n",
    "# df[(df.timestamp < df.last_order_ts) | (df.timestamp < df.first_order_ts)][\n",
    "#     \"timestamp\"\n",
    "# ] = df.timestamp.max()\n",
    "\n",
    "df.loc[\n",
    "    (df.timestamp < df.last_order_ts) | (df.timestamp < df.first_order_ts), \"timestamp\"\n",
    "] = df.timestamp.max()"
   ]
  },
  {
   "cell_type": "code",
   "execution_count": 34,
   "metadata": {},
   "outputs": [
    {
     "data": {
      "text/html": [
       "<div>\n",
       "<style scoped>\n",
       "    .dataframe tbody tr th:only-of-type {\n",
       "        vertical-align: middle;\n",
       "    }\n",
       "\n",
       "    .dataframe tbody tr th {\n",
       "        vertical-align: top;\n",
       "    }\n",
       "\n",
       "    .dataframe thead th {\n",
       "        text-align: right;\n",
       "    }\n",
       "</style>\n",
       "<table border=\"1\" class=\"dataframe\">\n",
       "  <thead>\n",
       "    <tr style=\"text-align: right;\">\n",
       "      <th></th>\n",
       "      <th>timestamp</th>\n",
       "      <th>country_code</th>\n",
       "      <th>last_order_ts</th>\n",
       "      <th>first_order_ts</th>\n",
       "      <th>total_orders</th>\n",
       "      <th>voucher_amount</th>\n",
       "      <th>freq_0-4</th>\n",
       "      <th>freq_5-13</th>\n",
       "      <th>freq_13-37</th>\n",
       "      <th>freq_38-higher</th>\n",
       "    </tr>\n",
       "  </thead>\n",
       "  <tbody>\n",
       "    <tr>\n",
       "      <th>0</th>\n",
       "      <td>2018-07-21</td>\n",
       "      <td>Latvia</td>\n",
       "      <td>2018-04-20</td>\n",
       "      <td>2018-04-17</td>\n",
       "      <td>0.0</td>\n",
       "      <td>4400.0</td>\n",
       "      <td>1</td>\n",
       "      <td>0</td>\n",
       "      <td>0</td>\n",
       "      <td>0</td>\n",
       "    </tr>\n",
       "    <tr>\n",
       "      <th>1</th>\n",
       "      <td>2018-07-21</td>\n",
       "      <td>Peru</td>\n",
       "      <td>2018-04-20</td>\n",
       "      <td>2018-04-20</td>\n",
       "      <td>0.0</td>\n",
       "      <td>4400.0</td>\n",
       "      <td>1</td>\n",
       "      <td>0</td>\n",
       "      <td>0</td>\n",
       "      <td>0</td>\n",
       "    </tr>\n",
       "    <tr>\n",
       "      <th>2</th>\n",
       "      <td>2018-07-21</td>\n",
       "      <td>Peru</td>\n",
       "      <td>2018-04-20</td>\n",
       "      <td>2018-04-16</td>\n",
       "      <td>1.0</td>\n",
       "      <td>2640.0</td>\n",
       "      <td>1</td>\n",
       "      <td>0</td>\n",
       "      <td>0</td>\n",
       "      <td>0</td>\n",
       "    </tr>\n",
       "    <tr>\n",
       "      <th>3</th>\n",
       "      <td>2018-07-21</td>\n",
       "      <td>China</td>\n",
       "      <td>2018-04-20</td>\n",
       "      <td>2018-04-20</td>\n",
       "      <td>2.0</td>\n",
       "      <td>3080.0</td>\n",
       "      <td>1</td>\n",
       "      <td>0</td>\n",
       "      <td>0</td>\n",
       "      <td>0</td>\n",
       "    </tr>\n",
       "    <tr>\n",
       "      <th>4</th>\n",
       "      <td>2018-07-31</td>\n",
       "      <td>Peru</td>\n",
       "      <td>2018-04-20</td>\n",
       "      <td>2018-04-19</td>\n",
       "      <td>0.0</td>\n",
       "      <td>4400.0</td>\n",
       "      <td>1</td>\n",
       "      <td>0</td>\n",
       "      <td>0</td>\n",
       "      <td>0</td>\n",
       "    </tr>\n",
       "  </tbody>\n",
       "</table>\n",
       "</div>"
      ],
      "text/plain": [
       "    timestamp country_code last_order_ts first_order_ts  total_orders  \\\n",
       "0  2018-07-21       Latvia    2018-04-20     2018-04-17           0.0   \n",
       "1  2018-07-21         Peru    2018-04-20     2018-04-20           0.0   \n",
       "2  2018-07-21         Peru    2018-04-20     2018-04-16           1.0   \n",
       "3  2018-07-21        China    2018-04-20     2018-04-20           2.0   \n",
       "4  2018-07-31         Peru    2018-04-20     2018-04-19           0.0   \n",
       "\n",
       "   voucher_amount  freq_0-4  freq_5-13  freq_13-37  freq_38-higher  \n",
       "0          4400.0         1          0           0               0  \n",
       "1          4400.0         1          0           0               0  \n",
       "2          2640.0         1          0           0               0  \n",
       "3          3080.0         1          0           0               0  \n",
       "4          4400.0         1          0           0               0  "
      ]
     },
     "execution_count": 34,
     "metadata": {},
     "output_type": "execute_result"
    },
    {
     "data": {
      "application/javascript": [
       "\n",
       "            setTimeout(function() {\n",
       "                var nbb_cell_id = 34;\n",
       "                var nbb_unformatted_code = \"df.head()\";\n",
       "                var nbb_formatted_code = \"df.head()\";\n",
       "                var nbb_cells = Jupyter.notebook.get_cells();\n",
       "                for (var i = 0; i < nbb_cells.length; ++i) {\n",
       "                    if (nbb_cells[i].input_prompt_number == nbb_cell_id) {\n",
       "                        if (nbb_cells[i].get_text() == nbb_unformatted_code) {\n",
       "                             nbb_cells[i].set_text(nbb_formatted_code);\n",
       "                        }\n",
       "                        break;\n",
       "                    }\n",
       "                }\n",
       "            }, 500);\n",
       "            "
      ],
      "text/plain": [
       "<IPython.core.display.Javascript object>"
      ]
     },
     "metadata": {},
     "output_type": "display_data"
    }
   ],
   "source": [
    "df.head()"
   ]
  },
  {
   "cell_type": "code",
   "execution_count": 40,
   "metadata": {},
   "outputs": [
    {
     "data": {
      "application/javascript": [
       "\n",
       "            setTimeout(function() {\n",
       "                var nbb_cell_id = 40;\n",
       "                var nbb_unformatted_code = \"df[\\\"timestamp\\\"] = pd.to_datetime(df[\\\"timestamp\\\"])\";\n",
       "                var nbb_formatted_code = \"df[\\\"timestamp\\\"] = pd.to_datetime(df[\\\"timestamp\\\"])\";\n",
       "                var nbb_cells = Jupyter.notebook.get_cells();\n",
       "                for (var i = 0; i < nbb_cells.length; ++i) {\n",
       "                    if (nbb_cells[i].input_prompt_number == nbb_cell_id) {\n",
       "                        if (nbb_cells[i].get_text() == nbb_unformatted_code) {\n",
       "                             nbb_cells[i].set_text(nbb_formatted_code);\n",
       "                        }\n",
       "                        break;\n",
       "                    }\n",
       "                }\n",
       "            }, 500);\n",
       "            "
      ],
      "text/plain": [
       "<IPython.core.display.Javascript object>"
      ]
     },
     "metadata": {},
     "output_type": "display_data"
    }
   ],
   "source": [
    "df[\"timestamp\"] = pd.to_datetime(df[\"timestamp\"])\n"
   ]
  },
  {
   "cell_type": "markdown",
   "metadata": {},
   "source": [
    "### Create recency_segment_ranges"
   ]
  },
  {
   "cell_type": "code",
   "execution_count": 41,
   "metadata": {},
   "outputs": [
    {
     "name": "stdout",
     "output_type": "stream",
     "text": [
      "<class 'pandas.core.frame.DataFrame'>\n",
      "RangeIndex: 285570 entries, 0 to 285569\n",
      "Data columns (total 10 columns):\n",
      " #   Column          Non-Null Count   Dtype         \n",
      "---  ------          --------------   -----         \n",
      " 0   timestamp       285570 non-null  datetime64[ns]\n",
      " 1   country_code    285570 non-null  object        \n",
      " 2   last_order_ts   285570 non-null  datetime64[ns]\n",
      " 3   first_order_ts  285570 non-null  datetime64[ns]\n",
      " 4   total_orders    262725 non-null  float64       \n",
      " 5   voucher_amount  283839 non-null  float64       \n",
      " 6   freq_0-4        285570 non-null  uint8         \n",
      " 7   freq_5-13       285570 non-null  uint8         \n",
      " 8   freq_13-37      285570 non-null  uint8         \n",
      " 9   freq_38-higher  285570 non-null  uint8         \n",
      "dtypes: datetime64[ns](3), float64(2), object(1), uint8(4)\n",
      "memory usage: 14.2+ MB\n"
     ]
    },
    {
     "data": {
      "application/javascript": [
       "\n",
       "            setTimeout(function() {\n",
       "                var nbb_cell_id = 41;\n",
       "                var nbb_unformatted_code = \"df.info()\";\n",
       "                var nbb_formatted_code = \"df.info()\";\n",
       "                var nbb_cells = Jupyter.notebook.get_cells();\n",
       "                for (var i = 0; i < nbb_cells.length; ++i) {\n",
       "                    if (nbb_cells[i].input_prompt_number == nbb_cell_id) {\n",
       "                        if (nbb_cells[i].get_text() == nbb_unformatted_code) {\n",
       "                             nbb_cells[i].set_text(nbb_formatted_code);\n",
       "                        }\n",
       "                        break;\n",
       "                    }\n",
       "                }\n",
       "            }, 500);\n",
       "            "
      ],
      "text/plain": [
       "<IPython.core.display.Javascript object>"
      ]
     },
     "metadata": {},
     "output_type": "display_data"
    }
   ],
   "source": [
    "df.info()"
   ]
  },
  {
   "cell_type": "code",
   "execution_count": 42,
   "metadata": {},
   "outputs": [
    {
     "data": {
      "application/javascript": [
       "\n",
       "            setTimeout(function() {\n",
       "                var nbb_cell_id = 42;\n",
       "                var nbb_unformatted_code = \"df[\\\"days_since_last_order\\\"] = (df[\\\"timestamp\\\"] - df[\\\"last_order_ts\\\"]).dt.days\";\n",
       "                var nbb_formatted_code = \"df[\\\"days_since_last_order\\\"] = (df[\\\"timestamp\\\"] - df[\\\"last_order_ts\\\"]).dt.days\";\n",
       "                var nbb_cells = Jupyter.notebook.get_cells();\n",
       "                for (var i = 0; i < nbb_cells.length; ++i) {\n",
       "                    if (nbb_cells[i].input_prompt_number == nbb_cell_id) {\n",
       "                        if (nbb_cells[i].get_text() == nbb_unformatted_code) {\n",
       "                             nbb_cells[i].set_text(nbb_formatted_code);\n",
       "                        }\n",
       "                        break;\n",
       "                    }\n",
       "                }\n",
       "            }, 500);\n",
       "            "
      ],
      "text/plain": [
       "<IPython.core.display.Javascript object>"
      ]
     },
     "metadata": {},
     "output_type": "display_data"
    }
   ],
   "source": [
    "df[\"days_since_last_order\"] = (df[\"timestamp\"] - df[\"last_order_ts\"]).dt.days"
   ]
  },
  {
   "cell_type": "code",
   "execution_count": 43,
   "metadata": {},
   "outputs": [
    {
     "data": {
      "text/plain": [
       "<matplotlib.axes._subplots.AxesSubplot at 0x7f7fb3ca1f28>"
      ]
     },
     "execution_count": 43,
     "metadata": {},
     "output_type": "execute_result"
    },
    {
     "data": {
      "image/png": "[encoded data removed]",
      "text/plain": [
       "<Figure size 432x288 with 1 Axes>"
      ]
     },
     "metadata": {
      "needs_background": "light"
     },
     "output_type": "display_data"
    },
    {
     "data": {
      "application/javascript": [
       "\n",
       "            setTimeout(function() {\n",
       "                var nbb_cell_id = 43;\n",
       "                var nbb_unformatted_code = \"df[\\\"days_since_last_order\\\"].hist()\";\n",
       "                var nbb_formatted_code = \"df[\\\"days_since_last_order\\\"].hist()\";\n",
       "                var nbb_cells = Jupyter.notebook.get_cells();\n",
       "                for (var i = 0; i < nbb_cells.length; ++i) {\n",
       "                    if (nbb_cells[i].input_prompt_number == nbb_cell_id) {\n",
       "                        if (nbb_cells[i].get_text() == nbb_unformatted_code) {\n",
       "                             nbb_cells[i].set_text(nbb_formatted_code);\n",
       "                        }\n",
       "                        break;\n",
       "                    }\n",
       "                }\n",
       "            }, 500);\n",
       "            "
      ],
      "text/plain": [
       "<IPython.core.display.Javascript object>"
      ]
     },
     "metadata": {},
     "output_type": "display_data"
    }
   ],
   "source": [
    "df[\"days_since_last_order\"].hist()"
   ]
  },
  {
   "cell_type": "markdown",
   "metadata": {},
   "source": [
    "#### Use median values in case of improbable last_order_ts"
   ]
  },
  {
   "cell_type": "markdown",
   "metadata": {},
   "source": [
    "median_value = df.days_since_last_order.median()"
   ]
  },
  {
   "cell_type": "markdown",
   "metadata": {},
   "source": [
    "df.loc[df[\"days_since_last_order\"] < 0, \"days_since_last_order\"] = median_value"
   ]
  },
  {
   "cell_type": "markdown",
   "metadata": {},
   "source": [
    "### Create Recency Segment"
   ]
  },
  {
   "cell_type": "code",
   "execution_count": 44,
   "metadata": {},
   "outputs": [
    {
     "data": {
      "application/javascript": [
       "\n",
       "            setTimeout(function() {\n",
       "                var nbb_cell_id = 44;\n",
       "                var nbb_unformatted_code = \"bins = [0.0, 30, 60, 90, 120, 180, np.inf]\\nlabels = [\\\"0-30\\\", \\\"30-60\\\", \\\"60-90\\\", \\\"90-120\\\", \\\"120-180\\\", \\\"180+\\\"]\";\n",
       "                var nbb_formatted_code = \"bins = [0.0, 30, 60, 90, 120, 180, np.inf]\\nlabels = [\\\"0-30\\\", \\\"30-60\\\", \\\"60-90\\\", \\\"90-120\\\", \\\"120-180\\\", \\\"180+\\\"]\";\n",
       "                var nbb_cells = Jupyter.notebook.get_cells();\n",
       "                for (var i = 0; i < nbb_cells.length; ++i) {\n",
       "                    if (nbb_cells[i].input_prompt_number == nbb_cell_id) {\n",
       "                        if (nbb_cells[i].get_text() == nbb_unformatted_code) {\n",
       "                             nbb_cells[i].set_text(nbb_formatted_code);\n",
       "                        }\n",
       "                        break;\n",
       "                    }\n",
       "                }\n",
       "            }, 500);\n",
       "            "
      ],
      "text/plain": [
       "<IPython.core.display.Javascript object>"
      ]
     },
     "metadata": {},
     "output_type": "display_data"
    }
   ],
   "source": [
    "bins = [0.0, 30, 60, 90, 120, 180, np.inf]\n",
    "labels = [\"0-30\", \"30-60\", \"60-90\", \"90-120\", \"120-180\", \"180+\"]"
   ]
  },
  {
   "cell_type": "code",
   "execution_count": 45,
   "metadata": {},
   "outputs": [
    {
     "data": {
      "application/javascript": [
       "\n",
       "            setTimeout(function() {\n",
       "                var nbb_cell_id = 45;\n",
       "                var nbb_unformatted_code = \"df[\\\"recency_segment_ranges\\\"] = pd.cut(\\n    df[\\\"days_since_last_order\\\"], bins=bins, labels=labels, include_lowest=True\\n)\";\n",
       "                var nbb_formatted_code = \"df[\\\"recency_segment_ranges\\\"] = pd.cut(\\n    df[\\\"days_since_last_order\\\"], bins=bins, labels=labels, include_lowest=True\\n)\";\n",
       "                var nbb_cells = Jupyter.notebook.get_cells();\n",
       "                for (var i = 0; i < nbb_cells.length; ++i) {\n",
       "                    if (nbb_cells[i].input_prompt_number == nbb_cell_id) {\n",
       "                        if (nbb_cells[i].get_text() == nbb_unformatted_code) {\n",
       "                             nbb_cells[i].set_text(nbb_formatted_code);\n",
       "                        }\n",
       "                        break;\n",
       "                    }\n",
       "                }\n",
       "            }, 500);\n",
       "            "
      ],
      "text/plain": [
       "<IPython.core.display.Javascript object>"
      ]
     },
     "metadata": {},
     "output_type": "display_data"
    }
   ],
   "source": [
    "df[\"recency_segment_ranges\"] = pd.cut(\n",
    "    df[\"days_since_last_order\"], bins=bins, labels=labels, include_lowest=True\n",
    ")"
   ]
  },
  {
   "cell_type": "code",
   "execution_count": 46,
   "metadata": {},
   "outputs": [
    {
     "data": {
      "text/html": [
       "<div>\n",
       "<style scoped>\n",
       "    .dataframe tbody tr th:only-of-type {\n",
       "        vertical-align: middle;\n",
       "    }\n",
       "\n",
       "    .dataframe tbody tr th {\n",
       "        vertical-align: top;\n",
       "    }\n",
       "\n",
       "    .dataframe thead th {\n",
       "        text-align: right;\n",
       "    }\n",
       "</style>\n",
       "<table border=\"1\" class=\"dataframe\">\n",
       "  <thead>\n",
       "    <tr style=\"text-align: right;\">\n",
       "      <th></th>\n",
       "      <th>timestamp</th>\n",
       "      <th>country_code</th>\n",
       "      <th>last_order_ts</th>\n",
       "      <th>first_order_ts</th>\n",
       "      <th>total_orders</th>\n",
       "      <th>voucher_amount</th>\n",
       "      <th>freq_0-4</th>\n",
       "      <th>freq_5-13</th>\n",
       "      <th>freq_13-37</th>\n",
       "      <th>freq_38-higher</th>\n",
       "      <th>days_since_last_order</th>\n",
       "      <th>recency_segment_ranges</th>\n",
       "    </tr>\n",
       "  </thead>\n",
       "  <tbody>\n",
       "    <tr>\n",
       "      <th>0</th>\n",
       "      <td>2018-07-21</td>\n",
       "      <td>Latvia</td>\n",
       "      <td>2018-04-20</td>\n",
       "      <td>2018-04-17</td>\n",
       "      <td>0.0</td>\n",
       "      <td>4400.0</td>\n",
       "      <td>1</td>\n",
       "      <td>0</td>\n",
       "      <td>0</td>\n",
       "      <td>0</td>\n",
       "      <td>92</td>\n",
       "      <td>90-120</td>\n",
       "    </tr>\n",
       "    <tr>\n",
       "      <th>1</th>\n",
       "      <td>2018-07-21</td>\n",
       "      <td>Peru</td>\n",
       "      <td>2018-04-20</td>\n",
       "      <td>2018-04-20</td>\n",
       "      <td>0.0</td>\n",
       "      <td>4400.0</td>\n",
       "      <td>1</td>\n",
       "      <td>0</td>\n",
       "      <td>0</td>\n",
       "      <td>0</td>\n",
       "      <td>92</td>\n",
       "      <td>90-120</td>\n",
       "    </tr>\n",
       "    <tr>\n",
       "      <th>2</th>\n",
       "      <td>2018-07-21</td>\n",
       "      <td>Peru</td>\n",
       "      <td>2018-04-20</td>\n",
       "      <td>2018-04-16</td>\n",
       "      <td>1.0</td>\n",
       "      <td>2640.0</td>\n",
       "      <td>1</td>\n",
       "      <td>0</td>\n",
       "      <td>0</td>\n",
       "      <td>0</td>\n",
       "      <td>92</td>\n",
       "      <td>90-120</td>\n",
       "    </tr>\n",
       "    <tr>\n",
       "      <th>3</th>\n",
       "      <td>2018-07-21</td>\n",
       "      <td>China</td>\n",
       "      <td>2018-04-20</td>\n",
       "      <td>2018-04-20</td>\n",
       "      <td>2.0</td>\n",
       "      <td>3080.0</td>\n",
       "      <td>1</td>\n",
       "      <td>0</td>\n",
       "      <td>0</td>\n",
       "      <td>0</td>\n",
       "      <td>92</td>\n",
       "      <td>90-120</td>\n",
       "    </tr>\n",
       "    <tr>\n",
       "      <th>4</th>\n",
       "      <td>2018-07-31</td>\n",
       "      <td>Peru</td>\n",
       "      <td>2018-04-20</td>\n",
       "      <td>2018-04-19</td>\n",
       "      <td>0.0</td>\n",
       "      <td>4400.0</td>\n",
       "      <td>1</td>\n",
       "      <td>0</td>\n",
       "      <td>0</td>\n",
       "      <td>0</td>\n",
       "      <td>102</td>\n",
       "      <td>90-120</td>\n",
       "    </tr>\n",
       "  </tbody>\n",
       "</table>\n",
       "</div>"
      ],
      "text/plain": [
       "   timestamp country_code last_order_ts first_order_ts  total_orders  \\\n",
       "0 2018-07-21       Latvia    2018-04-20     2018-04-17           0.0   \n",
       "1 2018-07-21         Peru    2018-04-20     2018-04-20           0.0   \n",
       "2 2018-07-21         Peru    2018-04-20     2018-04-16           1.0   \n",
       "3 2018-07-21        China    2018-04-20     2018-04-20           2.0   \n",
       "4 2018-07-31         Peru    2018-04-20     2018-04-19           0.0   \n",
       "\n",
       "   voucher_amount  freq_0-4  freq_5-13  freq_13-37  freq_38-higher  \\\n",
       "0          4400.0         1          0           0               0   \n",
       "1          4400.0         1          0           0               0   \n",
       "2          2640.0         1          0           0               0   \n",
       "3          3080.0         1          0           0               0   \n",
       "4          4400.0         1          0           0               0   \n",
       "\n",
       "   days_since_last_order recency_segment_ranges  \n",
       "0                     92                 90-120  \n",
       "1                     92                 90-120  \n",
       "2                     92                 90-120  \n",
       "3                     92                 90-120  \n",
       "4                    102                 90-120  "
      ]
     },
     "execution_count": 46,
     "metadata": {},
     "output_type": "execute_result"
    },
    {
     "data": {
      "application/javascript": [
       "\n",
       "            setTimeout(function() {\n",
       "                var nbb_cell_id = 46;\n",
       "                var nbb_unformatted_code = \"df.head()\";\n",
       "                var nbb_formatted_code = \"df.head()\";\n",
       "                var nbb_cells = Jupyter.notebook.get_cells();\n",
       "                for (var i = 0; i < nbb_cells.length; ++i) {\n",
       "                    if (nbb_cells[i].input_prompt_number == nbb_cell_id) {\n",
       "                        if (nbb_cells[i].get_text() == nbb_unformatted_code) {\n",
       "                             nbb_cells[i].set_text(nbb_formatted_code);\n",
       "                        }\n",
       "                        break;\n",
       "                    }\n",
       "                }\n",
       "            }, 500);\n",
       "            "
      ],
      "text/plain": [
       "<IPython.core.display.Javascript object>"
      ]
     },
     "metadata": {},
     "output_type": "display_data"
    }
   ],
   "source": [
    "df.head()"
   ]
  },
  {
   "cell_type": "code",
   "execution_count": 47,
   "metadata": {},
   "outputs": [
    {
     "data": {
      "application/javascript": [
       "\n",
       "            setTimeout(function() {\n",
       "                var nbb_cell_id = 47;\n",
       "                var nbb_unformatted_code = \"one_hot_rec_segment = pd.get_dummies(df[\\\"recency_segment_ranges\\\"], prefix=\\\"rec_segment\\\")\";\n",
       "                var nbb_formatted_code = \"one_hot_rec_segment = pd.get_dummies(df[\\\"recency_segment_ranges\\\"], prefix=\\\"rec_segment\\\")\";\n",
       "                var nbb_cells = Jupyter.notebook.get_cells();\n",
       "                for (var i = 0; i < nbb_cells.length; ++i) {\n",
       "                    if (nbb_cells[i].input_prompt_number == nbb_cell_id) {\n",
       "                        if (nbb_cells[i].get_text() == nbb_unformatted_code) {\n",
       "                             nbb_cells[i].set_text(nbb_formatted_code);\n",
       "                        }\n",
       "                        break;\n",
       "                    }\n",
       "                }\n",
       "            }, 500);\n",
       "            "
      ],
      "text/plain": [
       "<IPython.core.display.Javascript object>"
      ]
     },
     "metadata": {},
     "output_type": "display_data"
    }
   ],
   "source": [
    "one_hot_rec_segment = pd.get_dummies(df[\"recency_segment_ranges\"], prefix=\"rec_segment\")"
   ]
  },
  {
   "cell_type": "code",
   "execution_count": 48,
   "metadata": {},
   "outputs": [
    {
     "data": {
      "application/javascript": [
       "\n",
       "            setTimeout(function() {\n",
       "                var nbb_cell_id = 48;\n",
       "                var nbb_unformatted_code = \"df = df.join(one_hot_rec_segment)\";\n",
       "                var nbb_formatted_code = \"df = df.join(one_hot_rec_segment)\";\n",
       "                var nbb_cells = Jupyter.notebook.get_cells();\n",
       "                for (var i = 0; i < nbb_cells.length; ++i) {\n",
       "                    if (nbb_cells[i].input_prompt_number == nbb_cell_id) {\n",
       "                        if (nbb_cells[i].get_text() == nbb_unformatted_code) {\n",
       "                             nbb_cells[i].set_text(nbb_formatted_code);\n",
       "                        }\n",
       "                        break;\n",
       "                    }\n",
       "                }\n",
       "            }, 500);\n",
       "            "
      ],
      "text/plain": [
       "<IPython.core.display.Javascript object>"
      ]
     },
     "metadata": {},
     "output_type": "display_data"
    }
   ],
   "source": [
    "df = df.join(one_hot_rec_segment)"
   ]
  },
  {
   "cell_type": "code",
   "execution_count": 49,
   "metadata": {},
   "outputs": [
    {
     "data": {
      "text/plain": [
       "timestamp                     0\n",
       "country_code                  0\n",
       "last_order_ts                 0\n",
       "first_order_ts                0\n",
       "total_orders              22845\n",
       "voucher_amount             1731\n",
       "freq_0-4                      0\n",
       "freq_5-13                     0\n",
       "freq_13-37                    0\n",
       "freq_38-higher                0\n",
       "days_since_last_order         0\n",
       "recency_segment_ranges        0\n",
       "rec_segment_0-30              0\n",
       "rec_segment_30-60             0\n",
       "rec_segment_60-90             0\n",
       "rec_segment_90-120            0\n",
       "rec_segment_120-180           0\n",
       "rec_segment_180+              0\n",
       "dtype: int64"
      ]
     },
     "execution_count": 49,
     "metadata": {},
     "output_type": "execute_result"
    },
    {
     "data": {
      "application/javascript": [
       "\n",
       "            setTimeout(function() {\n",
       "                var nbb_cell_id = 49;\n",
       "                var nbb_unformatted_code = \"df.isna().sum()\";\n",
       "                var nbb_formatted_code = \"df.isna().sum()\";\n",
       "                var nbb_cells = Jupyter.notebook.get_cells();\n",
       "                for (var i = 0; i < nbb_cells.length; ++i) {\n",
       "                    if (nbb_cells[i].input_prompt_number == nbb_cell_id) {\n",
       "                        if (nbb_cells[i].get_text() == nbb_unformatted_code) {\n",
       "                             nbb_cells[i].set_text(nbb_formatted_code);\n",
       "                        }\n",
       "                        break;\n",
       "                    }\n",
       "                }\n",
       "            }, 500);\n",
       "            "
      ],
      "text/plain": [
       "<IPython.core.display.Javascript object>"
      ]
     },
     "metadata": {},
     "output_type": "display_data"
    }
   ],
   "source": [
    "df.isna().sum()"
   ]
  },
  {
   "cell_type": "code",
   "execution_count": 50,
   "metadata": {},
   "outputs": [
    {
     "data": {
      "application/javascript": [
       "\n",
       "            setTimeout(function() {\n",
       "                var nbb_cell_id = 50;\n",
       "                var nbb_unformatted_code = \"df = df.dropna(how=\\\"any\\\")\";\n",
       "                var nbb_formatted_code = \"df = df.dropna(how=\\\"any\\\")\";\n",
       "                var nbb_cells = Jupyter.notebook.get_cells();\n",
       "                for (var i = 0; i < nbb_cells.length; ++i) {\n",
       "                    if (nbb_cells[i].input_prompt_number == nbb_cell_id) {\n",
       "                        if (nbb_cells[i].get_text() == nbb_unformatted_code) {\n",
       "                             nbb_cells[i].set_text(nbb_formatted_code);\n",
       "                        }\n",
       "                        break;\n",
       "                    }\n",
       "                }\n",
       "            }, 500);\n",
       "            "
      ],
      "text/plain": [
       "<IPython.core.display.Javascript object>"
      ]
     },
     "metadata": {},
     "output_type": "display_data"
    }
   ],
   "source": [
    "df = df.dropna(how=\"any\")"
   ]
  },
  {
   "cell_type": "code",
   "execution_count": 51,
   "metadata": {},
   "outputs": [
    {
     "data": {
      "text/plain": [
       "timestamp                 0\n",
       "country_code              0\n",
       "last_order_ts             0\n",
       "first_order_ts            0\n",
       "total_orders              0\n",
       "voucher_amount            0\n",
       "freq_0-4                  0\n",
       "freq_5-13                 0\n",
       "freq_13-37                0\n",
       "freq_38-higher            0\n",
       "days_since_last_order     0\n",
       "recency_segment_ranges    0\n",
       "rec_segment_0-30          0\n",
       "rec_segment_30-60         0\n",
       "rec_segment_60-90         0\n",
       "rec_segment_90-120        0\n",
       "rec_segment_120-180       0\n",
       "rec_segment_180+          0\n",
       "dtype: int64"
      ]
     },
     "execution_count": 51,
     "metadata": {},
     "output_type": "execute_result"
    },
    {
     "data": {
      "application/javascript": [
       "\n",
       "            setTimeout(function() {\n",
       "                var nbb_cell_id = 51;\n",
       "                var nbb_unformatted_code = \"df.isna().sum()\";\n",
       "                var nbb_formatted_code = \"df.isna().sum()\";\n",
       "                var nbb_cells = Jupyter.notebook.get_cells();\n",
       "                for (var i = 0; i < nbb_cells.length; ++i) {\n",
       "                    if (nbb_cells[i].input_prompt_number == nbb_cell_id) {\n",
       "                        if (nbb_cells[i].get_text() == nbb_unformatted_code) {\n",
       "                             nbb_cells[i].set_text(nbb_formatted_code);\n",
       "                        }\n",
       "                        break;\n",
       "                    }\n",
       "                }\n",
       "            }, 500);\n",
       "            "
      ],
      "text/plain": [
       "<IPython.core.display.Javascript object>"
      ]
     },
     "metadata": {},
     "output_type": "display_data"
    }
   ],
   "source": [
    "df.isna().sum()"
   ]
  },
  {
   "cell_type": "code",
   "execution_count": 56,
   "metadata": {},
   "outputs": [
    {
     "data": {
      "application/javascript": [
       "\n",
       "            setTimeout(function() {\n",
       "                var nbb_cell_id = 56;\n",
       "                var nbb_unformatted_code = \"df = df.drop(\\\"recency_segment_ranges\\\", axis=1)\";\n",
       "                var nbb_formatted_code = \"df = df.drop(\\\"recency_segment_ranges\\\", axis=1)\";\n",
       "                var nbb_cells = Jupyter.notebook.get_cells();\n",
       "                for (var i = 0; i < nbb_cells.length; ++i) {\n",
       "                    if (nbb_cells[i].input_prompt_number == nbb_cell_id) {\n",
       "                        if (nbb_cells[i].get_text() == nbb_unformatted_code) {\n",
       "                             nbb_cells[i].set_text(nbb_formatted_code);\n",
       "                        }\n",
       "                        break;\n",
       "                    }\n",
       "                }\n",
       "            }, 500);\n",
       "            "
      ],
      "text/plain": [
       "<IPython.core.display.Javascript object>"
      ]
     },
     "metadata": {},
     "output_type": "display_data"
    }
   ],
   "source": [
    "df = df.drop(\"recency_segment_ranges\", axis=1)"
   ]
  },
  {
   "cell_type": "code",
   "execution_count": 57,
   "metadata": {},
   "outputs": [
    {
     "data": {
      "text/plain": [
       "voucher_amount           1.000000\n",
       "rec_segment_90-120       0.125608\n",
       "days_since_last_order    0.124676\n",
       "freq_0-4                 0.025818\n",
       "rec_segment_120-180      0.017446\n",
       "rec_segment_0-30        -0.000326\n",
       "freq_5-13               -0.008246\n",
       "freq_13-37              -0.010767\n",
       "rec_segment_60-90       -0.014709\n",
       "freq_38-higher          -0.015349\n",
       "total_orders            -0.016841\n",
       "rec_segment_30-60       -0.124154\n",
       "rec_segment_180+              NaN\n",
       "Name: voucher_amount, dtype: float64"
      ]
     },
     "execution_count": 57,
     "metadata": {},
     "output_type": "execute_result"
    },
    {
     "data": {
      "application/javascript": [
       "\n",
       "            setTimeout(function() {\n",
       "                var nbb_cell_id = 57;\n",
       "                var nbb_unformatted_code = \"df.corr()[\\\"voucher_amount\\\"].sort_values(ascending=False)\";\n",
       "                var nbb_formatted_code = \"df.corr()[\\\"voucher_amount\\\"].sort_values(ascending=False)\";\n",
       "                var nbb_cells = Jupyter.notebook.get_cells();\n",
       "                for (var i = 0; i < nbb_cells.length; ++i) {\n",
       "                    if (nbb_cells[i].input_prompt_number == nbb_cell_id) {\n",
       "                        if (nbb_cells[i].get_text() == nbb_unformatted_code) {\n",
       "                             nbb_cells[i].set_text(nbb_formatted_code);\n",
       "                        }\n",
       "                        break;\n",
       "                    }\n",
       "                }\n",
       "            }, 500);\n",
       "            "
      ],
      "text/plain": [
       "<IPython.core.display.Javascript object>"
      ]
     },
     "metadata": {},
     "output_type": "display_data"
    }
   ],
   "source": [
    "df.corr()[\"voucher_amount\"].sort_values(ascending=False)"
   ]
  },
  {
   "cell_type": "markdown",
   "metadata": {},
   "source": [
    "### Customer customer since ranges"
   ]
  },
  {
   "cell_type": "code",
   "execution_count": 58,
   "metadata": {},
   "outputs": [
    {
     "data": {
      "application/javascript": [
       "\n",
       "            setTimeout(function() {\n",
       "                var nbb_cell_id = 58;\n",
       "                var nbb_unformatted_code = \"df[\\\"customer_since_days\\\"] = (df[\\\"timestamp\\\"] - df[\\\"first_order_ts\\\"]).dt.days\";\n",
       "                var nbb_formatted_code = \"df[\\\"customer_since_days\\\"] = (df[\\\"timestamp\\\"] - df[\\\"first_order_ts\\\"]).dt.days\";\n",
       "                var nbb_cells = Jupyter.notebook.get_cells();\n",
       "                for (var i = 0; i < nbb_cells.length; ++i) {\n",
       "                    if (nbb_cells[i].input_prompt_number == nbb_cell_id) {\n",
       "                        if (nbb_cells[i].get_text() == nbb_unformatted_code) {\n",
       "                             nbb_cells[i].set_text(nbb_formatted_code);\n",
       "                        }\n",
       "                        break;\n",
       "                    }\n",
       "                }\n",
       "            }, 500);\n",
       "            "
      ],
      "text/plain": [
       "<IPython.core.display.Javascript object>"
      ]
     },
     "metadata": {},
     "output_type": "display_data"
    }
   ],
   "source": [
    "df[\"customer_since_days\"] = (df[\"timestamp\"] - df[\"first_order_ts\"]).dt.days"
   ]
  },
  {
   "cell_type": "code",
   "execution_count": 59,
   "metadata": {},
   "outputs": [
    {
     "data": {
      "text/html": [
       "<div>\n",
       "<style scoped>\n",
       "    .dataframe tbody tr th:only-of-type {\n",
       "        vertical-align: middle;\n",
       "    }\n",
       "\n",
       "    .dataframe tbody tr th {\n",
       "        vertical-align: top;\n",
       "    }\n",
       "\n",
       "    .dataframe thead th {\n",
       "        text-align: right;\n",
       "    }\n",
       "</style>\n",
       "<table border=\"1\" class=\"dataframe\">\n",
       "  <thead>\n",
       "    <tr style=\"text-align: right;\">\n",
       "      <th></th>\n",
       "      <th>timestamp</th>\n",
       "      <th>country_code</th>\n",
       "      <th>last_order_ts</th>\n",
       "      <th>first_order_ts</th>\n",
       "      <th>total_orders</th>\n",
       "      <th>voucher_amount</th>\n",
       "      <th>freq_0-4</th>\n",
       "      <th>freq_5-13</th>\n",
       "      <th>freq_13-37</th>\n",
       "      <th>freq_38-higher</th>\n",
       "      <th>days_since_last_order</th>\n",
       "      <th>rec_segment_0-30</th>\n",
       "      <th>rec_segment_30-60</th>\n",
       "      <th>rec_segment_60-90</th>\n",
       "      <th>rec_segment_90-120</th>\n",
       "      <th>rec_segment_120-180</th>\n",
       "      <th>rec_segment_180+</th>\n",
       "      <th>customer_since_days</th>\n",
       "    </tr>\n",
       "  </thead>\n",
       "  <tbody>\n",
       "    <tr>\n",
       "      <th>0</th>\n",
       "      <td>2018-07-21</td>\n",
       "      <td>Latvia</td>\n",
       "      <td>2018-04-20</td>\n",
       "      <td>2018-04-17</td>\n",
       "      <td>0.0</td>\n",
       "      <td>4400.0</td>\n",
       "      <td>1</td>\n",
       "      <td>0</td>\n",
       "      <td>0</td>\n",
       "      <td>0</td>\n",
       "      <td>92</td>\n",
       "      <td>0</td>\n",
       "      <td>0</td>\n",
       "      <td>0</td>\n",
       "      <td>1</td>\n",
       "      <td>0</td>\n",
       "      <td>0</td>\n",
       "      <td>95</td>\n",
       "    </tr>\n",
       "    <tr>\n",
       "      <th>1</th>\n",
       "      <td>2018-07-21</td>\n",
       "      <td>Peru</td>\n",
       "      <td>2018-04-20</td>\n",
       "      <td>2018-04-20</td>\n",
       "      <td>0.0</td>\n",
       "      <td>4400.0</td>\n",
       "      <td>1</td>\n",
       "      <td>0</td>\n",
       "      <td>0</td>\n",
       "      <td>0</td>\n",
       "      <td>92</td>\n",
       "      <td>0</td>\n",
       "      <td>0</td>\n",
       "      <td>0</td>\n",
       "      <td>1</td>\n",
       "      <td>0</td>\n",
       "      <td>0</td>\n",
       "      <td>92</td>\n",
       "    </tr>\n",
       "    <tr>\n",
       "      <th>2</th>\n",
       "      <td>2018-07-21</td>\n",
       "      <td>Peru</td>\n",
       "      <td>2018-04-20</td>\n",
       "      <td>2018-04-16</td>\n",
       "      <td>1.0</td>\n",
       "      <td>2640.0</td>\n",
       "      <td>1</td>\n",
       "      <td>0</td>\n",
       "      <td>0</td>\n",
       "      <td>0</td>\n",
       "      <td>92</td>\n",
       "      <td>0</td>\n",
       "      <td>0</td>\n",
       "      <td>0</td>\n",
       "      <td>1</td>\n",
       "      <td>0</td>\n",
       "      <td>0</td>\n",
       "      <td>96</td>\n",
       "    </tr>\n",
       "    <tr>\n",
       "      <th>3</th>\n",
       "      <td>2018-07-21</td>\n",
       "      <td>China</td>\n",
       "      <td>2018-04-20</td>\n",
       "      <td>2018-04-20</td>\n",
       "      <td>2.0</td>\n",
       "      <td>3080.0</td>\n",
       "      <td>1</td>\n",
       "      <td>0</td>\n",
       "      <td>0</td>\n",
       "      <td>0</td>\n",
       "      <td>92</td>\n",
       "      <td>0</td>\n",
       "      <td>0</td>\n",
       "      <td>0</td>\n",
       "      <td>1</td>\n",
       "      <td>0</td>\n",
       "      <td>0</td>\n",
       "      <td>92</td>\n",
       "    </tr>\n",
       "    <tr>\n",
       "      <th>4</th>\n",
       "      <td>2018-07-31</td>\n",
       "      <td>Peru</td>\n",
       "      <td>2018-04-20</td>\n",
       "      <td>2018-04-19</td>\n",
       "      <td>0.0</td>\n",
       "      <td>4400.0</td>\n",
       "      <td>1</td>\n",
       "      <td>0</td>\n",
       "      <td>0</td>\n",
       "      <td>0</td>\n",
       "      <td>102</td>\n",
       "      <td>0</td>\n",
       "      <td>0</td>\n",
       "      <td>0</td>\n",
       "      <td>1</td>\n",
       "      <td>0</td>\n",
       "      <td>0</td>\n",
       "      <td>103</td>\n",
       "    </tr>\n",
       "  </tbody>\n",
       "</table>\n",
       "</div>"
      ],
      "text/plain": [
       "   timestamp country_code last_order_ts first_order_ts  total_orders  \\\n",
       "0 2018-07-21       Latvia    2018-04-20     2018-04-17           0.0   \n",
       "1 2018-07-21         Peru    2018-04-20     2018-04-20           0.0   \n",
       "2 2018-07-21         Peru    2018-04-20     2018-04-16           1.0   \n",
       "3 2018-07-21        China    2018-04-20     2018-04-20           2.0   \n",
       "4 2018-07-31         Peru    2018-04-20     2018-04-19           0.0   \n",
       "\n",
       "   voucher_amount  freq_0-4  freq_5-13  freq_13-37  freq_38-higher  \\\n",
       "0          4400.0         1          0           0               0   \n",
       "1          4400.0         1          0           0               0   \n",
       "2          2640.0         1          0           0               0   \n",
       "3          3080.0         1          0           0               0   \n",
       "4          4400.0         1          0           0               0   \n",
       "\n",
       "   days_since_last_order  rec_segment_0-30  rec_segment_30-60  \\\n",
       "0                     92                 0                  0   \n",
       "1                     92                 0                  0   \n",
       "2                     92                 0                  0   \n",
       "3                     92                 0                  0   \n",
       "4                    102                 0                  0   \n",
       "\n",
       "   rec_segment_60-90  rec_segment_90-120  rec_segment_120-180  \\\n",
       "0                  0                   1                    0   \n",
       "1                  0                   1                    0   \n",
       "2                  0                   1                    0   \n",
       "3                  0                   1                    0   \n",
       "4                  0                   1                    0   \n",
       "\n",
       "   rec_segment_180+  customer_since_days  \n",
       "0                 0                   95  \n",
       "1                 0                   92  \n",
       "2                 0                   96  \n",
       "3                 0                   92  \n",
       "4                 0                  103  "
      ]
     },
     "execution_count": 59,
     "metadata": {},
     "output_type": "execute_result"
    },
    {
     "data": {
      "application/javascript": [
       "\n",
       "            setTimeout(function() {\n",
       "                var nbb_cell_id = 59;\n",
       "                var nbb_unformatted_code = \"df.head()\";\n",
       "                var nbb_formatted_code = \"df.head()\";\n",
       "                var nbb_cells = Jupyter.notebook.get_cells();\n",
       "                for (var i = 0; i < nbb_cells.length; ++i) {\n",
       "                    if (nbb_cells[i].input_prompt_number == nbb_cell_id) {\n",
       "                        if (nbb_cells[i].get_text() == nbb_unformatted_code) {\n",
       "                             nbb_cells[i].set_text(nbb_formatted_code);\n",
       "                        }\n",
       "                        break;\n",
       "                    }\n",
       "                }\n",
       "            }, 500);\n",
       "            "
      ],
      "text/plain": [
       "<IPython.core.display.Javascript object>"
      ]
     },
     "metadata": {},
     "output_type": "display_data"
    }
   ],
   "source": [
    "df.head()"
   ]
  },
  {
   "cell_type": "markdown",
   "metadata": {},
   "source": [
    "df.loc[\n",
    "    df[\"customer_since_days\"] < 0, \"customer_since_days\"\n",
    "] = df.customer_since_days.median()"
   ]
  },
  {
   "cell_type": "code",
   "execution_count": 61,
   "metadata": {},
   "outputs": [
    {
     "data": {
      "text/html": [
       "<div>\n",
       "<style scoped>\n",
       "    .dataframe tbody tr th:only-of-type {\n",
       "        vertical-align: middle;\n",
       "    }\n",
       "\n",
       "    .dataframe tbody tr th {\n",
       "        vertical-align: top;\n",
       "    }\n",
       "\n",
       "    .dataframe thead th {\n",
       "        text-align: right;\n",
       "    }\n",
       "</style>\n",
       "<table border=\"1\" class=\"dataframe\">\n",
       "  <thead>\n",
       "    <tr style=\"text-align: right;\">\n",
       "      <th></th>\n",
       "      <th>timestamp</th>\n",
       "      <th>country_code</th>\n",
       "      <th>last_order_ts</th>\n",
       "      <th>first_order_ts</th>\n",
       "      <th>total_orders</th>\n",
       "      <th>voucher_amount</th>\n",
       "      <th>freq_0-4</th>\n",
       "      <th>freq_5-13</th>\n",
       "      <th>freq_13-37</th>\n",
       "      <th>freq_38-higher</th>\n",
       "      <th>days_since_last_order</th>\n",
       "      <th>rec_segment_0-30</th>\n",
       "      <th>rec_segment_30-60</th>\n",
       "      <th>rec_segment_60-90</th>\n",
       "      <th>rec_segment_90-120</th>\n",
       "      <th>rec_segment_120-180</th>\n",
       "      <th>rec_segment_180+</th>\n",
       "      <th>customer_since_days</th>\n",
       "    </tr>\n",
       "  </thead>\n",
       "  <tbody>\n",
       "    <tr>\n",
       "      <th>0</th>\n",
       "      <td>2018-07-21</td>\n",
       "      <td>Latvia</td>\n",
       "      <td>2018-04-20</td>\n",
       "      <td>2018-04-17</td>\n",
       "      <td>0.0</td>\n",
       "      <td>4400.0</td>\n",
       "      <td>1</td>\n",
       "      <td>0</td>\n",
       "      <td>0</td>\n",
       "      <td>0</td>\n",
       "      <td>92</td>\n",
       "      <td>0</td>\n",
       "      <td>0</td>\n",
       "      <td>0</td>\n",
       "      <td>1</td>\n",
       "      <td>0</td>\n",
       "      <td>0</td>\n",
       "      <td>95</td>\n",
       "    </tr>\n",
       "    <tr>\n",
       "      <th>1</th>\n",
       "      <td>2018-07-21</td>\n",
       "      <td>Peru</td>\n",
       "      <td>2018-04-20</td>\n",
       "      <td>2018-04-20</td>\n",
       "      <td>0.0</td>\n",
       "      <td>4400.0</td>\n",
       "      <td>1</td>\n",
       "      <td>0</td>\n",
       "      <td>0</td>\n",
       "      <td>0</td>\n",
       "      <td>92</td>\n",
       "      <td>0</td>\n",
       "      <td>0</td>\n",
       "      <td>0</td>\n",
       "      <td>1</td>\n",
       "      <td>0</td>\n",
       "      <td>0</td>\n",
       "      <td>92</td>\n",
       "    </tr>\n",
       "    <tr>\n",
       "      <th>2</th>\n",
       "      <td>2018-07-21</td>\n",
       "      <td>Peru</td>\n",
       "      <td>2018-04-20</td>\n",
       "      <td>2018-04-16</td>\n",
       "      <td>1.0</td>\n",
       "      <td>2640.0</td>\n",
       "      <td>1</td>\n",
       "      <td>0</td>\n",
       "      <td>0</td>\n",
       "      <td>0</td>\n",
       "      <td>92</td>\n",
       "      <td>0</td>\n",
       "      <td>0</td>\n",
       "      <td>0</td>\n",
       "      <td>1</td>\n",
       "      <td>0</td>\n",
       "      <td>0</td>\n",
       "      <td>96</td>\n",
       "    </tr>\n",
       "    <tr>\n",
       "      <th>3</th>\n",
       "      <td>2018-07-21</td>\n",
       "      <td>China</td>\n",
       "      <td>2018-04-20</td>\n",
       "      <td>2018-04-20</td>\n",
       "      <td>2.0</td>\n",
       "      <td>3080.0</td>\n",
       "      <td>1</td>\n",
       "      <td>0</td>\n",
       "      <td>0</td>\n",
       "      <td>0</td>\n",
       "      <td>92</td>\n",
       "      <td>0</td>\n",
       "      <td>0</td>\n",
       "      <td>0</td>\n",
       "      <td>1</td>\n",
       "      <td>0</td>\n",
       "      <td>0</td>\n",
       "      <td>92</td>\n",
       "    </tr>\n",
       "    <tr>\n",
       "      <th>4</th>\n",
       "      <td>2018-07-31</td>\n",
       "      <td>Peru</td>\n",
       "      <td>2018-04-20</td>\n",
       "      <td>2018-04-19</td>\n",
       "      <td>0.0</td>\n",
       "      <td>4400.0</td>\n",
       "      <td>1</td>\n",
       "      <td>0</td>\n",
       "      <td>0</td>\n",
       "      <td>0</td>\n",
       "      <td>102</td>\n",
       "      <td>0</td>\n",
       "      <td>0</td>\n",
       "      <td>0</td>\n",
       "      <td>1</td>\n",
       "      <td>0</td>\n",
       "      <td>0</td>\n",
       "      <td>103</td>\n",
       "    </tr>\n",
       "  </tbody>\n",
       "</table>\n",
       "</div>"
      ],
      "text/plain": [
       "   timestamp country_code last_order_ts first_order_ts  total_orders  \\\n",
       "0 2018-07-21       Latvia    2018-04-20     2018-04-17           0.0   \n",
       "1 2018-07-21         Peru    2018-04-20     2018-04-20           0.0   \n",
       "2 2018-07-21         Peru    2018-04-20     2018-04-16           1.0   \n",
       "3 2018-07-21        China    2018-04-20     2018-04-20           2.0   \n",
       "4 2018-07-31         Peru    2018-04-20     2018-04-19           0.0   \n",
       "\n",
       "   voucher_amount  freq_0-4  freq_5-13  freq_13-37  freq_38-higher  \\\n",
       "0          4400.0         1          0           0               0   \n",
       "1          4400.0         1          0           0               0   \n",
       "2          2640.0         1          0           0               0   \n",
       "3          3080.0         1          0           0               0   \n",
       "4          4400.0         1          0           0               0   \n",
       "\n",
       "   days_since_last_order  rec_segment_0-30  rec_segment_30-60  \\\n",
       "0                     92                 0                  0   \n",
       "1                     92                 0                  0   \n",
       "2                     92                 0                  0   \n",
       "3                     92                 0                  0   \n",
       "4                    102                 0                  0   \n",
       "\n",
       "   rec_segment_60-90  rec_segment_90-120  rec_segment_120-180  \\\n",
       "0                  0                   1                    0   \n",
       "1                  0                   1                    0   \n",
       "2                  0                   1                    0   \n",
       "3                  0                   1                    0   \n",
       "4                  0                   1                    0   \n",
       "\n",
       "   rec_segment_180+  customer_since_days  \n",
       "0                 0                   95  \n",
       "1                 0                   92  \n",
       "2                 0                   96  \n",
       "3                 0                   92  \n",
       "4                 0                  103  "
      ]
     },
     "execution_count": 61,
     "metadata": {},
     "output_type": "execute_result"
    },
    {
     "data": {
      "application/javascript": [
       "\n",
       "            setTimeout(function() {\n",
       "                var nbb_cell_id = 61;\n",
       "                var nbb_unformatted_code = \"df.head()\";\n",
       "                var nbb_formatted_code = \"df.head()\";\n",
       "                var nbb_cells = Jupyter.notebook.get_cells();\n",
       "                for (var i = 0; i < nbb_cells.length; ++i) {\n",
       "                    if (nbb_cells[i].input_prompt_number == nbb_cell_id) {\n",
       "                        if (nbb_cells[i].get_text() == nbb_unformatted_code) {\n",
       "                             nbb_cells[i].set_text(nbb_formatted_code);\n",
       "                        }\n",
       "                        break;\n",
       "                    }\n",
       "                }\n",
       "            }, 500);\n",
       "            "
      ],
      "text/plain": [
       "<IPython.core.display.Javascript object>"
      ]
     },
     "metadata": {},
     "output_type": "display_data"
    }
   ],
   "source": [
    "df.head()"
   ]
  },
  {
   "cell_type": "code",
   "execution_count": 62,
   "metadata": {},
   "outputs": [
    {
     "data": {
      "text/plain": [
       "<matplotlib.axes._subplots.AxesSubplot at 0x7f7fb5b0cf60>"
      ]
     },
     "execution_count": 62,
     "metadata": {},
     "output_type": "execute_result"
    },
    {
     "data": {
      "image/png": "[encoded data removed]",
      "text/plain": [
       "<Figure size 1440x720 with 1 Axes>"
      ]
     },
     "metadata": {
      "needs_background": "light"
     },
     "output_type": "display_data"
    },
    {
     "data": {
      "application/javascript": [
       "\n",
       "            setTimeout(function() {\n",
       "                var nbb_cell_id = 62;\n",
       "                var nbb_unformatted_code = \"df.customer_since_days.hist(bins=100, figsize=(20, 10))\";\n",
       "                var nbb_formatted_code = \"df.customer_since_days.hist(bins=100, figsize=(20, 10))\";\n",
       "                var nbb_cells = Jupyter.notebook.get_cells();\n",
       "                for (var i = 0; i < nbb_cells.length; ++i) {\n",
       "                    if (nbb_cells[i].input_prompt_number == nbb_cell_id) {\n",
       "                        if (nbb_cells[i].get_text() == nbb_unformatted_code) {\n",
       "                             nbb_cells[i].set_text(nbb_formatted_code);\n",
       "                        }\n",
       "                        break;\n",
       "                    }\n",
       "                }\n",
       "            }, 500);\n",
       "            "
      ],
      "text/plain": [
       "<IPython.core.display.Javascript object>"
      ]
     },
     "metadata": {},
     "output_type": "display_data"
    }
   ],
   "source": [
    "df.customer_since_days.hist(bins=100, figsize=(20, 10))"
   ]
  },
  {
   "cell_type": "code",
   "execution_count": 63,
   "metadata": {},
   "outputs": [
    {
     "data": {
      "text/plain": [
       "92      34790\n",
       "93       2949\n",
       "94       2523\n",
       "31       2339\n",
       "95       2178\n",
       "        ...  \n",
       "2315        1\n",
       "2509        1\n",
       "2059        1\n",
       "1997        1\n",
       "2122        1\n",
       "Name: customer_since_days, Length: 2216, dtype: int64"
      ]
     },
     "execution_count": 63,
     "metadata": {},
     "output_type": "execute_result"
    },
    {
     "data": {
      "application/javascript": [
       "\n",
       "            setTimeout(function() {\n",
       "                var nbb_cell_id = 63;\n",
       "                var nbb_unformatted_code = \"df.customer_since_days.value_counts()\";\n",
       "                var nbb_formatted_code = \"df.customer_since_days.value_counts()\";\n",
       "                var nbb_cells = Jupyter.notebook.get_cells();\n",
       "                for (var i = 0; i < nbb_cells.length; ++i) {\n",
       "                    if (nbb_cells[i].input_prompt_number == nbb_cell_id) {\n",
       "                        if (nbb_cells[i].get_text() == nbb_unformatted_code) {\n",
       "                             nbb_cells[i].set_text(nbb_formatted_code);\n",
       "                        }\n",
       "                        break;\n",
       "                    }\n",
       "                }\n",
       "            }, 500);\n",
       "            "
      ],
      "text/plain": [
       "<IPython.core.display.Javascript object>"
      ]
     },
     "metadata": {},
     "output_type": "display_data"
    }
   ],
   "source": [
    "df.customer_since_days.value_counts()"
   ]
  },
  {
   "cell_type": "code",
   "execution_count": 64,
   "metadata": {},
   "outputs": [
    {
     "data": {
      "application/javascript": [
       "\n",
       "            setTimeout(function() {\n",
       "                var nbb_cell_id = 64;\n",
       "                var nbb_unformatted_code = \"bins = [0.0, 60, 120, 180, 240, 300, np.inf]\\nlabels = [\\\"0-60\\\", \\\"60-120\\\", \\\"120-180\\\", \\\"180-240\\\", \\\"240-300\\\", \\\"300+\\\"]\";\n",
       "                var nbb_formatted_code = \"bins = [0.0, 60, 120, 180, 240, 300, np.inf]\\nlabels = [\\\"0-60\\\", \\\"60-120\\\", \\\"120-180\\\", \\\"180-240\\\", \\\"240-300\\\", \\\"300+\\\"]\";\n",
       "                var nbb_cells = Jupyter.notebook.get_cells();\n",
       "                for (var i = 0; i < nbb_cells.length; ++i) {\n",
       "                    if (nbb_cells[i].input_prompt_number == nbb_cell_id) {\n",
       "                        if (nbb_cells[i].get_text() == nbb_unformatted_code) {\n",
       "                             nbb_cells[i].set_text(nbb_formatted_code);\n",
       "                        }\n",
       "                        break;\n",
       "                    }\n",
       "                }\n",
       "            }, 500);\n",
       "            "
      ],
      "text/plain": [
       "<IPython.core.display.Javascript object>"
      ]
     },
     "metadata": {},
     "output_type": "display_data"
    }
   ],
   "source": [
    "bins = [0.0, 60, 120, 180, 240, 300, np.inf]\n",
    "labels = [\"0-60\", \"60-120\", \"120-180\", \"180-240\", \"240-300\", \"300+\"]"
   ]
  },
  {
   "cell_type": "code",
   "execution_count": 65,
   "metadata": {},
   "outputs": [
    {
     "data": {
      "application/javascript": [
       "\n",
       "            setTimeout(function() {\n",
       "                var nbb_cell_id = 65;\n",
       "                var nbb_unformatted_code = \"df[\\\"customer_since_ranges\\\"] = pd.cut(\\n    df[\\\"customer_since_days\\\"], bins=bins, labels=labels, include_lowest=True\\n)\";\n",
       "                var nbb_formatted_code = \"df[\\\"customer_since_ranges\\\"] = pd.cut(\\n    df[\\\"customer_since_days\\\"], bins=bins, labels=labels, include_lowest=True\\n)\";\n",
       "                var nbb_cells = Jupyter.notebook.get_cells();\n",
       "                for (var i = 0; i < nbb_cells.length; ++i) {\n",
       "                    if (nbb_cells[i].input_prompt_number == nbb_cell_id) {\n",
       "                        if (nbb_cells[i].get_text() == nbb_unformatted_code) {\n",
       "                             nbb_cells[i].set_text(nbb_formatted_code);\n",
       "                        }\n",
       "                        break;\n",
       "                    }\n",
       "                }\n",
       "            }, 500);\n",
       "            "
      ],
      "text/plain": [
       "<IPython.core.display.Javascript object>"
      ]
     },
     "metadata": {},
     "output_type": "display_data"
    }
   ],
   "source": [
    "df[\"customer_since_ranges\"] = pd.cut(\n",
    "    df[\"customer_since_days\"], bins=bins, labels=labels, include_lowest=True\n",
    ")"
   ]
  },
  {
   "cell_type": "code",
   "execution_count": 66,
   "metadata": {},
   "outputs": [
    {
     "data": {
      "text/html": [
       "<div>\n",
       "<style scoped>\n",
       "    .dataframe tbody tr th:only-of-type {\n",
       "        vertical-align: middle;\n",
       "    }\n",
       "\n",
       "    .dataframe tbody tr th {\n",
       "        vertical-align: top;\n",
       "    }\n",
       "\n",
       "    .dataframe thead th {\n",
       "        text-align: right;\n",
       "    }\n",
       "</style>\n",
       "<table border=\"1\" class=\"dataframe\">\n",
       "  <thead>\n",
       "    <tr style=\"text-align: right;\">\n",
       "      <th></th>\n",
       "      <th>timestamp</th>\n",
       "      <th>country_code</th>\n",
       "      <th>last_order_ts</th>\n",
       "      <th>first_order_ts</th>\n",
       "      <th>total_orders</th>\n",
       "      <th>voucher_amount</th>\n",
       "      <th>freq_0-4</th>\n",
       "      <th>freq_5-13</th>\n",
       "      <th>freq_13-37</th>\n",
       "      <th>freq_38-higher</th>\n",
       "      <th>days_since_last_order</th>\n",
       "      <th>rec_segment_0-30</th>\n",
       "      <th>rec_segment_30-60</th>\n",
       "      <th>rec_segment_60-90</th>\n",
       "      <th>rec_segment_90-120</th>\n",
       "      <th>rec_segment_120-180</th>\n",
       "      <th>rec_segment_180+</th>\n",
       "      <th>customer_since_days</th>\n",
       "      <th>customer_since_ranges</th>\n",
       "    </tr>\n",
       "  </thead>\n",
       "  <tbody>\n",
       "    <tr>\n",
       "      <th>0</th>\n",
       "      <td>2018-07-21</td>\n",
       "      <td>Latvia</td>\n",
       "      <td>2018-04-20</td>\n",
       "      <td>2018-04-17</td>\n",
       "      <td>0.0</td>\n",
       "      <td>4400.0</td>\n",
       "      <td>1</td>\n",
       "      <td>0</td>\n",
       "      <td>0</td>\n",
       "      <td>0</td>\n",
       "      <td>92</td>\n",
       "      <td>0</td>\n",
       "      <td>0</td>\n",
       "      <td>0</td>\n",
       "      <td>1</td>\n",
       "      <td>0</td>\n",
       "      <td>0</td>\n",
       "      <td>95</td>\n",
       "      <td>60-120</td>\n",
       "    </tr>\n",
       "    <tr>\n",
       "      <th>1</th>\n",
       "      <td>2018-07-21</td>\n",
       "      <td>Peru</td>\n",
       "      <td>2018-04-20</td>\n",
       "      <td>2018-04-20</td>\n",
       "      <td>0.0</td>\n",
       "      <td>4400.0</td>\n",
       "      <td>1</td>\n",
       "      <td>0</td>\n",
       "      <td>0</td>\n",
       "      <td>0</td>\n",
       "      <td>92</td>\n",
       "      <td>0</td>\n",
       "      <td>0</td>\n",
       "      <td>0</td>\n",
       "      <td>1</td>\n",
       "      <td>0</td>\n",
       "      <td>0</td>\n",
       "      <td>92</td>\n",
       "      <td>60-120</td>\n",
       "    </tr>\n",
       "    <tr>\n",
       "      <th>2</th>\n",
       "      <td>2018-07-21</td>\n",
       "      <td>Peru</td>\n",
       "      <td>2018-04-20</td>\n",
       "      <td>2018-04-16</td>\n",
       "      <td>1.0</td>\n",
       "      <td>2640.0</td>\n",
       "      <td>1</td>\n",
       "      <td>0</td>\n",
       "      <td>0</td>\n",
       "      <td>0</td>\n",
       "      <td>92</td>\n",
       "      <td>0</td>\n",
       "      <td>0</td>\n",
       "      <td>0</td>\n",
       "      <td>1</td>\n",
       "      <td>0</td>\n",
       "      <td>0</td>\n",
       "      <td>96</td>\n",
       "      <td>60-120</td>\n",
       "    </tr>\n",
       "    <tr>\n",
       "      <th>3</th>\n",
       "      <td>2018-07-21</td>\n",
       "      <td>China</td>\n",
       "      <td>2018-04-20</td>\n",
       "      <td>2018-04-20</td>\n",
       "      <td>2.0</td>\n",
       "      <td>3080.0</td>\n",
       "      <td>1</td>\n",
       "      <td>0</td>\n",
       "      <td>0</td>\n",
       "      <td>0</td>\n",
       "      <td>92</td>\n",
       "      <td>0</td>\n",
       "      <td>0</td>\n",
       "      <td>0</td>\n",
       "      <td>1</td>\n",
       "      <td>0</td>\n",
       "      <td>0</td>\n",
       "      <td>92</td>\n",
       "      <td>60-120</td>\n",
       "    </tr>\n",
       "    <tr>\n",
       "      <th>4</th>\n",
       "      <td>2018-07-31</td>\n",
       "      <td>Peru</td>\n",
       "      <td>2018-04-20</td>\n",
       "      <td>2018-04-19</td>\n",
       "      <td>0.0</td>\n",
       "      <td>4400.0</td>\n",
       "      <td>1</td>\n",
       "      <td>0</td>\n",
       "      <td>0</td>\n",
       "      <td>0</td>\n",
       "      <td>102</td>\n",
       "      <td>0</td>\n",
       "      <td>0</td>\n",
       "      <td>0</td>\n",
       "      <td>1</td>\n",
       "      <td>0</td>\n",
       "      <td>0</td>\n",
       "      <td>103</td>\n",
       "      <td>60-120</td>\n",
       "    </tr>\n",
       "  </tbody>\n",
       "</table>\n",
       "</div>"
      ],
      "text/plain": [
       "   timestamp country_code last_order_ts first_order_ts  total_orders  \\\n",
       "0 2018-07-21       Latvia    2018-04-20     2018-04-17           0.0   \n",
       "1 2018-07-21         Peru    2018-04-20     2018-04-20           0.0   \n",
       "2 2018-07-21         Peru    2018-04-20     2018-04-16           1.0   \n",
       "3 2018-07-21        China    2018-04-20     2018-04-20           2.0   \n",
       "4 2018-07-31         Peru    2018-04-20     2018-04-19           0.0   \n",
       "\n",
       "   voucher_amount  freq_0-4  freq_5-13  freq_13-37  freq_38-higher  \\\n",
       "0          4400.0         1          0           0               0   \n",
       "1          4400.0         1          0           0               0   \n",
       "2          2640.0         1          0           0               0   \n",
       "3          3080.0         1          0           0               0   \n",
       "4          4400.0         1          0           0               0   \n",
       "\n",
       "   days_since_last_order  rec_segment_0-30  rec_segment_30-60  \\\n",
       "0                     92                 0                  0   \n",
       "1                     92                 0                  0   \n",
       "2                     92                 0                  0   \n",
       "3                     92                 0                  0   \n",
       "4                    102                 0                  0   \n",
       "\n",
       "   rec_segment_60-90  rec_segment_90-120  rec_segment_120-180  \\\n",
       "0                  0                   1                    0   \n",
       "1                  0                   1                    0   \n",
       "2                  0                   1                    0   \n",
       "3                  0                   1                    0   \n",
       "4                  0                   1                    0   \n",
       "\n",
       "   rec_segment_180+  customer_since_days customer_since_ranges  \n",
       "0                 0                   95                60-120  \n",
       "1                 0                   92                60-120  \n",
       "2                 0                   96                60-120  \n",
       "3                 0                   92                60-120  \n",
       "4                 0                  103                60-120  "
      ]
     },
     "execution_count": 66,
     "metadata": {},
     "output_type": "execute_result"
    },
    {
     "data": {
      "application/javascript": [
       "\n",
       "            setTimeout(function() {\n",
       "                var nbb_cell_id = 66;\n",
       "                var nbb_unformatted_code = \"df.head()\";\n",
       "                var nbb_formatted_code = \"df.head()\";\n",
       "                var nbb_cells = Jupyter.notebook.get_cells();\n",
       "                for (var i = 0; i < nbb_cells.length; ++i) {\n",
       "                    if (nbb_cells[i].input_prompt_number == nbb_cell_id) {\n",
       "                        if (nbb_cells[i].get_text() == nbb_unformatted_code) {\n",
       "                             nbb_cells[i].set_text(nbb_formatted_code);\n",
       "                        }\n",
       "                        break;\n",
       "                    }\n",
       "                }\n",
       "            }, 500);\n",
       "            "
      ],
      "text/plain": [
       "<IPython.core.display.Javascript object>"
      ]
     },
     "metadata": {},
     "output_type": "display_data"
    }
   ],
   "source": [
    "df.head()"
   ]
  },
  {
   "cell_type": "code",
   "execution_count": 67,
   "metadata": {},
   "outputs": [
    {
     "data": {
      "application/javascript": [
       "\n",
       "            setTimeout(function() {\n",
       "                var nbb_cell_id = 67;\n",
       "                var nbb_unformatted_code = \"one_hot_cust_since = pd.get_dummies(df[\\\"customer_since_ranges\\\"], prefix=\\\"cust_since\\\")\";\n",
       "                var nbb_formatted_code = \"one_hot_cust_since = pd.get_dummies(df[\\\"customer_since_ranges\\\"], prefix=\\\"cust_since\\\")\";\n",
       "                var nbb_cells = Jupyter.notebook.get_cells();\n",
       "                for (var i = 0; i < nbb_cells.length; ++i) {\n",
       "                    if (nbb_cells[i].input_prompt_number == nbb_cell_id) {\n",
       "                        if (nbb_cells[i].get_text() == nbb_unformatted_code) {\n",
       "                             nbb_cells[i].set_text(nbb_formatted_code);\n",
       "                        }\n",
       "                        break;\n",
       "                    }\n",
       "                }\n",
       "            }, 500);\n",
       "            "
      ],
      "text/plain": [
       "<IPython.core.display.Javascript object>"
      ]
     },
     "metadata": {},
     "output_type": "display_data"
    }
   ],
   "source": [
    "one_hot_cust_since = pd.get_dummies(df[\"customer_since_ranges\"], prefix=\"cust_since\")"
   ]
  },
  {
   "cell_type": "code",
   "execution_count": 68,
   "metadata": {},
   "outputs": [
    {
     "data": {
      "application/javascript": [
       "\n",
       "            setTimeout(function() {\n",
       "                var nbb_cell_id = 68;\n",
       "                var nbb_unformatted_code = \"df = df.join(one_hot_cust_since)\";\n",
       "                var nbb_formatted_code = \"df = df.join(one_hot_cust_since)\";\n",
       "                var nbb_cells = Jupyter.notebook.get_cells();\n",
       "                for (var i = 0; i < nbb_cells.length; ++i) {\n",
       "                    if (nbb_cells[i].input_prompt_number == nbb_cell_id) {\n",
       "                        if (nbb_cells[i].get_text() == nbb_unformatted_code) {\n",
       "                             nbb_cells[i].set_text(nbb_formatted_code);\n",
       "                        }\n",
       "                        break;\n",
       "                    }\n",
       "                }\n",
       "            }, 500);\n",
       "            "
      ],
      "text/plain": [
       "<IPython.core.display.Javascript object>"
      ]
     },
     "metadata": {},
     "output_type": "display_data"
    }
   ],
   "source": [
    "df = df.join(one_hot_cust_since)"
   ]
  },
  {
   "cell_type": "code",
   "execution_count": 69,
   "metadata": {},
   "outputs": [
    {
     "data": {
      "application/javascript": [
       "\n",
       "            setTimeout(function() {\n",
       "                var nbb_cell_id = 69;\n",
       "                var nbb_unformatted_code = \"df = df.drop(\\\"customer_since_ranges\\\", axis=1)\";\n",
       "                var nbb_formatted_code = \"df = df.drop(\\\"customer_since_ranges\\\", axis=1)\";\n",
       "                var nbb_cells = Jupyter.notebook.get_cells();\n",
       "                for (var i = 0; i < nbb_cells.length; ++i) {\n",
       "                    if (nbb_cells[i].input_prompt_number == nbb_cell_id) {\n",
       "                        if (nbb_cells[i].get_text() == nbb_unformatted_code) {\n",
       "                             nbb_cells[i].set_text(nbb_formatted_code);\n",
       "                        }\n",
       "                        break;\n",
       "                    }\n",
       "                }\n",
       "            }, 500);\n",
       "            "
      ],
      "text/plain": [
       "<IPython.core.display.Javascript object>"
      ]
     },
     "metadata": {},
     "output_type": "display_data"
    }
   ],
   "source": [
    "df = df.drop(\"customer_since_ranges\", axis=1)"
   ]
  },
  {
   "cell_type": "code",
   "execution_count": 70,
   "metadata": {
    "scrolled": true
   },
   "outputs": [
    {
     "data": {
      "text/html": [
       "<div>\n",
       "<style scoped>\n",
       "    .dataframe tbody tr th:only-of-type {\n",
       "        vertical-align: middle;\n",
       "    }\n",
       "\n",
       "    .dataframe tbody tr th {\n",
       "        vertical-align: top;\n",
       "    }\n",
       "\n",
       "    .dataframe thead th {\n",
       "        text-align: right;\n",
       "    }\n",
       "</style>\n",
       "<table border=\"1\" class=\"dataframe\">\n",
       "  <thead>\n",
       "    <tr style=\"text-align: right;\">\n",
       "      <th></th>\n",
       "      <th>timestamp</th>\n",
       "      <th>country_code</th>\n",
       "      <th>last_order_ts</th>\n",
       "      <th>first_order_ts</th>\n",
       "      <th>total_orders</th>\n",
       "      <th>voucher_amount</th>\n",
       "      <th>freq_0-4</th>\n",
       "      <th>freq_5-13</th>\n",
       "      <th>freq_13-37</th>\n",
       "      <th>freq_38-higher</th>\n",
       "      <th>...</th>\n",
       "      <th>rec_segment_90-120</th>\n",
       "      <th>rec_segment_120-180</th>\n",
       "      <th>rec_segment_180+</th>\n",
       "      <th>customer_since_days</th>\n",
       "      <th>cust_since_0-60</th>\n",
       "      <th>cust_since_60-120</th>\n",
       "      <th>cust_since_120-180</th>\n",
       "      <th>cust_since_180-240</th>\n",
       "      <th>cust_since_240-300</th>\n",
       "      <th>cust_since_300+</th>\n",
       "    </tr>\n",
       "  </thead>\n",
       "  <tbody>\n",
       "    <tr>\n",
       "      <th>0</th>\n",
       "      <td>2018-07-21</td>\n",
       "      <td>Latvia</td>\n",
       "      <td>2018-04-20</td>\n",
       "      <td>2018-04-17</td>\n",
       "      <td>0.0</td>\n",
       "      <td>4400.0</td>\n",
       "      <td>1</td>\n",
       "      <td>0</td>\n",
       "      <td>0</td>\n",
       "      <td>0</td>\n",
       "      <td>...</td>\n",
       "      <td>1</td>\n",
       "      <td>0</td>\n",
       "      <td>0</td>\n",
       "      <td>95</td>\n",
       "      <td>0</td>\n",
       "      <td>1</td>\n",
       "      <td>0</td>\n",
       "      <td>0</td>\n",
       "      <td>0</td>\n",
       "      <td>0</td>\n",
       "    </tr>\n",
       "    <tr>\n",
       "      <th>1</th>\n",
       "      <td>2018-07-21</td>\n",
       "      <td>Peru</td>\n",
       "      <td>2018-04-20</td>\n",
       "      <td>2018-04-20</td>\n",
       "      <td>0.0</td>\n",
       "      <td>4400.0</td>\n",
       "      <td>1</td>\n",
       "      <td>0</td>\n",
       "      <td>0</td>\n",
       "      <td>0</td>\n",
       "      <td>...</td>\n",
       "      <td>1</td>\n",
       "      <td>0</td>\n",
       "      <td>0</td>\n",
       "      <td>92</td>\n",
       "      <td>0</td>\n",
       "      <td>1</td>\n",
       "      <td>0</td>\n",
       "      <td>0</td>\n",
       "      <td>0</td>\n",
       "      <td>0</td>\n",
       "    </tr>\n",
       "    <tr>\n",
       "      <th>2</th>\n",
       "      <td>2018-07-21</td>\n",
       "      <td>Peru</td>\n",
       "      <td>2018-04-20</td>\n",
       "      <td>2018-04-16</td>\n",
       "      <td>1.0</td>\n",
       "      <td>2640.0</td>\n",
       "      <td>1</td>\n",
       "      <td>0</td>\n",
       "      <td>0</td>\n",
       "      <td>0</td>\n",
       "      <td>...</td>\n",
       "      <td>1</td>\n",
       "      <td>0</td>\n",
       "      <td>0</td>\n",
       "      <td>96</td>\n",
       "      <td>0</td>\n",
       "      <td>1</td>\n",
       "      <td>0</td>\n",
       "      <td>0</td>\n",
       "      <td>0</td>\n",
       "      <td>0</td>\n",
       "    </tr>\n",
       "    <tr>\n",
       "      <th>3</th>\n",
       "      <td>2018-07-21</td>\n",
       "      <td>China</td>\n",
       "      <td>2018-04-20</td>\n",
       "      <td>2018-04-20</td>\n",
       "      <td>2.0</td>\n",
       "      <td>3080.0</td>\n",
       "      <td>1</td>\n",
       "      <td>0</td>\n",
       "      <td>0</td>\n",
       "      <td>0</td>\n",
       "      <td>...</td>\n",
       "      <td>1</td>\n",
       "      <td>0</td>\n",
       "      <td>0</td>\n",
       "      <td>92</td>\n",
       "      <td>0</td>\n",
       "      <td>1</td>\n",
       "      <td>0</td>\n",
       "      <td>0</td>\n",
       "      <td>0</td>\n",
       "      <td>0</td>\n",
       "    </tr>\n",
       "    <tr>\n",
       "      <th>4</th>\n",
       "      <td>2018-07-31</td>\n",
       "      <td>Peru</td>\n",
       "      <td>2018-04-20</td>\n",
       "      <td>2018-04-19</td>\n",
       "      <td>0.0</td>\n",
       "      <td>4400.0</td>\n",
       "      <td>1</td>\n",
       "      <td>0</td>\n",
       "      <td>0</td>\n",
       "      <td>0</td>\n",
       "      <td>...</td>\n",
       "      <td>1</td>\n",
       "      <td>0</td>\n",
       "      <td>0</td>\n",
       "      <td>103</td>\n",
       "      <td>0</td>\n",
       "      <td>1</td>\n",
       "      <td>0</td>\n",
       "      <td>0</td>\n",
       "      <td>0</td>\n",
       "      <td>0</td>\n",
       "    </tr>\n",
       "  </tbody>\n",
       "</table>\n",
       "<p>5 rows × 24 columns</p>\n",
       "</div>"
      ],
      "text/plain": [
       "   timestamp country_code last_order_ts first_order_ts  total_orders  \\\n",
       "0 2018-07-21       Latvia    2018-04-20     2018-04-17           0.0   \n",
       "1 2018-07-21         Peru    2018-04-20     2018-04-20           0.0   \n",
       "2 2018-07-21         Peru    2018-04-20     2018-04-16           1.0   \n",
       "3 2018-07-21        China    2018-04-20     2018-04-20           2.0   \n",
       "4 2018-07-31         Peru    2018-04-20     2018-04-19           0.0   \n",
       "\n",
       "   voucher_amount  freq_0-4  freq_5-13  freq_13-37  freq_38-higher  ...  \\\n",
       "0          4400.0         1          0           0               0  ...   \n",
       "1          4400.0         1          0           0               0  ...   \n",
       "2          2640.0         1          0           0               0  ...   \n",
       "3          3080.0         1          0           0               0  ...   \n",
       "4          4400.0         1          0           0               0  ...   \n",
       "\n",
       "   rec_segment_90-120  rec_segment_120-180  rec_segment_180+  \\\n",
       "0                   1                    0                 0   \n",
       "1                   1                    0                 0   \n",
       "2                   1                    0                 0   \n",
       "3                   1                    0                 0   \n",
       "4                   1                    0                 0   \n",
       "\n",
       "   customer_since_days  cust_since_0-60  cust_since_60-120  \\\n",
       "0                   95                0                  1   \n",
       "1                   92                0                  1   \n",
       "2                   96                0                  1   \n",
       "3                   92                0                  1   \n",
       "4                  103                0                  1   \n",
       "\n",
       "   cust_since_120-180  cust_since_180-240  cust_since_240-300  cust_since_300+  \n",
       "0                   0                   0                   0                0  \n",
       "1                   0                   0                   0                0  \n",
       "2                   0                   0                   0                0  \n",
       "3                   0                   0                   0                0  \n",
       "4                   0                   0                   0                0  \n",
       "\n",
       "[5 rows x 24 columns]"
      ]
     },
     "execution_count": 70,
     "metadata": {},
     "output_type": "execute_result"
    },
    {
     "data": {
      "application/javascript": [
       "\n",
       "            setTimeout(function() {\n",
       "                var nbb_cell_id = 70;\n",
       "                var nbb_unformatted_code = \"df.head()\";\n",
       "                var nbb_formatted_code = \"df.head()\";\n",
       "                var nbb_cells = Jupyter.notebook.get_cells();\n",
       "                for (var i = 0; i < nbb_cells.length; ++i) {\n",
       "                    if (nbb_cells[i].input_prompt_number == nbb_cell_id) {\n",
       "                        if (nbb_cells[i].get_text() == nbb_unformatted_code) {\n",
       "                             nbb_cells[i].set_text(nbb_formatted_code);\n",
       "                        }\n",
       "                        break;\n",
       "                    }\n",
       "                }\n",
       "            }, 500);\n",
       "            "
      ],
      "text/plain": [
       "<IPython.core.display.Javascript object>"
      ]
     },
     "metadata": {},
     "output_type": "display_data"
    }
   ],
   "source": [
    "df.head()"
   ]
  },
  {
   "cell_type": "code",
   "execution_count": 71,
   "metadata": {},
   "outputs": [
    {
     "data": {
      "text/plain": [
       "voucher_amount           1.000000\n",
       "rec_segment_90-120       0.125608\n",
       "days_since_last_order    0.124676\n",
       "cust_since_60-120        0.056479\n",
       "freq_0-4                 0.025818\n",
       "rec_segment_120-180      0.017446\n",
       "cust_since_180-240       0.011408\n",
       "cust_since_240-300       0.000168\n",
       "rec_segment_0-30        -0.000326\n",
       "freq_5-13               -0.008246\n",
       "customer_since_days     -0.009171\n",
       "freq_13-37              -0.010767\n",
       "cust_since_120-180      -0.011975\n",
       "rec_segment_60-90       -0.014709\n",
       "freq_38-higher          -0.015349\n",
       "total_orders            -0.016841\n",
       "cust_since_300+         -0.021186\n",
       "cust_since_0-60         -0.066436\n",
       "rec_segment_30-60       -0.124154\n",
       "rec_segment_180+              NaN\n",
       "Name: voucher_amount, dtype: float64"
      ]
     },
     "execution_count": 71,
     "metadata": {},
     "output_type": "execute_result"
    },
    {
     "data": {
      "application/javascript": [
       "\n",
       "            setTimeout(function() {\n",
       "                var nbb_cell_id = 71;\n",
       "                var nbb_unformatted_code = \"df.corr()[\\\"voucher_amount\\\"].sort_values(ascending=False)\";\n",
       "                var nbb_formatted_code = \"df.corr()[\\\"voucher_amount\\\"].sort_values(ascending=False)\";\n",
       "                var nbb_cells = Jupyter.notebook.get_cells();\n",
       "                for (var i = 0; i < nbb_cells.length; ++i) {\n",
       "                    if (nbb_cells[i].input_prompt_number == nbb_cell_id) {\n",
       "                        if (nbb_cells[i].get_text() == nbb_unformatted_code) {\n",
       "                             nbb_cells[i].set_text(nbb_formatted_code);\n",
       "                        }\n",
       "                        break;\n",
       "                    }\n",
       "                }\n",
       "            }, 500);\n",
       "            "
      ],
      "text/plain": [
       "<IPython.core.display.Javascript object>"
      ]
     },
     "metadata": {},
     "output_type": "display_data"
    }
   ],
   "source": [
    "df.corr()[\"voucher_amount\"].sort_values(ascending=False)"
   ]
  },
  {
   "cell_type": "code",
   "execution_count": null,
   "metadata": {},
   "outputs": [],
   "source": [
    "df_peru = df[df.country_code == \"Peru\"]"
   ]
  },
  {
   "cell_type": "code",
   "execution_count": null,
   "metadata": {},
   "outputs": [],
   "source": [
    "df_peru.head()"
   ]
  },
  {
   "cell_type": "code",
   "execution_count": null,
   "metadata": {},
   "outputs": [],
   "source": [
    "df_peru.corr()[\"voucher_amount\"].sort_values(ascending=False)"
   ]
  },
  {
   "cell_type": "code",
   "execution_count": null,
   "metadata": {},
   "outputs": [],
   "source": [
    "df_peru.info()"
   ]
  },
  {
   "cell_type": "code",
   "execution_count": null,
   "metadata": {},
   "outputs": [],
   "source": [
    "df_peru[\"rec_segment_30-60\"].value_counts()"
   ]
  },
  {
   "cell_type": "code",
   "execution_count": null,
   "metadata": {},
   "outputs": [],
   "source": []
  }
 ],
 "metadata": {
  "kernelspec": {
   "display_name": "Python 3",
   "language": "python",
   "name": "python3"
  },
  "language_info": {
   "codemirror_mode": {
    "name": "ipython",
    "version": 3
   },
   "file_extension": ".py",
   "mimetype": "text/x-python",
   "name": "python",
   "nbconvert_exporter": "python",
   "pygments_lexer": "ipython3",
   "version": "3.6.9"
  }
 },
 "nbformat": 4,
 "nbformat_minor": 4
}

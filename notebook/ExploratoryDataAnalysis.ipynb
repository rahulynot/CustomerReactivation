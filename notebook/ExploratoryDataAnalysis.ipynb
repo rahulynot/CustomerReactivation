{
 "cells": [
  {
   "cell_type": "code",
   "execution_count": 1,
   "metadata": {},
   "outputs": [
    {
     "name": "stdout",
     "output_type": "stream",
     "text": [
      "INFO: Pandarallel will run on 12 workers.\n",
      "INFO: Pandarallel will use Memory file system to transfer data between the main process and workers.\n"
     ]
    },
    {
     "data": {
      "application/javascript": [
       "\n",
       "            setTimeout(function() {\n",
       "                var nbb_cell_id = 1;\n",
       "                var nbb_unformatted_code = \"import pandas as pd\\nimport matplotlib.pyplot as plt\\nimport numpy as np\\nfrom sklearn.preprocessing import OneHotEncoder\\nfrom sklearn.model_selection import train_test_split\\nimport xgboost as xgb\\nfrom pandarallel import pandarallel\\n\\npandarallel.initialize()\\n\\n%matplotlib inline\\n%reload_ext nb_black\";\n",
       "                var nbb_formatted_code = \"import pandas as pd\\nimport matplotlib.pyplot as plt\\nimport numpy as np\\nfrom sklearn.preprocessing import OneHotEncoder\\nfrom sklearn.model_selection import train_test_split\\nimport xgboost as xgb\\nfrom pandarallel import pandarallel\\n\\npandarallel.initialize()\\n\\n%matplotlib inline\\n%reload_ext nb_black\";\n",
       "                var nbb_cells = Jupyter.notebook.get_cells();\n",
       "                for (var i = 0; i < nbb_cells.length; ++i) {\n",
       "                    if (nbb_cells[i].input_prompt_number == nbb_cell_id) {\n",
       "                        if (nbb_cells[i].get_text() == nbb_unformatted_code) {\n",
       "                             nbb_cells[i].set_text(nbb_formatted_code);\n",
       "                        }\n",
       "                        break;\n",
       "                    }\n",
       "                }\n",
       "            }, 500);\n",
       "            "
      ],
      "text/plain": [
       "<IPython.core.display.Javascript object>"
      ]
     },
     "metadata": {},
     "output_type": "display_data"
    }
   ],
   "source": [
    "import pandas as pd\n",
    "import matplotlib.pyplot as plt\n",
    "import numpy as np\n",
    "from sklearn.preprocessing import OneHotEncoder\n",
    "from sklearn.model_selection import train_test_split\n",
    "import xgboost as xgb\n",
    "from pandarallel import pandarallel\n",
    "\n",
    "pandarallel.initialize()\n",
    "\n",
    "%matplotlib inline\n",
    "%reload_ext nb_black"
   ]
  },
  {
   "cell_type": "code",
   "execution_count": 2,
   "metadata": {},
   "outputs": [
    {
     "data": {
      "application/javascript": [
       "\n",
       "            setTimeout(function() {\n",
       "                var nbb_cell_id = 2;\n",
       "                var nbb_unformatted_code = \"df = pd.read_parquet(\\\"../data/data.parquet.gzip\\\")\";\n",
       "                var nbb_formatted_code = \"df = pd.read_parquet(\\\"../data/data.parquet.gzip\\\")\";\n",
       "                var nbb_cells = Jupyter.notebook.get_cells();\n",
       "                for (var i = 0; i < nbb_cells.length; ++i) {\n",
       "                    if (nbb_cells[i].input_prompt_number == nbb_cell_id) {\n",
       "                        if (nbb_cells[i].get_text() == nbb_unformatted_code) {\n",
       "                             nbb_cells[i].set_text(nbb_formatted_code);\n",
       "                        }\n",
       "                        break;\n",
       "                    }\n",
       "                }\n",
       "            }, 500);\n",
       "            "
      ],
      "text/plain": [
       "<IPython.core.display.Javascript object>"
      ]
     },
     "metadata": {},
     "output_type": "display_data"
    }
   ],
   "source": [
    "df = pd.read_parquet(\"../data/data.parquet.gzip\")"
   ]
  },
  {
   "cell_type": "code",
   "execution_count": 3,
   "metadata": {},
   "outputs": [
    {
     "data": {
      "text/html": [
       "<div>\n",
       "<style scoped>\n",
       "    .dataframe tbody tr th:only-of-type {\n",
       "        vertical-align: middle;\n",
       "    }\n",
       "\n",
       "    .dataframe tbody tr th {\n",
       "        vertical-align: top;\n",
       "    }\n",
       "\n",
       "    .dataframe thead th {\n",
       "        text-align: right;\n",
       "    }\n",
       "</style>\n",
       "<table border=\"1\" class=\"dataframe\">\n",
       "  <thead>\n",
       "    <tr style=\"text-align: right;\">\n",
       "      <th></th>\n",
       "      <th>timestamp</th>\n",
       "      <th>country_code</th>\n",
       "      <th>last_order_ts</th>\n",
       "      <th>first_order_ts</th>\n",
       "      <th>total_orders</th>\n",
       "      <th>voucher_amount</th>\n",
       "    </tr>\n",
       "  </thead>\n",
       "  <tbody>\n",
       "    <tr>\n",
       "      <th>0</th>\n",
       "      <td>2018-07-21 18:59:21.102761</td>\n",
       "      <td>Latvia</td>\n",
       "      <td>2018-04-20</td>\n",
       "      <td>2018-04-17</td>\n",
       "      <td>0.0</td>\n",
       "      <td>4400.0</td>\n",
       "    </tr>\n",
       "    <tr>\n",
       "      <th>1</th>\n",
       "      <td>2018-07-21 18:50:02.050224</td>\n",
       "      <td>Peru</td>\n",
       "      <td>2018-04-20</td>\n",
       "      <td>2018-04-20</td>\n",
       "      <td>0.0</td>\n",
       "      <td>4400.0</td>\n",
       "    </tr>\n",
       "    <tr>\n",
       "      <th>2</th>\n",
       "      <td>2018-07-21 18:22:00.561856</td>\n",
       "      <td>Peru</td>\n",
       "      <td>2018-04-20</td>\n",
       "      <td>2018-04-16</td>\n",
       "      <td>1.0</td>\n",
       "      <td>2640.0</td>\n",
       "    </tr>\n",
       "    <tr>\n",
       "      <th>3</th>\n",
       "      <td>2018-07-21 19:00:35.451683</td>\n",
       "      <td>China</td>\n",
       "      <td>2018-04-20</td>\n",
       "      <td>2018-04-20</td>\n",
       "      <td>2.0</td>\n",
       "      <td>3080.0</td>\n",
       "    </tr>\n",
       "    <tr>\n",
       "      <th>4</th>\n",
       "      <td>2015-05-21 18:56:29.671213</td>\n",
       "      <td>Peru</td>\n",
       "      <td>2018-04-20</td>\n",
       "      <td>2018-04-19</td>\n",
       "      <td>0.0</td>\n",
       "      <td>4400.0</td>\n",
       "    </tr>\n",
       "  </tbody>\n",
       "</table>\n",
       "</div>"
      ],
      "text/plain": [
       "                    timestamp country_code last_order_ts first_order_ts  \\\n",
       "0  2018-07-21 18:59:21.102761       Latvia    2018-04-20     2018-04-17   \n",
       "1  2018-07-21 18:50:02.050224         Peru    2018-04-20     2018-04-20   \n",
       "2  2018-07-21 18:22:00.561856         Peru    2018-04-20     2018-04-16   \n",
       "3  2018-07-21 19:00:35.451683        China    2018-04-20     2018-04-20   \n",
       "4  2015-05-21 18:56:29.671213         Peru    2018-04-20     2018-04-19   \n",
       "\n",
       "  total_orders  voucher_amount  \n",
       "0          0.0          4400.0  \n",
       "1          0.0          4400.0  \n",
       "2          1.0          2640.0  \n",
       "3          2.0          3080.0  \n",
       "4          0.0          4400.0  "
      ]
     },
     "execution_count": 3,
     "metadata": {},
     "output_type": "execute_result"
    },
    {
     "data": {
      "application/javascript": [
       "\n",
       "            setTimeout(function() {\n",
       "                var nbb_cell_id = 3;\n",
       "                var nbb_unformatted_code = \"df.head()\";\n",
       "                var nbb_formatted_code = \"df.head()\";\n",
       "                var nbb_cells = Jupyter.notebook.get_cells();\n",
       "                for (var i = 0; i < nbb_cells.length; ++i) {\n",
       "                    if (nbb_cells[i].input_prompt_number == nbb_cell_id) {\n",
       "                        if (nbb_cells[i].get_text() == nbb_unformatted_code) {\n",
       "                             nbb_cells[i].set_text(nbb_formatted_code);\n",
       "                        }\n",
       "                        break;\n",
       "                    }\n",
       "                }\n",
       "            }, 500);\n",
       "            "
      ],
      "text/plain": [
       "<IPython.core.display.Javascript object>"
      ]
     },
     "metadata": {},
     "output_type": "display_data"
    }
   ],
   "source": [
    "df.head()"
   ]
  },
  {
   "cell_type": "code",
   "execution_count": 4,
   "metadata": {},
   "outputs": [
    {
     "name": "stdout",
     "output_type": "stream",
     "text": [
      "<class 'pandas.core.frame.DataFrame'>\n",
      "RangeIndex: 285570 entries, 0 to 285569\n",
      "Data columns (total 6 columns):\n",
      " #   Column          Non-Null Count   Dtype         \n",
      "---  ------          --------------   -----         \n",
      " 0   timestamp       285570 non-null  object        \n",
      " 1   country_code    285570 non-null  object        \n",
      " 2   last_order_ts   285570 non-null  object        \n",
      " 3   first_order_ts  285570 non-null  datetime64[ns]\n",
      " 4   total_orders    285570 non-null  object        \n",
      " 5   voucher_amount  283839 non-null  float64       \n",
      "dtypes: datetime64[ns](1), float64(1), object(4)\n",
      "memory usage: 13.1+ MB\n"
     ]
    },
    {
     "data": {
      "application/javascript": [
       "\n",
       "            setTimeout(function() {\n",
       "                var nbb_cell_id = 4;\n",
       "                var nbb_unformatted_code = \"df.info()\";\n",
       "                var nbb_formatted_code = \"df.info()\";\n",
       "                var nbb_cells = Jupyter.notebook.get_cells();\n",
       "                for (var i = 0; i < nbb_cells.length; ++i) {\n",
       "                    if (nbb_cells[i].input_prompt_number == nbb_cell_id) {\n",
       "                        if (nbb_cells[i].get_text() == nbb_unformatted_code) {\n",
       "                             nbb_cells[i].set_text(nbb_formatted_code);\n",
       "                        }\n",
       "                        break;\n",
       "                    }\n",
       "                }\n",
       "            }, 500);\n",
       "            "
      ],
      "text/plain": [
       "<IPython.core.display.Javascript object>"
      ]
     },
     "metadata": {},
     "output_type": "display_data"
    }
   ],
   "source": [
    "df.info()"
   ]
  },
  {
   "cell_type": "code",
   "execution_count": 5,
   "metadata": {},
   "outputs": [
    {
     "data": {
      "application/javascript": [
       "\n",
       "            setTimeout(function() {\n",
       "                var nbb_cell_id = 5;\n",
       "                var nbb_unformatted_code = \"df[\\\"total_orders\\\"] = pd.to_numeric(df.total_orders)\";\n",
       "                var nbb_formatted_code = \"df[\\\"total_orders\\\"] = pd.to_numeric(df.total_orders)\";\n",
       "                var nbb_cells = Jupyter.notebook.get_cells();\n",
       "                for (var i = 0; i < nbb_cells.length; ++i) {\n",
       "                    if (nbb_cells[i].input_prompt_number == nbb_cell_id) {\n",
       "                        if (nbb_cells[i].get_text() == nbb_unformatted_code) {\n",
       "                             nbb_cells[i].set_text(nbb_formatted_code);\n",
       "                        }\n",
       "                        break;\n",
       "                    }\n",
       "                }\n",
       "            }, 500);\n",
       "            "
      ],
      "text/plain": [
       "<IPython.core.display.Javascript object>"
      ]
     },
     "metadata": {},
     "output_type": "display_data"
    }
   ],
   "source": [
    "df[\"total_orders\"] = pd.to_numeric(df.total_orders)"
   ]
  },
  {
   "cell_type": "code",
   "execution_count": 6,
   "metadata": {},
   "outputs": [
    {
     "data": {
      "image/png": "[encoded data removed]",
      "text/plain": [
       "<Figure size 1440x1080 with 2 Axes>"
      ]
     },
     "metadata": {
      "needs_background": "light"
     },
     "output_type": "display_data"
    },
    {
     "data": {
      "application/javascript": [
       "\n",
       "            setTimeout(function() {\n",
       "                var nbb_cell_id = 6;\n",
       "                var nbb_unformatted_code = \"df.hist(bins=20, figsize=(20, 15))\\nplt.show()\";\n",
       "                var nbb_formatted_code = \"df.hist(bins=20, figsize=(20, 15))\\nplt.show()\";\n",
       "                var nbb_cells = Jupyter.notebook.get_cells();\n",
       "                for (var i = 0; i < nbb_cells.length; ++i) {\n",
       "                    if (nbb_cells[i].input_prompt_number == nbb_cell_id) {\n",
       "                        if (nbb_cells[i].get_text() == nbb_unformatted_code) {\n",
       "                             nbb_cells[i].set_text(nbb_formatted_code);\n",
       "                        }\n",
       "                        break;\n",
       "                    }\n",
       "                }\n",
       "            }, 500);\n",
       "            "
      ],
      "text/plain": [
       "<IPython.core.display.Javascript object>"
      ]
     },
     "metadata": {},
     "output_type": "display_data"
    }
   ],
   "source": [
    "df.hist(bins=20, figsize=(20, 15))\n",
    "plt.show()"
   ]
  },
  {
   "cell_type": "code",
   "execution_count": 7,
   "metadata": {},
   "outputs": [
    {
     "data": {
      "text/plain": [
       "1760.0     52285\n",
       "4400.0     52272\n",
       "8800.0     33123\n",
       "5720.0     31189\n",
       "2200.0     28670\n",
       "2640.0     23040\n",
       "13200.0    21968\n",
       "3520.0     15160\n",
       "11000.0    14607\n",
       "3080.0      8387\n",
       "1540.0      3138\n",
       "Name: voucher_amount, dtype: int64"
      ]
     },
     "execution_count": 7,
     "metadata": {},
     "output_type": "execute_result"
    },
    {
     "data": {
      "application/javascript": [
       "\n",
       "            setTimeout(function() {\n",
       "                var nbb_cell_id = 7;\n",
       "                var nbb_unformatted_code = \"df.voucher_amount.value_counts()\";\n",
       "                var nbb_formatted_code = \"df.voucher_amount.value_counts()\";\n",
       "                var nbb_cells = Jupyter.notebook.get_cells();\n",
       "                for (var i = 0; i < nbb_cells.length; ++i) {\n",
       "                    if (nbb_cells[i].input_prompt_number == nbb_cell_id) {\n",
       "                        if (nbb_cells[i].get_text() == nbb_unformatted_code) {\n",
       "                             nbb_cells[i].set_text(nbb_formatted_code);\n",
       "                        }\n",
       "                        break;\n",
       "                    }\n",
       "                }\n",
       "            }, 500);\n",
       "            "
      ],
      "text/plain": [
       "<IPython.core.display.Javascript object>"
      ]
     },
     "metadata": {},
     "output_type": "display_data"
    }
   ],
   "source": [
    "df.voucher_amount.value_counts()"
   ]
  },
  {
   "cell_type": "code",
   "execution_count": 8,
   "metadata": {},
   "outputs": [
    {
     "data": {
      "text/plain": [
       "voucher_amount    1.000000\n",
       "total_orders     -0.016841\n",
       "Name: voucher_amount, dtype: float64"
      ]
     },
     "execution_count": 8,
     "metadata": {},
     "output_type": "execute_result"
    },
    {
     "data": {
      "application/javascript": [
       "\n",
       "            setTimeout(function() {\n",
       "                var nbb_cell_id = 8;\n",
       "                var nbb_unformatted_code = \"df.corr()[\\\"voucher_amount\\\"].sort_values(ascending=False)\";\n",
       "                var nbb_formatted_code = \"df.corr()[\\\"voucher_amount\\\"].sort_values(ascending=False)\";\n",
       "                var nbb_cells = Jupyter.notebook.get_cells();\n",
       "                for (var i = 0; i < nbb_cells.length; ++i) {\n",
       "                    if (nbb_cells[i].input_prompt_number == nbb_cell_id) {\n",
       "                        if (nbb_cells[i].get_text() == nbb_unformatted_code) {\n",
       "                             nbb_cells[i].set_text(nbb_formatted_code);\n",
       "                        }\n",
       "                        break;\n",
       "                    }\n",
       "                }\n",
       "            }, 500);\n",
       "            "
      ],
      "text/plain": [
       "<IPython.core.display.Javascript object>"
      ]
     },
     "metadata": {},
     "output_type": "display_data"
    }
   ],
   "source": [
    "df.corr()[\"voucher_amount\"].sort_values(ascending=False)"
   ]
  },
  {
   "cell_type": "markdown",
   "metadata": {},
   "source": [
    "### Create Fequent Segment"
   ]
  },
  {
   "cell_type": "code",
   "execution_count": 9,
   "metadata": {},
   "outputs": [
    {
     "data": {
      "application/javascript": [
       "\n",
       "            setTimeout(function() {\n",
       "                var nbb_cell_id = 9;\n",
       "                var nbb_unformatted_code = \"# bins = pd.IntervalIndex.from_tuples([(0, 4), (5, 13), (14, 37), (38, np.inf)])\\nbins = [0.0, 4.0, 13.0, 37.0, np.inf]\\nlabels = [\\\"0-4\\\", \\\"5-13\\\", \\\"13-37\\\", \\\"38-higher\\\"]\";\n",
       "                var nbb_formatted_code = \"# bins = pd.IntervalIndex.from_tuples([(0, 4), (5, 13), (14, 37), (38, np.inf)])\\nbins = [0.0, 4.0, 13.0, 37.0, np.inf]\\nlabels = [\\\"0-4\\\", \\\"5-13\\\", \\\"13-37\\\", \\\"38-higher\\\"]\";\n",
       "                var nbb_cells = Jupyter.notebook.get_cells();\n",
       "                for (var i = 0; i < nbb_cells.length; ++i) {\n",
       "                    if (nbb_cells[i].input_prompt_number == nbb_cell_id) {\n",
       "                        if (nbb_cells[i].get_text() == nbb_unformatted_code) {\n",
       "                             nbb_cells[i].set_text(nbb_formatted_code);\n",
       "                        }\n",
       "                        break;\n",
       "                    }\n",
       "                }\n",
       "            }, 500);\n",
       "            "
      ],
      "text/plain": [
       "<IPython.core.display.Javascript object>"
      ]
     },
     "metadata": {},
     "output_type": "display_data"
    }
   ],
   "source": [
    "# bins = pd.IntervalIndex.from_tuples([(0, 4), (5, 13), (14, 37), (38, np.inf)])\n",
    "bins = [0.0, 4.0, 13.0, 37.0, np.inf]\n",
    "labels = [\"0-4\", \"5-13\", \"13-37\", \"38-higher\"]"
   ]
  },
  {
   "cell_type": "code",
   "execution_count": 10,
   "metadata": {},
   "outputs": [
    {
     "data": {
      "application/javascript": [
       "\n",
       "            setTimeout(function() {\n",
       "                var nbb_cell_id = 10;\n",
       "                var nbb_unformatted_code = \"df[\\\"total_orders_ranges\\\"] = pd.cut(\\n    df[\\\"total_orders\\\"], bins=bins, labels=labels, include_lowest=True\\n)\";\n",
       "                var nbb_formatted_code = \"df[\\\"total_orders_ranges\\\"] = pd.cut(\\n    df[\\\"total_orders\\\"], bins=bins, labels=labels, include_lowest=True\\n)\";\n",
       "                var nbb_cells = Jupyter.notebook.get_cells();\n",
       "                for (var i = 0; i < nbb_cells.length; ++i) {\n",
       "                    if (nbb_cells[i].input_prompt_number == nbb_cell_id) {\n",
       "                        if (nbb_cells[i].get_text() == nbb_unformatted_code) {\n",
       "                             nbb_cells[i].set_text(nbb_formatted_code);\n",
       "                        }\n",
       "                        break;\n",
       "                    }\n",
       "                }\n",
       "            }, 500);\n",
       "            "
      ],
      "text/plain": [
       "<IPython.core.display.Javascript object>"
      ]
     },
     "metadata": {},
     "output_type": "display_data"
    }
   ],
   "source": [
    "df[\"total_orders_ranges\"] = pd.cut(\n",
    "    df[\"total_orders\"], bins=bins, labels=labels, include_lowest=True\n",
    ")"
   ]
  },
  {
   "cell_type": "code",
   "execution_count": 11,
   "metadata": {},
   "outputs": [
    {
     "data": {
      "text/html": [
       "<div>\n",
       "<style scoped>\n",
       "    .dataframe tbody tr th:only-of-type {\n",
       "        vertical-align: middle;\n",
       "    }\n",
       "\n",
       "    .dataframe tbody tr th {\n",
       "        vertical-align: top;\n",
       "    }\n",
       "\n",
       "    .dataframe thead th {\n",
       "        text-align: right;\n",
       "    }\n",
       "</style>\n",
       "<table border=\"1\" class=\"dataframe\">\n",
       "  <thead>\n",
       "    <tr style=\"text-align: right;\">\n",
       "      <th></th>\n",
       "      <th>timestamp</th>\n",
       "      <th>country_code</th>\n",
       "      <th>last_order_ts</th>\n",
       "      <th>first_order_ts</th>\n",
       "      <th>total_orders</th>\n",
       "      <th>voucher_amount</th>\n",
       "      <th>total_orders_ranges</th>\n",
       "    </tr>\n",
       "  </thead>\n",
       "  <tbody>\n",
       "    <tr>\n",
       "      <th>0</th>\n",
       "      <td>2018-07-21 18:59:21.102761</td>\n",
       "      <td>Latvia</td>\n",
       "      <td>2018-04-20</td>\n",
       "      <td>2018-04-17</td>\n",
       "      <td>0.0</td>\n",
       "      <td>4400.0</td>\n",
       "      <td>0-4</td>\n",
       "    </tr>\n",
       "    <tr>\n",
       "      <th>1</th>\n",
       "      <td>2018-07-21 18:50:02.050224</td>\n",
       "      <td>Peru</td>\n",
       "      <td>2018-04-20</td>\n",
       "      <td>2018-04-20</td>\n",
       "      <td>0.0</td>\n",
       "      <td>4400.0</td>\n",
       "      <td>0-4</td>\n",
       "    </tr>\n",
       "    <tr>\n",
       "      <th>2</th>\n",
       "      <td>2018-07-21 18:22:00.561856</td>\n",
       "      <td>Peru</td>\n",
       "      <td>2018-04-20</td>\n",
       "      <td>2018-04-16</td>\n",
       "      <td>1.0</td>\n",
       "      <td>2640.0</td>\n",
       "      <td>0-4</td>\n",
       "    </tr>\n",
       "    <tr>\n",
       "      <th>3</th>\n",
       "      <td>2018-07-21 19:00:35.451683</td>\n",
       "      <td>China</td>\n",
       "      <td>2018-04-20</td>\n",
       "      <td>2018-04-20</td>\n",
       "      <td>2.0</td>\n",
       "      <td>3080.0</td>\n",
       "      <td>0-4</td>\n",
       "    </tr>\n",
       "    <tr>\n",
       "      <th>4</th>\n",
       "      <td>2015-05-21 18:56:29.671213</td>\n",
       "      <td>Peru</td>\n",
       "      <td>2018-04-20</td>\n",
       "      <td>2018-04-19</td>\n",
       "      <td>0.0</td>\n",
       "      <td>4400.0</td>\n",
       "      <td>0-4</td>\n",
       "    </tr>\n",
       "  </tbody>\n",
       "</table>\n",
       "</div>"
      ],
      "text/plain": [
       "                    timestamp country_code last_order_ts first_order_ts  \\\n",
       "0  2018-07-21 18:59:21.102761       Latvia    2018-04-20     2018-04-17   \n",
       "1  2018-07-21 18:50:02.050224         Peru    2018-04-20     2018-04-20   \n",
       "2  2018-07-21 18:22:00.561856         Peru    2018-04-20     2018-04-16   \n",
       "3  2018-07-21 19:00:35.451683        China    2018-04-20     2018-04-20   \n",
       "4  2015-05-21 18:56:29.671213         Peru    2018-04-20     2018-04-19   \n",
       "\n",
       "   total_orders  voucher_amount total_orders_ranges  \n",
       "0           0.0          4400.0                 0-4  \n",
       "1           0.0          4400.0                 0-4  \n",
       "2           1.0          2640.0                 0-4  \n",
       "3           2.0          3080.0                 0-4  \n",
       "4           0.0          4400.0                 0-4  "
      ]
     },
     "execution_count": 11,
     "metadata": {},
     "output_type": "execute_result"
    },
    {
     "data": {
      "application/javascript": [
       "\n",
       "            setTimeout(function() {\n",
       "                var nbb_cell_id = 11;\n",
       "                var nbb_unformatted_code = \"df.head()\";\n",
       "                var nbb_formatted_code = \"df.head()\";\n",
       "                var nbb_cells = Jupyter.notebook.get_cells();\n",
       "                for (var i = 0; i < nbb_cells.length; ++i) {\n",
       "                    if (nbb_cells[i].input_prompt_number == nbb_cell_id) {\n",
       "                        if (nbb_cells[i].get_text() == nbb_unformatted_code) {\n",
       "                             nbb_cells[i].set_text(nbb_formatted_code);\n",
       "                        }\n",
       "                        break;\n",
       "                    }\n",
       "                }\n",
       "            }, 500);\n",
       "            "
      ],
      "text/plain": [
       "<IPython.core.display.Javascript object>"
      ]
     },
     "metadata": {},
     "output_type": "display_data"
    }
   ],
   "source": [
    "df.head()"
   ]
  },
  {
   "cell_type": "code",
   "execution_count": 12,
   "metadata": {},
   "outputs": [
    {
     "data": {
      "application/javascript": [
       "\n",
       "            setTimeout(function() {\n",
       "                var nbb_cell_id = 12;\n",
       "                var nbb_unformatted_code = \"one_hot_freq_segment = pd.get_dummies(df[\\\"total_orders_ranges\\\"], prefix=\\\"freq\\\")\";\n",
       "                var nbb_formatted_code = \"one_hot_freq_segment = pd.get_dummies(df[\\\"total_orders_ranges\\\"], prefix=\\\"freq\\\")\";\n",
       "                var nbb_cells = Jupyter.notebook.get_cells();\n",
       "                for (var i = 0; i < nbb_cells.length; ++i) {\n",
       "                    if (nbb_cells[i].input_prompt_number == nbb_cell_id) {\n",
       "                        if (nbb_cells[i].get_text() == nbb_unformatted_code) {\n",
       "                             nbb_cells[i].set_text(nbb_formatted_code);\n",
       "                        }\n",
       "                        break;\n",
       "                    }\n",
       "                }\n",
       "            }, 500);\n",
       "            "
      ],
      "text/plain": [
       "<IPython.core.display.Javascript object>"
      ]
     },
     "metadata": {},
     "output_type": "display_data"
    }
   ],
   "source": [
    "one_hot_freq_segment = pd.get_dummies(df[\"total_orders_ranges\"], prefix=\"freq\")"
   ]
  },
  {
   "cell_type": "code",
   "execution_count": 13,
   "metadata": {},
   "outputs": [
    {
     "data": {
      "application/javascript": [
       "\n",
       "            setTimeout(function() {\n",
       "                var nbb_cell_id = 13;\n",
       "                var nbb_unformatted_code = \"df = df.drop(\\\"total_orders_ranges\\\", axis=1)\";\n",
       "                var nbb_formatted_code = \"df = df.drop(\\\"total_orders_ranges\\\", axis=1)\";\n",
       "                var nbb_cells = Jupyter.notebook.get_cells();\n",
       "                for (var i = 0; i < nbb_cells.length; ++i) {\n",
       "                    if (nbb_cells[i].input_prompt_number == nbb_cell_id) {\n",
       "                        if (nbb_cells[i].get_text() == nbb_unformatted_code) {\n",
       "                             nbb_cells[i].set_text(nbb_formatted_code);\n",
       "                        }\n",
       "                        break;\n",
       "                    }\n",
       "                }\n",
       "            }, 500);\n",
       "            "
      ],
      "text/plain": [
       "<IPython.core.display.Javascript object>"
      ]
     },
     "metadata": {},
     "output_type": "display_data"
    }
   ],
   "source": [
    "df = df.drop(\"total_orders_ranges\", axis=1)"
   ]
  },
  {
   "cell_type": "code",
   "execution_count": 14,
   "metadata": {},
   "outputs": [
    {
     "data": {
      "application/javascript": [
       "\n",
       "            setTimeout(function() {\n",
       "                var nbb_cell_id = 14;\n",
       "                var nbb_unformatted_code = \"df = df.join(one_hot_freq_segment)\";\n",
       "                var nbb_formatted_code = \"df = df.join(one_hot_freq_segment)\";\n",
       "                var nbb_cells = Jupyter.notebook.get_cells();\n",
       "                for (var i = 0; i < nbb_cells.length; ++i) {\n",
       "                    if (nbb_cells[i].input_prompt_number == nbb_cell_id) {\n",
       "                        if (nbb_cells[i].get_text() == nbb_unformatted_code) {\n",
       "                             nbb_cells[i].set_text(nbb_formatted_code);\n",
       "                        }\n",
       "                        break;\n",
       "                    }\n",
       "                }\n",
       "            }, 500);\n",
       "            "
      ],
      "text/plain": [
       "<IPython.core.display.Javascript object>"
      ]
     },
     "metadata": {},
     "output_type": "display_data"
    }
   ],
   "source": [
    "df = df.join(one_hot_freq_segment)"
   ]
  },
  {
   "cell_type": "code",
   "execution_count": 15,
   "metadata": {},
   "outputs": [
    {
     "data": {
      "text/html": [
       "<div>\n",
       "<style scoped>\n",
       "    .dataframe tbody tr th:only-of-type {\n",
       "        vertical-align: middle;\n",
       "    }\n",
       "\n",
       "    .dataframe tbody tr th {\n",
       "        vertical-align: top;\n",
       "    }\n",
       "\n",
       "    .dataframe thead th {\n",
       "        text-align: right;\n",
       "    }\n",
       "</style>\n",
       "<table border=\"1\" class=\"dataframe\">\n",
       "  <thead>\n",
       "    <tr style=\"text-align: right;\">\n",
       "      <th></th>\n",
       "      <th>timestamp</th>\n",
       "      <th>country_code</th>\n",
       "      <th>last_order_ts</th>\n",
       "      <th>first_order_ts</th>\n",
       "      <th>total_orders</th>\n",
       "      <th>voucher_amount</th>\n",
       "      <th>freq_0-4</th>\n",
       "      <th>freq_5-13</th>\n",
       "      <th>freq_13-37</th>\n",
       "      <th>freq_38-higher</th>\n",
       "    </tr>\n",
       "  </thead>\n",
       "  <tbody>\n",
       "    <tr>\n",
       "      <th>0</th>\n",
       "      <td>2018-07-21 18:59:21.102761</td>\n",
       "      <td>Latvia</td>\n",
       "      <td>2018-04-20</td>\n",
       "      <td>2018-04-17</td>\n",
       "      <td>0.0</td>\n",
       "      <td>4400.0</td>\n",
       "      <td>1</td>\n",
       "      <td>0</td>\n",
       "      <td>0</td>\n",
       "      <td>0</td>\n",
       "    </tr>\n",
       "    <tr>\n",
       "      <th>1</th>\n",
       "      <td>2018-07-21 18:50:02.050224</td>\n",
       "      <td>Peru</td>\n",
       "      <td>2018-04-20</td>\n",
       "      <td>2018-04-20</td>\n",
       "      <td>0.0</td>\n",
       "      <td>4400.0</td>\n",
       "      <td>1</td>\n",
       "      <td>0</td>\n",
       "      <td>0</td>\n",
       "      <td>0</td>\n",
       "    </tr>\n",
       "    <tr>\n",
       "      <th>2</th>\n",
       "      <td>2018-07-21 18:22:00.561856</td>\n",
       "      <td>Peru</td>\n",
       "      <td>2018-04-20</td>\n",
       "      <td>2018-04-16</td>\n",
       "      <td>1.0</td>\n",
       "      <td>2640.0</td>\n",
       "      <td>1</td>\n",
       "      <td>0</td>\n",
       "      <td>0</td>\n",
       "      <td>0</td>\n",
       "    </tr>\n",
       "    <tr>\n",
       "      <th>3</th>\n",
       "      <td>2018-07-21 19:00:35.451683</td>\n",
       "      <td>China</td>\n",
       "      <td>2018-04-20</td>\n",
       "      <td>2018-04-20</td>\n",
       "      <td>2.0</td>\n",
       "      <td>3080.0</td>\n",
       "      <td>1</td>\n",
       "      <td>0</td>\n",
       "      <td>0</td>\n",
       "      <td>0</td>\n",
       "    </tr>\n",
       "    <tr>\n",
       "      <th>4</th>\n",
       "      <td>2015-05-21 18:56:29.671213</td>\n",
       "      <td>Peru</td>\n",
       "      <td>2018-04-20</td>\n",
       "      <td>2018-04-19</td>\n",
       "      <td>0.0</td>\n",
       "      <td>4400.0</td>\n",
       "      <td>1</td>\n",
       "      <td>0</td>\n",
       "      <td>0</td>\n",
       "      <td>0</td>\n",
       "    </tr>\n",
       "  </tbody>\n",
       "</table>\n",
       "</div>"
      ],
      "text/plain": [
       "                    timestamp country_code last_order_ts first_order_ts  \\\n",
       "0  2018-07-21 18:59:21.102761       Latvia    2018-04-20     2018-04-17   \n",
       "1  2018-07-21 18:50:02.050224         Peru    2018-04-20     2018-04-20   \n",
       "2  2018-07-21 18:22:00.561856         Peru    2018-04-20     2018-04-16   \n",
       "3  2018-07-21 19:00:35.451683        China    2018-04-20     2018-04-20   \n",
       "4  2015-05-21 18:56:29.671213         Peru    2018-04-20     2018-04-19   \n",
       "\n",
       "   total_orders  voucher_amount  freq_0-4  freq_5-13  freq_13-37  \\\n",
       "0           0.0          4400.0         1          0           0   \n",
       "1           0.0          4400.0         1          0           0   \n",
       "2           1.0          2640.0         1          0           0   \n",
       "3           2.0          3080.0         1          0           0   \n",
       "4           0.0          4400.0         1          0           0   \n",
       "\n",
       "   freq_38-higher  \n",
       "0               0  \n",
       "1               0  \n",
       "2               0  \n",
       "3               0  \n",
       "4               0  "
      ]
     },
     "execution_count": 15,
     "metadata": {},
     "output_type": "execute_result"
    },
    {
     "data": {
      "application/javascript": [
       "\n",
       "            setTimeout(function() {\n",
       "                var nbb_cell_id = 15;\n",
       "                var nbb_unformatted_code = \"df.head()\";\n",
       "                var nbb_formatted_code = \"df.head()\";\n",
       "                var nbb_cells = Jupyter.notebook.get_cells();\n",
       "                for (var i = 0; i < nbb_cells.length; ++i) {\n",
       "                    if (nbb_cells[i].input_prompt_number == nbb_cell_id) {\n",
       "                        if (nbb_cells[i].get_text() == nbb_unformatted_code) {\n",
       "                             nbb_cells[i].set_text(nbb_formatted_code);\n",
       "                        }\n",
       "                        break;\n",
       "                    }\n",
       "                }\n",
       "            }, 500);\n",
       "            "
      ],
      "text/plain": [
       "<IPython.core.display.Javascript object>"
      ]
     },
     "metadata": {},
     "output_type": "display_data"
    }
   ],
   "source": [
    "df.head()"
   ]
  },
  {
   "cell_type": "code",
   "execution_count": 16,
   "metadata": {},
   "outputs": [
    {
     "name": "stdout",
     "output_type": "stream",
     "text": [
      "<class 'pandas.core.frame.DataFrame'>\n",
      "RangeIndex: 285570 entries, 0 to 285569\n",
      "Data columns (total 10 columns):\n",
      " #   Column          Non-Null Count   Dtype         \n",
      "---  ------          --------------   -----         \n",
      " 0   timestamp       285570 non-null  object        \n",
      " 1   country_code    285570 non-null  object        \n",
      " 2   last_order_ts   285570 non-null  object        \n",
      " 3   first_order_ts  285570 non-null  datetime64[ns]\n",
      " 4   total_orders    262725 non-null  float64       \n",
      " 5   voucher_amount  283839 non-null  float64       \n",
      " 6   freq_0-4        285570 non-null  uint8         \n",
      " 7   freq_5-13       285570 non-null  uint8         \n",
      " 8   freq_13-37      285570 non-null  uint8         \n",
      " 9   freq_38-higher  285570 non-null  uint8         \n",
      "dtypes: datetime64[ns](1), float64(2), object(3), uint8(4)\n",
      "memory usage: 14.2+ MB\n"
     ]
    },
    {
     "data": {
      "application/javascript": [
       "\n",
       "            setTimeout(function() {\n",
       "                var nbb_cell_id = 16;\n",
       "                var nbb_unformatted_code = \"df.info()\";\n",
       "                var nbb_formatted_code = \"df.info()\";\n",
       "                var nbb_cells = Jupyter.notebook.get_cells();\n",
       "                for (var i = 0; i < nbb_cells.length; ++i) {\n",
       "                    if (nbb_cells[i].input_prompt_number == nbb_cell_id) {\n",
       "                        if (nbb_cells[i].get_text() == nbb_unformatted_code) {\n",
       "                             nbb_cells[i].set_text(nbb_formatted_code);\n",
       "                        }\n",
       "                        break;\n",
       "                    }\n",
       "                }\n",
       "            }, 500);\n",
       "            "
      ],
      "text/plain": [
       "<IPython.core.display.Javascript object>"
      ]
     },
     "metadata": {},
     "output_type": "display_data"
    }
   ],
   "source": [
    "df.info()"
   ]
  },
  {
   "cell_type": "code",
   "execution_count": 17,
   "metadata": {},
   "outputs": [
    {
     "data": {
      "text/plain": [
       "voucher_amount    1.000000\n",
       "freq_0-4          0.023263\n",
       "freq_5-13        -0.008318\n",
       "freq_13-37       -0.010647\n",
       "freq_38-higher   -0.014971\n",
       "total_orders     -0.016841\n",
       "Name: voucher_amount, dtype: float64"
      ]
     },
     "execution_count": 17,
     "metadata": {},
     "output_type": "execute_result"
    },
    {
     "data": {
      "application/javascript": [
       "\n",
       "            setTimeout(function() {\n",
       "                var nbb_cell_id = 17;\n",
       "                var nbb_unformatted_code = \"df.corr()[\\\"voucher_amount\\\"].sort_values(ascending=False)\";\n",
       "                var nbb_formatted_code = \"df.corr()[\\\"voucher_amount\\\"].sort_values(ascending=False)\";\n",
       "                var nbb_cells = Jupyter.notebook.get_cells();\n",
       "                for (var i = 0; i < nbb_cells.length; ++i) {\n",
       "                    if (nbb_cells[i].input_prompt_number == nbb_cell_id) {\n",
       "                        if (nbb_cells[i].get_text() == nbb_unformatted_code) {\n",
       "                             nbb_cells[i].set_text(nbb_formatted_code);\n",
       "                        }\n",
       "                        break;\n",
       "                    }\n",
       "                }\n",
       "            }, 500);\n",
       "            "
      ],
      "text/plain": [
       "<IPython.core.display.Javascript object>"
      ]
     },
     "metadata": {},
     "output_type": "display_data"
    }
   ],
   "source": [
    "df.corr()[\"voucher_amount\"].sort_values(ascending=False)"
   ]
  },
  {
   "cell_type": "markdown",
   "metadata": {},
   "source": [
    "### Convert timestamp to datetime"
   ]
  },
  {
   "cell_type": "code",
   "execution_count": 18,
   "metadata": {},
   "outputs": [
    {
     "data": {
      "application/javascript": [
       "\n",
       "            setTimeout(function() {\n",
       "                var nbb_cell_id = 18;\n",
       "                var nbb_unformatted_code = \"df[\\\"timestamp\\\"] = pd.to_datetime(df[\\\"timestamp\\\"] ,format='%Y-%m-%d').dt.date\\ndf[\\\"last_order_ts\\\"] = pd.to_datetime(df[\\\"last_order_ts\\\"], format='%Y-%m-%d')\";\n",
       "                var nbb_formatted_code = \"df[\\\"timestamp\\\"] = pd.to_datetime(df[\\\"timestamp\\\"], format=\\\"%Y-%m-%d\\\").dt.date\\ndf[\\\"last_order_ts\\\"] = pd.to_datetime(df[\\\"last_order_ts\\\"], format=\\\"%Y-%m-%d\\\")\";\n",
       "                var nbb_cells = Jupyter.notebook.get_cells();\n",
       "                for (var i = 0; i < nbb_cells.length; ++i) {\n",
       "                    if (nbb_cells[i].input_prompt_number == nbb_cell_id) {\n",
       "                        if (nbb_cells[i].get_text() == nbb_unformatted_code) {\n",
       "                             nbb_cells[i].set_text(nbb_formatted_code);\n",
       "                        }\n",
       "                        break;\n",
       "                    }\n",
       "                }\n",
       "            }, 500);\n",
       "            "
      ],
      "text/plain": [
       "<IPython.core.display.Javascript object>"
      ]
     },
     "metadata": {},
     "output_type": "display_data"
    }
   ],
   "source": [
    "df[\"timestamp\"] = pd.to_datetime(df[\"timestamp\"] ,format='%Y-%m-%d').dt.date\n",
    "df[\"last_order_ts\"] = pd.to_datetime(df[\"last_order_ts\"], format='%Y-%m-%d')\n"
   ]
  },
  {
   "cell_type": "code",
   "execution_count": 19,
   "metadata": {},
   "outputs": [
    {
     "data": {
      "text/html": [
       "<div>\n",
       "<style scoped>\n",
       "    .dataframe tbody tr th:only-of-type {\n",
       "        vertical-align: middle;\n",
       "    }\n",
       "\n",
       "    .dataframe tbody tr th {\n",
       "        vertical-align: top;\n",
       "    }\n",
       "\n",
       "    .dataframe thead th {\n",
       "        text-align: right;\n",
       "    }\n",
       "</style>\n",
       "<table border=\"1\" class=\"dataframe\">\n",
       "  <thead>\n",
       "    <tr style=\"text-align: right;\">\n",
       "      <th></th>\n",
       "      <th>timestamp</th>\n",
       "      <th>country_code</th>\n",
       "      <th>last_order_ts</th>\n",
       "      <th>first_order_ts</th>\n",
       "      <th>total_orders</th>\n",
       "      <th>voucher_amount</th>\n",
       "      <th>freq_0-4</th>\n",
       "      <th>freq_5-13</th>\n",
       "      <th>freq_13-37</th>\n",
       "      <th>freq_38-higher</th>\n",
       "    </tr>\n",
       "  </thead>\n",
       "  <tbody>\n",
       "    <tr>\n",
       "      <th>0</th>\n",
       "      <td>2018-07-21</td>\n",
       "      <td>Latvia</td>\n",
       "      <td>2018-04-20</td>\n",
       "      <td>2018-04-17</td>\n",
       "      <td>0.0</td>\n",
       "      <td>4400.0</td>\n",
       "      <td>1</td>\n",
       "      <td>0</td>\n",
       "      <td>0</td>\n",
       "      <td>0</td>\n",
       "    </tr>\n",
       "    <tr>\n",
       "      <th>1</th>\n",
       "      <td>2018-07-21</td>\n",
       "      <td>Peru</td>\n",
       "      <td>2018-04-20</td>\n",
       "      <td>2018-04-20</td>\n",
       "      <td>0.0</td>\n",
       "      <td>4400.0</td>\n",
       "      <td>1</td>\n",
       "      <td>0</td>\n",
       "      <td>0</td>\n",
       "      <td>0</td>\n",
       "    </tr>\n",
       "    <tr>\n",
       "      <th>2</th>\n",
       "      <td>2018-07-21</td>\n",
       "      <td>Peru</td>\n",
       "      <td>2018-04-20</td>\n",
       "      <td>2018-04-16</td>\n",
       "      <td>1.0</td>\n",
       "      <td>2640.0</td>\n",
       "      <td>1</td>\n",
       "      <td>0</td>\n",
       "      <td>0</td>\n",
       "      <td>0</td>\n",
       "    </tr>\n",
       "    <tr>\n",
       "      <th>3</th>\n",
       "      <td>2018-07-21</td>\n",
       "      <td>China</td>\n",
       "      <td>2018-04-20</td>\n",
       "      <td>2018-04-20</td>\n",
       "      <td>2.0</td>\n",
       "      <td>3080.0</td>\n",
       "      <td>1</td>\n",
       "      <td>0</td>\n",
       "      <td>0</td>\n",
       "      <td>0</td>\n",
       "    </tr>\n",
       "    <tr>\n",
       "      <th>4</th>\n",
       "      <td>2015-05-21</td>\n",
       "      <td>Peru</td>\n",
       "      <td>2018-04-20</td>\n",
       "      <td>2018-04-19</td>\n",
       "      <td>0.0</td>\n",
       "      <td>4400.0</td>\n",
       "      <td>1</td>\n",
       "      <td>0</td>\n",
       "      <td>0</td>\n",
       "      <td>0</td>\n",
       "    </tr>\n",
       "  </tbody>\n",
       "</table>\n",
       "</div>"
      ],
      "text/plain": [
       "    timestamp country_code last_order_ts first_order_ts  total_orders  \\\n",
       "0  2018-07-21       Latvia    2018-04-20     2018-04-17           0.0   \n",
       "1  2018-07-21         Peru    2018-04-20     2018-04-20           0.0   \n",
       "2  2018-07-21         Peru    2018-04-20     2018-04-16           1.0   \n",
       "3  2018-07-21        China    2018-04-20     2018-04-20           2.0   \n",
       "4  2015-05-21         Peru    2018-04-20     2018-04-19           0.0   \n",
       "\n",
       "   voucher_amount  freq_0-4  freq_5-13  freq_13-37  freq_38-higher  \n",
       "0          4400.0         1          0           0               0  \n",
       "1          4400.0         1          0           0               0  \n",
       "2          2640.0         1          0           0               0  \n",
       "3          3080.0         1          0           0               0  \n",
       "4          4400.0         1          0           0               0  "
      ]
     },
     "execution_count": 19,
     "metadata": {},
     "output_type": "execute_result"
    },
    {
     "data": {
      "application/javascript": [
       "\n",
       "            setTimeout(function() {\n",
       "                var nbb_cell_id = 19;\n",
       "                var nbb_unformatted_code = \"df.head()\";\n",
       "                var nbb_formatted_code = \"df.head()\";\n",
       "                var nbb_cells = Jupyter.notebook.get_cells();\n",
       "                for (var i = 0; i < nbb_cells.length; ++i) {\n",
       "                    if (nbb_cells[i].input_prompt_number == nbb_cell_id) {\n",
       "                        if (nbb_cells[i].get_text() == nbb_unformatted_code) {\n",
       "                             nbb_cells[i].set_text(nbb_formatted_code);\n",
       "                        }\n",
       "                        break;\n",
       "                    }\n",
       "                }\n",
       "            }, 500);\n",
       "            "
      ],
      "text/plain": [
       "<IPython.core.display.Javascript object>"
      ]
     },
     "metadata": {},
     "output_type": "display_data"
    }
   ],
   "source": [
    "df.head()"
   ]
  },
  {
   "cell_type": "code",
   "execution_count": null,
   "metadata": {},
   "outputs": [],
   "source": []
  },
  {
   "cell_type": "code",
   "execution_count": 20,
   "metadata": {},
   "outputs": [
    {
     "data": {
      "application/javascript": [
       "\n",
       "            setTimeout(function() {\n",
       "                var nbb_cell_id = 20;\n",
       "                var nbb_unformatted_code = \"# It's improbable that the timestamp of the event is before the first or last order.\\n# In this case change the event timestamp to max of time stamp as it is a safe assumption,\\n# as the customer might be given the voucher as he hasn't returned back in some time.\\n\\n# df[(df.timestamp < df.last_order_ts) | (df.timestamp < df.first_order_ts)][\\n#     \\\"timestamp\\\"\\n# ] = df.timestamp.max()\\n\\ndf.loc[\\n    (df.timestamp < df.last_order_ts) | (df.timestamp < df.first_order_ts), \\\"timestamp\\\"\\n] = df.timestamp.max()\";\n",
       "                var nbb_formatted_code = \"# It's improbable that the timestamp of the event is before the first or last order.\\n# In this case change the event timestamp to max of time stamp as it is a safe assumption,\\n# as the customer might be given the voucher as he hasn't returned back in some time.\\n\\n# df[(df.timestamp < df.last_order_ts) | (df.timestamp < df.first_order_ts)][\\n#     \\\"timestamp\\\"\\n# ] = df.timestamp.max()\\n\\ndf.loc[\\n    (df.timestamp < df.last_order_ts) | (df.timestamp < df.first_order_ts), \\\"timestamp\\\"\\n] = df.timestamp.max()\";\n",
       "                var nbb_cells = Jupyter.notebook.get_cells();\n",
       "                for (var i = 0; i < nbb_cells.length; ++i) {\n",
       "                    if (nbb_cells[i].input_prompt_number == nbb_cell_id) {\n",
       "                        if (nbb_cells[i].get_text() == nbb_unformatted_code) {\n",
       "                             nbb_cells[i].set_text(nbb_formatted_code);\n",
       "                        }\n",
       "                        break;\n",
       "                    }\n",
       "                }\n",
       "            }, 500);\n",
       "            "
      ],
      "text/plain": [
       "<IPython.core.display.Javascript object>"
      ]
     },
     "metadata": {},
     "output_type": "display_data"
    }
   ],
   "source": [
    "# It's improbable that the timestamp of the event is before the first or last order.\n",
    "# In this case change the event timestamp to max of time stamp as it is a safe assumption,\n",
    "# as the customer might be given the voucher as he hasn't returned back in some time.\n",
    "\n",
    "# df[(df.timestamp < df.last_order_ts) | (df.timestamp < df.first_order_ts)][\n",
    "#     \"timestamp\"\n",
    "# ] = df.timestamp.max()\n",
    "\n",
    "df.loc[\n",
    "    (df.timestamp < df.last_order_ts) | (df.timestamp < df.first_order_ts), \"timestamp\"\n",
    "] = df.timestamp.max()"
   ]
  },
  {
   "cell_type": "code",
   "execution_count": 21,
   "metadata": {},
   "outputs": [
    {
     "data": {
      "text/html": [
       "<div>\n",
       "<style scoped>\n",
       "    .dataframe tbody tr th:only-of-type {\n",
       "        vertical-align: middle;\n",
       "    }\n",
       "\n",
       "    .dataframe tbody tr th {\n",
       "        vertical-align: top;\n",
       "    }\n",
       "\n",
       "    .dataframe thead th {\n",
       "        text-align: right;\n",
       "    }\n",
       "</style>\n",
       "<table border=\"1\" class=\"dataframe\">\n",
       "  <thead>\n",
       "    <tr style=\"text-align: right;\">\n",
       "      <th></th>\n",
       "      <th>timestamp</th>\n",
       "      <th>country_code</th>\n",
       "      <th>last_order_ts</th>\n",
       "      <th>first_order_ts</th>\n",
       "      <th>total_orders</th>\n",
       "      <th>voucher_amount</th>\n",
       "      <th>freq_0-4</th>\n",
       "      <th>freq_5-13</th>\n",
       "      <th>freq_13-37</th>\n",
       "      <th>freq_38-higher</th>\n",
       "    </tr>\n",
       "  </thead>\n",
       "  <tbody>\n",
       "    <tr>\n",
       "      <th>0</th>\n",
       "      <td>2018-07-21</td>\n",
       "      <td>Latvia</td>\n",
       "      <td>2018-04-20</td>\n",
       "      <td>2018-04-17</td>\n",
       "      <td>0.0</td>\n",
       "      <td>4400.0</td>\n",
       "      <td>1</td>\n",
       "      <td>0</td>\n",
       "      <td>0</td>\n",
       "      <td>0</td>\n",
       "    </tr>\n",
       "    <tr>\n",
       "      <th>1</th>\n",
       "      <td>2018-07-21</td>\n",
       "      <td>Peru</td>\n",
       "      <td>2018-04-20</td>\n",
       "      <td>2018-04-20</td>\n",
       "      <td>0.0</td>\n",
       "      <td>4400.0</td>\n",
       "      <td>1</td>\n",
       "      <td>0</td>\n",
       "      <td>0</td>\n",
       "      <td>0</td>\n",
       "    </tr>\n",
       "    <tr>\n",
       "      <th>2</th>\n",
       "      <td>2018-07-21</td>\n",
       "      <td>Peru</td>\n",
       "      <td>2018-04-20</td>\n",
       "      <td>2018-04-16</td>\n",
       "      <td>1.0</td>\n",
       "      <td>2640.0</td>\n",
       "      <td>1</td>\n",
       "      <td>0</td>\n",
       "      <td>0</td>\n",
       "      <td>0</td>\n",
       "    </tr>\n",
       "    <tr>\n",
       "      <th>3</th>\n",
       "      <td>2018-07-21</td>\n",
       "      <td>China</td>\n",
       "      <td>2018-04-20</td>\n",
       "      <td>2018-04-20</td>\n",
       "      <td>2.0</td>\n",
       "      <td>3080.0</td>\n",
       "      <td>1</td>\n",
       "      <td>0</td>\n",
       "      <td>0</td>\n",
       "      <td>0</td>\n",
       "    </tr>\n",
       "    <tr>\n",
       "      <th>4</th>\n",
       "      <td>2018-07-31</td>\n",
       "      <td>Peru</td>\n",
       "      <td>2018-04-20</td>\n",
       "      <td>2018-04-19</td>\n",
       "      <td>0.0</td>\n",
       "      <td>4400.0</td>\n",
       "      <td>1</td>\n",
       "      <td>0</td>\n",
       "      <td>0</td>\n",
       "      <td>0</td>\n",
       "    </tr>\n",
       "  </tbody>\n",
       "</table>\n",
       "</div>"
      ],
      "text/plain": [
       "    timestamp country_code last_order_ts first_order_ts  total_orders  \\\n",
       "0  2018-07-21       Latvia    2018-04-20     2018-04-17           0.0   \n",
       "1  2018-07-21         Peru    2018-04-20     2018-04-20           0.0   \n",
       "2  2018-07-21         Peru    2018-04-20     2018-04-16           1.0   \n",
       "3  2018-07-21        China    2018-04-20     2018-04-20           2.0   \n",
       "4  2018-07-31         Peru    2018-04-20     2018-04-19           0.0   \n",
       "\n",
       "   voucher_amount  freq_0-4  freq_5-13  freq_13-37  freq_38-higher  \n",
       "0          4400.0         1          0           0               0  \n",
       "1          4400.0         1          0           0               0  \n",
       "2          2640.0         1          0           0               0  \n",
       "3          3080.0         1          0           0               0  \n",
       "4          4400.0         1          0           0               0  "
      ]
     },
     "execution_count": 21,
     "metadata": {},
     "output_type": "execute_result"
    },
    {
     "data": {
      "application/javascript": [
       "\n",
       "            setTimeout(function() {\n",
       "                var nbb_cell_id = 21;\n",
       "                var nbb_unformatted_code = \"df.head()\";\n",
       "                var nbb_formatted_code = \"df.head()\";\n",
       "                var nbb_cells = Jupyter.notebook.get_cells();\n",
       "                for (var i = 0; i < nbb_cells.length; ++i) {\n",
       "                    if (nbb_cells[i].input_prompt_number == nbb_cell_id) {\n",
       "                        if (nbb_cells[i].get_text() == nbb_unformatted_code) {\n",
       "                             nbb_cells[i].set_text(nbb_formatted_code);\n",
       "                        }\n",
       "                        break;\n",
       "                    }\n",
       "                }\n",
       "            }, 500);\n",
       "            "
      ],
      "text/plain": [
       "<IPython.core.display.Javascript object>"
      ]
     },
     "metadata": {},
     "output_type": "display_data"
    }
   ],
   "source": [
    "df.head()"
   ]
  },
  {
   "cell_type": "code",
   "execution_count": 22,
   "metadata": {},
   "outputs": [
    {
     "data": {
      "application/javascript": [
       "\n",
       "            setTimeout(function() {\n",
       "                var nbb_cell_id = 22;\n",
       "                var nbb_unformatted_code = \"df[\\\"timestamp\\\"] = pd.to_datetime(df[\\\"timestamp\\\"])\";\n",
       "                var nbb_formatted_code = \"df[\\\"timestamp\\\"] = pd.to_datetime(df[\\\"timestamp\\\"])\";\n",
       "                var nbb_cells = Jupyter.notebook.get_cells();\n",
       "                for (var i = 0; i < nbb_cells.length; ++i) {\n",
       "                    if (nbb_cells[i].input_prompt_number == nbb_cell_id) {\n",
       "                        if (nbb_cells[i].get_text() == nbb_unformatted_code) {\n",
       "                             nbb_cells[i].set_text(nbb_formatted_code);\n",
       "                        }\n",
       "                        break;\n",
       "                    }\n",
       "                }\n",
       "            }, 500);\n",
       "            "
      ],
      "text/plain": [
       "<IPython.core.display.Javascript object>"
      ]
     },
     "metadata": {},
     "output_type": "display_data"
    }
   ],
   "source": [
    "df[\"timestamp\"] = pd.to_datetime(df[\"timestamp\"])\n"
   ]
  },
  {
   "cell_type": "markdown",
   "metadata": {},
   "source": [
    "### Create recency_segment_ranges"
   ]
  },
  {
   "cell_type": "code",
   "execution_count": 23,
   "metadata": {},
   "outputs": [
    {
     "name": "stdout",
     "output_type": "stream",
     "text": [
      "<class 'pandas.core.frame.DataFrame'>\n",
      "RangeIndex: 285570 entries, 0 to 285569\n",
      "Data columns (total 10 columns):\n",
      " #   Column          Non-Null Count   Dtype         \n",
      "---  ------          --------------   -----         \n",
      " 0   timestamp       285570 non-null  datetime64[ns]\n",
      " 1   country_code    285570 non-null  object        \n",
      " 2   last_order_ts   285570 non-null  datetime64[ns]\n",
      " 3   first_order_ts  285570 non-null  datetime64[ns]\n",
      " 4   total_orders    262725 non-null  float64       \n",
      " 5   voucher_amount  283839 non-null  float64       \n",
      " 6   freq_0-4        285570 non-null  uint8         \n",
      " 7   freq_5-13       285570 non-null  uint8         \n",
      " 8   freq_13-37      285570 non-null  uint8         \n",
      " 9   freq_38-higher  285570 non-null  uint8         \n",
      "dtypes: datetime64[ns](3), float64(2), object(1), uint8(4)\n",
      "memory usage: 14.2+ MB\n"
     ]
    },
    {
     "data": {
      "application/javascript": [
       "\n",
       "            setTimeout(function() {\n",
       "                var nbb_cell_id = 23;\n",
       "                var nbb_unformatted_code = \"df.info()\";\n",
       "                var nbb_formatted_code = \"df.info()\";\n",
       "                var nbb_cells = Jupyter.notebook.get_cells();\n",
       "                for (var i = 0; i < nbb_cells.length; ++i) {\n",
       "                    if (nbb_cells[i].input_prompt_number == nbb_cell_id) {\n",
       "                        if (nbb_cells[i].get_text() == nbb_unformatted_code) {\n",
       "                             nbb_cells[i].set_text(nbb_formatted_code);\n",
       "                        }\n",
       "                        break;\n",
       "                    }\n",
       "                }\n",
       "            }, 500);\n",
       "            "
      ],
      "text/plain": [
       "<IPython.core.display.Javascript object>"
      ]
     },
     "metadata": {},
     "output_type": "display_data"
    }
   ],
   "source": [
    "df.info()"
   ]
  },
  {
   "cell_type": "code",
   "execution_count": 24,
   "metadata": {},
   "outputs": [
    {
     "data": {
      "application/javascript": [
       "\n",
       "            setTimeout(function() {\n",
       "                var nbb_cell_id = 24;\n",
       "                var nbb_unformatted_code = \"df[\\\"days_since_last_order\\\"] = (df[\\\"timestamp\\\"] - df[\\\"last_order_ts\\\"]).dt.days\";\n",
       "                var nbb_formatted_code = \"df[\\\"days_since_last_order\\\"] = (df[\\\"timestamp\\\"] - df[\\\"last_order_ts\\\"]).dt.days\";\n",
       "                var nbb_cells = Jupyter.notebook.get_cells();\n",
       "                for (var i = 0; i < nbb_cells.length; ++i) {\n",
       "                    if (nbb_cells[i].input_prompt_number == nbb_cell_id) {\n",
       "                        if (nbb_cells[i].get_text() == nbb_unformatted_code) {\n",
       "                             nbb_cells[i].set_text(nbb_formatted_code);\n",
       "                        }\n",
       "                        break;\n",
       "                    }\n",
       "                }\n",
       "            }, 500);\n",
       "            "
      ],
      "text/plain": [
       "<IPython.core.display.Javascript object>"
      ]
     },
     "metadata": {},
     "output_type": "display_data"
    }
   ],
   "source": [
    "df[\"days_since_last_order\"] = (df[\"timestamp\"] - df[\"last_order_ts\"]).dt.days"
   ]
  },
  {
   "cell_type": "code",
   "execution_count": 25,
   "metadata": {},
   "outputs": [
    {
     "data": {
      "text/plain": [
       "<matplotlib.axes._subplots.AxesSubplot at 0x7feb2db2ec18>"
      ]
     },
     "execution_count": 25,
     "metadata": {},
     "output_type": "execute_result"
    },
    {
     "data": {
      "image/png": "[encoded data removed]",
      "text/plain": [
       "<Figure size 432x288 with 1 Axes>"
      ]
     },
     "metadata": {
      "needs_background": "light"
     },
     "output_type": "display_data"
    },
    {
     "data": {
      "application/javascript": [
       "\n",
       "            setTimeout(function() {\n",
       "                var nbb_cell_id = 25;\n",
       "                var nbb_unformatted_code = \"df[\\\"days_since_last_order\\\"].hist()\";\n",
       "                var nbb_formatted_code = \"df[\\\"days_since_last_order\\\"].hist()\";\n",
       "                var nbb_cells = Jupyter.notebook.get_cells();\n",
       "                for (var i = 0; i < nbb_cells.length; ++i) {\n",
       "                    if (nbb_cells[i].input_prompt_number == nbb_cell_id) {\n",
       "                        if (nbb_cells[i].get_text() == nbb_unformatted_code) {\n",
       "                             nbb_cells[i].set_text(nbb_formatted_code);\n",
       "                        }\n",
       "                        break;\n",
       "                    }\n",
       "                }\n",
       "            }, 500);\n",
       "            "
      ],
      "text/plain": [
       "<IPython.core.display.Javascript object>"
      ]
     },
     "metadata": {},
     "output_type": "display_data"
    }
   ],
   "source": [
    "df[\"days_since_last_order\"].hist()"
   ]
  },
  {
   "cell_type": "markdown",
   "metadata": {},
   "source": [
    "#### Use median values in case of improbable last_order_ts"
   ]
  },
  {
   "cell_type": "markdown",
   "metadata": {},
   "source": [
    "median_value = df.days_since_last_order.median()"
   ]
  },
  {
   "cell_type": "markdown",
   "metadata": {},
   "source": [
    "df.loc[df[\"days_since_last_order\"] < 0, \"days_since_last_order\"] = median_value"
   ]
  },
  {
   "cell_type": "markdown",
   "metadata": {},
   "source": [
    "### Create Recency Segment"
   ]
  },
  {
   "cell_type": "code",
   "execution_count": 26,
   "metadata": {},
   "outputs": [
    {
     "data": {
      "application/javascript": [
       "\n",
       "            setTimeout(function() {\n",
       "                var nbb_cell_id = 26;\n",
       "                var nbb_unformatted_code = \"bins = [0.0, 30, 60, 90, 120, 180, np.inf]\\nlabels = [\\\"0-30\\\", \\\"30-60\\\", \\\"60-90\\\", \\\"90-120\\\", \\\"120-180\\\", \\\"180+\\\"]\";\n",
       "                var nbb_formatted_code = \"bins = [0.0, 30, 60, 90, 120, 180, np.inf]\\nlabels = [\\\"0-30\\\", \\\"30-60\\\", \\\"60-90\\\", \\\"90-120\\\", \\\"120-180\\\", \\\"180+\\\"]\";\n",
       "                var nbb_cells = Jupyter.notebook.get_cells();\n",
       "                for (var i = 0; i < nbb_cells.length; ++i) {\n",
       "                    if (nbb_cells[i].input_prompt_number == nbb_cell_id) {\n",
       "                        if (nbb_cells[i].get_text() == nbb_unformatted_code) {\n",
       "                             nbb_cells[i].set_text(nbb_formatted_code);\n",
       "                        }\n",
       "                        break;\n",
       "                    }\n",
       "                }\n",
       "            }, 500);\n",
       "            "
      ],
      "text/plain": [
       "<IPython.core.display.Javascript object>"
      ]
     },
     "metadata": {},
     "output_type": "display_data"
    }
   ],
   "source": [
    "bins = [0.0, 30, 60, 90, 120, 180, np.inf]\n",
    "labels = [\"0-30\", \"30-60\", \"60-90\", \"90-120\", \"120-180\", \"180+\"]"
   ]
  },
  {
   "cell_type": "code",
   "execution_count": 27,
   "metadata": {},
   "outputs": [
    {
     "data": {
      "application/javascript": [
       "\n",
       "            setTimeout(function() {\n",
       "                var nbb_cell_id = 27;\n",
       "                var nbb_unformatted_code = \"df[\\\"recency_segment_ranges\\\"] = pd.cut(\\n    df[\\\"days_since_last_order\\\"], bins=bins, labels=labels, include_lowest=True\\n)\";\n",
       "                var nbb_formatted_code = \"df[\\\"recency_segment_ranges\\\"] = pd.cut(\\n    df[\\\"days_since_last_order\\\"], bins=bins, labels=labels, include_lowest=True\\n)\";\n",
       "                var nbb_cells = Jupyter.notebook.get_cells();\n",
       "                for (var i = 0; i < nbb_cells.length; ++i) {\n",
       "                    if (nbb_cells[i].input_prompt_number == nbb_cell_id) {\n",
       "                        if (nbb_cells[i].get_text() == nbb_unformatted_code) {\n",
       "                             nbb_cells[i].set_text(nbb_formatted_code);\n",
       "                        }\n",
       "                        break;\n",
       "                    }\n",
       "                }\n",
       "            }, 500);\n",
       "            "
      ],
      "text/plain": [
       "<IPython.core.display.Javascript object>"
      ]
     },
     "metadata": {},
     "output_type": "display_data"
    }
   ],
   "source": [
    "df[\"recency_segment_ranges\"] = pd.cut(\n",
    "    df[\"days_since_last_order\"], bins=bins, labels=labels, include_lowest=True\n",
    ")"
   ]
  },
  {
   "cell_type": "code",
   "execution_count": 28,
   "metadata": {},
   "outputs": [
    {
     "data": {
      "text/html": [
       "<div>\n",
       "<style scoped>\n",
       "    .dataframe tbody tr th:only-of-type {\n",
       "        vertical-align: middle;\n",
       "    }\n",
       "\n",
       "    .dataframe tbody tr th {\n",
       "        vertical-align: top;\n",
       "    }\n",
       "\n",
       "    .dataframe thead th {\n",
       "        text-align: right;\n",
       "    }\n",
       "</style>\n",
       "<table border=\"1\" class=\"dataframe\">\n",
       "  <thead>\n",
       "    <tr style=\"text-align: right;\">\n",
       "      <th></th>\n",
       "      <th>timestamp</th>\n",
       "      <th>country_code</th>\n",
       "      <th>last_order_ts</th>\n",
       "      <th>first_order_ts</th>\n",
       "      <th>total_orders</th>\n",
       "      <th>voucher_amount</th>\n",
       "      <th>freq_0-4</th>\n",
       "      <th>freq_5-13</th>\n",
       "      <th>freq_13-37</th>\n",
       "      <th>freq_38-higher</th>\n",
       "      <th>days_since_last_order</th>\n",
       "      <th>recency_segment_ranges</th>\n",
       "    </tr>\n",
       "  </thead>\n",
       "  <tbody>\n",
       "    <tr>\n",
       "      <th>0</th>\n",
       "      <td>2018-07-21</td>\n",
       "      <td>Latvia</td>\n",
       "      <td>2018-04-20</td>\n",
       "      <td>2018-04-17</td>\n",
       "      <td>0.0</td>\n",
       "      <td>4400.0</td>\n",
       "      <td>1</td>\n",
       "      <td>0</td>\n",
       "      <td>0</td>\n",
       "      <td>0</td>\n",
       "      <td>92</td>\n",
       "      <td>90-120</td>\n",
       "    </tr>\n",
       "    <tr>\n",
       "      <th>1</th>\n",
       "      <td>2018-07-21</td>\n",
       "      <td>Peru</td>\n",
       "      <td>2018-04-20</td>\n",
       "      <td>2018-04-20</td>\n",
       "      <td>0.0</td>\n",
       "      <td>4400.0</td>\n",
       "      <td>1</td>\n",
       "      <td>0</td>\n",
       "      <td>0</td>\n",
       "      <td>0</td>\n",
       "      <td>92</td>\n",
       "      <td>90-120</td>\n",
       "    </tr>\n",
       "    <tr>\n",
       "      <th>2</th>\n",
       "      <td>2018-07-21</td>\n",
       "      <td>Peru</td>\n",
       "      <td>2018-04-20</td>\n",
       "      <td>2018-04-16</td>\n",
       "      <td>1.0</td>\n",
       "      <td>2640.0</td>\n",
       "      <td>1</td>\n",
       "      <td>0</td>\n",
       "      <td>0</td>\n",
       "      <td>0</td>\n",
       "      <td>92</td>\n",
       "      <td>90-120</td>\n",
       "    </tr>\n",
       "    <tr>\n",
       "      <th>3</th>\n",
       "      <td>2018-07-21</td>\n",
       "      <td>China</td>\n",
       "      <td>2018-04-20</td>\n",
       "      <td>2018-04-20</td>\n",
       "      <td>2.0</td>\n",
       "      <td>3080.0</td>\n",
       "      <td>1</td>\n",
       "      <td>0</td>\n",
       "      <td>0</td>\n",
       "      <td>0</td>\n",
       "      <td>92</td>\n",
       "      <td>90-120</td>\n",
       "    </tr>\n",
       "    <tr>\n",
       "      <th>4</th>\n",
       "      <td>2018-07-31</td>\n",
       "      <td>Peru</td>\n",
       "      <td>2018-04-20</td>\n",
       "      <td>2018-04-19</td>\n",
       "      <td>0.0</td>\n",
       "      <td>4400.0</td>\n",
       "      <td>1</td>\n",
       "      <td>0</td>\n",
       "      <td>0</td>\n",
       "      <td>0</td>\n",
       "      <td>102</td>\n",
       "      <td>90-120</td>\n",
       "    </tr>\n",
       "  </tbody>\n",
       "</table>\n",
       "</div>"
      ],
      "text/plain": [
       "   timestamp country_code last_order_ts first_order_ts  total_orders  \\\n",
       "0 2018-07-21       Latvia    2018-04-20     2018-04-17           0.0   \n",
       "1 2018-07-21         Peru    2018-04-20     2018-04-20           0.0   \n",
       "2 2018-07-21         Peru    2018-04-20     2018-04-16           1.0   \n",
       "3 2018-07-21        China    2018-04-20     2018-04-20           2.0   \n",
       "4 2018-07-31         Peru    2018-04-20     2018-04-19           0.0   \n",
       "\n",
       "   voucher_amount  freq_0-4  freq_5-13  freq_13-37  freq_38-higher  \\\n",
       "0          4400.0         1          0           0               0   \n",
       "1          4400.0         1          0           0               0   \n",
       "2          2640.0         1          0           0               0   \n",
       "3          3080.0         1          0           0               0   \n",
       "4          4400.0         1          0           0               0   \n",
       "\n",
       "   days_since_last_order recency_segment_ranges  \n",
       "0                     92                 90-120  \n",
       "1                     92                 90-120  \n",
       "2                     92                 90-120  \n",
       "3                     92                 90-120  \n",
       "4                    102                 90-120  "
      ]
     },
     "execution_count": 28,
     "metadata": {},
     "output_type": "execute_result"
    },
    {
     "data": {
      "application/javascript": [
       "\n",
       "            setTimeout(function() {\n",
       "                var nbb_cell_id = 28;\n",
       "                var nbb_unformatted_code = \"df.head()\";\n",
       "                var nbb_formatted_code = \"df.head()\";\n",
       "                var nbb_cells = Jupyter.notebook.get_cells();\n",
       "                for (var i = 0; i < nbb_cells.length; ++i) {\n",
       "                    if (nbb_cells[i].input_prompt_number == nbb_cell_id) {\n",
       "                        if (nbb_cells[i].get_text() == nbb_unformatted_code) {\n",
       "                             nbb_cells[i].set_text(nbb_formatted_code);\n",
       "                        }\n",
       "                        break;\n",
       "                    }\n",
       "                }\n",
       "            }, 500);\n",
       "            "
      ],
      "text/plain": [
       "<IPython.core.display.Javascript object>"
      ]
     },
     "metadata": {},
     "output_type": "display_data"
    }
   ],
   "source": [
    "df.head()"
   ]
  },
  {
   "cell_type": "code",
   "execution_count": 29,
   "metadata": {},
   "outputs": [
    {
     "data": {
      "application/javascript": [
       "\n",
       "            setTimeout(function() {\n",
       "                var nbb_cell_id = 29;\n",
       "                var nbb_unformatted_code = \"one_hot_rec_segment = pd.get_dummies(df[\\\"recency_segment_ranges\\\"], prefix=\\\"rec_segment\\\")\";\n",
       "                var nbb_formatted_code = \"one_hot_rec_segment = pd.get_dummies(df[\\\"recency_segment_ranges\\\"], prefix=\\\"rec_segment\\\")\";\n",
       "                var nbb_cells = Jupyter.notebook.get_cells();\n",
       "                for (var i = 0; i < nbb_cells.length; ++i) {\n",
       "                    if (nbb_cells[i].input_prompt_number == nbb_cell_id) {\n",
       "                        if (nbb_cells[i].get_text() == nbb_unformatted_code) {\n",
       "                             nbb_cells[i].set_text(nbb_formatted_code);\n",
       "                        }\n",
       "                        break;\n",
       "                    }\n",
       "                }\n",
       "            }, 500);\n",
       "            "
      ],
      "text/plain": [
       "<IPython.core.display.Javascript object>"
      ]
     },
     "metadata": {},
     "output_type": "display_data"
    }
   ],
   "source": [
    "one_hot_rec_segment = pd.get_dummies(df[\"recency_segment_ranges\"], prefix=\"rec_segment\")"
   ]
  },
  {
   "cell_type": "code",
   "execution_count": 30,
   "metadata": {},
   "outputs": [
    {
     "data": {
      "application/javascript": [
       "\n",
       "            setTimeout(function() {\n",
       "                var nbb_cell_id = 30;\n",
       "                var nbb_unformatted_code = \"df = df.join(one_hot_rec_segment)\";\n",
       "                var nbb_formatted_code = \"df = df.join(one_hot_rec_segment)\";\n",
       "                var nbb_cells = Jupyter.notebook.get_cells();\n",
       "                for (var i = 0; i < nbb_cells.length; ++i) {\n",
       "                    if (nbb_cells[i].input_prompt_number == nbb_cell_id) {\n",
       "                        if (nbb_cells[i].get_text() == nbb_unformatted_code) {\n",
       "                             nbb_cells[i].set_text(nbb_formatted_code);\n",
       "                        }\n",
       "                        break;\n",
       "                    }\n",
       "                }\n",
       "            }, 500);\n",
       "            "
      ],
      "text/plain": [
       "<IPython.core.display.Javascript object>"
      ]
     },
     "metadata": {},
     "output_type": "display_data"
    }
   ],
   "source": [
    "df = df.join(one_hot_rec_segment)"
   ]
  },
  {
   "cell_type": "markdown",
   "metadata": {},
   "source": [
    "df = df.drop(\"days_since_last_order\", axis=1)"
   ]
  },
  {
   "cell_type": "code",
   "execution_count": 31,
   "metadata": {},
   "outputs": [
    {
     "data": {
      "text/plain": [
       "timestamp                     0\n",
       "country_code                  0\n",
       "last_order_ts                 0\n",
       "first_order_ts                0\n",
       "total_orders              22845\n",
       "voucher_amount             1731\n",
       "freq_0-4                      0\n",
       "freq_5-13                     0\n",
       "freq_13-37                    0\n",
       "freq_38-higher                0\n",
       "days_since_last_order         0\n",
       "recency_segment_ranges        0\n",
       "rec_segment_0-30              0\n",
       "rec_segment_30-60             0\n",
       "rec_segment_60-90             0\n",
       "rec_segment_90-120            0\n",
       "rec_segment_120-180           0\n",
       "rec_segment_180+              0\n",
       "dtype: int64"
      ]
     },
     "execution_count": 31,
     "metadata": {},
     "output_type": "execute_result"
    },
    {
     "data": {
      "application/javascript": [
       "\n",
       "            setTimeout(function() {\n",
       "                var nbb_cell_id = 31;\n",
       "                var nbb_unformatted_code = \"df.isna().sum()\";\n",
       "                var nbb_formatted_code = \"df.isna().sum()\";\n",
       "                var nbb_cells = Jupyter.notebook.get_cells();\n",
       "                for (var i = 0; i < nbb_cells.length; ++i) {\n",
       "                    if (nbb_cells[i].input_prompt_number == nbb_cell_id) {\n",
       "                        if (nbb_cells[i].get_text() == nbb_unformatted_code) {\n",
       "                             nbb_cells[i].set_text(nbb_formatted_code);\n",
       "                        }\n",
       "                        break;\n",
       "                    }\n",
       "                }\n",
       "            }, 500);\n",
       "            "
      ],
      "text/plain": [
       "<IPython.core.display.Javascript object>"
      ]
     },
     "metadata": {},
     "output_type": "display_data"
    }
   ],
   "source": [
    "df.isna().sum()"
   ]
  },
  {
   "cell_type": "code",
   "execution_count": 32,
   "metadata": {},
   "outputs": [
    {
     "data": {
      "application/javascript": [
       "\n",
       "            setTimeout(function() {\n",
       "                var nbb_cell_id = 32;\n",
       "                var nbb_unformatted_code = \"df = df.dropna(how=\\\"any\\\")\";\n",
       "                var nbb_formatted_code = \"df = df.dropna(how=\\\"any\\\")\";\n",
       "                var nbb_cells = Jupyter.notebook.get_cells();\n",
       "                for (var i = 0; i < nbb_cells.length; ++i) {\n",
       "                    if (nbb_cells[i].input_prompt_number == nbb_cell_id) {\n",
       "                        if (nbb_cells[i].get_text() == nbb_unformatted_code) {\n",
       "                             nbb_cells[i].set_text(nbb_formatted_code);\n",
       "                        }\n",
       "                        break;\n",
       "                    }\n",
       "                }\n",
       "            }, 500);\n",
       "            "
      ],
      "text/plain": [
       "<IPython.core.display.Javascript object>"
      ]
     },
     "metadata": {},
     "output_type": "display_data"
    }
   ],
   "source": [
    "df = df.dropna(how=\"any\")"
   ]
  },
  {
   "cell_type": "code",
   "execution_count": 33,
   "metadata": {},
   "outputs": [
    {
     "data": {
      "text/plain": [
       "timestamp                 0\n",
       "country_code              0\n",
       "last_order_ts             0\n",
       "first_order_ts            0\n",
       "total_orders              0\n",
       "voucher_amount            0\n",
       "freq_0-4                  0\n",
       "freq_5-13                 0\n",
       "freq_13-37                0\n",
       "freq_38-higher            0\n",
       "days_since_last_order     0\n",
       "recency_segment_ranges    0\n",
       "rec_segment_0-30          0\n",
       "rec_segment_30-60         0\n",
       "rec_segment_60-90         0\n",
       "rec_segment_90-120        0\n",
       "rec_segment_120-180       0\n",
       "rec_segment_180+          0\n",
       "dtype: int64"
      ]
     },
     "execution_count": 33,
     "metadata": {},
     "output_type": "execute_result"
    },
    {
     "data": {
      "application/javascript": [
       "\n",
       "            setTimeout(function() {\n",
       "                var nbb_cell_id = 33;\n",
       "                var nbb_unformatted_code = \"df.isna().sum()\";\n",
       "                var nbb_formatted_code = \"df.isna().sum()\";\n",
       "                var nbb_cells = Jupyter.notebook.get_cells();\n",
       "                for (var i = 0; i < nbb_cells.length; ++i) {\n",
       "                    if (nbb_cells[i].input_prompt_number == nbb_cell_id) {\n",
       "                        if (nbb_cells[i].get_text() == nbb_unformatted_code) {\n",
       "                             nbb_cells[i].set_text(nbb_formatted_code);\n",
       "                        }\n",
       "                        break;\n",
       "                    }\n",
       "                }\n",
       "            }, 500);\n",
       "            "
      ],
      "text/plain": [
       "<IPython.core.display.Javascript object>"
      ]
     },
     "metadata": {},
     "output_type": "display_data"
    }
   ],
   "source": [
    "df.isna().sum()"
   ]
  },
  {
   "cell_type": "code",
   "execution_count": 34,
   "metadata": {},
   "outputs": [
    {
     "data": {
      "application/javascript": [
       "\n",
       "            setTimeout(function() {\n",
       "                var nbb_cell_id = 34;\n",
       "                var nbb_unformatted_code = \"df = df.drop(\\\"recency_segment_ranges\\\", axis=1)\";\n",
       "                var nbb_formatted_code = \"df = df.drop(\\\"recency_segment_ranges\\\", axis=1)\";\n",
       "                var nbb_cells = Jupyter.notebook.get_cells();\n",
       "                for (var i = 0; i < nbb_cells.length; ++i) {\n",
       "                    if (nbb_cells[i].input_prompt_number == nbb_cell_id) {\n",
       "                        if (nbb_cells[i].get_text() == nbb_unformatted_code) {\n",
       "                             nbb_cells[i].set_text(nbb_formatted_code);\n",
       "                        }\n",
       "                        break;\n",
       "                    }\n",
       "                }\n",
       "            }, 500);\n",
       "            "
      ],
      "text/plain": [
       "<IPython.core.display.Javascript object>"
      ]
     },
     "metadata": {},
     "output_type": "display_data"
    }
   ],
   "source": [
    "df = df.drop(\"recency_segment_ranges\", axis=1)"
   ]
  },
  {
   "cell_type": "code",
   "execution_count": 35,
   "metadata": {},
   "outputs": [
    {
     "data": {
      "text/plain": [
       "voucher_amount           1.000000\n",
       "rec_segment_90-120       0.125608\n",
       "days_since_last_order    0.124676\n",
       "freq_0-4                 0.025818\n",
       "rec_segment_120-180      0.017446\n",
       "rec_segment_0-30        -0.000326\n",
       "freq_5-13               -0.008246\n",
       "freq_13-37              -0.010767\n",
       "rec_segment_60-90       -0.014709\n",
       "freq_38-higher          -0.015349\n",
       "total_orders            -0.016841\n",
       "rec_segment_30-60       -0.124154\n",
       "rec_segment_180+              NaN\n",
       "Name: voucher_amount, dtype: float64"
      ]
     },
     "execution_count": 35,
     "metadata": {},
     "output_type": "execute_result"
    },
    {
     "data": {
      "application/javascript": [
       "\n",
       "            setTimeout(function() {\n",
       "                var nbb_cell_id = 35;\n",
       "                var nbb_unformatted_code = \"df.corr()[\\\"voucher_amount\\\"].sort_values(ascending=False)\";\n",
       "                var nbb_formatted_code = \"df.corr()[\\\"voucher_amount\\\"].sort_values(ascending=False)\";\n",
       "                var nbb_cells = Jupyter.notebook.get_cells();\n",
       "                for (var i = 0; i < nbb_cells.length; ++i) {\n",
       "                    if (nbb_cells[i].input_prompt_number == nbb_cell_id) {\n",
       "                        if (nbb_cells[i].get_text() == nbb_unformatted_code) {\n",
       "                             nbb_cells[i].set_text(nbb_formatted_code);\n",
       "                        }\n",
       "                        break;\n",
       "                    }\n",
       "                }\n",
       "            }, 500);\n",
       "            "
      ],
      "text/plain": [
       "<IPython.core.display.Javascript object>"
      ]
     },
     "metadata": {},
     "output_type": "display_data"
    }
   ],
   "source": [
    "df.corr()[\"voucher_amount\"].sort_values(ascending=False)"
   ]
  },
  {
   "cell_type": "markdown",
   "metadata": {},
   "source": [
    "### Customer customer since ranges"
   ]
  },
  {
   "cell_type": "code",
   "execution_count": 36,
   "metadata": {},
   "outputs": [
    {
     "data": {
      "application/javascript": [
       "\n",
       "            setTimeout(function() {\n",
       "                var nbb_cell_id = 36;\n",
       "                var nbb_unformatted_code = \"df[\\\"customer_since_days\\\"] = (df[\\\"timestamp\\\"] - df[\\\"first_order_ts\\\"]).dt.days\";\n",
       "                var nbb_formatted_code = \"df[\\\"customer_since_days\\\"] = (df[\\\"timestamp\\\"] - df[\\\"first_order_ts\\\"]).dt.days\";\n",
       "                var nbb_cells = Jupyter.notebook.get_cells();\n",
       "                for (var i = 0; i < nbb_cells.length; ++i) {\n",
       "                    if (nbb_cells[i].input_prompt_number == nbb_cell_id) {\n",
       "                        if (nbb_cells[i].get_text() == nbb_unformatted_code) {\n",
       "                             nbb_cells[i].set_text(nbb_formatted_code);\n",
       "                        }\n",
       "                        break;\n",
       "                    }\n",
       "                }\n",
       "            }, 500);\n",
       "            "
      ],
      "text/plain": [
       "<IPython.core.display.Javascript object>"
      ]
     },
     "metadata": {},
     "output_type": "display_data"
    }
   ],
   "source": [
    "df[\"customer_since_days\"] = (df[\"timestamp\"] - df[\"first_order_ts\"]).dt.days"
   ]
  },
  {
   "cell_type": "code",
   "execution_count": 37,
   "metadata": {},
   "outputs": [
    {
     "data": {
      "text/html": [
       "<div>\n",
       "<style scoped>\n",
       "    .dataframe tbody tr th:only-of-type {\n",
       "        vertical-align: middle;\n",
       "    }\n",
       "\n",
       "    .dataframe tbody tr th {\n",
       "        vertical-align: top;\n",
       "    }\n",
       "\n",
       "    .dataframe thead th {\n",
       "        text-align: right;\n",
       "    }\n",
       "</style>\n",
       "<table border=\"1\" class=\"dataframe\">\n",
       "  <thead>\n",
       "    <tr style=\"text-align: right;\">\n",
       "      <th></th>\n",
       "      <th>timestamp</th>\n",
       "      <th>country_code</th>\n",
       "      <th>last_order_ts</th>\n",
       "      <th>first_order_ts</th>\n",
       "      <th>total_orders</th>\n",
       "      <th>voucher_amount</th>\n",
       "      <th>freq_0-4</th>\n",
       "      <th>freq_5-13</th>\n",
       "      <th>freq_13-37</th>\n",
       "      <th>freq_38-higher</th>\n",
       "      <th>days_since_last_order</th>\n",
       "      <th>rec_segment_0-30</th>\n",
       "      <th>rec_segment_30-60</th>\n",
       "      <th>rec_segment_60-90</th>\n",
       "      <th>rec_segment_90-120</th>\n",
       "      <th>rec_segment_120-180</th>\n",
       "      <th>rec_segment_180+</th>\n",
       "      <th>customer_since_days</th>\n",
       "    </tr>\n",
       "  </thead>\n",
       "  <tbody>\n",
       "    <tr>\n",
       "      <th>0</th>\n",
       "      <td>2018-07-21</td>\n",
       "      <td>Latvia</td>\n",
       "      <td>2018-04-20</td>\n",
       "      <td>2018-04-17</td>\n",
       "      <td>0.0</td>\n",
       "      <td>4400.0</td>\n",
       "      <td>1</td>\n",
       "      <td>0</td>\n",
       "      <td>0</td>\n",
       "      <td>0</td>\n",
       "      <td>92</td>\n",
       "      <td>0</td>\n",
       "      <td>0</td>\n",
       "      <td>0</td>\n",
       "      <td>1</td>\n",
       "      <td>0</td>\n",
       "      <td>0</td>\n",
       "      <td>95</td>\n",
       "    </tr>\n",
       "    <tr>\n",
       "      <th>1</th>\n",
       "      <td>2018-07-21</td>\n",
       "      <td>Peru</td>\n",
       "      <td>2018-04-20</td>\n",
       "      <td>2018-04-20</td>\n",
       "      <td>0.0</td>\n",
       "      <td>4400.0</td>\n",
       "      <td>1</td>\n",
       "      <td>0</td>\n",
       "      <td>0</td>\n",
       "      <td>0</td>\n",
       "      <td>92</td>\n",
       "      <td>0</td>\n",
       "      <td>0</td>\n",
       "      <td>0</td>\n",
       "      <td>1</td>\n",
       "      <td>0</td>\n",
       "      <td>0</td>\n",
       "      <td>92</td>\n",
       "    </tr>\n",
       "    <tr>\n",
       "      <th>2</th>\n",
       "      <td>2018-07-21</td>\n",
       "      <td>Peru</td>\n",
       "      <td>2018-04-20</td>\n",
       "      <td>2018-04-16</td>\n",
       "      <td>1.0</td>\n",
       "      <td>2640.0</td>\n",
       "      <td>1</td>\n",
       "      <td>0</td>\n",
       "      <td>0</td>\n",
       "      <td>0</td>\n",
       "      <td>92</td>\n",
       "      <td>0</td>\n",
       "      <td>0</td>\n",
       "      <td>0</td>\n",
       "      <td>1</td>\n",
       "      <td>0</td>\n",
       "      <td>0</td>\n",
       "      <td>96</td>\n",
       "    </tr>\n",
       "    <tr>\n",
       "      <th>3</th>\n",
       "      <td>2018-07-21</td>\n",
       "      <td>China</td>\n",
       "      <td>2018-04-20</td>\n",
       "      <td>2018-04-20</td>\n",
       "      <td>2.0</td>\n",
       "      <td>3080.0</td>\n",
       "      <td>1</td>\n",
       "      <td>0</td>\n",
       "      <td>0</td>\n",
       "      <td>0</td>\n",
       "      <td>92</td>\n",
       "      <td>0</td>\n",
       "      <td>0</td>\n",
       "      <td>0</td>\n",
       "      <td>1</td>\n",
       "      <td>0</td>\n",
       "      <td>0</td>\n",
       "      <td>92</td>\n",
       "    </tr>\n",
       "    <tr>\n",
       "      <th>4</th>\n",
       "      <td>2018-07-31</td>\n",
       "      <td>Peru</td>\n",
       "      <td>2018-04-20</td>\n",
       "      <td>2018-04-19</td>\n",
       "      <td>0.0</td>\n",
       "      <td>4400.0</td>\n",
       "      <td>1</td>\n",
       "      <td>0</td>\n",
       "      <td>0</td>\n",
       "      <td>0</td>\n",
       "      <td>102</td>\n",
       "      <td>0</td>\n",
       "      <td>0</td>\n",
       "      <td>0</td>\n",
       "      <td>1</td>\n",
       "      <td>0</td>\n",
       "      <td>0</td>\n",
       "      <td>103</td>\n",
       "    </tr>\n",
       "  </tbody>\n",
       "</table>\n",
       "</div>"
      ],
      "text/plain": [
       "   timestamp country_code last_order_ts first_order_ts  total_orders  \\\n",
       "0 2018-07-21       Latvia    2018-04-20     2018-04-17           0.0   \n",
       "1 2018-07-21         Peru    2018-04-20     2018-04-20           0.0   \n",
       "2 2018-07-21         Peru    2018-04-20     2018-04-16           1.0   \n",
       "3 2018-07-21        China    2018-04-20     2018-04-20           2.0   \n",
       "4 2018-07-31         Peru    2018-04-20     2018-04-19           0.0   \n",
       "\n",
       "   voucher_amount  freq_0-4  freq_5-13  freq_13-37  freq_38-higher  \\\n",
       "0          4400.0         1          0           0               0   \n",
       "1          4400.0         1          0           0               0   \n",
       "2          2640.0         1          0           0               0   \n",
       "3          3080.0         1          0           0               0   \n",
       "4          4400.0         1          0           0               0   \n",
       "\n",
       "   days_since_last_order  rec_segment_0-30  rec_segment_30-60  \\\n",
       "0                     92                 0                  0   \n",
       "1                     92                 0                  0   \n",
       "2                     92                 0                  0   \n",
       "3                     92                 0                  0   \n",
       "4                    102                 0                  0   \n",
       "\n",
       "   rec_segment_60-90  rec_segment_90-120  rec_segment_120-180  \\\n",
       "0                  0                   1                    0   \n",
       "1                  0                   1                    0   \n",
       "2                  0                   1                    0   \n",
       "3                  0                   1                    0   \n",
       "4                  0                   1                    0   \n",
       "\n",
       "   rec_segment_180+  customer_since_days  \n",
       "0                 0                   95  \n",
       "1                 0                   92  \n",
       "2                 0                   96  \n",
       "3                 0                   92  \n",
       "4                 0                  103  "
      ]
     },
     "execution_count": 37,
     "metadata": {},
     "output_type": "execute_result"
    },
    {
     "data": {
      "application/javascript": [
       "\n",
       "            setTimeout(function() {\n",
       "                var nbb_cell_id = 37;\n",
       "                var nbb_unformatted_code = \"df.head()\";\n",
       "                var nbb_formatted_code = \"df.head()\";\n",
       "                var nbb_cells = Jupyter.notebook.get_cells();\n",
       "                for (var i = 0; i < nbb_cells.length; ++i) {\n",
       "                    if (nbb_cells[i].input_prompt_number == nbb_cell_id) {\n",
       "                        if (nbb_cells[i].get_text() == nbb_unformatted_code) {\n",
       "                             nbb_cells[i].set_text(nbb_formatted_code);\n",
       "                        }\n",
       "                        break;\n",
       "                    }\n",
       "                }\n",
       "            }, 500);\n",
       "            "
      ],
      "text/plain": [
       "<IPython.core.display.Javascript object>"
      ]
     },
     "metadata": {},
     "output_type": "display_data"
    }
   ],
   "source": [
    "df.head()"
   ]
  },
  {
   "cell_type": "markdown",
   "metadata": {},
   "source": [
    "df.loc[\n",
    "    df[\"customer_since_days\"] < 0, \"customer_since_days\"\n",
    "] = df.customer_since_days.median()"
   ]
  },
  {
   "cell_type": "code",
   "execution_count": 38,
   "metadata": {},
   "outputs": [
    {
     "data": {
      "text/html": [
       "<div>\n",
       "<style scoped>\n",
       "    .dataframe tbody tr th:only-of-type {\n",
       "        vertical-align: middle;\n",
       "    }\n",
       "\n",
       "    .dataframe tbody tr th {\n",
       "        vertical-align: top;\n",
       "    }\n",
       "\n",
       "    .dataframe thead th {\n",
       "        text-align: right;\n",
       "    }\n",
       "</style>\n",
       "<table border=\"1\" class=\"dataframe\">\n",
       "  <thead>\n",
       "    <tr style=\"text-align: right;\">\n",
       "      <th></th>\n",
       "      <th>timestamp</th>\n",
       "      <th>country_code</th>\n",
       "      <th>last_order_ts</th>\n",
       "      <th>first_order_ts</th>\n",
       "      <th>total_orders</th>\n",
       "      <th>voucher_amount</th>\n",
       "      <th>freq_0-4</th>\n",
       "      <th>freq_5-13</th>\n",
       "      <th>freq_13-37</th>\n",
       "      <th>freq_38-higher</th>\n",
       "      <th>days_since_last_order</th>\n",
       "      <th>rec_segment_0-30</th>\n",
       "      <th>rec_segment_30-60</th>\n",
       "      <th>rec_segment_60-90</th>\n",
       "      <th>rec_segment_90-120</th>\n",
       "      <th>rec_segment_120-180</th>\n",
       "      <th>rec_segment_180+</th>\n",
       "      <th>customer_since_days</th>\n",
       "    </tr>\n",
       "  </thead>\n",
       "  <tbody>\n",
       "    <tr>\n",
       "      <th>0</th>\n",
       "      <td>2018-07-21</td>\n",
       "      <td>Latvia</td>\n",
       "      <td>2018-04-20</td>\n",
       "      <td>2018-04-17</td>\n",
       "      <td>0.0</td>\n",
       "      <td>4400.0</td>\n",
       "      <td>1</td>\n",
       "      <td>0</td>\n",
       "      <td>0</td>\n",
       "      <td>0</td>\n",
       "      <td>92</td>\n",
       "      <td>0</td>\n",
       "      <td>0</td>\n",
       "      <td>0</td>\n",
       "      <td>1</td>\n",
       "      <td>0</td>\n",
       "      <td>0</td>\n",
       "      <td>95</td>\n",
       "    </tr>\n",
       "    <tr>\n",
       "      <th>1</th>\n",
       "      <td>2018-07-21</td>\n",
       "      <td>Peru</td>\n",
       "      <td>2018-04-20</td>\n",
       "      <td>2018-04-20</td>\n",
       "      <td>0.0</td>\n",
       "      <td>4400.0</td>\n",
       "      <td>1</td>\n",
       "      <td>0</td>\n",
       "      <td>0</td>\n",
       "      <td>0</td>\n",
       "      <td>92</td>\n",
       "      <td>0</td>\n",
       "      <td>0</td>\n",
       "      <td>0</td>\n",
       "      <td>1</td>\n",
       "      <td>0</td>\n",
       "      <td>0</td>\n",
       "      <td>92</td>\n",
       "    </tr>\n",
       "    <tr>\n",
       "      <th>2</th>\n",
       "      <td>2018-07-21</td>\n",
       "      <td>Peru</td>\n",
       "      <td>2018-04-20</td>\n",
       "      <td>2018-04-16</td>\n",
       "      <td>1.0</td>\n",
       "      <td>2640.0</td>\n",
       "      <td>1</td>\n",
       "      <td>0</td>\n",
       "      <td>0</td>\n",
       "      <td>0</td>\n",
       "      <td>92</td>\n",
       "      <td>0</td>\n",
       "      <td>0</td>\n",
       "      <td>0</td>\n",
       "      <td>1</td>\n",
       "      <td>0</td>\n",
       "      <td>0</td>\n",
       "      <td>96</td>\n",
       "    </tr>\n",
       "    <tr>\n",
       "      <th>3</th>\n",
       "      <td>2018-07-21</td>\n",
       "      <td>China</td>\n",
       "      <td>2018-04-20</td>\n",
       "      <td>2018-04-20</td>\n",
       "      <td>2.0</td>\n",
       "      <td>3080.0</td>\n",
       "      <td>1</td>\n",
       "      <td>0</td>\n",
       "      <td>0</td>\n",
       "      <td>0</td>\n",
       "      <td>92</td>\n",
       "      <td>0</td>\n",
       "      <td>0</td>\n",
       "      <td>0</td>\n",
       "      <td>1</td>\n",
       "      <td>0</td>\n",
       "      <td>0</td>\n",
       "      <td>92</td>\n",
       "    </tr>\n",
       "    <tr>\n",
       "      <th>4</th>\n",
       "      <td>2018-07-31</td>\n",
       "      <td>Peru</td>\n",
       "      <td>2018-04-20</td>\n",
       "      <td>2018-04-19</td>\n",
       "      <td>0.0</td>\n",
       "      <td>4400.0</td>\n",
       "      <td>1</td>\n",
       "      <td>0</td>\n",
       "      <td>0</td>\n",
       "      <td>0</td>\n",
       "      <td>102</td>\n",
       "      <td>0</td>\n",
       "      <td>0</td>\n",
       "      <td>0</td>\n",
       "      <td>1</td>\n",
       "      <td>0</td>\n",
       "      <td>0</td>\n",
       "      <td>103</td>\n",
       "    </tr>\n",
       "  </tbody>\n",
       "</table>\n",
       "</div>"
      ],
      "text/plain": [
       "   timestamp country_code last_order_ts first_order_ts  total_orders  \\\n",
       "0 2018-07-21       Latvia    2018-04-20     2018-04-17           0.0   \n",
       "1 2018-07-21         Peru    2018-04-20     2018-04-20           0.0   \n",
       "2 2018-07-21         Peru    2018-04-20     2018-04-16           1.0   \n",
       "3 2018-07-21        China    2018-04-20     2018-04-20           2.0   \n",
       "4 2018-07-31         Peru    2018-04-20     2018-04-19           0.0   \n",
       "\n",
       "   voucher_amount  freq_0-4  freq_5-13  freq_13-37  freq_38-higher  \\\n",
       "0          4400.0         1          0           0               0   \n",
       "1          4400.0         1          0           0               0   \n",
       "2          2640.0         1          0           0               0   \n",
       "3          3080.0         1          0           0               0   \n",
       "4          4400.0         1          0           0               0   \n",
       "\n",
       "   days_since_last_order  rec_segment_0-30  rec_segment_30-60  \\\n",
       "0                     92                 0                  0   \n",
       "1                     92                 0                  0   \n",
       "2                     92                 0                  0   \n",
       "3                     92                 0                  0   \n",
       "4                    102                 0                  0   \n",
       "\n",
       "   rec_segment_60-90  rec_segment_90-120  rec_segment_120-180  \\\n",
       "0                  0                   1                    0   \n",
       "1                  0                   1                    0   \n",
       "2                  0                   1                    0   \n",
       "3                  0                   1                    0   \n",
       "4                  0                   1                    0   \n",
       "\n",
       "   rec_segment_180+  customer_since_days  \n",
       "0                 0                   95  \n",
       "1                 0                   92  \n",
       "2                 0                   96  \n",
       "3                 0                   92  \n",
       "4                 0                  103  "
      ]
     },
     "execution_count": 38,
     "metadata": {},
     "output_type": "execute_result"
    },
    {
     "data": {
      "application/javascript": [
       "\n",
       "            setTimeout(function() {\n",
       "                var nbb_cell_id = 38;\n",
       "                var nbb_unformatted_code = \"df.head()\";\n",
       "                var nbb_formatted_code = \"df.head()\";\n",
       "                var nbb_cells = Jupyter.notebook.get_cells();\n",
       "                for (var i = 0; i < nbb_cells.length; ++i) {\n",
       "                    if (nbb_cells[i].input_prompt_number == nbb_cell_id) {\n",
       "                        if (nbb_cells[i].get_text() == nbb_unformatted_code) {\n",
       "                             nbb_cells[i].set_text(nbb_formatted_code);\n",
       "                        }\n",
       "                        break;\n",
       "                    }\n",
       "                }\n",
       "            }, 500);\n",
       "            "
      ],
      "text/plain": [
       "<IPython.core.display.Javascript object>"
      ]
     },
     "metadata": {},
     "output_type": "display_data"
    }
   ],
   "source": [
    "df.head()"
   ]
  },
  {
   "cell_type": "code",
   "execution_count": 39,
   "metadata": {},
   "outputs": [
    {
     "data": {
      "text/plain": [
       "<matplotlib.axes._subplots.AxesSubplot at 0x7feb2db7e780>"
      ]
     },
     "execution_count": 39,
     "metadata": {},
     "output_type": "execute_result"
    },
    {
     "data": {
      "image/png": "[encoded data removed]",
      "text/plain": [
       "<Figure size 1440x720 with 1 Axes>"
      ]
     },
     "metadata": {
      "needs_background": "light"
     },
     "output_type": "display_data"
    },
    {
     "data": {
      "application/javascript": [
       "\n",
       "            setTimeout(function() {\n",
       "                var nbb_cell_id = 39;\n",
       "                var nbb_unformatted_code = \"df.customer_since_days.hist(bins=100, figsize=(20, 10))\";\n",
       "                var nbb_formatted_code = \"df.customer_since_days.hist(bins=100, figsize=(20, 10))\";\n",
       "                var nbb_cells = Jupyter.notebook.get_cells();\n",
       "                for (var i = 0; i < nbb_cells.length; ++i) {\n",
       "                    if (nbb_cells[i].input_prompt_number == nbb_cell_id) {\n",
       "                        if (nbb_cells[i].get_text() == nbb_unformatted_code) {\n",
       "                             nbb_cells[i].set_text(nbb_formatted_code);\n",
       "                        }\n",
       "                        break;\n",
       "                    }\n",
       "                }\n",
       "            }, 500);\n",
       "            "
      ],
      "text/plain": [
       "<IPython.core.display.Javascript object>"
      ]
     },
     "metadata": {},
     "output_type": "display_data"
    }
   ],
   "source": [
    "df.customer_since_days.hist(bins=100, figsize=(20, 10))"
   ]
  },
  {
   "cell_type": "code",
   "execution_count": 40,
   "metadata": {},
   "outputs": [
    {
     "data": {
      "text/plain": [
       "92      34790\n",
       "93       2949\n",
       "94       2523\n",
       "31       2339\n",
       "95       2178\n",
       "        ...  \n",
       "2315        1\n",
       "2509        1\n",
       "2059        1\n",
       "1997        1\n",
       "2122        1\n",
       "Name: customer_since_days, Length: 2216, dtype: int64"
      ]
     },
     "execution_count": 40,
     "metadata": {},
     "output_type": "execute_result"
    },
    {
     "data": {
      "application/javascript": [
       "\n",
       "            setTimeout(function() {\n",
       "                var nbb_cell_id = 40;\n",
       "                var nbb_unformatted_code = \"df.customer_since_days.value_counts()\";\n",
       "                var nbb_formatted_code = \"df.customer_since_days.value_counts()\";\n",
       "                var nbb_cells = Jupyter.notebook.get_cells();\n",
       "                for (var i = 0; i < nbb_cells.length; ++i) {\n",
       "                    if (nbb_cells[i].input_prompt_number == nbb_cell_id) {\n",
       "                        if (nbb_cells[i].get_text() == nbb_unformatted_code) {\n",
       "                             nbb_cells[i].set_text(nbb_formatted_code);\n",
       "                        }\n",
       "                        break;\n",
       "                    }\n",
       "                }\n",
       "            }, 500);\n",
       "            "
      ],
      "text/plain": [
       "<IPython.core.display.Javascript object>"
      ]
     },
     "metadata": {},
     "output_type": "display_data"
    }
   ],
   "source": [
    "df.customer_since_days.value_counts()"
   ]
  },
  {
   "cell_type": "code",
   "execution_count": 41,
   "metadata": {},
   "outputs": [
    {
     "data": {
      "application/javascript": [
       "\n",
       "            setTimeout(function() {\n",
       "                var nbb_cell_id = 41;\n",
       "                var nbb_unformatted_code = \"bins = [0.0, 60, 120, 180, 240, 300, np.inf]\\nlabels = [\\\"0-60\\\", \\\"60-120\\\", \\\"120-180\\\", \\\"180-240\\\", \\\"240-300\\\", \\\"300+\\\"]\";\n",
       "                var nbb_formatted_code = \"bins = [0.0, 60, 120, 180, 240, 300, np.inf]\\nlabels = [\\\"0-60\\\", \\\"60-120\\\", \\\"120-180\\\", \\\"180-240\\\", \\\"240-300\\\", \\\"300+\\\"]\";\n",
       "                var nbb_cells = Jupyter.notebook.get_cells();\n",
       "                for (var i = 0; i < nbb_cells.length; ++i) {\n",
       "                    if (nbb_cells[i].input_prompt_number == nbb_cell_id) {\n",
       "                        if (nbb_cells[i].get_text() == nbb_unformatted_code) {\n",
       "                             nbb_cells[i].set_text(nbb_formatted_code);\n",
       "                        }\n",
       "                        break;\n",
       "                    }\n",
       "                }\n",
       "            }, 500);\n",
       "            "
      ],
      "text/plain": [
       "<IPython.core.display.Javascript object>"
      ]
     },
     "metadata": {},
     "output_type": "display_data"
    }
   ],
   "source": [
    "bins = [0.0, 60, 120, 180, 240, 300, np.inf]\n",
    "labels = [\"0-60\", \"60-120\", \"120-180\", \"180-240\", \"240-300\", \"300+\"]"
   ]
  },
  {
   "cell_type": "code",
   "execution_count": 42,
   "metadata": {},
   "outputs": [
    {
     "data": {
      "application/javascript": [
       "\n",
       "            setTimeout(function() {\n",
       "                var nbb_cell_id = 42;\n",
       "                var nbb_unformatted_code = \"df[\\\"customer_since_ranges\\\"] = pd.cut(\\n    df[\\\"customer_since_days\\\"], bins=bins, labels=labels, include_lowest=True\\n)\";\n",
       "                var nbb_formatted_code = \"df[\\\"customer_since_ranges\\\"] = pd.cut(\\n    df[\\\"customer_since_days\\\"], bins=bins, labels=labels, include_lowest=True\\n)\";\n",
       "                var nbb_cells = Jupyter.notebook.get_cells();\n",
       "                for (var i = 0; i < nbb_cells.length; ++i) {\n",
       "                    if (nbb_cells[i].input_prompt_number == nbb_cell_id) {\n",
       "                        if (nbb_cells[i].get_text() == nbb_unformatted_code) {\n",
       "                             nbb_cells[i].set_text(nbb_formatted_code);\n",
       "                        }\n",
       "                        break;\n",
       "                    }\n",
       "                }\n",
       "            }, 500);\n",
       "            "
      ],
      "text/plain": [
       "<IPython.core.display.Javascript object>"
      ]
     },
     "metadata": {},
     "output_type": "display_data"
    }
   ],
   "source": [
    "df[\"customer_since_ranges\"] = pd.cut(\n",
    "    df[\"customer_since_days\"], bins=bins, labels=labels, include_lowest=True\n",
    ")"
   ]
  },
  {
   "cell_type": "code",
   "execution_count": 43,
   "metadata": {},
   "outputs": [
    {
     "data": {
      "text/html": [
       "<div>\n",
       "<style scoped>\n",
       "    .dataframe tbody tr th:only-of-type {\n",
       "        vertical-align: middle;\n",
       "    }\n",
       "\n",
       "    .dataframe tbody tr th {\n",
       "        vertical-align: top;\n",
       "    }\n",
       "\n",
       "    .dataframe thead th {\n",
       "        text-align: right;\n",
       "    }\n",
       "</style>\n",
       "<table border=\"1\" class=\"dataframe\">\n",
       "  <thead>\n",
       "    <tr style=\"text-align: right;\">\n",
       "      <th></th>\n",
       "      <th>timestamp</th>\n",
       "      <th>country_code</th>\n",
       "      <th>last_order_ts</th>\n",
       "      <th>first_order_ts</th>\n",
       "      <th>total_orders</th>\n",
       "      <th>voucher_amount</th>\n",
       "      <th>freq_0-4</th>\n",
       "      <th>freq_5-13</th>\n",
       "      <th>freq_13-37</th>\n",
       "      <th>freq_38-higher</th>\n",
       "      <th>days_since_last_order</th>\n",
       "      <th>rec_segment_0-30</th>\n",
       "      <th>rec_segment_30-60</th>\n",
       "      <th>rec_segment_60-90</th>\n",
       "      <th>rec_segment_90-120</th>\n",
       "      <th>rec_segment_120-180</th>\n",
       "      <th>rec_segment_180+</th>\n",
       "      <th>customer_since_days</th>\n",
       "      <th>customer_since_ranges</th>\n",
       "    </tr>\n",
       "  </thead>\n",
       "  <tbody>\n",
       "    <tr>\n",
       "      <th>0</th>\n",
       "      <td>2018-07-21</td>\n",
       "      <td>Latvia</td>\n",
       "      <td>2018-04-20</td>\n",
       "      <td>2018-04-17</td>\n",
       "      <td>0.0</td>\n",
       "      <td>4400.0</td>\n",
       "      <td>1</td>\n",
       "      <td>0</td>\n",
       "      <td>0</td>\n",
       "      <td>0</td>\n",
       "      <td>92</td>\n",
       "      <td>0</td>\n",
       "      <td>0</td>\n",
       "      <td>0</td>\n",
       "      <td>1</td>\n",
       "      <td>0</td>\n",
       "      <td>0</td>\n",
       "      <td>95</td>\n",
       "      <td>60-120</td>\n",
       "    </tr>\n",
       "    <tr>\n",
       "      <th>1</th>\n",
       "      <td>2018-07-21</td>\n",
       "      <td>Peru</td>\n",
       "      <td>2018-04-20</td>\n",
       "      <td>2018-04-20</td>\n",
       "      <td>0.0</td>\n",
       "      <td>4400.0</td>\n",
       "      <td>1</td>\n",
       "      <td>0</td>\n",
       "      <td>0</td>\n",
       "      <td>0</td>\n",
       "      <td>92</td>\n",
       "      <td>0</td>\n",
       "      <td>0</td>\n",
       "      <td>0</td>\n",
       "      <td>1</td>\n",
       "      <td>0</td>\n",
       "      <td>0</td>\n",
       "      <td>92</td>\n",
       "      <td>60-120</td>\n",
       "    </tr>\n",
       "    <tr>\n",
       "      <th>2</th>\n",
       "      <td>2018-07-21</td>\n",
       "      <td>Peru</td>\n",
       "      <td>2018-04-20</td>\n",
       "      <td>2018-04-16</td>\n",
       "      <td>1.0</td>\n",
       "      <td>2640.0</td>\n",
       "      <td>1</td>\n",
       "      <td>0</td>\n",
       "      <td>0</td>\n",
       "      <td>0</td>\n",
       "      <td>92</td>\n",
       "      <td>0</td>\n",
       "      <td>0</td>\n",
       "      <td>0</td>\n",
       "      <td>1</td>\n",
       "      <td>0</td>\n",
       "      <td>0</td>\n",
       "      <td>96</td>\n",
       "      <td>60-120</td>\n",
       "    </tr>\n",
       "    <tr>\n",
       "      <th>3</th>\n",
       "      <td>2018-07-21</td>\n",
       "      <td>China</td>\n",
       "      <td>2018-04-20</td>\n",
       "      <td>2018-04-20</td>\n",
       "      <td>2.0</td>\n",
       "      <td>3080.0</td>\n",
       "      <td>1</td>\n",
       "      <td>0</td>\n",
       "      <td>0</td>\n",
       "      <td>0</td>\n",
       "      <td>92</td>\n",
       "      <td>0</td>\n",
       "      <td>0</td>\n",
       "      <td>0</td>\n",
       "      <td>1</td>\n",
       "      <td>0</td>\n",
       "      <td>0</td>\n",
       "      <td>92</td>\n",
       "      <td>60-120</td>\n",
       "    </tr>\n",
       "    <tr>\n",
       "      <th>4</th>\n",
       "      <td>2018-07-31</td>\n",
       "      <td>Peru</td>\n",
       "      <td>2018-04-20</td>\n",
       "      <td>2018-04-19</td>\n",
       "      <td>0.0</td>\n",
       "      <td>4400.0</td>\n",
       "      <td>1</td>\n",
       "      <td>0</td>\n",
       "      <td>0</td>\n",
       "      <td>0</td>\n",
       "      <td>102</td>\n",
       "      <td>0</td>\n",
       "      <td>0</td>\n",
       "      <td>0</td>\n",
       "      <td>1</td>\n",
       "      <td>0</td>\n",
       "      <td>0</td>\n",
       "      <td>103</td>\n",
       "      <td>60-120</td>\n",
       "    </tr>\n",
       "  </tbody>\n",
       "</table>\n",
       "</div>"
      ],
      "text/plain": [
       "   timestamp country_code last_order_ts first_order_ts  total_orders  \\\n",
       "0 2018-07-21       Latvia    2018-04-20     2018-04-17           0.0   \n",
       "1 2018-07-21         Peru    2018-04-20     2018-04-20           0.0   \n",
       "2 2018-07-21         Peru    2018-04-20     2018-04-16           1.0   \n",
       "3 2018-07-21        China    2018-04-20     2018-04-20           2.0   \n",
       "4 2018-07-31         Peru    2018-04-20     2018-04-19           0.0   \n",
       "\n",
       "   voucher_amount  freq_0-4  freq_5-13  freq_13-37  freq_38-higher  \\\n",
       "0          4400.0         1          0           0               0   \n",
       "1          4400.0         1          0           0               0   \n",
       "2          2640.0         1          0           0               0   \n",
       "3          3080.0         1          0           0               0   \n",
       "4          4400.0         1          0           0               0   \n",
       "\n",
       "   days_since_last_order  rec_segment_0-30  rec_segment_30-60  \\\n",
       "0                     92                 0                  0   \n",
       "1                     92                 0                  0   \n",
       "2                     92                 0                  0   \n",
       "3                     92                 0                  0   \n",
       "4                    102                 0                  0   \n",
       "\n",
       "   rec_segment_60-90  rec_segment_90-120  rec_segment_120-180  \\\n",
       "0                  0                   1                    0   \n",
       "1                  0                   1                    0   \n",
       "2                  0                   1                    0   \n",
       "3                  0                   1                    0   \n",
       "4                  0                   1                    0   \n",
       "\n",
       "   rec_segment_180+  customer_since_days customer_since_ranges  \n",
       "0                 0                   95                60-120  \n",
       "1                 0                   92                60-120  \n",
       "2                 0                   96                60-120  \n",
       "3                 0                   92                60-120  \n",
       "4                 0                  103                60-120  "
      ]
     },
     "execution_count": 43,
     "metadata": {},
     "output_type": "execute_result"
    },
    {
     "data": {
      "application/javascript": [
       "\n",
       "            setTimeout(function() {\n",
       "                var nbb_cell_id = 43;\n",
       "                var nbb_unformatted_code = \"df.head()\";\n",
       "                var nbb_formatted_code = \"df.head()\";\n",
       "                var nbb_cells = Jupyter.notebook.get_cells();\n",
       "                for (var i = 0; i < nbb_cells.length; ++i) {\n",
       "                    if (nbb_cells[i].input_prompt_number == nbb_cell_id) {\n",
       "                        if (nbb_cells[i].get_text() == nbb_unformatted_code) {\n",
       "                             nbb_cells[i].set_text(nbb_formatted_code);\n",
       "                        }\n",
       "                        break;\n",
       "                    }\n",
       "                }\n",
       "            }, 500);\n",
       "            "
      ],
      "text/plain": [
       "<IPython.core.display.Javascript object>"
      ]
     },
     "metadata": {},
     "output_type": "display_data"
    }
   ],
   "source": [
    "df.head()"
   ]
  },
  {
   "cell_type": "code",
   "execution_count": 44,
   "metadata": {},
   "outputs": [
    {
     "data": {
      "application/javascript": [
       "\n",
       "            setTimeout(function() {\n",
       "                var nbb_cell_id = 44;\n",
       "                var nbb_unformatted_code = \"one_hot_cust_since = pd.get_dummies(df[\\\"customer_since_ranges\\\"], prefix=\\\"cust_since\\\")\";\n",
       "                var nbb_formatted_code = \"one_hot_cust_since = pd.get_dummies(df[\\\"customer_since_ranges\\\"], prefix=\\\"cust_since\\\")\";\n",
       "                var nbb_cells = Jupyter.notebook.get_cells();\n",
       "                for (var i = 0; i < nbb_cells.length; ++i) {\n",
       "                    if (nbb_cells[i].input_prompt_number == nbb_cell_id) {\n",
       "                        if (nbb_cells[i].get_text() == nbb_unformatted_code) {\n",
       "                             nbb_cells[i].set_text(nbb_formatted_code);\n",
       "                        }\n",
       "                        break;\n",
       "                    }\n",
       "                }\n",
       "            }, 500);\n",
       "            "
      ],
      "text/plain": [
       "<IPython.core.display.Javascript object>"
      ]
     },
     "metadata": {},
     "output_type": "display_data"
    }
   ],
   "source": [
    "one_hot_cust_since = pd.get_dummies(df[\"customer_since_ranges\"], prefix=\"cust_since\")"
   ]
  },
  {
   "cell_type": "code",
   "execution_count": 45,
   "metadata": {},
   "outputs": [
    {
     "data": {
      "application/javascript": [
       "\n",
       "            setTimeout(function() {\n",
       "                var nbb_cell_id = 45;\n",
       "                var nbb_unformatted_code = \"df = df.join(one_hot_cust_since)\";\n",
       "                var nbb_formatted_code = \"df = df.join(one_hot_cust_since)\";\n",
       "                var nbb_cells = Jupyter.notebook.get_cells();\n",
       "                for (var i = 0; i < nbb_cells.length; ++i) {\n",
       "                    if (nbb_cells[i].input_prompt_number == nbb_cell_id) {\n",
       "                        if (nbb_cells[i].get_text() == nbb_unformatted_code) {\n",
       "                             nbb_cells[i].set_text(nbb_formatted_code);\n",
       "                        }\n",
       "                        break;\n",
       "                    }\n",
       "                }\n",
       "            }, 500);\n",
       "            "
      ],
      "text/plain": [
       "<IPython.core.display.Javascript object>"
      ]
     },
     "metadata": {},
     "output_type": "display_data"
    }
   ],
   "source": [
    "df = df.join(one_hot_cust_since)"
   ]
  },
  {
   "cell_type": "code",
   "execution_count": 46,
   "metadata": {},
   "outputs": [
    {
     "data": {
      "application/javascript": [
       "\n",
       "            setTimeout(function() {\n",
       "                var nbb_cell_id = 46;\n",
       "                var nbb_unformatted_code = \"df = df.drop(\\\"customer_since_ranges\\\", axis=1)\";\n",
       "                var nbb_formatted_code = \"df = df.drop(\\\"customer_since_ranges\\\", axis=1)\";\n",
       "                var nbb_cells = Jupyter.notebook.get_cells();\n",
       "                for (var i = 0; i < nbb_cells.length; ++i) {\n",
       "                    if (nbb_cells[i].input_prompt_number == nbb_cell_id) {\n",
       "                        if (nbb_cells[i].get_text() == nbb_unformatted_code) {\n",
       "                             nbb_cells[i].set_text(nbb_formatted_code);\n",
       "                        }\n",
       "                        break;\n",
       "                    }\n",
       "                }\n",
       "            }, 500);\n",
       "            "
      ],
      "text/plain": [
       "<IPython.core.display.Javascript object>"
      ]
     },
     "metadata": {},
     "output_type": "display_data"
    }
   ],
   "source": [
    "df = df.drop(\"customer_since_ranges\", axis=1)"
   ]
  },
  {
   "cell_type": "code",
   "execution_count": 47,
   "metadata": {
    "scrolled": false
   },
   "outputs": [
    {
     "data": {
      "text/html": [
       "<div>\n",
       "<style scoped>\n",
       "    .dataframe tbody tr th:only-of-type {\n",
       "        vertical-align: middle;\n",
       "    }\n",
       "\n",
       "    .dataframe tbody tr th {\n",
       "        vertical-align: top;\n",
       "    }\n",
       "\n",
       "    .dataframe thead th {\n",
       "        text-align: right;\n",
       "    }\n",
       "</style>\n",
       "<table border=\"1\" class=\"dataframe\">\n",
       "  <thead>\n",
       "    <tr style=\"text-align: right;\">\n",
       "      <th></th>\n",
       "      <th>timestamp</th>\n",
       "      <th>country_code</th>\n",
       "      <th>last_order_ts</th>\n",
       "      <th>first_order_ts</th>\n",
       "      <th>total_orders</th>\n",
       "      <th>voucher_amount</th>\n",
       "      <th>freq_0-4</th>\n",
       "      <th>freq_5-13</th>\n",
       "      <th>freq_13-37</th>\n",
       "      <th>freq_38-higher</th>\n",
       "      <th>...</th>\n",
       "      <th>rec_segment_90-120</th>\n",
       "      <th>rec_segment_120-180</th>\n",
       "      <th>rec_segment_180+</th>\n",
       "      <th>customer_since_days</th>\n",
       "      <th>cust_since_0-60</th>\n",
       "      <th>cust_since_60-120</th>\n",
       "      <th>cust_since_120-180</th>\n",
       "      <th>cust_since_180-240</th>\n",
       "      <th>cust_since_240-300</th>\n",
       "      <th>cust_since_300+</th>\n",
       "    </tr>\n",
       "  </thead>\n",
       "  <tbody>\n",
       "    <tr>\n",
       "      <th>0</th>\n",
       "      <td>2018-07-21</td>\n",
       "      <td>Latvia</td>\n",
       "      <td>2018-04-20</td>\n",
       "      <td>2018-04-17</td>\n",
       "      <td>0.0</td>\n",
       "      <td>4400.0</td>\n",
       "      <td>1</td>\n",
       "      <td>0</td>\n",
       "      <td>0</td>\n",
       "      <td>0</td>\n",
       "      <td>...</td>\n",
       "      <td>1</td>\n",
       "      <td>0</td>\n",
       "      <td>0</td>\n",
       "      <td>95</td>\n",
       "      <td>0</td>\n",
       "      <td>1</td>\n",
       "      <td>0</td>\n",
       "      <td>0</td>\n",
       "      <td>0</td>\n",
       "      <td>0</td>\n",
       "    </tr>\n",
       "    <tr>\n",
       "      <th>1</th>\n",
       "      <td>2018-07-21</td>\n",
       "      <td>Peru</td>\n",
       "      <td>2018-04-20</td>\n",
       "      <td>2018-04-20</td>\n",
       "      <td>0.0</td>\n",
       "      <td>4400.0</td>\n",
       "      <td>1</td>\n",
       "      <td>0</td>\n",
       "      <td>0</td>\n",
       "      <td>0</td>\n",
       "      <td>...</td>\n",
       "      <td>1</td>\n",
       "      <td>0</td>\n",
       "      <td>0</td>\n",
       "      <td>92</td>\n",
       "      <td>0</td>\n",
       "      <td>1</td>\n",
       "      <td>0</td>\n",
       "      <td>0</td>\n",
       "      <td>0</td>\n",
       "      <td>0</td>\n",
       "    </tr>\n",
       "    <tr>\n",
       "      <th>2</th>\n",
       "      <td>2018-07-21</td>\n",
       "      <td>Peru</td>\n",
       "      <td>2018-04-20</td>\n",
       "      <td>2018-04-16</td>\n",
       "      <td>1.0</td>\n",
       "      <td>2640.0</td>\n",
       "      <td>1</td>\n",
       "      <td>0</td>\n",
       "      <td>0</td>\n",
       "      <td>0</td>\n",
       "      <td>...</td>\n",
       "      <td>1</td>\n",
       "      <td>0</td>\n",
       "      <td>0</td>\n",
       "      <td>96</td>\n",
       "      <td>0</td>\n",
       "      <td>1</td>\n",
       "      <td>0</td>\n",
       "      <td>0</td>\n",
       "      <td>0</td>\n",
       "      <td>0</td>\n",
       "    </tr>\n",
       "    <tr>\n",
       "      <th>3</th>\n",
       "      <td>2018-07-21</td>\n",
       "      <td>China</td>\n",
       "      <td>2018-04-20</td>\n",
       "      <td>2018-04-20</td>\n",
       "      <td>2.0</td>\n",
       "      <td>3080.0</td>\n",
       "      <td>1</td>\n",
       "      <td>0</td>\n",
       "      <td>0</td>\n",
       "      <td>0</td>\n",
       "      <td>...</td>\n",
       "      <td>1</td>\n",
       "      <td>0</td>\n",
       "      <td>0</td>\n",
       "      <td>92</td>\n",
       "      <td>0</td>\n",
       "      <td>1</td>\n",
       "      <td>0</td>\n",
       "      <td>0</td>\n",
       "      <td>0</td>\n",
       "      <td>0</td>\n",
       "    </tr>\n",
       "    <tr>\n",
       "      <th>4</th>\n",
       "      <td>2018-07-31</td>\n",
       "      <td>Peru</td>\n",
       "      <td>2018-04-20</td>\n",
       "      <td>2018-04-19</td>\n",
       "      <td>0.0</td>\n",
       "      <td>4400.0</td>\n",
       "      <td>1</td>\n",
       "      <td>0</td>\n",
       "      <td>0</td>\n",
       "      <td>0</td>\n",
       "      <td>...</td>\n",
       "      <td>1</td>\n",
       "      <td>0</td>\n",
       "      <td>0</td>\n",
       "      <td>103</td>\n",
       "      <td>0</td>\n",
       "      <td>1</td>\n",
       "      <td>0</td>\n",
       "      <td>0</td>\n",
       "      <td>0</td>\n",
       "      <td>0</td>\n",
       "    </tr>\n",
       "  </tbody>\n",
       "</table>\n",
       "<p>5 rows × 24 columns</p>\n",
       "</div>"
      ],
      "text/plain": [
       "   timestamp country_code last_order_ts first_order_ts  total_orders  \\\n",
       "0 2018-07-21       Latvia    2018-04-20     2018-04-17           0.0   \n",
       "1 2018-07-21         Peru    2018-04-20     2018-04-20           0.0   \n",
       "2 2018-07-21         Peru    2018-04-20     2018-04-16           1.0   \n",
       "3 2018-07-21        China    2018-04-20     2018-04-20           2.0   \n",
       "4 2018-07-31         Peru    2018-04-20     2018-04-19           0.0   \n",
       "\n",
       "   voucher_amount  freq_0-4  freq_5-13  freq_13-37  freq_38-higher  ...  \\\n",
       "0          4400.0         1          0           0               0  ...   \n",
       "1          4400.0         1          0           0               0  ...   \n",
       "2          2640.0         1          0           0               0  ...   \n",
       "3          3080.0         1          0           0               0  ...   \n",
       "4          4400.0         1          0           0               0  ...   \n",
       "\n",
       "   rec_segment_90-120  rec_segment_120-180  rec_segment_180+  \\\n",
       "0                   1                    0                 0   \n",
       "1                   1                    0                 0   \n",
       "2                   1                    0                 0   \n",
       "3                   1                    0                 0   \n",
       "4                   1                    0                 0   \n",
       "\n",
       "   customer_since_days  cust_since_0-60  cust_since_60-120  \\\n",
       "0                   95                0                  1   \n",
       "1                   92                0                  1   \n",
       "2                   96                0                  1   \n",
       "3                   92                0                  1   \n",
       "4                  103                0                  1   \n",
       "\n",
       "   cust_since_120-180  cust_since_180-240  cust_since_240-300  cust_since_300+  \n",
       "0                   0                   0                   0                0  \n",
       "1                   0                   0                   0                0  \n",
       "2                   0                   0                   0                0  \n",
       "3                   0                   0                   0                0  \n",
       "4                   0                   0                   0                0  \n",
       "\n",
       "[5 rows x 24 columns]"
      ]
     },
     "execution_count": 47,
     "metadata": {},
     "output_type": "execute_result"
    },
    {
     "data": {
      "application/javascript": [
       "\n",
       "            setTimeout(function() {\n",
       "                var nbb_cell_id = 47;\n",
       "                var nbb_unformatted_code = \"df.head()\";\n",
       "                var nbb_formatted_code = \"df.head()\";\n",
       "                var nbb_cells = Jupyter.notebook.get_cells();\n",
       "                for (var i = 0; i < nbb_cells.length; ++i) {\n",
       "                    if (nbb_cells[i].input_prompt_number == nbb_cell_id) {\n",
       "                        if (nbb_cells[i].get_text() == nbb_unformatted_code) {\n",
       "                             nbb_cells[i].set_text(nbb_formatted_code);\n",
       "                        }\n",
       "                        break;\n",
       "                    }\n",
       "                }\n",
       "            }, 500);\n",
       "            "
      ],
      "text/plain": [
       "<IPython.core.display.Javascript object>"
      ]
     },
     "metadata": {},
     "output_type": "display_data"
    }
   ],
   "source": [
    "df.head()"
   ]
  },
  {
   "cell_type": "code",
   "execution_count": 48,
   "metadata": {},
   "outputs": [
    {
     "data": {
      "application/javascript": [
       "\n",
       "            setTimeout(function() {\n",
       "                var nbb_cell_id = 48;\n",
       "                var nbb_unformatted_code = \"df = df.drop(\\\"rec_segment_180+\\\", axis=1)\";\n",
       "                var nbb_formatted_code = \"df = df.drop(\\\"rec_segment_180+\\\", axis=1)\";\n",
       "                var nbb_cells = Jupyter.notebook.get_cells();\n",
       "                for (var i = 0; i < nbb_cells.length; ++i) {\n",
       "                    if (nbb_cells[i].input_prompt_number == nbb_cell_id) {\n",
       "                        if (nbb_cells[i].get_text() == nbb_unformatted_code) {\n",
       "                             nbb_cells[i].set_text(nbb_formatted_code);\n",
       "                        }\n",
       "                        break;\n",
       "                    }\n",
       "                }\n",
       "            }, 500);\n",
       "            "
      ],
      "text/plain": [
       "<IPython.core.display.Javascript object>"
      ]
     },
     "metadata": {},
     "output_type": "display_data"
    }
   ],
   "source": [
    "df = df.drop(\"rec_segment_180+\", axis=1)"
   ]
  },
  {
   "cell_type": "markdown",
   "metadata": {},
   "source": [
    "### One hot encode country code"
   ]
  },
  {
   "cell_type": "code",
   "execution_count": 49,
   "metadata": {},
   "outputs": [
    {
     "data": {
      "application/javascript": [
       "\n",
       "            setTimeout(function() {\n",
       "                var nbb_cell_id = 49;\n",
       "                var nbb_unformatted_code = \"one_hot_country_code = pd.get_dummies(df[\\\"country_code\\\"], prefix=\\\"country_code\\\")\";\n",
       "                var nbb_formatted_code = \"one_hot_country_code = pd.get_dummies(df[\\\"country_code\\\"], prefix=\\\"country_code\\\")\";\n",
       "                var nbb_cells = Jupyter.notebook.get_cells();\n",
       "                for (var i = 0; i < nbb_cells.length; ++i) {\n",
       "                    if (nbb_cells[i].input_prompt_number == nbb_cell_id) {\n",
       "                        if (nbb_cells[i].get_text() == nbb_unformatted_code) {\n",
       "                             nbb_cells[i].set_text(nbb_formatted_code);\n",
       "                        }\n",
       "                        break;\n",
       "                    }\n",
       "                }\n",
       "            }, 500);\n",
       "            "
      ],
      "text/plain": [
       "<IPython.core.display.Javascript object>"
      ]
     },
     "metadata": {},
     "output_type": "display_data"
    }
   ],
   "source": [
    "one_hot_country_code = pd.get_dummies(df[\"country_code\"], prefix=\"country_code\")"
   ]
  },
  {
   "cell_type": "code",
   "execution_count": 50,
   "metadata": {},
   "outputs": [
    {
     "data": {
      "application/javascript": [
       "\n",
       "            setTimeout(function() {\n",
       "                var nbb_cell_id = 50;\n",
       "                var nbb_unformatted_code = \"df = df.join(one_hot_country_code)\";\n",
       "                var nbb_formatted_code = \"df = df.join(one_hot_country_code)\";\n",
       "                var nbb_cells = Jupyter.notebook.get_cells();\n",
       "                for (var i = 0; i < nbb_cells.length; ++i) {\n",
       "                    if (nbb_cells[i].input_prompt_number == nbb_cell_id) {\n",
       "                        if (nbb_cells[i].get_text() == nbb_unformatted_code) {\n",
       "                             nbb_cells[i].set_text(nbb_formatted_code);\n",
       "                        }\n",
       "                        break;\n",
       "                    }\n",
       "                }\n",
       "            }, 500);\n",
       "            "
      ],
      "text/plain": [
       "<IPython.core.display.Javascript object>"
      ]
     },
     "metadata": {},
     "output_type": "display_data"
    }
   ],
   "source": [
    "df = df.join(one_hot_country_code)"
   ]
  },
  {
   "cell_type": "code",
   "execution_count": 51,
   "metadata": {},
   "outputs": [
    {
     "data": {
      "text/html": [
       "<div>\n",
       "<style scoped>\n",
       "    .dataframe tbody tr th:only-of-type {\n",
       "        vertical-align: middle;\n",
       "    }\n",
       "\n",
       "    .dataframe tbody tr th {\n",
       "        vertical-align: top;\n",
       "    }\n",
       "\n",
       "    .dataframe thead th {\n",
       "        text-align: right;\n",
       "    }\n",
       "</style>\n",
       "<table border=\"1\" class=\"dataframe\">\n",
       "  <thead>\n",
       "    <tr style=\"text-align: right;\">\n",
       "      <th></th>\n",
       "      <th>timestamp</th>\n",
       "      <th>country_code</th>\n",
       "      <th>last_order_ts</th>\n",
       "      <th>first_order_ts</th>\n",
       "      <th>total_orders</th>\n",
       "      <th>voucher_amount</th>\n",
       "      <th>freq_0-4</th>\n",
       "      <th>freq_5-13</th>\n",
       "      <th>freq_13-37</th>\n",
       "      <th>freq_38-higher</th>\n",
       "      <th>...</th>\n",
       "      <th>cust_since_0-60</th>\n",
       "      <th>cust_since_60-120</th>\n",
       "      <th>cust_since_120-180</th>\n",
       "      <th>cust_since_180-240</th>\n",
       "      <th>cust_since_240-300</th>\n",
       "      <th>cust_since_300+</th>\n",
       "      <th>country_code_Australia</th>\n",
       "      <th>country_code_China</th>\n",
       "      <th>country_code_Latvia</th>\n",
       "      <th>country_code_Peru</th>\n",
       "    </tr>\n",
       "  </thead>\n",
       "  <tbody>\n",
       "    <tr>\n",
       "      <th>0</th>\n",
       "      <td>2018-07-21</td>\n",
       "      <td>Latvia</td>\n",
       "      <td>2018-04-20</td>\n",
       "      <td>2018-04-17</td>\n",
       "      <td>0.0</td>\n",
       "      <td>4400.0</td>\n",
       "      <td>1</td>\n",
       "      <td>0</td>\n",
       "      <td>0</td>\n",
       "      <td>0</td>\n",
       "      <td>...</td>\n",
       "      <td>0</td>\n",
       "      <td>1</td>\n",
       "      <td>0</td>\n",
       "      <td>0</td>\n",
       "      <td>0</td>\n",
       "      <td>0</td>\n",
       "      <td>0</td>\n",
       "      <td>0</td>\n",
       "      <td>1</td>\n",
       "      <td>0</td>\n",
       "    </tr>\n",
       "    <tr>\n",
       "      <th>1</th>\n",
       "      <td>2018-07-21</td>\n",
       "      <td>Peru</td>\n",
       "      <td>2018-04-20</td>\n",
       "      <td>2018-04-20</td>\n",
       "      <td>0.0</td>\n",
       "      <td>4400.0</td>\n",
       "      <td>1</td>\n",
       "      <td>0</td>\n",
       "      <td>0</td>\n",
       "      <td>0</td>\n",
       "      <td>...</td>\n",
       "      <td>0</td>\n",
       "      <td>1</td>\n",
       "      <td>0</td>\n",
       "      <td>0</td>\n",
       "      <td>0</td>\n",
       "      <td>0</td>\n",
       "      <td>0</td>\n",
       "      <td>0</td>\n",
       "      <td>0</td>\n",
       "      <td>1</td>\n",
       "    </tr>\n",
       "    <tr>\n",
       "      <th>2</th>\n",
       "      <td>2018-07-21</td>\n",
       "      <td>Peru</td>\n",
       "      <td>2018-04-20</td>\n",
       "      <td>2018-04-16</td>\n",
       "      <td>1.0</td>\n",
       "      <td>2640.0</td>\n",
       "      <td>1</td>\n",
       "      <td>0</td>\n",
       "      <td>0</td>\n",
       "      <td>0</td>\n",
       "      <td>...</td>\n",
       "      <td>0</td>\n",
       "      <td>1</td>\n",
       "      <td>0</td>\n",
       "      <td>0</td>\n",
       "      <td>0</td>\n",
       "      <td>0</td>\n",
       "      <td>0</td>\n",
       "      <td>0</td>\n",
       "      <td>0</td>\n",
       "      <td>1</td>\n",
       "    </tr>\n",
       "    <tr>\n",
       "      <th>3</th>\n",
       "      <td>2018-07-21</td>\n",
       "      <td>China</td>\n",
       "      <td>2018-04-20</td>\n",
       "      <td>2018-04-20</td>\n",
       "      <td>2.0</td>\n",
       "      <td>3080.0</td>\n",
       "      <td>1</td>\n",
       "      <td>0</td>\n",
       "      <td>0</td>\n",
       "      <td>0</td>\n",
       "      <td>...</td>\n",
       "      <td>0</td>\n",
       "      <td>1</td>\n",
       "      <td>0</td>\n",
       "      <td>0</td>\n",
       "      <td>0</td>\n",
       "      <td>0</td>\n",
       "      <td>0</td>\n",
       "      <td>1</td>\n",
       "      <td>0</td>\n",
       "      <td>0</td>\n",
       "    </tr>\n",
       "    <tr>\n",
       "      <th>4</th>\n",
       "      <td>2018-07-31</td>\n",
       "      <td>Peru</td>\n",
       "      <td>2018-04-20</td>\n",
       "      <td>2018-04-19</td>\n",
       "      <td>0.0</td>\n",
       "      <td>4400.0</td>\n",
       "      <td>1</td>\n",
       "      <td>0</td>\n",
       "      <td>0</td>\n",
       "      <td>0</td>\n",
       "      <td>...</td>\n",
       "      <td>0</td>\n",
       "      <td>1</td>\n",
       "      <td>0</td>\n",
       "      <td>0</td>\n",
       "      <td>0</td>\n",
       "      <td>0</td>\n",
       "      <td>0</td>\n",
       "      <td>0</td>\n",
       "      <td>0</td>\n",
       "      <td>1</td>\n",
       "    </tr>\n",
       "  </tbody>\n",
       "</table>\n",
       "<p>5 rows × 27 columns</p>\n",
       "</div>"
      ],
      "text/plain": [
       "   timestamp country_code last_order_ts first_order_ts  total_orders  \\\n",
       "0 2018-07-21       Latvia    2018-04-20     2018-04-17           0.0   \n",
       "1 2018-07-21         Peru    2018-04-20     2018-04-20           0.0   \n",
       "2 2018-07-21         Peru    2018-04-20     2018-04-16           1.0   \n",
       "3 2018-07-21        China    2018-04-20     2018-04-20           2.0   \n",
       "4 2018-07-31         Peru    2018-04-20     2018-04-19           0.0   \n",
       "\n",
       "   voucher_amount  freq_0-4  freq_5-13  freq_13-37  freq_38-higher  ...  \\\n",
       "0          4400.0         1          0           0               0  ...   \n",
       "1          4400.0         1          0           0               0  ...   \n",
       "2          2640.0         1          0           0               0  ...   \n",
       "3          3080.0         1          0           0               0  ...   \n",
       "4          4400.0         1          0           0               0  ...   \n",
       "\n",
       "   cust_since_0-60  cust_since_60-120  cust_since_120-180  cust_since_180-240  \\\n",
       "0                0                  1                   0                   0   \n",
       "1                0                  1                   0                   0   \n",
       "2                0                  1                   0                   0   \n",
       "3                0                  1                   0                   0   \n",
       "4                0                  1                   0                   0   \n",
       "\n",
       "   cust_since_240-300  cust_since_300+  country_code_Australia  \\\n",
       "0                   0                0                       0   \n",
       "1                   0                0                       0   \n",
       "2                   0                0                       0   \n",
       "3                   0                0                       0   \n",
       "4                   0                0                       0   \n",
       "\n",
       "   country_code_China  country_code_Latvia  country_code_Peru  \n",
       "0                   0                    1                  0  \n",
       "1                   0                    0                  1  \n",
       "2                   0                    0                  1  \n",
       "3                   1                    0                  0  \n",
       "4                   0                    0                  1  \n",
       "\n",
       "[5 rows x 27 columns]"
      ]
     },
     "execution_count": 51,
     "metadata": {},
     "output_type": "execute_result"
    },
    {
     "data": {
      "application/javascript": [
       "\n",
       "            setTimeout(function() {\n",
       "                var nbb_cell_id = 51;\n",
       "                var nbb_unformatted_code = \"df.head()\";\n",
       "                var nbb_formatted_code = \"df.head()\";\n",
       "                var nbb_cells = Jupyter.notebook.get_cells();\n",
       "                for (var i = 0; i < nbb_cells.length; ++i) {\n",
       "                    if (nbb_cells[i].input_prompt_number == nbb_cell_id) {\n",
       "                        if (nbb_cells[i].get_text() == nbb_unformatted_code) {\n",
       "                             nbb_cells[i].set_text(nbb_formatted_code);\n",
       "                        }\n",
       "                        break;\n",
       "                    }\n",
       "                }\n",
       "            }, 500);\n",
       "            "
      ],
      "text/plain": [
       "<IPython.core.display.Javascript object>"
      ]
     },
     "metadata": {},
     "output_type": "display_data"
    }
   ],
   "source": [
    "df.head()"
   ]
  },
  {
   "cell_type": "markdown",
   "metadata": {},
   "source": [
    "# Exploratory Data Analysis"
   ]
  },
  {
   "cell_type": "code",
   "execution_count": 52,
   "metadata": {},
   "outputs": [
    {
     "data": {
      "image/png": "[encoded data removed]",
      "text/plain": [
       "<Figure size 1440x1080 with 25 Axes>"
      ]
     },
     "metadata": {
      "needs_background": "light"
     },
     "output_type": "display_data"
    },
    {
     "data": {
      "application/javascript": [
       "\n",
       "            setTimeout(function() {\n",
       "                var nbb_cell_id = 52;\n",
       "                var nbb_unformatted_code = \"df.hist(figsize=(20, 15))\\nplt.show()\";\n",
       "                var nbb_formatted_code = \"df.hist(figsize=(20, 15))\\nplt.show()\";\n",
       "                var nbb_cells = Jupyter.notebook.get_cells();\n",
       "                for (var i = 0; i < nbb_cells.length; ++i) {\n",
       "                    if (nbb_cells[i].input_prompt_number == nbb_cell_id) {\n",
       "                        if (nbb_cells[i].get_text() == nbb_unformatted_code) {\n",
       "                             nbb_cells[i].set_text(nbb_formatted_code);\n",
       "                        }\n",
       "                        break;\n",
       "                    }\n",
       "                }\n",
       "            }, 500);\n",
       "            "
      ],
      "text/plain": [
       "<IPython.core.display.Javascript object>"
      ]
     },
     "metadata": {},
     "output_type": "display_data"
    }
   ],
   "source": [
    "df.hist(figsize=(20, 15))\n",
    "plt.show()"
   ]
  },
  {
   "cell_type": "code",
   "execution_count": 53,
   "metadata": {},
   "outputs": [
    {
     "data": {
      "text/html": [
       "<style  type=\"text/css\" >\n",
       "#T_c6d84386_000e_11eb_8cb5_e4b97aae3688row0_col0,#T_c6d84386_000e_11eb_8cb5_e4b97aae3688row1_col1,#T_c6d84386_000e_11eb_8cb5_e4b97aae3688row2_col2,#T_c6d84386_000e_11eb_8cb5_e4b97aae3688row3_col3,#T_c6d84386_000e_11eb_8cb5_e4b97aae3688row4_col4,#T_c6d84386_000e_11eb_8cb5_e4b97aae3688row5_col5,#T_c6d84386_000e_11eb_8cb5_e4b97aae3688row6_col6,#T_c6d84386_000e_11eb_8cb5_e4b97aae3688row7_col7,#T_c6d84386_000e_11eb_8cb5_e4b97aae3688row8_col8,#T_c6d84386_000e_11eb_8cb5_e4b97aae3688row9_col9,#T_c6d84386_000e_11eb_8cb5_e4b97aae3688row10_col10,#T_c6d84386_000e_11eb_8cb5_e4b97aae3688row11_col11,#T_c6d84386_000e_11eb_8cb5_e4b97aae3688row12_col12,#T_c6d84386_000e_11eb_8cb5_e4b97aae3688row13_col13,#T_c6d84386_000e_11eb_8cb5_e4b97aae3688row14_col14,#T_c6d84386_000e_11eb_8cb5_e4b97aae3688row15_col15,#T_c6d84386_000e_11eb_8cb5_e4b97aae3688row16_col16,#T_c6d84386_000e_11eb_8cb5_e4b97aae3688row17_col17,#T_c6d84386_000e_11eb_8cb5_e4b97aae3688row18_col18,#T_c6d84386_000e_11eb_8cb5_e4b97aae3688row19_col19,#T_c6d84386_000e_11eb_8cb5_e4b97aae3688row20_col20,#T_c6d84386_000e_11eb_8cb5_e4b97aae3688row21_col21,#T_c6d84386_000e_11eb_8cb5_e4b97aae3688row22_col22{\n",
       "            background-color:  #b40426;\n",
       "            color:  #f1f1f1;\n",
       "        }#T_c6d84386_000e_11eb_8cb5_e4b97aae3688row0_col1,#T_c6d84386_000e_11eb_8cb5_e4b97aae3688row1_col13,#T_c6d84386_000e_11eb_8cb5_e4b97aae3688row5_col1,#T_c6d84386_000e_11eb_8cb5_e4b97aae3688row5_col9,#T_c6d84386_000e_11eb_8cb5_e4b97aae3688row9_col1,#T_c6d84386_000e_11eb_8cb5_e4b97aae3688row13_col5{\n",
       "            background-color:  #7093f3;\n",
       "            color:  #000000;\n",
       "        }#T_c6d84386_000e_11eb_8cb5_e4b97aae3688row0_col2,#T_c6d84386_000e_11eb_8cb5_e4b97aae3688row2_col17,#T_c6d84386_000e_11eb_8cb5_e4b97aae3688row8_col14,#T_c6d84386_000e_11eb_8cb5_e4b97aae3688row21_col7,#T_c6d84386_000e_11eb_8cb5_e4b97aae3688row21_col22{\n",
       "            background-color:  #4e68d8;\n",
       "            color:  #000000;\n",
       "        }#T_c6d84386_000e_11eb_8cb5_e4b97aae3688row0_col3,#T_c6d84386_000e_11eb_8cb5_e4b97aae3688row1_col15,#T_c6d84386_000e_11eb_8cb5_e4b97aae3688row2_col22,#T_c6d84386_000e_11eb_8cb5_e4b97aae3688row3_col18,#T_c6d84386_000e_11eb_8cb5_e4b97aae3688row7_col22,#T_c6d84386_000e_11eb_8cb5_e4b97aae3688row8_col15,#T_c6d84386_000e_11eb_8cb5_e4b97aae3688row17_col2{\n",
       "            background-color:  #88abfd;\n",
       "            color:  #000000;\n",
       "        }#T_c6d84386_000e_11eb_8cb5_e4b97aae3688row0_col4,#T_c6d84386_000e_11eb_8cb5_e4b97aae3688row9_col3,#T_c6d84386_000e_11eb_8cb5_e4b97aae3688row12_col19,#T_c6d84386_000e_11eb_8cb5_e4b97aae3688row16_col4{\n",
       "            background-color:  #b1cbfc;\n",
       "            color:  #000000;\n",
       "        }#T_c6d84386_000e_11eb_8cb5_e4b97aae3688row0_col5{\n",
       "            background-color:  #eb7d62;\n",
       "            color:  #000000;\n",
       "        }#T_c6d84386_000e_11eb_8cb5_e4b97aae3688row0_col6,#T_c6d84386_000e_11eb_8cb5_e4b97aae3688row4_col10{\n",
       "            background-color:  #bcd2f7;\n",
       "            color:  #000000;\n",
       "        }#T_c6d84386_000e_11eb_8cb5_e4b97aae3688row0_col7,#T_c6d84386_000e_11eb_8cb5_e4b97aae3688row2_col9,#T_c6d84386_000e_11eb_8cb5_e4b97aae3688row3_col7,#T_c6d84386_000e_11eb_8cb5_e4b97aae3688row3_col11,#T_c6d84386_000e_11eb_8cb5_e4b97aae3688row4_col7,#T_c6d84386_000e_11eb_8cb5_e4b97aae3688row5_col7,#T_c6d84386_000e_11eb_8cb5_e4b97aae3688row15_col16,#T_c6d84386_000e_11eb_8cb5_e4b97aae3688row16_col7{\n",
       "            background-color:  #5673e0;\n",
       "            color:  #000000;\n",
       "        }#T_c6d84386_000e_11eb_8cb5_e4b97aae3688row0_col8,#T_c6d84386_000e_11eb_8cb5_e4b97aae3688row1_col21{\n",
       "            background-color:  #f1ccb8;\n",
       "            color:  #000000;\n",
       "        }#T_c6d84386_000e_11eb_8cb5_e4b97aae3688row0_col9,#T_c6d84386_000e_11eb_8cb5_e4b97aae3688row1_col20,#T_c6d84386_000e_11eb_8cb5_e4b97aae3688row4_col1,#T_c6d84386_000e_11eb_8cb5_e4b97aae3688row10_col16,#T_c6d84386_000e_11eb_8cb5_e4b97aae3688row12_col1,#T_c6d84386_000e_11eb_8cb5_e4b97aae3688row15_col1,#T_c6d84386_000e_11eb_8cb5_e4b97aae3688row19_col1,#T_c6d84386_000e_11eb_8cb5_e4b97aae3688row20_col18,#T_c6d84386_000e_11eb_8cb5_e4b97aae3688row22_col17{\n",
       "            background-color:  #7295f4;\n",
       "            color:  #000000;\n",
       "        }#T_c6d84386_000e_11eb_8cb5_e4b97aae3688row0_col10,#T_c6d84386_000e_11eb_8cb5_e4b97aae3688row8_col20{\n",
       "            background-color:  #b6cefa;\n",
       "            color:  #000000;\n",
       "        }#T_c6d84386_000e_11eb_8cb5_e4b97aae3688row0_col11,#T_c6d84386_000e_11eb_8cb5_e4b97aae3688row5_col11,#T_c6d84386_000e_11eb_8cb5_e4b97aae3688row8_col1,#T_c6d84386_000e_11eb_8cb5_e4b97aae3688row11_col7,#T_c6d84386_000e_11eb_8cb5_e4b97aae3688row15_col17,#T_c6d84386_000e_11eb_8cb5_e4b97aae3688row18_col16{\n",
       "            background-color:  #536edd;\n",
       "            color:  #000000;\n",
       "        }#T_c6d84386_000e_11eb_8cb5_e4b97aae3688row0_col12,#T_c6d84386_000e_11eb_8cb5_e4b97aae3688row1_col6,#T_c6d84386_000e_11eb_8cb5_e4b97aae3688row6_col2{\n",
       "            background-color:  #ead4c8;\n",
       "            color:  #000000;\n",
       "        }#T_c6d84386_000e_11eb_8cb5_e4b97aae3688row0_col13,#T_c6d84386_000e_11eb_8cb5_e4b97aae3688row1_col9,#T_c6d84386_000e_11eb_8cb5_e4b97aae3688row11_col9,#T_c6d84386_000e_11eb_8cb5_e4b97aae3688row21_col11{\n",
       "            background-color:  #6282ea;\n",
       "            color:  #000000;\n",
       "        }#T_c6d84386_000e_11eb_8cb5_e4b97aae3688row0_col14,#T_c6d84386_000e_11eb_8cb5_e4b97aae3688row9_col7,#T_c6d84386_000e_11eb_8cb5_e4b97aae3688row22_col7{\n",
       "            background-color:  #516ddb;\n",
       "            color:  #000000;\n",
       "        }#T_c6d84386_000e_11eb_8cb5_e4b97aae3688row0_col15,#T_c6d84386_000e_11eb_8cb5_e4b97aae3688row3_col17,#T_c6d84386_000e_11eb_8cb5_e4b97aae3688row11_col14,#T_c6d84386_000e_11eb_8cb5_e4b97aae3688row12_col20,#T_c6d84386_000e_11eb_8cb5_e4b97aae3688row13_col0,#T_c6d84386_000e_11eb_8cb5_e4b97aae3688row13_col21{\n",
       "            background-color:  #80a3fa;\n",
       "            color:  #000000;\n",
       "        }#T_c6d84386_000e_11eb_8cb5_e4b97aae3688row0_col16,#T_c6d84386_000e_11eb_8cb5_e4b97aae3688row1_col18,#T_c6d84386_000e_11eb_8cb5_e4b97aae3688row16_col20{\n",
       "            background-color:  #8badfd;\n",
       "            color:  #000000;\n",
       "        }#T_c6d84386_000e_11eb_8cb5_e4b97aae3688row0_col17,#T_c6d84386_000e_11eb_8cb5_e4b97aae3688row5_col17,#T_c6d84386_000e_11eb_8cb5_e4b97aae3688row15_col0,#T_c6d84386_000e_11eb_8cb5_e4b97aae3688row18_col21{\n",
       "            background-color:  #93b5fe;\n",
       "            color:  #000000;\n",
       "        }#T_c6d84386_000e_11eb_8cb5_e4b97aae3688row0_col18,#T_c6d84386_000e_11eb_8cb5_e4b97aae3688row3_col8,#T_c6d84386_000e_11eb_8cb5_e4b97aae3688row9_col6{\n",
       "            background-color:  #e4d9d2;\n",
       "            color:  #000000;\n",
       "        }#T_c6d84386_000e_11eb_8cb5_e4b97aae3688row0_col19,#T_c6d84386_000e_11eb_8cb5_e4b97aae3688row2_col8,#T_c6d84386_000e_11eb_8cb5_e4b97aae3688row19_col4{\n",
       "            background-color:  #a9c6fd;\n",
       "            color:  #000000;\n",
       "        }#T_c6d84386_000e_11eb_8cb5_e4b97aae3688row0_col20,#T_c6d84386_000e_11eb_8cb5_e4b97aae3688row4_col17,#T_c6d84386_000e_11eb_8cb5_e4b97aae3688row5_col21,#T_c6d84386_000e_11eb_8cb5_e4b97aae3688row11_col0,#T_c6d84386_000e_11eb_8cb5_e4b97aae3688row11_col12,#T_c6d84386_000e_11eb_8cb5_e4b97aae3688row21_col12{\n",
       "            background-color:  #97b8ff;\n",
       "            color:  #000000;\n",
       "        }#T_c6d84386_000e_11eb_8cb5_e4b97aae3688row0_col21,#T_c6d84386_000e_11eb_8cb5_e4b97aae3688row1_col0,#T_c6d84386_000e_11eb_8cb5_e4b97aae3688row3_col21,#T_c6d84386_000e_11eb_8cb5_e4b97aae3688row4_col16,#T_c6d84386_000e_11eb_8cb5_e4b97aae3688row4_col21,#T_c6d84386_000e_11eb_8cb5_e4b97aae3688row6_col22,#T_c6d84386_000e_11eb_8cb5_e4b97aae3688row9_col21,#T_c6d84386_000e_11eb_8cb5_e4b97aae3688row10_col1,#T_c6d84386_000e_11eb_8cb5_e4b97aae3688row10_col22,#T_c6d84386_000e_11eb_8cb5_e4b97aae3688row12_col21,#T_c6d84386_000e_11eb_8cb5_e4b97aae3688row14_col3,#T_c6d84386_000e_11eb_8cb5_e4b97aae3688row14_col22,#T_c6d84386_000e_11eb_8cb5_e4b97aae3688row19_col2{\n",
       "            background-color:  #9abbff;\n",
       "            color:  #000000;\n",
       "        }#T_c6d84386_000e_11eb_8cb5_e4b97aae3688row0_col22,#T_c6d84386_000e_11eb_8cb5_e4b97aae3688row2_col19,#T_c6d84386_000e_11eb_8cb5_e4b97aae3688row3_col12,#T_c6d84386_000e_11eb_8cb5_e4b97aae3688row5_col22,#T_c6d84386_000e_11eb_8cb5_e4b97aae3688row6_col20,#T_c6d84386_000e_11eb_8cb5_e4b97aae3688row9_col22,#T_c6d84386_000e_11eb_8cb5_e4b97aae3688row10_col20,#T_c6d84386_000e_11eb_8cb5_e4b97aae3688row16_col2{\n",
       "            background-color:  #8db0fe;\n",
       "            color:  #000000;\n",
       "        }#T_c6d84386_000e_11eb_8cb5_e4b97aae3688row1_col2,#T_c6d84386_000e_11eb_8cb5_e4b97aae3688row4_col0,#T_c6d84386_000e_11eb_8cb5_e4b97aae3688row17_col0{\n",
       "            background-color:  #b3cdfb;\n",
       "            color:  #000000;\n",
       "        }#T_c6d84386_000e_11eb_8cb5_e4b97aae3688row1_col3,#T_c6d84386_000e_11eb_8cb5_e4b97aae3688row2_col13,#T_c6d84386_000e_11eb_8cb5_e4b97aae3688row7_col19,#T_c6d84386_000e_11eb_8cb5_e4b97aae3688row22_col3,#T_c6d84386_000e_11eb_8cb5_e4b97aae3688row22_col18{\n",
       "            background-color:  #abc8fd;\n",
       "            color:  #000000;\n",
       "        }#T_c6d84386_000e_11eb_8cb5_e4b97aae3688row1_col4,#T_c6d84386_000e_11eb_8cb5_e4b97aae3688row5_col20,#T_c6d84386_000e_11eb_8cb5_e4b97aae3688row6_col1{\n",
       "            background-color:  #98b9ff;\n",
       "            color:  #000000;\n",
       "        }#T_c6d84386_000e_11eb_8cb5_e4b97aae3688row1_col5,#T_c6d84386_000e_11eb_8cb5_e4b97aae3688row4_col22,#T_c6d84386_000e_11eb_8cb5_e4b97aae3688row5_col16,#T_c6d84386_000e_11eb_8cb5_e4b97aae3688row9_col14,#T_c6d84386_000e_11eb_8cb5_e4b97aae3688row11_col22,#T_c6d84386_000e_11eb_8cb5_e4b97aae3688row12_col17,#T_c6d84386_000e_11eb_8cb5_e4b97aae3688row17_col21{\n",
       "            background-color:  #89acfd;\n",
       "            color:  #000000;\n",
       "        }#T_c6d84386_000e_11eb_8cb5_e4b97aae3688row1_col7,#T_c6d84386_000e_11eb_8cb5_e4b97aae3688row3_col5,#T_c6d84386_000e_11eb_8cb5_e4b97aae3688row4_col11,#T_c6d84386_000e_11eb_8cb5_e4b97aae3688row18_col7{\n",
       "            background-color:  #5470de;\n",
       "            color:  #000000;\n",
       "        }#T_c6d84386_000e_11eb_8cb5_e4b97aae3688row1_col8,#T_c6d84386_000e_11eb_8cb5_e4b97aae3688row11_col10,#T_c6d84386_000e_11eb_8cb5_e4b97aae3688row16_col19,#T_c6d84386_000e_11eb_8cb5_e4b97aae3688row19_col6{\n",
       "            background-color:  #c9d7f0;\n",
       "            color:  #000000;\n",
       "        }#T_c6d84386_000e_11eb_8cb5_e4b97aae3688row1_col10{\n",
       "            background-color:  #e8d6cc;\n",
       "            color:  #000000;\n",
       "        }#T_c6d84386_000e_11eb_8cb5_e4b97aae3688row1_col11,#T_c6d84386_000e_11eb_8cb5_e4b97aae3688row4_col5,#T_c6d84386_000e_11eb_8cb5_e4b97aae3688row13_col12,#T_c6d84386_000e_11eb_8cb5_e4b97aae3688row15_col13,#T_c6d84386_000e_11eb_8cb5_e4b97aae3688row19_col7{\n",
       "            background-color:  #5f7fe8;\n",
       "            color:  #000000;\n",
       "        }#T_c6d84386_000e_11eb_8cb5_e4b97aae3688row1_col12,#T_c6d84386_000e_11eb_8cb5_e4b97aae3688row6_col15,#T_c6d84386_000e_11eb_8cb5_e4b97aae3688row7_col18,#T_c6d84386_000e_11eb_8cb5_e4b97aae3688row7_col21,#T_c6d84386_000e_11eb_8cb5_e4b97aae3688row11_col18,#T_c6d84386_000e_11eb_8cb5_e4b97aae3688row17_col20,#T_c6d84386_000e_11eb_8cb5_e4b97aae3688row20_col0{\n",
       "            background-color:  #92b4fe;\n",
       "            color:  #000000;\n",
       "        }#T_c6d84386_000e_11eb_8cb5_e4b97aae3688row1_col14,#T_c6d84386_000e_11eb_8cb5_e4b97aae3688row15_col4,#T_c6d84386_000e_11eb_8cb5_e4b97aae3688row19_col17,#T_c6d84386_000e_11eb_8cb5_e4b97aae3688row22_col14{\n",
       "            background-color:  #a3c2fe;\n",
       "            color:  #000000;\n",
       "        }#T_c6d84386_000e_11eb_8cb5_e4b97aae3688row1_col16,#T_c6d84386_000e_11eb_8cb5_e4b97aae3688row3_col13,#T_c6d84386_000e_11eb_8cb5_e4b97aae3688row9_col16,#T_c6d84386_000e_11eb_8cb5_e4b97aae3688row14_col1,#T_c6d84386_000e_11eb_8cb5_e4b97aae3688row18_col20{\n",
       "            background-color:  #85a8fc;\n",
       "            color:  #000000;\n",
       "        }#T_c6d84386_000e_11eb_8cb5_e4b97aae3688row1_col17,#T_c6d84386_000e_11eb_8cb5_e4b97aae3688row5_col3,#T_c6d84386_000e_11eb_8cb5_e4b97aae3688row11_col1,#T_c6d84386_000e_11eb_8cb5_e4b97aae3688row11_col17,#T_c6d84386_000e_11eb_8cb5_e4b97aae3688row15_col22{\n",
       "            background-color:  #7a9df8;\n",
       "            color:  #000000;\n",
       "        }#T_c6d84386_000e_11eb_8cb5_e4b97aae3688row1_col19,#T_c6d84386_000e_11eb_8cb5_e4b97aae3688row3_col15,#T_c6d84386_000e_11eb_8cb5_e4b97aae3688row7_col20,#T_c6d84386_000e_11eb_8cb5_e4b97aae3688row9_col12,#T_c6d84386_000e_11eb_8cb5_e4b97aae3688row19_col18{\n",
       "            background-color:  #9fbfff;\n",
       "            color:  #000000;\n",
       "        }#T_c6d84386_000e_11eb_8cb5_e4b97aae3688row1_col22,#T_c6d84386_000e_11eb_8cb5_e4b97aae3688row14_col7,#T_c6d84386_000e_11eb_8cb5_e4b97aae3688row16_col14{\n",
       "            background-color:  #4f69d9;\n",
       "            color:  #000000;\n",
       "        }#T_c6d84386_000e_11eb_8cb5_e4b97aae3688row2_col0,#T_c6d84386_000e_11eb_8cb5_e4b97aae3688row2_col3,#T_c6d84386_000e_11eb_8cb5_e4b97aae3688row2_col4,#T_c6d84386_000e_11eb_8cb5_e4b97aae3688row2_col5,#T_c6d84386_000e_11eb_8cb5_e4b97aae3688row3_col2,#T_c6d84386_000e_11eb_8cb5_e4b97aae3688row6_col7,#T_c6d84386_000e_11eb_8cb5_e4b97aae3688row6_col8,#T_c6d84386_000e_11eb_8cb5_e4b97aae3688row6_col13,#T_c6d84386_000e_11eb_8cb5_e4b97aae3688row8_col6,#T_c6d84386_000e_11eb_8cb5_e4b97aae3688row8_col9,#T_c6d84386_000e_11eb_8cb5_e4b97aae3688row8_col10,#T_c6d84386_000e_11eb_8cb5_e4b97aae3688row8_col11,#T_c6d84386_000e_11eb_8cb5_e4b97aae3688row12_col14,#T_c6d84386_000e_11eb_8cb5_e4b97aae3688row14_col12,#T_c6d84386_000e_11eb_8cb5_e4b97aae3688row14_col15,#T_c6d84386_000e_11eb_8cb5_e4b97aae3688row14_col16,#T_c6d84386_000e_11eb_8cb5_e4b97aae3688row14_col17,#T_c6d84386_000e_11eb_8cb5_e4b97aae3688row14_col18,#T_c6d84386_000e_11eb_8cb5_e4b97aae3688row19_col20,#T_c6d84386_000e_11eb_8cb5_e4b97aae3688row20_col19,#T_c6d84386_000e_11eb_8cb5_e4b97aae3688row20_col21,#T_c6d84386_000e_11eb_8cb5_e4b97aae3688row20_col22,#T_c6d84386_000e_11eb_8cb5_e4b97aae3688row22_col1{\n",
       "            background-color:  #3b4cc0;\n",
       "            color:  #f1f1f1;\n",
       "        }#T_c6d84386_000e_11eb_8cb5_e4b97aae3688row2_col1,#T_c6d84386_000e_11eb_8cb5_e4b97aae3688row6_col18,#T_c6d84386_000e_11eb_8cb5_e4b97aae3688row16_col22{\n",
       "            background-color:  #7da0f9;\n",
       "            color:  #000000;\n",
       "        }#T_c6d84386_000e_11eb_8cb5_e4b97aae3688row2_col6{\n",
       "            background-color:  #f7ba9f;\n",
       "            color:  #000000;\n",
       "        }#T_c6d84386_000e_11eb_8cb5_e4b97aae3688row2_col7,#T_c6d84386_000e_11eb_8cb5_e4b97aae3688row12_col13{\n",
       "            background-color:  #4c66d6;\n",
       "            color:  #000000;\n",
       "        }#T_c6d84386_000e_11eb_8cb5_e4b97aae3688row2_col10{\n",
       "            background-color:  #f6bda2;\n",
       "            color:  #000000;\n",
       "        }#T_c6d84386_000e_11eb_8cb5_e4b97aae3688row2_col11,#T_c6d84386_000e_11eb_8cb5_e4b97aae3688row13_col15,#T_c6d84386_000e_11eb_8cb5_e4b97aae3688row14_col4,#T_c6d84386_000e_11eb_8cb5_e4b97aae3688row17_col13,#T_c6d84386_000e_11eb_8cb5_e4b97aae3688row17_col18,#T_c6d84386_000e_11eb_8cb5_e4b97aae3688row21_col9,#T_c6d84386_000e_11eb_8cb5_e4b97aae3688row22_col13{\n",
       "            background-color:  #688aef;\n",
       "            color:  #000000;\n",
       "        }#T_c6d84386_000e_11eb_8cb5_e4b97aae3688row2_col12,#T_c6d84386_000e_11eb_8cb5_e4b97aae3688row14_col13{\n",
       "            background-color:  #4961d2;\n",
       "            color:  #f1f1f1;\n",
       "        }#T_c6d84386_000e_11eb_8cb5_e4b97aae3688row2_col14,#T_c6d84386_000e_11eb_8cb5_e4b97aae3688row10_col2,#T_c6d84386_000e_11eb_8cb5_e4b97aae3688row19_col8{\n",
       "            background-color:  #ebd3c6;\n",
       "            color:  #000000;\n",
       "        }#T_c6d84386_000e_11eb_8cb5_e4b97aae3688row2_col15,#T_c6d84386_000e_11eb_8cb5_e4b97aae3688row10_col18,#T_c6d84386_000e_11eb_8cb5_e4b97aae3688row11_col13,#T_c6d84386_000e_11eb_8cb5_e4b97aae3688row16_col1,#T_c6d84386_000e_11eb_8cb5_e4b97aae3688row21_col16{\n",
       "            background-color:  #799cf8;\n",
       "            color:  #000000;\n",
       "        }#T_c6d84386_000e_11eb_8cb5_e4b97aae3688row2_col16,#T_c6d84386_000e_11eb_8cb5_e4b97aae3688row6_col5,#T_c6d84386_000e_11eb_8cb5_e4b97aae3688row10_col5,#T_c6d84386_000e_11eb_8cb5_e4b97aae3688row12_col11,#T_c6d84386_000e_11eb_8cb5_e4b97aae3688row14_col0,#T_c6d84386_000e_11eb_8cb5_e4b97aae3688row18_col13{\n",
       "            background-color:  #5d7ce6;\n",
       "            color:  #000000;\n",
       "        }#T_c6d84386_000e_11eb_8cb5_e4b97aae3688row2_col18,#T_c6d84386_000e_11eb_8cb5_e4b97aae3688row10_col7,#T_c6d84386_000e_11eb_8cb5_e4b97aae3688row19_col21{\n",
       "            background-color:  #485fd1;\n",
       "            color:  #f1f1f1;\n",
       "        }#T_c6d84386_000e_11eb_8cb5_e4b97aae3688row2_col20,#T_c6d84386_000e_11eb_8cb5_e4b97aae3688row4_col12,#T_c6d84386_000e_11eb_8cb5_e4b97aae3688row11_col2{\n",
       "            background-color:  #b7cff9;\n",
       "            color:  #000000;\n",
       "        }#T_c6d84386_000e_11eb_8cb5_e4b97aae3688row2_col21,#T_c6d84386_000e_11eb_8cb5_e4b97aae3688row4_col15,#T_c6d84386_000e_11eb_8cb5_e4b97aae3688row4_col20,#T_c6d84386_000e_11eb_8cb5_e4b97aae3688row16_col5{\n",
       "            background-color:  #94b6ff;\n",
       "            color:  #000000;\n",
       "        }#T_c6d84386_000e_11eb_8cb5_e4b97aae3688row3_col0,#T_c6d84386_000e_11eb_8cb5_e4b97aae3688row9_col13{\n",
       "            background-color:  #7699f6;\n",
       "            color:  #000000;\n",
       "        }#T_c6d84386_000e_11eb_8cb5_e4b97aae3688row3_col1,#T_c6d84386_000e_11eb_8cb5_e4b97aae3688row6_col16,#T_c6d84386_000e_11eb_8cb5_e4b97aae3688row12_col9,#T_c6d84386_000e_11eb_8cb5_e4b97aae3688row18_col9{\n",
       "            background-color:  #7396f5;\n",
       "            color:  #000000;\n",
       "        }#T_c6d84386_000e_11eb_8cb5_e4b97aae3688row3_col4,#T_c6d84386_000e_11eb_8cb5_e4b97aae3688row5_col14,#T_c6d84386_000e_11eb_8cb5_e4b97aae3688row16_col17,#T_c6d84386_000e_11eb_8cb5_e4b97aae3688row17_col14,#T_c6d84386_000e_11eb_8cb5_e4b97aae3688row22_col20{\n",
       "            background-color:  #5875e1;\n",
       "            color:  #000000;\n",
       "        }#T_c6d84386_000e_11eb_8cb5_e4b97aae3688row3_col6,#T_c6d84386_000e_11eb_8cb5_e4b97aae3688row17_col10,#T_c6d84386_000e_11eb_8cb5_e4b97aae3688row18_col6{\n",
       "            background-color:  #d1dae9;\n",
       "            color:  #000000;\n",
       "        }#T_c6d84386_000e_11eb_8cb5_e4b97aae3688row3_col9,#T_c6d84386_000e_11eb_8cb5_e4b97aae3688row6_col0,#T_c6d84386_000e_11eb_8cb5_e4b97aae3688row10_col17,#T_c6d84386_000e_11eb_8cb5_e4b97aae3688row13_col18,#T_c6d84386_000e_11eb_8cb5_e4b97aae3688row17_col9,#T_c6d84386_000e_11eb_8cb5_e4b97aae3688row22_col9{\n",
       "            background-color:  #6b8df0;\n",
       "            color:  #000000;\n",
       "        }#T_c6d84386_000e_11eb_8cb5_e4b97aae3688row3_col10,#T_c6d84386_000e_11eb_8cb5_e4b97aae3688row13_col2{\n",
       "            background-color:  #ccd9ed;\n",
       "            color:  #000000;\n",
       "        }#T_c6d84386_000e_11eb_8cb5_e4b97aae3688row3_col14,#T_c6d84386_000e_11eb_8cb5_e4b97aae3688row5_col15,#T_c6d84386_000e_11eb_8cb5_e4b97aae3688row9_col17{\n",
       "            background-color:  #7ea1fa;\n",
       "            color:  #000000;\n",
       "        }#T_c6d84386_000e_11eb_8cb5_e4b97aae3688row3_col16,#T_c6d84386_000e_11eb_8cb5_e4b97aae3688row7_col14,#T_c6d84386_000e_11eb_8cb5_e4b97aae3688row8_col16,#T_c6d84386_000e_11eb_8cb5_e4b97aae3688row9_col15,#T_c6d84386_000e_11eb_8cb5_e4b97aae3688row22_col5{\n",
       "            background-color:  #90b2fe;\n",
       "            color:  #000000;\n",
       "        }#T_c6d84386_000e_11eb_8cb5_e4b97aae3688row3_col19,#T_c6d84386_000e_11eb_8cb5_e4b97aae3688row7_col2,#T_c6d84386_000e_11eb_8cb5_e4b97aae3688row9_col0,#T_c6d84386_000e_11eb_8cb5_e4b97aae3688row12_col3,#T_c6d84386_000e_11eb_8cb5_e4b97aae3688row20_col3{\n",
       "            background-color:  #a7c5fe;\n",
       "            color:  #000000;\n",
       "        }#T_c6d84386_000e_11eb_8cb5_e4b97aae3688row3_col20,#T_c6d84386_000e_11eb_8cb5_e4b97aae3688row6_col3,#T_c6d84386_000e_11eb_8cb5_e4b97aae3688row9_col19,#T_c6d84386_000e_11eb_8cb5_e4b97aae3688row10_col3,#T_c6d84386_000e_11eb_8cb5_e4b97aae3688row21_col4{\n",
       "            background-color:  #9dbdff;\n",
       "            color:  #000000;\n",
       "        }#T_c6d84386_000e_11eb_8cb5_e4b97aae3688row3_col22,#T_c6d84386_000e_11eb_8cb5_e4b97aae3688row6_col12,#T_c6d84386_000e_11eb_8cb5_e4b97aae3688row8_col17,#T_c6d84386_000e_11eb_8cb5_e4b97aae3688row11_col5{\n",
       "            background-color:  #86a9fc;\n",
       "            color:  #000000;\n",
       "        }#T_c6d84386_000e_11eb_8cb5_e4b97aae3688row4_col2,#T_c6d84386_000e_11eb_8cb5_e4b97aae3688row13_col11,#T_c6d84386_000e_11eb_8cb5_e4b97aae3688row14_col5,#T_c6d84386_000e_11eb_8cb5_e4b97aae3688row18_col17,#T_c6d84386_000e_11eb_8cb5_e4b97aae3688row20_col7{\n",
       "            background-color:  #506bda;\n",
       "            color:  #000000;\n",
       "        }#T_c6d84386_000e_11eb_8cb5_e4b97aae3688row4_col3,#T_c6d84386_000e_11eb_8cb5_e4b97aae3688row4_col9,#T_c6d84386_000e_11eb_8cb5_e4b97aae3688row14_col19{\n",
       "            background-color:  #6e90f2;\n",
       "            color:  #000000;\n",
       "        }#T_c6d84386_000e_11eb_8cb5_e4b97aae3688row4_col6,#T_c6d84386_000e_11eb_8cb5_e4b97aae3688row20_col2{\n",
       "            background-color:  #c1d4f4;\n",
       "            color:  #000000;\n",
       "        }#T_c6d84386_000e_11eb_8cb5_e4b97aae3688row4_col8{\n",
       "            background-color:  #efcfbf;\n",
       "            color:  #000000;\n",
       "        }#T_c6d84386_000e_11eb_8cb5_e4b97aae3688row4_col13,#T_c6d84386_000e_11eb_8cb5_e4b97aae3688row17_col15{\n",
       "            background-color:  #6687ed;\n",
       "            color:  #000000;\n",
       "        }#T_c6d84386_000e_11eb_8cb5_e4b97aae3688row4_col14,#T_c6d84386_000e_11eb_8cb5_e4b97aae3688row5_col2,#T_c6d84386_000e_11eb_8cb5_e4b97aae3688row16_col15,#T_c6d84386_000e_11eb_8cb5_e4b97aae3688row17_col16,#T_c6d84386_000e_11eb_8cb5_e4b97aae3688row19_col9{\n",
       "            background-color:  #6180e9;\n",
       "            color:  #000000;\n",
       "        }#T_c6d84386_000e_11eb_8cb5_e4b97aae3688row4_col18,#T_c6d84386_000e_11eb_8cb5_e4b97aae3688row14_col21,#T_c6d84386_000e_11eb_8cb5_e4b97aae3688row17_col4{\n",
       "            background-color:  #b5cdfa;\n",
       "            color:  #000000;\n",
       "        }#T_c6d84386_000e_11eb_8cb5_e4b97aae3688row4_col19,#T_c6d84386_000e_11eb_8cb5_e4b97aae3688row7_col3,#T_c6d84386_000e_11eb_8cb5_e4b97aae3688row13_col3,#T_c6d84386_000e_11eb_8cb5_e4b97aae3688row13_col6,#T_c6d84386_000e_11eb_8cb5_e4b97aae3688row14_col8,#T_c6d84386_000e_11eb_8cb5_e4b97aae3688row14_col20,#T_c6d84386_000e_11eb_8cb5_e4b97aae3688row18_col19,#T_c6d84386_000e_11eb_8cb5_e4b97aae3688row19_col16,#T_c6d84386_000e_11eb_8cb5_e4b97aae3688row21_col3{\n",
       "            background-color:  #afcafc;\n",
       "            color:  #000000;\n",
       "        }#T_c6d84386_000e_11eb_8cb5_e4b97aae3688row5_col0{\n",
       "            background-color:  #e9785d;\n",
       "            color:  #000000;\n",
       "        }#T_c6d84386_000e_11eb_8cb5_e4b97aae3688row5_col4,#T_c6d84386_000e_11eb_8cb5_e4b97aae3688row6_col4,#T_c6d84386_000e_11eb_8cb5_e4b97aae3688row10_col4,#T_c6d84386_000e_11eb_8cb5_e4b97aae3688row13_col22,#T_c6d84386_000e_11eb_8cb5_e4b97aae3688row18_col1,#T_c6d84386_000e_11eb_8cb5_e4b97aae3688row20_col12{\n",
       "            background-color:  #6f92f3;\n",
       "            color:  #000000;\n",
       "        }#T_c6d84386_000e_11eb_8cb5_e4b97aae3688row5_col6,#T_c6d84386_000e_11eb_8cb5_e4b97aae3688row8_col19,#T_c6d84386_000e_11eb_8cb5_e4b97aae3688row21_col8{\n",
       "            background-color:  #c0d4f5;\n",
       "            color:  #000000;\n",
       "        }#T_c6d84386_000e_11eb_8cb5_e4b97aae3688row5_col8,#T_c6d84386_000e_11eb_8cb5_e4b97aae3688row21_col6{\n",
       "            background-color:  #efcebd;\n",
       "            color:  #000000;\n",
       "        }#T_c6d84386_000e_11eb_8cb5_e4b97aae3688row5_col10,#T_c6d84386_000e_11eb_8cb5_e4b97aae3688row8_col5{\n",
       "            background-color:  #bbd1f8;\n",
       "            color:  #000000;\n",
       "        }#T_c6d84386_000e_11eb_8cb5_e4b97aae3688row5_col12,#T_c6d84386_000e_11eb_8cb5_e4b97aae3688row17_col8,#T_c6d84386_000e_11eb_8cb5_e4b97aae3688row22_col10{\n",
       "            background-color:  #e0dbd8;\n",
       "            color:  #000000;\n",
       "        }#T_c6d84386_000e_11eb_8cb5_e4b97aae3688row5_col13,#T_c6d84386_000e_11eb_8cb5_e4b97aae3688row7_col9,#T_c6d84386_000e_11eb_8cb5_e4b97aae3688row8_col2,#T_c6d84386_000e_11eb_8cb5_e4b97aae3688row16_col13{\n",
       "            background-color:  #6485ec;\n",
       "            color:  #000000;\n",
       "        }#T_c6d84386_000e_11eb_8cb5_e4b97aae3688row5_col18,#T_c6d84386_000e_11eb_8cb5_e4b97aae3688row12_col5{\n",
       "            background-color:  #dcdddd;\n",
       "            color:  #000000;\n",
       "        }#T_c6d84386_000e_11eb_8cb5_e4b97aae3688row5_col19,#T_c6d84386_000e_11eb_8cb5_e4b97aae3688row6_col11,#T_c6d84386_000e_11eb_8cb5_e4b97aae3688row11_col3,#T_c6d84386_000e_11eb_8cb5_e4b97aae3688row21_col2{\n",
       "            background-color:  #aac7fd;\n",
       "            color:  #000000;\n",
       "        }#T_c6d84386_000e_11eb_8cb5_e4b97aae3688row6_col9,#T_c6d84386_000e_11eb_8cb5_e4b97aae3688row7_col17,#T_c6d84386_000e_11eb_8cb5_e4b97aae3688row12_col16,#T_c6d84386_000e_11eb_8cb5_e4b97aae3688row22_col15{\n",
       "            background-color:  #7b9ff9;\n",
       "            color:  #000000;\n",
       "        }#T_c6d84386_000e_11eb_8cb5_e4b97aae3688row6_col10,#T_c6d84386_000e_11eb_8cb5_e4b97aae3688row10_col6{\n",
       "            background-color:  #c53334;\n",
       "            color:  #f1f1f1;\n",
       "        }#T_c6d84386_000e_11eb_8cb5_e4b97aae3688row6_col14,#T_c6d84386_000e_11eb_8cb5_e4b97aae3688row7_col8,#T_c6d84386_000e_11eb_8cb5_e4b97aae3688row15_col10,#T_c6d84386_000e_11eb_8cb5_e4b97aae3688row16_col6{\n",
       "            background-color:  #d4dbe6;\n",
       "            color:  #000000;\n",
       "        }#T_c6d84386_000e_11eb_8cb5_e4b97aae3688row6_col17,#T_c6d84386_000e_11eb_8cb5_e4b97aae3688row15_col9{\n",
       "            background-color:  #6c8ff1;\n",
       "            color:  #000000;\n",
       "        }#T_c6d84386_000e_11eb_8cb5_e4b97aae3688row6_col19,#T_c6d84386_000e_11eb_8cb5_e4b97aae3688row10_col12,#T_c6d84386_000e_11eb_8cb5_e4b97aae3688row15_col11,#T_c6d84386_000e_11eb_8cb5_e4b97aae3688row20_col5{\n",
       "            background-color:  #82a6fb;\n",
       "            color:  #000000;\n",
       "        }#T_c6d84386_000e_11eb_8cb5_e4b97aae3688row6_col21,#T_c6d84386_000e_11eb_8cb5_e4b97aae3688row8_col4,#T_c6d84386_000e_11eb_8cb5_e4b97aae3688row17_col19{\n",
       "            background-color:  #c4d5f3;\n",
       "            color:  #000000;\n",
       "        }#T_c6d84386_000e_11eb_8cb5_e4b97aae3688row7_col0,#T_c6d84386_000e_11eb_8cb5_e4b97aae3688row9_col2,#T_c6d84386_000e_11eb_8cb5_e4b97aae3688row11_col20,#T_c6d84386_000e_11eb_8cb5_e4b97aae3688row21_col0{\n",
       "            background-color:  #a1c0ff;\n",
       "            color:  #000000;\n",
       "        }#T_c6d84386_000e_11eb_8cb5_e4b97aae3688row7_col1,#T_c6d84386_000e_11eb_8cb5_e4b97aae3688row15_col12,#T_c6d84386_000e_11eb_8cb5_e4b97aae3688row17_col1,#T_c6d84386_000e_11eb_8cb5_e4b97aae3688row22_col16{\n",
       "            background-color:  #7597f6;\n",
       "            color:  #000000;\n",
       "        }#T_c6d84386_000e_11eb_8cb5_e4b97aae3688row7_col4,#T_c6d84386_000e_11eb_8cb5_e4b97aae3688row11_col19,#T_c6d84386_000e_11eb_8cb5_e4b97aae3688row11_col21,#T_c6d84386_000e_11eb_8cb5_e4b97aae3688row15_col2{\n",
       "            background-color:  #9ebeff;\n",
       "            color:  #000000;\n",
       "        }#T_c6d84386_000e_11eb_8cb5_e4b97aae3688row7_col5,#T_c6d84386_000e_11eb_8cb5_e4b97aae3688row16_col12,#T_c6d84386_000e_11eb_8cb5_e4b97aae3688row16_col21,#T_c6d84386_000e_11eb_8cb5_e4b97aae3688row19_col15,#T_c6d84386_000e_11eb_8cb5_e4b97aae3688row20_col15,#T_c6d84386_000e_11eb_8cb5_e4b97aae3688row21_col15{\n",
       "            background-color:  #8fb1fe;\n",
       "            color:  #000000;\n",
       "        }#T_c6d84386_000e_11eb_8cb5_e4b97aae3688row7_col6,#T_c6d84386_000e_11eb_8cb5_e4b97aae3688row8_col13{\n",
       "            background-color:  #cedaeb;\n",
       "            color:  #000000;\n",
       "        }#T_c6d84386_000e_11eb_8cb5_e4b97aae3688row7_col10,#T_c6d84386_000e_11eb_8cb5_e4b97aae3688row22_col8{\n",
       "            background-color:  #d2dbe8;\n",
       "            color:  #000000;\n",
       "        }#T_c6d84386_000e_11eb_8cb5_e4b97aae3688row7_col11,#T_c6d84386_000e_11eb_8cb5_e4b97aae3688row13_col9,#T_c6d84386_000e_11eb_8cb5_e4b97aae3688row20_col11{\n",
       "            background-color:  #5977e3;\n",
       "            color:  #000000;\n",
       "        }#T_c6d84386_000e_11eb_8cb5_e4b97aae3688row7_col12,#T_c6d84386_000e_11eb_8cb5_e4b97aae3688row9_col5,#T_c6d84386_000e_11eb_8cb5_e4b97aae3688row11_col4,#T_c6d84386_000e_11eb_8cb5_e4b97aae3688row19_col5{\n",
       "            background-color:  #96b7ff;\n",
       "            color:  #000000;\n",
       "        }#T_c6d84386_000e_11eb_8cb5_e4b97aae3688row7_col13,#T_c6d84386_000e_11eb_8cb5_e4b97aae3688row7_col16,#T_c6d84386_000e_11eb_8cb5_e4b97aae3688row10_col15,#T_c6d84386_000e_11eb_8cb5_e4b97aae3688row10_col19{\n",
       "            background-color:  #84a7fc;\n",
       "            color:  #000000;\n",
       "        }#T_c6d84386_000e_11eb_8cb5_e4b97aae3688row7_col15,#T_c6d84386_000e_11eb_8cb5_e4b97aae3688row13_col19,#T_c6d84386_000e_11eb_8cb5_e4b97aae3688row20_col4,#T_c6d84386_000e_11eb_8cb5_e4b97aae3688row21_col5,#T_c6d84386_000e_11eb_8cb5_e4b97aae3688row21_col18{\n",
       "            background-color:  #8caffe;\n",
       "            color:  #000000;\n",
       "        }#T_c6d84386_000e_11eb_8cb5_e4b97aae3688row8_col0,#T_c6d84386_000e_11eb_8cb5_e4b97aae3688row12_col10{\n",
       "            background-color:  #cdd9ec;\n",
       "            color:  #000000;\n",
       "        }#T_c6d84386_000e_11eb_8cb5_e4b97aae3688row8_col3,#T_c6d84386_000e_11eb_8cb5_e4b97aae3688row12_col4,#T_c6d84386_000e_11eb_8cb5_e4b97aae3688row18_col4{\n",
       "            background-color:  #bed2f6;\n",
       "            color:  #000000;\n",
       "        }#T_c6d84386_000e_11eb_8cb5_e4b97aae3688row8_col7,#T_c6d84386_000e_11eb_8cb5_e4b97aae3688row15_col14,#T_c6d84386_000e_11eb_8cb5_e4b97aae3688row19_col22{\n",
       "            background-color:  #455cce;\n",
       "            color:  #f1f1f1;\n",
       "        }#T_c6d84386_000e_11eb_8cb5_e4b97aae3688row8_col12,#T_c6d84386_000e_11eb_8cb5_e4b97aae3688row9_col4,#T_c6d84386_000e_11eb_8cb5_e4b97aae3688row9_col20,#T_c6d84386_000e_11eb_8cb5_e4b97aae3688row17_col12,#T_c6d84386_000e_11eb_8cb5_e4b97aae3688row20_col14,#T_c6d84386_000e_11eb_8cb5_e4b97aae3688row22_col0{\n",
       "            background-color:  #a2c1ff;\n",
       "            color:  #000000;\n",
       "        }#T_c6d84386_000e_11eb_8cb5_e4b97aae3688row8_col18,#T_c6d84386_000e_11eb_8cb5_e4b97aae3688row12_col22,#T_c6d84386_000e_11eb_8cb5_e4b97aae3688row17_col5,#T_c6d84386_000e_11eb_8cb5_e4b97aae3688row18_col3,#T_c6d84386_000e_11eb_8cb5_e4b97aae3688row19_col0,#T_c6d84386_000e_11eb_8cb5_e4b97aae3688row19_col12{\n",
       "            background-color:  #a5c3fe;\n",
       "            color:  #000000;\n",
       "        }#T_c6d84386_000e_11eb_8cb5_e4b97aae3688row8_col21,#T_c6d84386_000e_11eb_8cb5_e4b97aae3688row10_col0,#T_c6d84386_000e_11eb_8cb5_e4b97aae3688row12_col15,#T_c6d84386_000e_11eb_8cb5_e4b97aae3688row16_col9,#T_c6d84386_000e_11eb_8cb5_e4b97aae3688row18_col2,#T_c6d84386_000e_11eb_8cb5_e4b97aae3688row19_col13,#T_c6d84386_000e_11eb_8cb5_e4b97aae3688row21_col13,#T_c6d84386_000e_11eb_8cb5_e4b97aae3688row21_col17{\n",
       "            background-color:  #6a8bef;\n",
       "            color:  #000000;\n",
       "        }#T_c6d84386_000e_11eb_8cb5_e4b97aae3688row8_col22{\n",
       "            background-color:  #779af7;\n",
       "            color:  #000000;\n",
       "        }#T_c6d84386_000e_11eb_8cb5_e4b97aae3688row9_col8,#T_c6d84386_000e_11eb_8cb5_e4b97aae3688row9_col10,#T_c6d84386_000e_11eb_8cb5_e4b97aae3688row10_col21,#T_c6d84386_000e_11eb_8cb5_e4b97aae3688row20_col13{\n",
       "            background-color:  #c3d5f4;\n",
       "            color:  #000000;\n",
       "        }#T_c6d84386_000e_11eb_8cb5_e4b97aae3688row9_col11,#T_c6d84386_000e_11eb_8cb5_e4b97aae3688row12_col7,#T_c6d84386_000e_11eb_8cb5_e4b97aae3688row13_col7,#T_c6d84386_000e_11eb_8cb5_e4b97aae3688row15_col7,#T_c6d84386_000e_11eb_8cb5_e4b97aae3688row17_col7,#T_c6d84386_000e_11eb_8cb5_e4b97aae3688row18_col15,#T_c6d84386_000e_11eb_8cb5_e4b97aae3688row19_col11,#T_c6d84386_000e_11eb_8cb5_e4b97aae3688row21_col19{\n",
       "            background-color:  #5572df;\n",
       "            color:  #000000;\n",
       "        }#T_c6d84386_000e_11eb_8cb5_e4b97aae3688row9_col18,#T_c6d84386_000e_11eb_8cb5_e4b97aae3688row15_col21,#T_c6d84386_000e_11eb_8cb5_e4b97aae3688row22_col4{\n",
       "            background-color:  #9bbcff;\n",
       "            color:  #000000;\n",
       "        }#T_c6d84386_000e_11eb_8cb5_e4b97aae3688row10_col8,#T_c6d84386_000e_11eb_8cb5_e4b97aae3688row20_col1{\n",
       "            background-color:  #4055c8;\n",
       "            color:  #f1f1f1;\n",
       "        }#T_c6d84386_000e_11eb_8cb5_e4b97aae3688row10_col9{\n",
       "            background-color:  #3f53c6;\n",
       "            color:  #f1f1f1;\n",
       "        }#T_c6d84386_000e_11eb_8cb5_e4b97aae3688row10_col11,#T_c6d84386_000e_11eb_8cb5_e4b97aae3688row10_col13,#T_c6d84386_000e_11eb_8cb5_e4b97aae3688row18_col14{\n",
       "            background-color:  #3e51c5;\n",
       "            color:  #f1f1f1;\n",
       "        }#T_c6d84386_000e_11eb_8cb5_e4b97aae3688row10_col14,#T_c6d84386_000e_11eb_8cb5_e4b97aae3688row15_col6{\n",
       "            background-color:  #dedcdb;\n",
       "            color:  #000000;\n",
       "        }#T_c6d84386_000e_11eb_8cb5_e4b97aae3688row11_col6{\n",
       "            background-color:  #f4c5ad;\n",
       "            color:  #000000;\n",
       "        }#T_c6d84386_000e_11eb_8cb5_e4b97aae3688row11_col8,#T_c6d84386_000e_11eb_8cb5_e4b97aae3688row20_col10{\n",
       "            background-color:  #cbd8ee;\n",
       "            color:  #000000;\n",
       "        }#T_c6d84386_000e_11eb_8cb5_e4b97aae3688row11_col15,#T_c6d84386_000e_11eb_8cb5_e4b97aae3688row13_col10,#T_c6d84386_000e_11eb_8cb5_e4b97aae3688row22_col2{\n",
       "            background-color:  #adc9fd;\n",
       "            color:  #000000;\n",
       "        }#T_c6d84386_000e_11eb_8cb5_e4b97aae3688row11_col16,#T_c6d84386_000e_11eb_8cb5_e4b97aae3688row13_col4,#T_c6d84386_000e_11eb_8cb5_e4b97aae3688row15_col5,#T_c6d84386_000e_11eb_8cb5_e4b97aae3688row17_col22{\n",
       "            background-color:  #81a4fb;\n",
       "            color:  #000000;\n",
       "        }#T_c6d84386_000e_11eb_8cb5_e4b97aae3688row12_col0{\n",
       "            background-color:  #eed0c0;\n",
       "            color:  #000000;\n",
       "        }#T_c6d84386_000e_11eb_8cb5_e4b97aae3688row12_col2,#T_c6d84386_000e_11eb_8cb5_e4b97aae3688row20_col9,#T_c6d84386_000e_11eb_8cb5_e4b97aae3688row20_col16,#T_c6d84386_000e_11eb_8cb5_e4b97aae3688row20_col17{\n",
       "            background-color:  #6788ee;\n",
       "            color:  #000000;\n",
       "        }#T_c6d84386_000e_11eb_8cb5_e4b97aae3688row12_col6{\n",
       "            background-color:  #d3dbe7;\n",
       "            color:  #000000;\n",
       "        }#T_c6d84386_000e_11eb_8cb5_e4b97aae3688row12_col8{\n",
       "            background-color:  #e2dad5;\n",
       "            color:  #000000;\n",
       "        }#T_c6d84386_000e_11eb_8cb5_e4b97aae3688row12_col18{\n",
       "            background-color:  #f18d6f;\n",
       "            color:  #000000;\n",
       "        }#T_c6d84386_000e_11eb_8cb5_e4b97aae3688row13_col1,#T_c6d84386_000e_11eb_8cb5_e4b97aae3688row13_col16,#T_c6d84386_000e_11eb_8cb5_e4b97aae3688row16_col18,#T_c6d84386_000e_11eb_8cb5_e4b97aae3688row22_col19{\n",
       "            background-color:  #6384eb;\n",
       "            color:  #000000;\n",
       "        }#T_c6d84386_000e_11eb_8cb5_e4b97aae3688row13_col8{\n",
       "            background-color:  #f5c0a7;\n",
       "            color:  #000000;\n",
       "        }#T_c6d84386_000e_11eb_8cb5_e4b97aae3688row13_col14,#T_c6d84386_000e_11eb_8cb5_e4b97aae3688row15_col18,#T_c6d84386_000e_11eb_8cb5_e4b97aae3688row18_col11{\n",
       "            background-color:  #5b7ae5;\n",
       "            color:  #000000;\n",
       "        }#T_c6d84386_000e_11eb_8cb5_e4b97aae3688row13_col17,#T_c6d84386_000e_11eb_8cb5_e4b97aae3688row19_col14,#T_c6d84386_000e_11eb_8cb5_e4b97aae3688row22_col21{\n",
       "            background-color:  #5e7de7;\n",
       "            color:  #000000;\n",
       "        }#T_c6d84386_000e_11eb_8cb5_e4b97aae3688row13_col20{\n",
       "            background-color:  #d6dce4;\n",
       "            color:  #000000;\n",
       "        }#T_c6d84386_000e_11eb_8cb5_e4b97aae3688row14_col2{\n",
       "            background-color:  #f2cab5;\n",
       "            color:  #000000;\n",
       "        }#T_c6d84386_000e_11eb_8cb5_e4b97aae3688row14_col6{\n",
       "            background-color:  #f5c2aa;\n",
       "            color:  #000000;\n",
       "        }#T_c6d84386_000e_11eb_8cb5_e4b97aae3688row14_col9,#T_c6d84386_000e_11eb_8cb5_e4b97aae3688row16_col11,#T_c6d84386_000e_11eb_8cb5_e4b97aae3688row17_col11,#T_c6d84386_000e_11eb_8cb5_e4b97aae3688row22_col11{\n",
       "            background-color:  #5a78e4;\n",
       "            color:  #000000;\n",
       "        }#T_c6d84386_000e_11eb_8cb5_e4b97aae3688row14_col10{\n",
       "            background-color:  #f6bea4;\n",
       "            color:  #000000;\n",
       "        }#T_c6d84386_000e_11eb_8cb5_e4b97aae3688row14_col11{\n",
       "            background-color:  #4358cb;\n",
       "            color:  #f1f1f1;\n",
       "        }#T_c6d84386_000e_11eb_8cb5_e4b97aae3688row15_col3{\n",
       "            background-color:  #bfd3f6;\n",
       "            color:  #000000;\n",
       "        }#T_c6d84386_000e_11eb_8cb5_e4b97aae3688row15_col8{\n",
       "            background-color:  #d9dce1;\n",
       "            color:  #000000;\n",
       "        }#T_c6d84386_000e_11eb_8cb5_e4b97aae3688row15_col19,#T_c6d84386_000e_11eb_8cb5_e4b97aae3688row15_col20,#T_c6d84386_000e_11eb_8cb5_e4b97aae3688row16_col0,#T_c6d84386_000e_11eb_8cb5_e4b97aae3688row18_col22{\n",
       "            background-color:  #a6c4fe;\n",
       "            color:  #000000;\n",
       "        }#T_c6d84386_000e_11eb_8cb5_e4b97aae3688row16_col3{\n",
       "            background-color:  #bad0f8;\n",
       "            color:  #000000;\n",
       "        }#T_c6d84386_000e_11eb_8cb5_e4b97aae3688row16_col8{\n",
       "            background-color:  #e1dad6;\n",
       "            color:  #000000;\n",
       "        }#T_c6d84386_000e_11eb_8cb5_e4b97aae3688row16_col10,#T_c6d84386_000e_11eb_8cb5_e4b97aae3688row20_col6{\n",
       "            background-color:  #cfdaea;\n",
       "            color:  #000000;\n",
       "        }#T_c6d84386_000e_11eb_8cb5_e4b97aae3688row17_col3,#T_c6d84386_000e_11eb_8cb5_e4b97aae3688row19_col3,#T_c6d84386_000e_11eb_8cb5_e4b97aae3688row21_col14{\n",
       "            background-color:  #b2ccfb;\n",
       "            color:  #000000;\n",
       "        }#T_c6d84386_000e_11eb_8cb5_e4b97aae3688row17_col6{\n",
       "            background-color:  #d5dbe5;\n",
       "            color:  #000000;\n",
       "        }#T_c6d84386_000e_11eb_8cb5_e4b97aae3688row18_col0{\n",
       "            background-color:  #ead5c9;\n",
       "            color:  #000000;\n",
       "        }#T_c6d84386_000e_11eb_8cb5_e4b97aae3688row18_col5{\n",
       "            background-color:  #dadce0;\n",
       "            color:  #000000;\n",
       "        }#T_c6d84386_000e_11eb_8cb5_e4b97aae3688row18_col8{\n",
       "            background-color:  #e5d8d1;\n",
       "            color:  #000000;\n",
       "        }#T_c6d84386_000e_11eb_8cb5_e4b97aae3688row18_col10{\n",
       "            background-color:  #cad8ef;\n",
       "            color:  #000000;\n",
       "        }#T_c6d84386_000e_11eb_8cb5_e4b97aae3688row18_col12{\n",
       "            background-color:  #f08b6e;\n",
       "            color:  #000000;\n",
       "        }#T_c6d84386_000e_11eb_8cb5_e4b97aae3688row19_col10{\n",
       "            background-color:  #c5d6f2;\n",
       "            color:  #000000;\n",
       "        }#T_c6d84386_000e_11eb_8cb5_e4b97aae3688row20_col8{\n",
       "            background-color:  #e6d7cf;\n",
       "            color:  #000000;\n",
       "        }#T_c6d84386_000e_11eb_8cb5_e4b97aae3688row21_col1{\n",
       "            background-color:  #e7d7ce;\n",
       "            color:  #000000;\n",
       "        }#T_c6d84386_000e_11eb_8cb5_e4b97aae3688row21_col10{\n",
       "            background-color:  #edd1c2;\n",
       "            color:  #000000;\n",
       "        }#T_c6d84386_000e_11eb_8cb5_e4b97aae3688row21_col20{\n",
       "            background-color:  #465ecf;\n",
       "            color:  #f1f1f1;\n",
       "        }#T_c6d84386_000e_11eb_8cb5_e4b97aae3688row22_col6{\n",
       "            background-color:  #e3d9d3;\n",
       "            color:  #000000;\n",
       "        }#T_c6d84386_000e_11eb_8cb5_e4b97aae3688row22_col12{\n",
       "            background-color:  #aec9fc;\n",
       "            color:  #000000;\n",
       "        }</style><table id=\"T_c6d84386_000e_11eb_8cb5_e4b97aae3688\" ><thead>    <tr>        <th class=\"blank level0\" ></th>        <th class=\"col_heading level0 col0\" >total_orders</th>        <th class=\"col_heading level0 col1\" >voucher_amount</th>        <th class=\"col_heading level0 col2\" >freq_0-4</th>        <th class=\"col_heading level0 col3\" >freq_5-13</th>        <th class=\"col_heading level0 col4\" >freq_13-37</th>        <th class=\"col_heading level0 col5\" >freq_38-higher</th>        <th class=\"col_heading level0 col6\" >days_since_last_order</th>        <th class=\"col_heading level0 col7\" >rec_segment_0-30</th>        <th class=\"col_heading level0 col8\" >rec_segment_30-60</th>        <th class=\"col_heading level0 col9\" >rec_segment_60-90</th>        <th class=\"col_heading level0 col10\" >rec_segment_90-120</th>        <th class=\"col_heading level0 col11\" >rec_segment_120-180</th>        <th class=\"col_heading level0 col12\" >customer_since_days</th>        <th class=\"col_heading level0 col13\" >cust_since_0-60</th>        <th class=\"col_heading level0 col14\" >cust_since_60-120</th>        <th class=\"col_heading level0 col15\" >cust_since_120-180</th>        <th class=\"col_heading level0 col16\" >cust_since_180-240</th>        <th class=\"col_heading level0 col17\" >cust_since_240-300</th>        <th class=\"col_heading level0 col18\" >cust_since_300+</th>        <th class=\"col_heading level0 col19\" >country_code_Australia</th>        <th class=\"col_heading level0 col20\" >country_code_China</th>        <th class=\"col_heading level0 col21\" >country_code_Latvia</th>        <th class=\"col_heading level0 col22\" >country_code_Peru</th>    </tr></thead><tbody>\n",
       "                <tr>\n",
       "                        <th id=\"T_c6d84386_000e_11eb_8cb5_e4b97aae3688level0_row0\" class=\"row_heading level0 row0\" >total_orders</th>\n",
       "                        <td id=\"T_c6d84386_000e_11eb_8cb5_e4b97aae3688row0_col0\" class=\"data row0 col0\" >1.00</td>\n",
       "                        <td id=\"T_c6d84386_000e_11eb_8cb5_e4b97aae3688row0_col1\" class=\"data row0 col1\" >-0.02</td>\n",
       "                        <td id=\"T_c6d84386_000e_11eb_8cb5_e4b97aae3688row0_col2\" class=\"data row0 col2\" >-0.43</td>\n",
       "                        <td id=\"T_c6d84386_000e_11eb_8cb5_e4b97aae3688row0_col3\" class=\"data row0 col3\" >-0.16</td>\n",
       "                        <td id=\"T_c6d84386_000e_11eb_8cb5_e4b97aae3688row0_col4\" class=\"data row0 col4\" >0.09</td>\n",
       "                        <td id=\"T_c6d84386_000e_11eb_8cb5_e4b97aae3688row0_col5\" class=\"data row0 col5\" >0.75</td>\n",
       "                        <td id=\"T_c6d84386_000e_11eb_8cb5_e4b97aae3688row0_col6\" class=\"data row0 col6\" >-0.21</td>\n",
       "                        <td id=\"T_c6d84386_000e_11eb_8cb5_e4b97aae3688row0_col7\" class=\"data row0 col7\" >0.01</td>\n",
       "                        <td id=\"T_c6d84386_000e_11eb_8cb5_e4b97aae3688row0_col8\" class=\"data row0 col8\" >0.20</td>\n",
       "                        <td id=\"T_c6d84386_000e_11eb_8cb5_e4b97aae3688row0_col9\" class=\"data row0 col9\" >0.04</td>\n",
       "                        <td id=\"T_c6d84386_000e_11eb_8cb5_e4b97aae3688row0_col10\" class=\"data row0 col10\" >-0.21</td>\n",
       "                        <td id=\"T_c6d84386_000e_11eb_8cb5_e4b97aae3688row0_col11\" class=\"data row0 col11\" >-0.03</td>\n",
       "                        <td id=\"T_c6d84386_000e_11eb_8cb5_e4b97aae3688row0_col12\" class=\"data row0 col12\" >0.39</td>\n",
       "                        <td id=\"T_c6d84386_000e_11eb_8cb5_e4b97aae3688row0_col13\" class=\"data row0 col13\" >-0.12</td>\n",
       "                        <td id=\"T_c6d84386_000e_11eb_8cb5_e4b97aae3688row0_col14\" class=\"data row0 col14\" >-0.27</td>\n",
       "                        <td id=\"T_c6d84386_000e_11eb_8cb5_e4b97aae3688row0_col15\" class=\"data row0 col15\" >-0.04</td>\n",
       "                        <td id=\"T_c6d84386_000e_11eb_8cb5_e4b97aae3688row0_col16\" class=\"data row0 col16\" >0.03</td>\n",
       "                        <td id=\"T_c6d84386_000e_11eb_8cb5_e4b97aae3688row0_col17\" class=\"data row0 col17\" >0.09</td>\n",
       "                        <td id=\"T_c6d84386_000e_11eb_8cb5_e4b97aae3688row0_col18\" class=\"data row0 col18\" >0.36</td>\n",
       "                        <td id=\"T_c6d84386_000e_11eb_8cb5_e4b97aae3688row0_col19\" class=\"data row0 col19\" >0.03</td>\n",
       "                        <td id=\"T_c6d84386_000e_11eb_8cb5_e4b97aae3688row0_col20\" class=\"data row0 col20\" >-0.05</td>\n",
       "                        <td id=\"T_c6d84386_000e_11eb_8cb5_e4b97aae3688row0_col21\" class=\"data row0 col21\" >0.01</td>\n",
       "                        <td id=\"T_c6d84386_000e_11eb_8cb5_e4b97aae3688row0_col22\" class=\"data row0 col22\" >0.02</td>\n",
       "            </tr>\n",
       "            <tr>\n",
       "                        <th id=\"T_c6d84386_000e_11eb_8cb5_e4b97aae3688level0_row1\" class=\"row_heading level0 row1\" >voucher_amount</th>\n",
       "                        <td id=\"T_c6d84386_000e_11eb_8cb5_e4b97aae3688row1_col0\" class=\"data row1 col0\" >-0.02</td>\n",
       "                        <td id=\"T_c6d84386_000e_11eb_8cb5_e4b97aae3688row1_col1\" class=\"data row1 col1\" >1.00</td>\n",
       "                        <td id=\"T_c6d84386_000e_11eb_8cb5_e4b97aae3688row1_col2\" class=\"data row1 col2\" >0.03</td>\n",
       "                        <td id=\"T_c6d84386_000e_11eb_8cb5_e4b97aae3688row1_col3\" class=\"data row1 col3\" >-0.01</td>\n",
       "                        <td id=\"T_c6d84386_000e_11eb_8cb5_e4b97aae3688row1_col4\" class=\"data row1 col4\" >-0.01</td>\n",
       "                        <td id=\"T_c6d84386_000e_11eb_8cb5_e4b97aae3688row1_col5\" class=\"data row1 col5\" >-0.02</td>\n",
       "                        <td id=\"T_c6d84386_000e_11eb_8cb5_e4b97aae3688row1_col6\" class=\"data row1 col6\" >0.12</td>\n",
       "                        <td id=\"T_c6d84386_000e_11eb_8cb5_e4b97aae3688row1_col7\" class=\"data row1 col7\" >-0.00</td>\n",
       "                        <td id=\"T_c6d84386_000e_11eb_8cb5_e4b97aae3688row1_col8\" class=\"data row1 col8\" >-0.12</td>\n",
       "                        <td id=\"T_c6d84386_000e_11eb_8cb5_e4b97aae3688row1_col9\" class=\"data row1 col9\" >-0.01</td>\n",
       "                        <td id=\"T_c6d84386_000e_11eb_8cb5_e4b97aae3688row1_col10\" class=\"data row1 col10\" >0.13</td>\n",
       "                        <td id=\"T_c6d84386_000e_11eb_8cb5_e4b97aae3688row1_col11\" class=\"data row1 col11\" >0.02</td>\n",
       "                        <td id=\"T_c6d84386_000e_11eb_8cb5_e4b97aae3688row1_col12\" class=\"data row1 col12\" >-0.01</td>\n",
       "                        <td id=\"T_c6d84386_000e_11eb_8cb5_e4b97aae3688row1_col13\" class=\"data row1 col13\" >-0.07</td>\n",
       "                        <td id=\"T_c6d84386_000e_11eb_8cb5_e4b97aae3688row1_col14\" class=\"data row1 col14\" >0.06</td>\n",
       "                        <td id=\"T_c6d84386_000e_11eb_8cb5_e4b97aae3688row1_col15\" class=\"data row1 col15\" >-0.01</td>\n",
       "                        <td id=\"T_c6d84386_000e_11eb_8cb5_e4b97aae3688row1_col16\" class=\"data row1 col16\" >0.01</td>\n",
       "                        <td id=\"T_c6d84386_000e_11eb_8cb5_e4b97aae3688row1_col17\" class=\"data row1 col17\" >0.00</td>\n",
       "                        <td id=\"T_c6d84386_000e_11eb_8cb5_e4b97aae3688row1_col18\" class=\"data row1 col18\" >-0.02</td>\n",
       "                        <td id=\"T_c6d84386_000e_11eb_8cb5_e4b97aae3688row1_col19\" class=\"data row1 col19\" >-0.01</td>\n",
       "                        <td id=\"T_c6d84386_000e_11eb_8cb5_e4b97aae3688row1_col20\" class=\"data row1 col20\" >-0.20</td>\n",
       "                        <td id=\"T_c6d84386_000e_11eb_8cb5_e4b97aae3688row1_col21\" class=\"data row1 col21\" >0.44</td>\n",
       "                        <td id=\"T_c6d84386_000e_11eb_8cb5_e4b97aae3688row1_col22\" class=\"data row1 col22\" >-0.22</td>\n",
       "            </tr>\n",
       "            <tr>\n",
       "                        <th id=\"T_c6d84386_000e_11eb_8cb5_e4b97aae3688level0_row2\" class=\"row_heading level0 row2\" >freq_0-4</th>\n",
       "                        <td id=\"T_c6d84386_000e_11eb_8cb5_e4b97aae3688row2_col0\" class=\"data row2 col0\" >-0.43</td>\n",
       "                        <td id=\"T_c6d84386_000e_11eb_8cb5_e4b97aae3688row2_col1\" class=\"data row2 col1\" >0.03</td>\n",
       "                        <td id=\"T_c6d84386_000e_11eb_8cb5_e4b97aae3688row2_col2\" class=\"data row2 col2\" >1.00</td>\n",
       "                        <td id=\"T_c6d84386_000e_11eb_8cb5_e4b97aae3688row2_col3\" class=\"data row2 col3\" >-0.52</td>\n",
       "                        <td id=\"T_c6d84386_000e_11eb_8cb5_e4b97aae3688row2_col4\" class=\"data row2 col4\" >-0.41</td>\n",
       "                        <td id=\"T_c6d84386_000e_11eb_8cb5_e4b97aae3688row2_col5\" class=\"data row2 col5\" >-0.33</td>\n",
       "                        <td id=\"T_c6d84386_000e_11eb_8cb5_e4b97aae3688row2_col6\" class=\"data row2 col6\" >0.32</td>\n",
       "                        <td id=\"T_c6d84386_000e_11eb_8cb5_e4b97aae3688row2_col7\" class=\"data row2 col7\" >-0.02</td>\n",
       "                        <td id=\"T_c6d84386_000e_11eb_8cb5_e4b97aae3688row2_col8\" class=\"data row2 col8\" >-0.32</td>\n",
       "                        <td id=\"T_c6d84386_000e_11eb_8cb5_e4b97aae3688row2_col9\" class=\"data row2 col9\" >-0.06</td>\n",
       "                        <td id=\"T_c6d84386_000e_11eb_8cb5_e4b97aae3688row2_col10\" class=\"data row2 col10\" >0.33</td>\n",
       "                        <td id=\"T_c6d84386_000e_11eb_8cb5_e4b97aae3688row2_col11\" class=\"data row2 col11\" >0.05</td>\n",
       "                        <td id=\"T_c6d84386_000e_11eb_8cb5_e4b97aae3688row2_col12\" class=\"data row2 col12\" >-0.31</td>\n",
       "                        <td id=\"T_c6d84386_000e_11eb_8cb5_e4b97aae3688row2_col13\" class=\"data row2 col13\" >0.15</td>\n",
       "                        <td id=\"T_c6d84386_000e_11eb_8cb5_e4b97aae3688row2_col14\" class=\"data row2 col14\" >0.39</td>\n",
       "                        <td id=\"T_c6d84386_000e_11eb_8cb5_e4b97aae3688row2_col15\" class=\"data row2 col15\" >-0.07</td>\n",
       "                        <td id=\"T_c6d84386_000e_11eb_8cb5_e4b97aae3688row2_col16\" class=\"data row2 col16\" >-0.14</td>\n",
       "                        <td id=\"T_c6d84386_000e_11eb_8cb5_e4b97aae3688row2_col17\" class=\"data row2 col17\" >-0.16</td>\n",
       "                        <td id=\"T_c6d84386_000e_11eb_8cb5_e4b97aae3688row2_col18\" class=\"data row2 col18\" >-0.29</td>\n",
       "                        <td id=\"T_c6d84386_000e_11eb_8cb5_e4b97aae3688row2_col19\" class=\"data row2 col19\" >-0.08</td>\n",
       "                        <td id=\"T_c6d84386_000e_11eb_8cb5_e4b97aae3688row2_col20\" class=\"data row2 col20\" >0.09</td>\n",
       "                        <td id=\"T_c6d84386_000e_11eb_8cb5_e4b97aae3688row2_col21\" class=\"data row2 col21\" >-0.01</td>\n",
       "                        <td id=\"T_c6d84386_000e_11eb_8cb5_e4b97aae3688row2_col22\" class=\"data row2 col22\" >-0.00</td>\n",
       "            </tr>\n",
       "            <tr>\n",
       "                        <th id=\"T_c6d84386_000e_11eb_8cb5_e4b97aae3688level0_row3\" class=\"row_heading level0 row3\" >freq_5-13</th>\n",
       "                        <td id=\"T_c6d84386_000e_11eb_8cb5_e4b97aae3688row3_col0\" class=\"data row3 col0\" >-0.16</td>\n",
       "                        <td id=\"T_c6d84386_000e_11eb_8cb5_e4b97aae3688row3_col1\" class=\"data row3 col1\" >-0.01</td>\n",
       "                        <td id=\"T_c6d84386_000e_11eb_8cb5_e4b97aae3688row3_col2\" class=\"data row3 col2\" >-0.52</td>\n",
       "                        <td id=\"T_c6d84386_000e_11eb_8cb5_e4b97aae3688row3_col3\" class=\"data row3 col3\" >1.00</td>\n",
       "                        <td id=\"T_c6d84386_000e_11eb_8cb5_e4b97aae3688row3_col4\" class=\"data row3 col4\" >-0.28</td>\n",
       "                        <td id=\"T_c6d84386_000e_11eb_8cb5_e4b97aae3688row3_col5\" class=\"data row3 col5\" >-0.22</td>\n",
       "                        <td id=\"T_c6d84386_000e_11eb_8cb5_e4b97aae3688row3_col6\" class=\"data row3 col6\" >-0.08</td>\n",
       "                        <td id=\"T_c6d84386_000e_11eb_8cb5_e4b97aae3688row3_col7\" class=\"data row3 col7\" >0.01</td>\n",
       "                        <td id=\"T_c6d84386_000e_11eb_8cb5_e4b97aae3688row3_col8\" class=\"data row3 col8\" >0.07</td>\n",
       "                        <td id=\"T_c6d84386_000e_11eb_8cb5_e4b97aae3688row3_col9\" class=\"data row3 col9\" >0.01</td>\n",
       "                        <td id=\"T_c6d84386_000e_11eb_8cb5_e4b97aae3688row3_col10\" class=\"data row3 col10\" >-0.08</td>\n",
       "                        <td id=\"T_c6d84386_000e_11eb_8cb5_e4b97aae3688row3_col11\" class=\"data row3 col11\" >-0.01</td>\n",
       "                        <td id=\"T_c6d84386_000e_11eb_8cb5_e4b97aae3688row3_col12\" class=\"data row3 col12\" >-0.03</td>\n",
       "                        <td id=\"T_c6d84386_000e_11eb_8cb5_e4b97aae3688row3_col13\" class=\"data row3 col13\" >0.01</td>\n",
       "                        <td id=\"T_c6d84386_000e_11eb_8cb5_e4b97aae3688row3_col14\" class=\"data row3 col14\" >-0.09</td>\n",
       "                        <td id=\"T_c6d84386_000e_11eb_8cb5_e4b97aae3688row3_col15\" class=\"data row3 col15\" >0.08</td>\n",
       "                        <td id=\"T_c6d84386_000e_11eb_8cb5_e4b97aae3688row3_col16\" class=\"data row3 col16\" >0.05</td>\n",
       "                        <td id=\"T_c6d84386_000e_11eb_8cb5_e4b97aae3688row3_col17\" class=\"data row3 col17\" >0.02</td>\n",
       "                        <td id=\"T_c6d84386_000e_11eb_8cb5_e4b97aae3688row3_col18\" class=\"data row3 col18\" >-0.04</td>\n",
       "                        <td id=\"T_c6d84386_000e_11eb_8cb5_e4b97aae3688row3_col19\" class=\"data row3 col19\" >0.02</td>\n",
       "                        <td id=\"T_c6d84386_000e_11eb_8cb5_e4b97aae3688row3_col20\" class=\"data row3 col20\" >-0.02</td>\n",
       "                        <td id=\"T_c6d84386_000e_11eb_8cb5_e4b97aae3688row3_col21\" class=\"data row3 col21\" >0.01</td>\n",
       "                        <td id=\"T_c6d84386_000e_11eb_8cb5_e4b97aae3688row3_col22\" class=\"data row3 col22\" >-0.01</td>\n",
       "            </tr>\n",
       "            <tr>\n",
       "                        <th id=\"T_c6d84386_000e_11eb_8cb5_e4b97aae3688level0_row4\" class=\"row_heading level0 row4\" >freq_13-37</th>\n",
       "                        <td id=\"T_c6d84386_000e_11eb_8cb5_e4b97aae3688row4_col0\" class=\"data row4 col0\" >0.09</td>\n",
       "                        <td id=\"T_c6d84386_000e_11eb_8cb5_e4b97aae3688row4_col1\" class=\"data row4 col1\" >-0.01</td>\n",
       "                        <td id=\"T_c6d84386_000e_11eb_8cb5_e4b97aae3688row4_col2\" class=\"data row4 col2\" >-0.41</td>\n",
       "                        <td id=\"T_c6d84386_000e_11eb_8cb5_e4b97aae3688row4_col3\" class=\"data row4 col3\" >-0.28</td>\n",
       "                        <td id=\"T_c6d84386_000e_11eb_8cb5_e4b97aae3688row4_col4\" class=\"data row4 col4\" >1.00</td>\n",
       "                        <td id=\"T_c6d84386_000e_11eb_8cb5_e4b97aae3688row4_col5\" class=\"data row4 col5\" >-0.18</td>\n",
       "                        <td id=\"T_c6d84386_000e_11eb_8cb5_e4b97aae3688row4_col6\" class=\"data row4 col6\" >-0.18</td>\n",
       "                        <td id=\"T_c6d84386_000e_11eb_8cb5_e4b97aae3688row4_col7\" class=\"data row4 col7\" >0.01</td>\n",
       "                        <td id=\"T_c6d84386_000e_11eb_8cb5_e4b97aae3688row4_col8\" class=\"data row4 col8\" >0.17</td>\n",
       "                        <td id=\"T_c6d84386_000e_11eb_8cb5_e4b97aae3688row4_col9\" class=\"data row4 col9\" >0.03</td>\n",
       "                        <td id=\"T_c6d84386_000e_11eb_8cb5_e4b97aae3688row4_col10\" class=\"data row4 col10\" >-0.18</td>\n",
       "                        <td id=\"T_c6d84386_000e_11eb_8cb5_e4b97aae3688row4_col11\" class=\"data row4 col11\" >-0.02</td>\n",
       "                        <td id=\"T_c6d84386_000e_11eb_8cb5_e4b97aae3688row4_col12\" class=\"data row4 col12\" >0.14</td>\n",
       "                        <td id=\"T_c6d84386_000e_11eb_8cb5_e4b97aae3688row4_col13\" class=\"data row4 col13\" >-0.11</td>\n",
       "                        <td id=\"T_c6d84386_000e_11eb_8cb5_e4b97aae3688row4_col14\" class=\"data row4 col14\" >-0.20</td>\n",
       "                        <td id=\"T_c6d84386_000e_11eb_8cb5_e4b97aae3688row4_col15\" class=\"data row4 col15\" >0.03</td>\n",
       "                        <td id=\"T_c6d84386_000e_11eb_8cb5_e4b97aae3688row4_col16\" class=\"data row4 col16\" >0.09</td>\n",
       "                        <td id=\"T_c6d84386_000e_11eb_8cb5_e4b97aae3688row4_col17\" class=\"data row4 col17\" >0.10</td>\n",
       "                        <td id=\"T_c6d84386_000e_11eb_8cb5_e4b97aae3688row4_col18\" class=\"data row4 col18\" >0.14</td>\n",
       "                        <td id=\"T_c6d84386_000e_11eb_8cb5_e4b97aae3688row4_col19\" class=\"data row4 col19\" >0.06</td>\n",
       "                        <td id=\"T_c6d84386_000e_11eb_8cb5_e4b97aae3688row4_col20\" class=\"data row4 col20\" >-0.06</td>\n",
       "                        <td id=\"T_c6d84386_000e_11eb_8cb5_e4b97aae3688row4_col21\" class=\"data row4 col21\" >0.01</td>\n",
       "                        <td id=\"T_c6d84386_000e_11eb_8cb5_e4b97aae3688row4_col22\" class=\"data row4 col22\" >0.00</td>\n",
       "            </tr>\n",
       "            <tr>\n",
       "                        <th id=\"T_c6d84386_000e_11eb_8cb5_e4b97aae3688level0_row5\" class=\"row_heading level0 row5\" >freq_38-higher</th>\n",
       "                        <td id=\"T_c6d84386_000e_11eb_8cb5_e4b97aae3688row5_col0\" class=\"data row5 col0\" >0.75</td>\n",
       "                        <td id=\"T_c6d84386_000e_11eb_8cb5_e4b97aae3688row5_col1\" class=\"data row5 col1\" >-0.02</td>\n",
       "                        <td id=\"T_c6d84386_000e_11eb_8cb5_e4b97aae3688row5_col2\" class=\"data row5 col2\" >-0.33</td>\n",
       "                        <td id=\"T_c6d84386_000e_11eb_8cb5_e4b97aae3688row5_col3\" class=\"data row5 col3\" >-0.22</td>\n",
       "                        <td id=\"T_c6d84386_000e_11eb_8cb5_e4b97aae3688row5_col4\" class=\"data row5 col4\" >-0.18</td>\n",
       "                        <td id=\"T_c6d84386_000e_11eb_8cb5_e4b97aae3688row5_col5\" class=\"data row5 col5\" >1.00</td>\n",
       "                        <td id=\"T_c6d84386_000e_11eb_8cb5_e4b97aae3688row5_col6\" class=\"data row5 col6\" >-0.18</td>\n",
       "                        <td id=\"T_c6d84386_000e_11eb_8cb5_e4b97aae3688row5_col7\" class=\"data row5 col7\" >0.01</td>\n",
       "                        <td id=\"T_c6d84386_000e_11eb_8cb5_e4b97aae3688row5_col8\" class=\"data row5 col8\" >0.18</td>\n",
       "                        <td id=\"T_c6d84386_000e_11eb_8cb5_e4b97aae3688row5_col9\" class=\"data row5 col9\" >0.03</td>\n",
       "                        <td id=\"T_c6d84386_000e_11eb_8cb5_e4b97aae3688row5_col10\" class=\"data row5 col10\" >-0.19</td>\n",
       "                        <td id=\"T_c6d84386_000e_11eb_8cb5_e4b97aae3688row5_col11\" class=\"data row5 col11\" >-0.02</td>\n",
       "                        <td id=\"T_c6d84386_000e_11eb_8cb5_e4b97aae3688row5_col12\" class=\"data row5 col12\" >0.33</td>\n",
       "                        <td id=\"T_c6d84386_000e_11eb_8cb5_e4b97aae3688row5_col13\" class=\"data row5 col13\" >-0.11</td>\n",
       "                        <td id=\"T_c6d84386_000e_11eb_8cb5_e4b97aae3688row5_col14\" class=\"data row5 col14\" >-0.24</td>\n",
       "                        <td id=\"T_c6d84386_000e_11eb_8cb5_e4b97aae3688row5_col15\" class=\"data row5 col15\" >-0.05</td>\n",
       "                        <td id=\"T_c6d84386_000e_11eb_8cb5_e4b97aae3688row5_col16\" class=\"data row5 col16\" >0.03</td>\n",
       "                        <td id=\"T_c6d84386_000e_11eb_8cb5_e4b97aae3688row5_col17\" class=\"data row5 col17\" >0.09</td>\n",
       "                        <td id=\"T_c6d84386_000e_11eb_8cb5_e4b97aae3688row5_col18\" class=\"data row5 col18\" >0.32</td>\n",
       "                        <td id=\"T_c6d84386_000e_11eb_8cb5_e4b97aae3688row5_col19\" class=\"data row5 col19\" >0.03</td>\n",
       "                        <td id=\"T_c6d84386_000e_11eb_8cb5_e4b97aae3688row5_col20\" class=\"data row5 col20\" >-0.04</td>\n",
       "                        <td id=\"T_c6d84386_000e_11eb_8cb5_e4b97aae3688row5_col21\" class=\"data row5 col21\" >-0.00</td>\n",
       "                        <td id=\"T_c6d84386_000e_11eb_8cb5_e4b97aae3688row5_col22\" class=\"data row5 col22\" >0.01</td>\n",
       "            </tr>\n",
       "            <tr>\n",
       "                        <th id=\"T_c6d84386_000e_11eb_8cb5_e4b97aae3688level0_row6\" class=\"row_heading level0 row6\" >days_since_last_order</th>\n",
       "                        <td id=\"T_c6d84386_000e_11eb_8cb5_e4b97aae3688row6_col0\" class=\"data row6 col0\" >-0.21</td>\n",
       "                        <td id=\"T_c6d84386_000e_11eb_8cb5_e4b97aae3688row6_col1\" class=\"data row6 col1\" >0.12</td>\n",
       "                        <td id=\"T_c6d84386_000e_11eb_8cb5_e4b97aae3688row6_col2\" class=\"data row6 col2\" >0.32</td>\n",
       "                        <td id=\"T_c6d84386_000e_11eb_8cb5_e4b97aae3688row6_col3\" class=\"data row6 col3\" >-0.08</td>\n",
       "                        <td id=\"T_c6d84386_000e_11eb_8cb5_e4b97aae3688row6_col4\" class=\"data row6 col4\" >-0.18</td>\n",
       "                        <td id=\"T_c6d84386_000e_11eb_8cb5_e4b97aae3688row6_col5\" class=\"data row6 col5\" >-0.18</td>\n",
       "                        <td id=\"T_c6d84386_000e_11eb_8cb5_e4b97aae3688row6_col6\" class=\"data row6 col6\" >1.00</td>\n",
       "                        <td id=\"T_c6d84386_000e_11eb_8cb5_e4b97aae3688row6_col7\" class=\"data row6 col7\" >-0.09</td>\n",
       "                        <td id=\"T_c6d84386_000e_11eb_8cb5_e4b97aae3688row6_col8\" class=\"data row6 col8\" >-0.97</td>\n",
       "                        <td id=\"T_c6d84386_000e_11eb_8cb5_e4b97aae3688row6_col9\" class=\"data row6 col9\" >0.07</td>\n",
       "                        <td id=\"T_c6d84386_000e_11eb_8cb5_e4b97aae3688row6_col10\" class=\"data row6 col10\" >0.91</td>\n",
       "                        <td id=\"T_c6d84386_000e_11eb_8cb5_e4b97aae3688row6_col11\" class=\"data row6 col11\" >0.26</td>\n",
       "                        <td id=\"T_c6d84386_000e_11eb_8cb5_e4b97aae3688row6_col12\" class=\"data row6 col12\" >-0.06</td>\n",
       "                        <td id=\"T_c6d84386_000e_11eb_8cb5_e4b97aae3688row6_col13\" class=\"data row6 col13\" >-0.28</td>\n",
       "                        <td id=\"T_c6d84386_000e_11eb_8cb5_e4b97aae3688row6_col14\" class=\"data row6 col14\" >0.27</td>\n",
       "                        <td id=\"T_c6d84386_000e_11eb_8cb5_e4b97aae3688row6_col15\" class=\"data row6 col15\" >0.03</td>\n",
       "                        <td id=\"T_c6d84386_000e_11eb_8cb5_e4b97aae3688row6_col16\" class=\"data row6 col16\" >-0.05</td>\n",
       "                        <td id=\"T_c6d84386_000e_11eb_8cb5_e4b97aae3688row6_col17\" class=\"data row6 col17\" >-0.05</td>\n",
       "                        <td id=\"T_c6d84386_000e_11eb_8cb5_e4b97aae3688row6_col18\" class=\"data row6 col18\" >-0.08</td>\n",
       "                        <td id=\"T_c6d84386_000e_11eb_8cb5_e4b97aae3688row6_col19\" class=\"data row6 col19\" >-0.13</td>\n",
       "                        <td id=\"T_c6d84386_000e_11eb_8cb5_e4b97aae3688row6_col20\" class=\"data row6 col20\" >-0.08</td>\n",
       "                        <td id=\"T_c6d84386_000e_11eb_8cb5_e4b97aae3688row6_col21\" class=\"data row6 col21\" >0.18</td>\n",
       "                        <td id=\"T_c6d84386_000e_11eb_8cb5_e4b97aae3688row6_col22\" class=\"data row6 col22\" >0.06</td>\n",
       "            </tr>\n",
       "            <tr>\n",
       "                        <th id=\"T_c6d84386_000e_11eb_8cb5_e4b97aae3688level0_row7\" class=\"row_heading level0 row7\" >rec_segment_0-30</th>\n",
       "                        <td id=\"T_c6d84386_000e_11eb_8cb5_e4b97aae3688row7_col0\" class=\"data row7 col0\" >0.01</td>\n",
       "                        <td id=\"T_c6d84386_000e_11eb_8cb5_e4b97aae3688row7_col1\" class=\"data row7 col1\" >-0.00</td>\n",
       "                        <td id=\"T_c6d84386_000e_11eb_8cb5_e4b97aae3688row7_col2\" class=\"data row7 col2\" >-0.02</td>\n",
       "                        <td id=\"T_c6d84386_000e_11eb_8cb5_e4b97aae3688row7_col3\" class=\"data row7 col3\" >0.01</td>\n",
       "                        <td id=\"T_c6d84386_000e_11eb_8cb5_e4b97aae3688row7_col4\" class=\"data row7 col4\" >0.01</td>\n",
       "                        <td id=\"T_c6d84386_000e_11eb_8cb5_e4b97aae3688row7_col5\" class=\"data row7 col5\" >0.01</td>\n",
       "                        <td id=\"T_c6d84386_000e_11eb_8cb5_e4b97aae3688row7_col6\" class=\"data row7 col6\" >-0.09</td>\n",
       "                        <td id=\"T_c6d84386_000e_11eb_8cb5_e4b97aae3688row7_col7\" class=\"data row7 col7\" >1.00</td>\n",
       "                        <td id=\"T_c6d84386_000e_11eb_8cb5_e4b97aae3688row7_col8\" class=\"data row7 col8\" >-0.05</td>\n",
       "                        <td id=\"T_c6d84386_000e_11eb_8cb5_e4b97aae3688row7_col9\" class=\"data row7 col9\" >-0.01</td>\n",
       "                        <td id=\"T_c6d84386_000e_11eb_8cb5_e4b97aae3688row7_col10\" class=\"data row7 col10\" >-0.04</td>\n",
       "                        <td id=\"T_c6d84386_000e_11eb_8cb5_e4b97aae3688row7_col11\" class=\"data row7 col11\" >-0.01</td>\n",
       "                        <td id=\"T_c6d84386_000e_11eb_8cb5_e4b97aae3688row7_col12\" class=\"data row7 col12\" >0.00</td>\n",
       "                        <td id=\"T_c6d84386_000e_11eb_8cb5_e4b97aae3688row7_col13\" class=\"data row7 col13\" >0.00</td>\n",
       "                        <td id=\"T_c6d84386_000e_11eb_8cb5_e4b97aae3688row7_col14\" class=\"data row7 col14\" >-0.02</td>\n",
       "                        <td id=\"T_c6d84386_000e_11eb_8cb5_e4b97aae3688row7_col15\" class=\"data row7 col15\" >0.00</td>\n",
       "                        <td id=\"T_c6d84386_000e_11eb_8cb5_e4b97aae3688row7_col16\" class=\"data row7 col16\" >0.01</td>\n",
       "                        <td id=\"T_c6d84386_000e_11eb_8cb5_e4b97aae3688row7_col17\" class=\"data row7 col17\" >0.01</td>\n",
       "                        <td id=\"T_c6d84386_000e_11eb_8cb5_e4b97aae3688row7_col18\" class=\"data row7 col18\" >0.00</td>\n",
       "                        <td id=\"T_c6d84386_000e_11eb_8cb5_e4b97aae3688row7_col19\" class=\"data row7 col19\" >0.04</td>\n",
       "                        <td id=\"T_c6d84386_000e_11eb_8cb5_e4b97aae3688row7_col20\" class=\"data row7 col20\" >-0.01</td>\n",
       "                        <td id=\"T_c6d84386_000e_11eb_8cb5_e4b97aae3688row7_col21\" class=\"data row7 col21\" >-0.02</td>\n",
       "                        <td id=\"T_c6d84386_000e_11eb_8cb5_e4b97aae3688row7_col22\" class=\"data row7 col22\" >-0.01</td>\n",
       "            </tr>\n",
       "            <tr>\n",
       "                        <th id=\"T_c6d84386_000e_11eb_8cb5_e4b97aae3688level0_row8\" class=\"row_heading level0 row8\" >rec_segment_30-60</th>\n",
       "                        <td id=\"T_c6d84386_000e_11eb_8cb5_e4b97aae3688row8_col0\" class=\"data row8 col0\" >0.20</td>\n",
       "                        <td id=\"T_c6d84386_000e_11eb_8cb5_e4b97aae3688row8_col1\" class=\"data row8 col1\" >-0.12</td>\n",
       "                        <td id=\"T_c6d84386_000e_11eb_8cb5_e4b97aae3688row8_col2\" class=\"data row8 col2\" >-0.32</td>\n",
       "                        <td id=\"T_c6d84386_000e_11eb_8cb5_e4b97aae3688row8_col3\" class=\"data row8 col3\" >0.07</td>\n",
       "                        <td id=\"T_c6d84386_000e_11eb_8cb5_e4b97aae3688row8_col4\" class=\"data row8 col4\" >0.17</td>\n",
       "                        <td id=\"T_c6d84386_000e_11eb_8cb5_e4b97aae3688row8_col5\" class=\"data row8 col5\" >0.18</td>\n",
       "                        <td id=\"T_c6d84386_000e_11eb_8cb5_e4b97aae3688row8_col6\" class=\"data row8 col6\" >-0.97</td>\n",
       "                        <td id=\"T_c6d84386_000e_11eb_8cb5_e4b97aae3688row8_col7\" class=\"data row8 col7\" >-0.05</td>\n",
       "                        <td id=\"T_c6d84386_000e_11eb_8cb5_e4b97aae3688row8_col8\" class=\"data row8 col8\" >1.00</td>\n",
       "                        <td id=\"T_c6d84386_000e_11eb_8cb5_e4b97aae3688row8_col9\" class=\"data row8 col9\" >-0.16</td>\n",
       "                        <td id=\"T_c6d84386_000e_11eb_8cb5_e4b97aae3688row8_col10\" class=\"data row8 col10\" >-0.92</td>\n",
       "                        <td id=\"T_c6d84386_000e_11eb_8cb5_e4b97aae3688row8_col11\" class=\"data row8 col11\" >-0.12</td>\n",
       "                        <td id=\"T_c6d84386_000e_11eb_8cb5_e4b97aae3688row8_col12\" class=\"data row8 col12\" >0.06</td>\n",
       "                        <td id=\"T_c6d84386_000e_11eb_8cb5_e4b97aae3688row8_col13\" class=\"data row8 col13\" >0.29</td>\n",
       "                        <td id=\"T_c6d84386_000e_11eb_8cb5_e4b97aae3688row8_col14\" class=\"data row8 col14\" >-0.28</td>\n",
       "                        <td id=\"T_c6d84386_000e_11eb_8cb5_e4b97aae3688row8_col15\" class=\"data row8 col15\" >-0.01</td>\n",
       "                        <td id=\"T_c6d84386_000e_11eb_8cb5_e4b97aae3688row8_col16\" class=\"data row8 col16\" >0.05</td>\n",
       "                        <td id=\"T_c6d84386_000e_11eb_8cb5_e4b97aae3688row8_col17\" class=\"data row8 col17\" >0.05</td>\n",
       "                        <td id=\"T_c6d84386_000e_11eb_8cb5_e4b97aae3688row8_col18\" class=\"data row8 col18\" >0.08</td>\n",
       "                        <td id=\"T_c6d84386_000e_11eb_8cb5_e4b97aae3688row8_col19\" class=\"data row8 col19\" >0.13</td>\n",
       "                        <td id=\"T_c6d84386_000e_11eb_8cb5_e4b97aae3688row8_col20\" class=\"data row8 col20\" >0.09</td>\n",
       "                        <td id=\"T_c6d84386_000e_11eb_8cb5_e4b97aae3688row8_col21\" class=\"data row8 col21\" >-0.18</td>\n",
       "                        <td id=\"T_c6d84386_000e_11eb_8cb5_e4b97aae3688row8_col22\" class=\"data row8 col22\" >-0.07</td>\n",
       "            </tr>\n",
       "            <tr>\n",
       "                        <th id=\"T_c6d84386_000e_11eb_8cb5_e4b97aae3688level0_row9\" class=\"row_heading level0 row9\" >rec_segment_60-90</th>\n",
       "                        <td id=\"T_c6d84386_000e_11eb_8cb5_e4b97aae3688row9_col0\" class=\"data row9 col0\" >0.04</td>\n",
       "                        <td id=\"T_c6d84386_000e_11eb_8cb5_e4b97aae3688row9_col1\" class=\"data row9 col1\" >-0.01</td>\n",
       "                        <td id=\"T_c6d84386_000e_11eb_8cb5_e4b97aae3688row9_col2\" class=\"data row9 col2\" >-0.06</td>\n",
       "                        <td id=\"T_c6d84386_000e_11eb_8cb5_e4b97aae3688row9_col3\" class=\"data row9 col3\" >0.01</td>\n",
       "                        <td id=\"T_c6d84386_000e_11eb_8cb5_e4b97aae3688row9_col4\" class=\"data row9 col4\" >0.03</td>\n",
       "                        <td id=\"T_c6d84386_000e_11eb_8cb5_e4b97aae3688row9_col5\" class=\"data row9 col5\" >0.03</td>\n",
       "                        <td id=\"T_c6d84386_000e_11eb_8cb5_e4b97aae3688row9_col6\" class=\"data row9 col6\" >0.07</td>\n",
       "                        <td id=\"T_c6d84386_000e_11eb_8cb5_e4b97aae3688row9_col7\" class=\"data row9 col7\" >-0.01</td>\n",
       "                        <td id=\"T_c6d84386_000e_11eb_8cb5_e4b97aae3688row9_col8\" class=\"data row9 col8\" >-0.16</td>\n",
       "                        <td id=\"T_c6d84386_000e_11eb_8cb5_e4b97aae3688row9_col9\" class=\"data row9 col9\" >1.00</td>\n",
       "                        <td id=\"T_c6d84386_000e_11eb_8cb5_e4b97aae3688row9_col10\" class=\"data row9 col10\" >-0.14</td>\n",
       "                        <td id=\"T_c6d84386_000e_11eb_8cb5_e4b97aae3688row9_col11\" class=\"data row9 col11\" >-0.02</td>\n",
       "                        <td id=\"T_c6d84386_000e_11eb_8cb5_e4b97aae3688row9_col12\" class=\"data row9 col12\" >0.04</td>\n",
       "                        <td id=\"T_c6d84386_000e_11eb_8cb5_e4b97aae3688row9_col13\" class=\"data row9 col13\" >-0.05</td>\n",
       "                        <td id=\"T_c6d84386_000e_11eb_8cb5_e4b97aae3688row9_col14\" class=\"data row9 col14\" >-0.04</td>\n",
       "                        <td id=\"T_c6d84386_000e_11eb_8cb5_e4b97aae3688row9_col15\" class=\"data row9 col15\" >0.02</td>\n",
       "                        <td id=\"T_c6d84386_000e_11eb_8cb5_e4b97aae3688row9_col16\" class=\"data row9 col16\" >0.01</td>\n",
       "                        <td id=\"T_c6d84386_000e_11eb_8cb5_e4b97aae3688row9_col17\" class=\"data row9 col17\" >0.02</td>\n",
       "                        <td id=\"T_c6d84386_000e_11eb_8cb5_e4b97aae3688row9_col18\" class=\"data row9 col18\" >0.04</td>\n",
       "                        <td id=\"T_c6d84386_000e_11eb_8cb5_e4b97aae3688row9_col19\" class=\"data row9 col19\" >-0.02</td>\n",
       "                        <td id=\"T_c6d84386_000e_11eb_8cb5_e4b97aae3688row9_col20\" class=\"data row9 col20\" >0.00</td>\n",
       "                        <td id=\"T_c6d84386_000e_11eb_8cb5_e4b97aae3688row9_col21\" class=\"data row9 col21\" >0.01</td>\n",
       "                        <td id=\"T_c6d84386_000e_11eb_8cb5_e4b97aae3688row9_col22\" class=\"data row9 col22\" >0.02</td>\n",
       "            </tr>\n",
       "            <tr>\n",
       "                        <th id=\"T_c6d84386_000e_11eb_8cb5_e4b97aae3688level0_row10\" class=\"row_heading level0 row10\" >rec_segment_90-120</th>\n",
       "                        <td id=\"T_c6d84386_000e_11eb_8cb5_e4b97aae3688row10_col0\" class=\"data row10 col0\" >-0.21</td>\n",
       "                        <td id=\"T_c6d84386_000e_11eb_8cb5_e4b97aae3688row10_col1\" class=\"data row10 col1\" >0.13</td>\n",
       "                        <td id=\"T_c6d84386_000e_11eb_8cb5_e4b97aae3688row10_col2\" class=\"data row10 col2\" >0.33</td>\n",
       "                        <td id=\"T_c6d84386_000e_11eb_8cb5_e4b97aae3688row10_col3\" class=\"data row10 col3\" >-0.08</td>\n",
       "                        <td id=\"T_c6d84386_000e_11eb_8cb5_e4b97aae3688row10_col4\" class=\"data row10 col4\" >-0.18</td>\n",
       "                        <td id=\"T_c6d84386_000e_11eb_8cb5_e4b97aae3688row10_col5\" class=\"data row10 col5\" >-0.19</td>\n",
       "                        <td id=\"T_c6d84386_000e_11eb_8cb5_e4b97aae3688row10_col6\" class=\"data row10 col6\" >0.91</td>\n",
       "                        <td id=\"T_c6d84386_000e_11eb_8cb5_e4b97aae3688row10_col7\" class=\"data row10 col7\" >-0.04</td>\n",
       "                        <td id=\"T_c6d84386_000e_11eb_8cb5_e4b97aae3688row10_col8\" class=\"data row10 col8\" >-0.92</td>\n",
       "                        <td id=\"T_c6d84386_000e_11eb_8cb5_e4b97aae3688row10_col9\" class=\"data row10 col9\" >-0.14</td>\n",
       "                        <td id=\"T_c6d84386_000e_11eb_8cb5_e4b97aae3688row10_col10\" class=\"data row10 col10\" >1.00</td>\n",
       "                        <td id=\"T_c6d84386_000e_11eb_8cb5_e4b97aae3688row10_col11\" class=\"data row10 col11\" >-0.10</td>\n",
       "                        <td id=\"T_c6d84386_000e_11eb_8cb5_e4b97aae3688row10_col12\" class=\"data row10 col12\" >-0.07</td>\n",
       "                        <td id=\"T_c6d84386_000e_11eb_8cb5_e4b97aae3688row10_col13\" class=\"data row10 col13\" >-0.27</td>\n",
       "                        <td id=\"T_c6d84386_000e_11eb_8cb5_e4b97aae3688row10_col14\" class=\"data row10 col14\" >0.32</td>\n",
       "                        <td id=\"T_c6d84386_000e_11eb_8cb5_e4b97aae3688row10_col15\" class=\"data row10 col15\" >-0.03</td>\n",
       "                        <td id=\"T_c6d84386_000e_11eb_8cb5_e4b97aae3688row10_col16\" class=\"data row10 col16\" >-0.06</td>\n",
       "                        <td id=\"T_c6d84386_000e_11eb_8cb5_e4b97aae3688row10_col17\" class=\"data row10 col17\" >-0.05</td>\n",
       "                        <td id=\"T_c6d84386_000e_11eb_8cb5_e4b97aae3688row10_col18\" class=\"data row10 col18\" >-0.09</td>\n",
       "                        <td id=\"T_c6d84386_000e_11eb_8cb5_e4b97aae3688row10_col19\" class=\"data row10 col19\" >-0.13</td>\n",
       "                        <td id=\"T_c6d84386_000e_11eb_8cb5_e4b97aae3688row10_col20\" class=\"data row10 col20\" >-0.08</td>\n",
       "                        <td id=\"T_c6d84386_000e_11eb_8cb5_e4b97aae3688row10_col21\" class=\"data row10 col21\" >0.18</td>\n",
       "                        <td id=\"T_c6d84386_000e_11eb_8cb5_e4b97aae3688row10_col22\" class=\"data row10 col22\" >0.06</td>\n",
       "            </tr>\n",
       "            <tr>\n",
       "                        <th id=\"T_c6d84386_000e_11eb_8cb5_e4b97aae3688level0_row11\" class=\"row_heading level0 row11\" >rec_segment_120-180</th>\n",
       "                        <td id=\"T_c6d84386_000e_11eb_8cb5_e4b97aae3688row11_col0\" class=\"data row11 col0\" >-0.03</td>\n",
       "                        <td id=\"T_c6d84386_000e_11eb_8cb5_e4b97aae3688row11_col1\" class=\"data row11 col1\" >0.02</td>\n",
       "                        <td id=\"T_c6d84386_000e_11eb_8cb5_e4b97aae3688row11_col2\" class=\"data row11 col2\" >0.05</td>\n",
       "                        <td id=\"T_c6d84386_000e_11eb_8cb5_e4b97aae3688row11_col3\" class=\"data row11 col3\" >-0.01</td>\n",
       "                        <td id=\"T_c6d84386_000e_11eb_8cb5_e4b97aae3688row11_col4\" class=\"data row11 col4\" >-0.02</td>\n",
       "                        <td id=\"T_c6d84386_000e_11eb_8cb5_e4b97aae3688row11_col5\" class=\"data row11 col5\" >-0.02</td>\n",
       "                        <td id=\"T_c6d84386_000e_11eb_8cb5_e4b97aae3688row11_col6\" class=\"data row11 col6\" >0.26</td>\n",
       "                        <td id=\"T_c6d84386_000e_11eb_8cb5_e4b97aae3688row11_col7\" class=\"data row11 col7\" >-0.01</td>\n",
       "                        <td id=\"T_c6d84386_000e_11eb_8cb5_e4b97aae3688row11_col8\" class=\"data row11 col8\" >-0.12</td>\n",
       "                        <td id=\"T_c6d84386_000e_11eb_8cb5_e4b97aae3688row11_col9\" class=\"data row11 col9\" >-0.02</td>\n",
       "                        <td id=\"T_c6d84386_000e_11eb_8cb5_e4b97aae3688row11_col10\" class=\"data row11 col10\" >-0.10</td>\n",
       "                        <td id=\"T_c6d84386_000e_11eb_8cb5_e4b97aae3688row11_col11\" class=\"data row11 col11\" >1.00</td>\n",
       "                        <td id=\"T_c6d84386_000e_11eb_8cb5_e4b97aae3688row11_col12\" class=\"data row11 col12\" >0.01</td>\n",
       "                        <td id=\"T_c6d84386_000e_11eb_8cb5_e4b97aae3688row11_col13\" class=\"data row11 col13\" >-0.03</td>\n",
       "                        <td id=\"T_c6d84386_000e_11eb_8cb5_e4b97aae3688row11_col14\" class=\"data row11 col14\" >-0.08</td>\n",
       "                        <td id=\"T_c6d84386_000e_11eb_8cb5_e4b97aae3688row11_col15\" class=\"data row11 col15\" >0.13</td>\n",
       "                        <td id=\"T_c6d84386_000e_11eb_8cb5_e4b97aae3688row11_col16\" class=\"data row11 col16\" >-0.00</td>\n",
       "                        <td id=\"T_c6d84386_000e_11eb_8cb5_e4b97aae3688row11_col17\" class=\"data row11 col17\" >0.00</td>\n",
       "                        <td id=\"T_c6d84386_000e_11eb_8cb5_e4b97aae3688row11_col18\" class=\"data row11 col18\" >0.00</td>\n",
       "                        <td id=\"T_c6d84386_000e_11eb_8cb5_e4b97aae3688row11_col19\" class=\"data row11 col19\" >-0.02</td>\n",
       "                        <td id=\"T_c6d84386_000e_11eb_8cb5_e4b97aae3688row11_col20\" class=\"data row11 col20\" >-0.01</td>\n",
       "                        <td id=\"T_c6d84386_000e_11eb_8cb5_e4b97aae3688row11_col21\" class=\"data row11 col21\" >0.02</td>\n",
       "                        <td id=\"T_c6d84386_000e_11eb_8cb5_e4b97aae3688row11_col22\" class=\"data row11 col22\" >0.00</td>\n",
       "            </tr>\n",
       "            <tr>\n",
       "                        <th id=\"T_c6d84386_000e_11eb_8cb5_e4b97aae3688level0_row12\" class=\"row_heading level0 row12\" >customer_since_days</th>\n",
       "                        <td id=\"T_c6d84386_000e_11eb_8cb5_e4b97aae3688row12_col0\" class=\"data row12 col0\" >0.39</td>\n",
       "                        <td id=\"T_c6d84386_000e_11eb_8cb5_e4b97aae3688row12_col1\" class=\"data row12 col1\" >-0.01</td>\n",
       "                        <td id=\"T_c6d84386_000e_11eb_8cb5_e4b97aae3688row12_col2\" class=\"data row12 col2\" >-0.31</td>\n",
       "                        <td id=\"T_c6d84386_000e_11eb_8cb5_e4b97aae3688row12_col3\" class=\"data row12 col3\" >-0.03</td>\n",
       "                        <td id=\"T_c6d84386_000e_11eb_8cb5_e4b97aae3688row12_col4\" class=\"data row12 col4\" >0.14</td>\n",
       "                        <td id=\"T_c6d84386_000e_11eb_8cb5_e4b97aae3688row12_col5\" class=\"data row12 col5\" >0.33</td>\n",
       "                        <td id=\"T_c6d84386_000e_11eb_8cb5_e4b97aae3688row12_col6\" class=\"data row12 col6\" >-0.06</td>\n",
       "                        <td id=\"T_c6d84386_000e_11eb_8cb5_e4b97aae3688row12_col7\" class=\"data row12 col7\" >0.00</td>\n",
       "                        <td id=\"T_c6d84386_000e_11eb_8cb5_e4b97aae3688row12_col8\" class=\"data row12 col8\" >0.06</td>\n",
       "                        <td id=\"T_c6d84386_000e_11eb_8cb5_e4b97aae3688row12_col9\" class=\"data row12 col9\" >0.04</td>\n",
       "                        <td id=\"T_c6d84386_000e_11eb_8cb5_e4b97aae3688row12_col10\" class=\"data row12 col10\" >-0.07</td>\n",
       "                        <td id=\"T_c6d84386_000e_11eb_8cb5_e4b97aae3688row12_col11\" class=\"data row12 col11\" >0.01</td>\n",
       "                        <td id=\"T_c6d84386_000e_11eb_8cb5_e4b97aae3688row12_col12\" class=\"data row12 col12\" >1.00</td>\n",
       "                        <td id=\"T_c6d84386_000e_11eb_8cb5_e4b97aae3688row12_col13\" class=\"data row12 col13\" >-0.21</td>\n",
       "                        <td id=\"T_c6d84386_000e_11eb_8cb5_e4b97aae3688row12_col14\" class=\"data row12 col14\" >-0.37</td>\n",
       "                        <td id=\"T_c6d84386_000e_11eb_8cb5_e4b97aae3688row12_col15\" class=\"data row12 col15\" >-0.13</td>\n",
       "                        <td id=\"T_c6d84386_000e_11eb_8cb5_e4b97aae3688row12_col16\" class=\"data row12 col16\" >-0.02</td>\n",
       "                        <td id=\"T_c6d84386_000e_11eb_8cb5_e4b97aae3688row12_col17\" class=\"data row12 col17\" >0.05</td>\n",
       "                        <td id=\"T_c6d84386_000e_11eb_8cb5_e4b97aae3688row12_col18\" class=\"data row12 col18\" >0.70</td>\n",
       "                        <td id=\"T_c6d84386_000e_11eb_8cb5_e4b97aae3688row12_col19\" class=\"data row12 col19\" >0.06</td>\n",
       "                        <td id=\"T_c6d84386_000e_11eb_8cb5_e4b97aae3688row12_col20\" class=\"data row12 col20\" >-0.14</td>\n",
       "                        <td id=\"T_c6d84386_000e_11eb_8cb5_e4b97aae3688row12_col21\" class=\"data row12 col21\" >0.01</td>\n",
       "                        <td id=\"T_c6d84386_000e_11eb_8cb5_e4b97aae3688row12_col22\" class=\"data row12 col22\" >0.10</td>\n",
       "            </tr>\n",
       "            <tr>\n",
       "                        <th id=\"T_c6d84386_000e_11eb_8cb5_e4b97aae3688level0_row13\" class=\"row_heading level0 row13\" >cust_since_0-60</th>\n",
       "                        <td id=\"T_c6d84386_000e_11eb_8cb5_e4b97aae3688row13_col0\" class=\"data row13 col0\" >-0.12</td>\n",
       "                        <td id=\"T_c6d84386_000e_11eb_8cb5_e4b97aae3688row13_col1\" class=\"data row13 col1\" >-0.07</td>\n",
       "                        <td id=\"T_c6d84386_000e_11eb_8cb5_e4b97aae3688row13_col2\" class=\"data row13 col2\" >0.15</td>\n",
       "                        <td id=\"T_c6d84386_000e_11eb_8cb5_e4b97aae3688row13_col3\" class=\"data row13 col3\" >0.01</td>\n",
       "                        <td id=\"T_c6d84386_000e_11eb_8cb5_e4b97aae3688row13_col4\" class=\"data row13 col4\" >-0.11</td>\n",
       "                        <td id=\"T_c6d84386_000e_11eb_8cb5_e4b97aae3688row13_col5\" class=\"data row13 col5\" >-0.11</td>\n",
       "                        <td id=\"T_c6d84386_000e_11eb_8cb5_e4b97aae3688row13_col6\" class=\"data row13 col6\" >-0.28</td>\n",
       "                        <td id=\"T_c6d84386_000e_11eb_8cb5_e4b97aae3688row13_col7\" class=\"data row13 col7\" >0.00</td>\n",
       "                        <td id=\"T_c6d84386_000e_11eb_8cb5_e4b97aae3688row13_col8\" class=\"data row13 col8\" >0.29</td>\n",
       "                        <td id=\"T_c6d84386_000e_11eb_8cb5_e4b97aae3688row13_col9\" class=\"data row13 col9\" >-0.05</td>\n",
       "                        <td id=\"T_c6d84386_000e_11eb_8cb5_e4b97aae3688row13_col10\" class=\"data row13 col10\" >-0.27</td>\n",
       "                        <td id=\"T_c6d84386_000e_11eb_8cb5_e4b97aae3688row13_col11\" class=\"data row13 col11\" >-0.03</td>\n",
       "                        <td id=\"T_c6d84386_000e_11eb_8cb5_e4b97aae3688row13_col12\" class=\"data row13 col12\" >-0.21</td>\n",
       "                        <td id=\"T_c6d84386_000e_11eb_8cb5_e4b97aae3688row13_col13\" class=\"data row13 col13\" >1.00</td>\n",
       "                        <td id=\"T_c6d84386_000e_11eb_8cb5_e4b97aae3688row13_col14\" class=\"data row13 col14\" >-0.22</td>\n",
       "                        <td id=\"T_c6d84386_000e_11eb_8cb5_e4b97aae3688row13_col15\" class=\"data row13 col15\" >-0.13</td>\n",
       "                        <td id=\"T_c6d84386_000e_11eb_8cb5_e4b97aae3688row13_col16\" class=\"data row13 col16\" >-0.11</td>\n",
       "                        <td id=\"T_c6d84386_000e_11eb_8cb5_e4b97aae3688row13_col17\" class=\"data row13 col17\" >-0.10</td>\n",
       "                        <td id=\"T_c6d84386_000e_11eb_8cb5_e4b97aae3688row13_col18\" class=\"data row13 col18\" >-0.14</td>\n",
       "                        <td id=\"T_c6d84386_000e_11eb_8cb5_e4b97aae3688row13_col19\" class=\"data row13 col19\" >-0.09</td>\n",
       "                        <td id=\"T_c6d84386_000e_11eb_8cb5_e4b97aae3688row13_col20\" class=\"data row13 col20\" >0.24</td>\n",
       "                        <td id=\"T_c6d84386_000e_11eb_8cb5_e4b97aae3688row13_col21\" class=\"data row13 col21\" >-0.09</td>\n",
       "                        <td id=\"T_c6d84386_000e_11eb_8cb5_e4b97aae3688row13_col22\" class=\"data row13 col22\" >-0.10</td>\n",
       "            </tr>\n",
       "            <tr>\n",
       "                        <th id=\"T_c6d84386_000e_11eb_8cb5_e4b97aae3688level0_row14\" class=\"row_heading level0 row14\" >cust_since_60-120</th>\n",
       "                        <td id=\"T_c6d84386_000e_11eb_8cb5_e4b97aae3688row14_col0\" class=\"data row14 col0\" >-0.27</td>\n",
       "                        <td id=\"T_c6d84386_000e_11eb_8cb5_e4b97aae3688row14_col1\" class=\"data row14 col1\" >0.06</td>\n",
       "                        <td id=\"T_c6d84386_000e_11eb_8cb5_e4b97aae3688row14_col2\" class=\"data row14 col2\" >0.39</td>\n",
       "                        <td id=\"T_c6d84386_000e_11eb_8cb5_e4b97aae3688row14_col3\" class=\"data row14 col3\" >-0.09</td>\n",
       "                        <td id=\"T_c6d84386_000e_11eb_8cb5_e4b97aae3688row14_col4\" class=\"data row14 col4\" >-0.20</td>\n",
       "                        <td id=\"T_c6d84386_000e_11eb_8cb5_e4b97aae3688row14_col5\" class=\"data row14 col5\" >-0.24</td>\n",
       "                        <td id=\"T_c6d84386_000e_11eb_8cb5_e4b97aae3688row14_col6\" class=\"data row14 col6\" >0.27</td>\n",
       "                        <td id=\"T_c6d84386_000e_11eb_8cb5_e4b97aae3688row14_col7\" class=\"data row14 col7\" >-0.02</td>\n",
       "                        <td id=\"T_c6d84386_000e_11eb_8cb5_e4b97aae3688row14_col8\" class=\"data row14 col8\" >-0.28</td>\n",
       "                        <td id=\"T_c6d84386_000e_11eb_8cb5_e4b97aae3688row14_col9\" class=\"data row14 col9\" >-0.04</td>\n",
       "                        <td id=\"T_c6d84386_000e_11eb_8cb5_e4b97aae3688row14_col10\" class=\"data row14 col10\" >0.32</td>\n",
       "                        <td id=\"T_c6d84386_000e_11eb_8cb5_e4b97aae3688row14_col11\" class=\"data row14 col11\" >-0.08</td>\n",
       "                        <td id=\"T_c6d84386_000e_11eb_8cb5_e4b97aae3688row14_col12\" class=\"data row14 col12\" >-0.37</td>\n",
       "                        <td id=\"T_c6d84386_000e_11eb_8cb5_e4b97aae3688row14_col13\" class=\"data row14 col13\" >-0.22</td>\n",
       "                        <td id=\"T_c6d84386_000e_11eb_8cb5_e4b97aae3688row14_col14\" class=\"data row14 col14\" >1.00</td>\n",
       "                        <td id=\"T_c6d84386_000e_11eb_8cb5_e4b97aae3688row14_col15\" class=\"data row14 col15\" >-0.32</td>\n",
       "                        <td id=\"T_c6d84386_000e_11eb_8cb5_e4b97aae3688row14_col16\" class=\"data row14 col16\" >-0.28</td>\n",
       "                        <td id=\"T_c6d84386_000e_11eb_8cb5_e4b97aae3688row14_col17\" class=\"data row14 col17\" >-0.24</td>\n",
       "                        <td id=\"T_c6d84386_000e_11eb_8cb5_e4b97aae3688row14_col18\" class=\"data row14 col18\" >-0.35</td>\n",
       "                        <td id=\"T_c6d84386_000e_11eb_8cb5_e4b97aae3688row14_col19\" class=\"data row14 col19\" >-0.22</td>\n",
       "                        <td id=\"T_c6d84386_000e_11eb_8cb5_e4b97aae3688row14_col20\" class=\"data row14 col20\" >0.05</td>\n",
       "                        <td id=\"T_c6d84386_000e_11eb_8cb5_e4b97aae3688row14_col21\" class=\"data row14 col21\" >0.12</td>\n",
       "                        <td id=\"T_c6d84386_000e_11eb_8cb5_e4b97aae3688row14_col22\" class=\"data row14 col22\" >0.06</td>\n",
       "            </tr>\n",
       "            <tr>\n",
       "                        <th id=\"T_c6d84386_000e_11eb_8cb5_e4b97aae3688level0_row15\" class=\"row_heading level0 row15\" >cust_since_120-180</th>\n",
       "                        <td id=\"T_c6d84386_000e_11eb_8cb5_e4b97aae3688row15_col0\" class=\"data row15 col0\" >-0.04</td>\n",
       "                        <td id=\"T_c6d84386_000e_11eb_8cb5_e4b97aae3688row15_col1\" class=\"data row15 col1\" >-0.01</td>\n",
       "                        <td id=\"T_c6d84386_000e_11eb_8cb5_e4b97aae3688row15_col2\" class=\"data row15 col2\" >-0.07</td>\n",
       "                        <td id=\"T_c6d84386_000e_11eb_8cb5_e4b97aae3688row15_col3\" class=\"data row15 col3\" >0.08</td>\n",
       "                        <td id=\"T_c6d84386_000e_11eb_8cb5_e4b97aae3688row15_col4\" class=\"data row15 col4\" >0.03</td>\n",
       "                        <td id=\"T_c6d84386_000e_11eb_8cb5_e4b97aae3688row15_col5\" class=\"data row15 col5\" >-0.05</td>\n",
       "                        <td id=\"T_c6d84386_000e_11eb_8cb5_e4b97aae3688row15_col6\" class=\"data row15 col6\" >0.03</td>\n",
       "                        <td id=\"T_c6d84386_000e_11eb_8cb5_e4b97aae3688row15_col7\" class=\"data row15 col7\" >0.00</td>\n",
       "                        <td id=\"T_c6d84386_000e_11eb_8cb5_e4b97aae3688row15_col8\" class=\"data row15 col8\" >-0.01</td>\n",
       "                        <td id=\"T_c6d84386_000e_11eb_8cb5_e4b97aae3688row15_col9\" class=\"data row15 col9\" >0.02</td>\n",
       "                        <td id=\"T_c6d84386_000e_11eb_8cb5_e4b97aae3688row15_col10\" class=\"data row15 col10\" >-0.03</td>\n",
       "                        <td id=\"T_c6d84386_000e_11eb_8cb5_e4b97aae3688row15_col11\" class=\"data row15 col11\" >0.13</td>\n",
       "                        <td id=\"T_c6d84386_000e_11eb_8cb5_e4b97aae3688row15_col12\" class=\"data row15 col12\" >-0.13</td>\n",
       "                        <td id=\"T_c6d84386_000e_11eb_8cb5_e4b97aae3688row15_col13\" class=\"data row15 col13\" >-0.13</td>\n",
       "                        <td id=\"T_c6d84386_000e_11eb_8cb5_e4b97aae3688row15_col14\" class=\"data row15 col14\" >-0.32</td>\n",
       "                        <td id=\"T_c6d84386_000e_11eb_8cb5_e4b97aae3688row15_col15\" class=\"data row15 col15\" >1.00</td>\n",
       "                        <td id=\"T_c6d84386_000e_11eb_8cb5_e4b97aae3688row15_col16\" class=\"data row15 col16\" >-0.16</td>\n",
       "                        <td id=\"T_c6d84386_000e_11eb_8cb5_e4b97aae3688row15_col17\" class=\"data row15 col17\" >-0.14</td>\n",
       "                        <td id=\"T_c6d84386_000e_11eb_8cb5_e4b97aae3688row15_col18\" class=\"data row15 col18\" >-0.21</td>\n",
       "                        <td id=\"T_c6d84386_000e_11eb_8cb5_e4b97aae3688row15_col19\" class=\"data row15 col19\" >0.01</td>\n",
       "                        <td id=\"T_c6d84386_000e_11eb_8cb5_e4b97aae3688row15_col20\" class=\"data row15 col20\" >0.01</td>\n",
       "                        <td id=\"T_c6d84386_000e_11eb_8cb5_e4b97aae3688row15_col21\" class=\"data row15 col21\" >0.02</td>\n",
       "                        <td id=\"T_c6d84386_000e_11eb_8cb5_e4b97aae3688row15_col22\" class=\"data row15 col22\" >-0.05</td>\n",
       "            </tr>\n",
       "            <tr>\n",
       "                        <th id=\"T_c6d84386_000e_11eb_8cb5_e4b97aae3688level0_row16\" class=\"row_heading level0 row16\" >cust_since_180-240</th>\n",
       "                        <td id=\"T_c6d84386_000e_11eb_8cb5_e4b97aae3688row16_col0\" class=\"data row16 col0\" >0.03</td>\n",
       "                        <td id=\"T_c6d84386_000e_11eb_8cb5_e4b97aae3688row16_col1\" class=\"data row16 col1\" >0.01</td>\n",
       "                        <td id=\"T_c6d84386_000e_11eb_8cb5_e4b97aae3688row16_col2\" class=\"data row16 col2\" >-0.14</td>\n",
       "                        <td id=\"T_c6d84386_000e_11eb_8cb5_e4b97aae3688row16_col3\" class=\"data row16 col3\" >0.05</td>\n",
       "                        <td id=\"T_c6d84386_000e_11eb_8cb5_e4b97aae3688row16_col4\" class=\"data row16 col4\" >0.09</td>\n",
       "                        <td id=\"T_c6d84386_000e_11eb_8cb5_e4b97aae3688row16_col5\" class=\"data row16 col5\" >0.03</td>\n",
       "                        <td id=\"T_c6d84386_000e_11eb_8cb5_e4b97aae3688row16_col6\" class=\"data row16 col6\" >-0.05</td>\n",
       "                        <td id=\"T_c6d84386_000e_11eb_8cb5_e4b97aae3688row16_col7\" class=\"data row16 col7\" >0.01</td>\n",
       "                        <td id=\"T_c6d84386_000e_11eb_8cb5_e4b97aae3688row16_col8\" class=\"data row16 col8\" >0.05</td>\n",
       "                        <td id=\"T_c6d84386_000e_11eb_8cb5_e4b97aae3688row16_col9\" class=\"data row16 col9\" >0.01</td>\n",
       "                        <td id=\"T_c6d84386_000e_11eb_8cb5_e4b97aae3688row16_col10\" class=\"data row16 col10\" >-0.06</td>\n",
       "                        <td id=\"T_c6d84386_000e_11eb_8cb5_e4b97aae3688row16_col11\" class=\"data row16 col11\" >-0.00</td>\n",
       "                        <td id=\"T_c6d84386_000e_11eb_8cb5_e4b97aae3688row16_col12\" class=\"data row16 col12\" >-0.02</td>\n",
       "                        <td id=\"T_c6d84386_000e_11eb_8cb5_e4b97aae3688row16_col13\" class=\"data row16 col13\" >-0.11</td>\n",
       "                        <td id=\"T_c6d84386_000e_11eb_8cb5_e4b97aae3688row16_col14\" class=\"data row16 col14\" >-0.28</td>\n",
       "                        <td id=\"T_c6d84386_000e_11eb_8cb5_e4b97aae3688row16_col15\" class=\"data row16 col15\" >-0.16</td>\n",
       "                        <td id=\"T_c6d84386_000e_11eb_8cb5_e4b97aae3688row16_col16\" class=\"data row16 col16\" >1.00</td>\n",
       "                        <td id=\"T_c6d84386_000e_11eb_8cb5_e4b97aae3688row16_col17\" class=\"data row16 col17\" >-0.12</td>\n",
       "                        <td id=\"T_c6d84386_000e_11eb_8cb5_e4b97aae3688row16_col18\" class=\"data row16 col18\" >-0.18</td>\n",
       "                        <td id=\"T_c6d84386_000e_11eb_8cb5_e4b97aae3688row16_col19\" class=\"data row16 col19\" >0.17</td>\n",
       "                        <td id=\"T_c6d84386_000e_11eb_8cb5_e4b97aae3688row16_col20\" class=\"data row16 col20\" >-0.10</td>\n",
       "                        <td id=\"T_c6d84386_000e_11eb_8cb5_e4b97aae3688row16_col21\" class=\"data row16 col21\" >-0.03</td>\n",
       "                        <td id=\"T_c6d84386_000e_11eb_8cb5_e4b97aae3688row16_col22\" class=\"data row16 col22\" >-0.05</td>\n",
       "            </tr>\n",
       "            <tr>\n",
       "                        <th id=\"T_c6d84386_000e_11eb_8cb5_e4b97aae3688level0_row17\" class=\"row_heading level0 row17\" >cust_since_240-300</th>\n",
       "                        <td id=\"T_c6d84386_000e_11eb_8cb5_e4b97aae3688row17_col0\" class=\"data row17 col0\" >0.09</td>\n",
       "                        <td id=\"T_c6d84386_000e_11eb_8cb5_e4b97aae3688row17_col1\" class=\"data row17 col1\" >0.00</td>\n",
       "                        <td id=\"T_c6d84386_000e_11eb_8cb5_e4b97aae3688row17_col2\" class=\"data row17 col2\" >-0.16</td>\n",
       "                        <td id=\"T_c6d84386_000e_11eb_8cb5_e4b97aae3688row17_col3\" class=\"data row17 col3\" >0.02</td>\n",
       "                        <td id=\"T_c6d84386_000e_11eb_8cb5_e4b97aae3688row17_col4\" class=\"data row17 col4\" >0.10</td>\n",
       "                        <td id=\"T_c6d84386_000e_11eb_8cb5_e4b97aae3688row17_col5\" class=\"data row17 col5\" >0.09</td>\n",
       "                        <td id=\"T_c6d84386_000e_11eb_8cb5_e4b97aae3688row17_col6\" class=\"data row17 col6\" >-0.05</td>\n",
       "                        <td id=\"T_c6d84386_000e_11eb_8cb5_e4b97aae3688row17_col7\" class=\"data row17 col7\" >0.01</td>\n",
       "                        <td id=\"T_c6d84386_000e_11eb_8cb5_e4b97aae3688row17_col8\" class=\"data row17 col8\" >0.05</td>\n",
       "                        <td id=\"T_c6d84386_000e_11eb_8cb5_e4b97aae3688row17_col9\" class=\"data row17 col9\" >0.02</td>\n",
       "                        <td id=\"T_c6d84386_000e_11eb_8cb5_e4b97aae3688row17_col10\" class=\"data row17 col10\" >-0.05</td>\n",
       "                        <td id=\"T_c6d84386_000e_11eb_8cb5_e4b97aae3688row17_col11\" class=\"data row17 col11\" >0.00</td>\n",
       "                        <td id=\"T_c6d84386_000e_11eb_8cb5_e4b97aae3688row17_col12\" class=\"data row17 col12\" >0.05</td>\n",
       "                        <td id=\"T_c6d84386_000e_11eb_8cb5_e4b97aae3688row17_col13\" class=\"data row17 col13\" >-0.10</td>\n",
       "                        <td id=\"T_c6d84386_000e_11eb_8cb5_e4b97aae3688row17_col14\" class=\"data row17 col14\" >-0.24</td>\n",
       "                        <td id=\"T_c6d84386_000e_11eb_8cb5_e4b97aae3688row17_col15\" class=\"data row17 col15\" >-0.14</td>\n",
       "                        <td id=\"T_c6d84386_000e_11eb_8cb5_e4b97aae3688row17_col16\" class=\"data row17 col16\" >-0.12</td>\n",
       "                        <td id=\"T_c6d84386_000e_11eb_8cb5_e4b97aae3688row17_col17\" class=\"data row17 col17\" >1.00</td>\n",
       "                        <td id=\"T_c6d84386_000e_11eb_8cb5_e4b97aae3688row17_col18\" class=\"data row17 col18\" >-0.15</td>\n",
       "                        <td id=\"T_c6d84386_000e_11eb_8cb5_e4b97aae3688row17_col19\" class=\"data row17 col19\" >0.15</td>\n",
       "                        <td id=\"T_c6d84386_000e_11eb_8cb5_e4b97aae3688row17_col20\" class=\"data row17 col20\" >-0.07</td>\n",
       "                        <td id=\"T_c6d84386_000e_11eb_8cb5_e4b97aae3688row17_col21\" class=\"data row17 col21\" >-0.06</td>\n",
       "                        <td id=\"T_c6d84386_000e_11eb_8cb5_e4b97aae3688row17_col22\" class=\"data row17 col22\" >-0.03</td>\n",
       "            </tr>\n",
       "            <tr>\n",
       "                        <th id=\"T_c6d84386_000e_11eb_8cb5_e4b97aae3688level0_row18\" class=\"row_heading level0 row18\" >cust_since_300+</th>\n",
       "                        <td id=\"T_c6d84386_000e_11eb_8cb5_e4b97aae3688row18_col0\" class=\"data row18 col0\" >0.36</td>\n",
       "                        <td id=\"T_c6d84386_000e_11eb_8cb5_e4b97aae3688row18_col1\" class=\"data row18 col1\" >-0.02</td>\n",
       "                        <td id=\"T_c6d84386_000e_11eb_8cb5_e4b97aae3688row18_col2\" class=\"data row18 col2\" >-0.29</td>\n",
       "                        <td id=\"T_c6d84386_000e_11eb_8cb5_e4b97aae3688row18_col3\" class=\"data row18 col3\" >-0.04</td>\n",
       "                        <td id=\"T_c6d84386_000e_11eb_8cb5_e4b97aae3688row18_col4\" class=\"data row18 col4\" >0.14</td>\n",
       "                        <td id=\"T_c6d84386_000e_11eb_8cb5_e4b97aae3688row18_col5\" class=\"data row18 col5\" >0.32</td>\n",
       "                        <td id=\"T_c6d84386_000e_11eb_8cb5_e4b97aae3688row18_col6\" class=\"data row18 col6\" >-0.08</td>\n",
       "                        <td id=\"T_c6d84386_000e_11eb_8cb5_e4b97aae3688row18_col7\" class=\"data row18 col7\" >0.00</td>\n",
       "                        <td id=\"T_c6d84386_000e_11eb_8cb5_e4b97aae3688row18_col8\" class=\"data row18 col8\" >0.08</td>\n",
       "                        <td id=\"T_c6d84386_000e_11eb_8cb5_e4b97aae3688row18_col9\" class=\"data row18 col9\" >0.04</td>\n",
       "                        <td id=\"T_c6d84386_000e_11eb_8cb5_e4b97aae3688row18_col10\" class=\"data row18 col10\" >-0.09</td>\n",
       "                        <td id=\"T_c6d84386_000e_11eb_8cb5_e4b97aae3688row18_col11\" class=\"data row18 col11\" >0.00</td>\n",
       "                        <td id=\"T_c6d84386_000e_11eb_8cb5_e4b97aae3688row18_col12\" class=\"data row18 col12\" >0.70</td>\n",
       "                        <td id=\"T_c6d84386_000e_11eb_8cb5_e4b97aae3688row18_col13\" class=\"data row18 col13\" >-0.14</td>\n",
       "                        <td id=\"T_c6d84386_000e_11eb_8cb5_e4b97aae3688row18_col14\" class=\"data row18 col14\" >-0.35</td>\n",
       "                        <td id=\"T_c6d84386_000e_11eb_8cb5_e4b97aae3688row18_col15\" class=\"data row18 col15\" >-0.21</td>\n",
       "                        <td id=\"T_c6d84386_000e_11eb_8cb5_e4b97aae3688row18_col16\" class=\"data row18 col16\" >-0.18</td>\n",
       "                        <td id=\"T_c6d84386_000e_11eb_8cb5_e4b97aae3688row18_col17\" class=\"data row18 col17\" >-0.15</td>\n",
       "                        <td id=\"T_c6d84386_000e_11eb_8cb5_e4b97aae3688row18_col18\" class=\"data row18 col18\" >1.00</td>\n",
       "                        <td id=\"T_c6d84386_000e_11eb_8cb5_e4b97aae3688row18_col19\" class=\"data row18 col19\" >0.06</td>\n",
       "                        <td id=\"T_c6d84386_000e_11eb_8cb5_e4b97aae3688row18_col20\" class=\"data row18 col20\" >-0.12</td>\n",
       "                        <td id=\"T_c6d84386_000e_11eb_8cb5_e4b97aae3688row18_col21\" class=\"data row18 col21\" >-0.02</td>\n",
       "                        <td id=\"T_c6d84386_000e_11eb_8cb5_e4b97aae3688row18_col22\" class=\"data row18 col22\" >0.11</td>\n",
       "            </tr>\n",
       "            <tr>\n",
       "                        <th id=\"T_c6d84386_000e_11eb_8cb5_e4b97aae3688level0_row19\" class=\"row_heading level0 row19\" >country_code_Australia</th>\n",
       "                        <td id=\"T_c6d84386_000e_11eb_8cb5_e4b97aae3688row19_col0\" class=\"data row19 col0\" >0.03</td>\n",
       "                        <td id=\"T_c6d84386_000e_11eb_8cb5_e4b97aae3688row19_col1\" class=\"data row19 col1\" >-0.01</td>\n",
       "                        <td id=\"T_c6d84386_000e_11eb_8cb5_e4b97aae3688row19_col2\" class=\"data row19 col2\" >-0.08</td>\n",
       "                        <td id=\"T_c6d84386_000e_11eb_8cb5_e4b97aae3688row19_col3\" class=\"data row19 col3\" >0.02</td>\n",
       "                        <td id=\"T_c6d84386_000e_11eb_8cb5_e4b97aae3688row19_col4\" class=\"data row19 col4\" >0.06</td>\n",
       "                        <td id=\"T_c6d84386_000e_11eb_8cb5_e4b97aae3688row19_col5\" class=\"data row19 col5\" >0.03</td>\n",
       "                        <td id=\"T_c6d84386_000e_11eb_8cb5_e4b97aae3688row19_col6\" class=\"data row19 col6\" >-0.13</td>\n",
       "                        <td id=\"T_c6d84386_000e_11eb_8cb5_e4b97aae3688row19_col7\" class=\"data row19 col7\" >0.04</td>\n",
       "                        <td id=\"T_c6d84386_000e_11eb_8cb5_e4b97aae3688row19_col8\" class=\"data row19 col8\" >0.13</td>\n",
       "                        <td id=\"T_c6d84386_000e_11eb_8cb5_e4b97aae3688row19_col9\" class=\"data row19 col9\" >-0.02</td>\n",
       "                        <td id=\"T_c6d84386_000e_11eb_8cb5_e4b97aae3688row19_col10\" class=\"data row19 col10\" >-0.13</td>\n",
       "                        <td id=\"T_c6d84386_000e_11eb_8cb5_e4b97aae3688row19_col11\" class=\"data row19 col11\" >-0.02</td>\n",
       "                        <td id=\"T_c6d84386_000e_11eb_8cb5_e4b97aae3688row19_col12\" class=\"data row19 col12\" >0.06</td>\n",
       "                        <td id=\"T_c6d84386_000e_11eb_8cb5_e4b97aae3688row19_col13\" class=\"data row19 col13\" >-0.09</td>\n",
       "                        <td id=\"T_c6d84386_000e_11eb_8cb5_e4b97aae3688row19_col14\" class=\"data row19 col14\" >-0.22</td>\n",
       "                        <td id=\"T_c6d84386_000e_11eb_8cb5_e4b97aae3688row19_col15\" class=\"data row19 col15\" >0.01</td>\n",
       "                        <td id=\"T_c6d84386_000e_11eb_8cb5_e4b97aae3688row19_col16\" class=\"data row19 col16\" >0.17</td>\n",
       "                        <td id=\"T_c6d84386_000e_11eb_8cb5_e4b97aae3688row19_col17\" class=\"data row19 col17\" >0.15</td>\n",
       "                        <td id=\"T_c6d84386_000e_11eb_8cb5_e4b97aae3688row19_col18\" class=\"data row19 col18\" >0.06</td>\n",
       "                        <td id=\"T_c6d84386_000e_11eb_8cb5_e4b97aae3688row19_col19\" class=\"data row19 col19\" >1.00</td>\n",
       "                        <td id=\"T_c6d84386_000e_11eb_8cb5_e4b97aae3688row19_col20\" class=\"data row19 col20\" >-0.45</td>\n",
       "                        <td id=\"T_c6d84386_000e_11eb_8cb5_e4b97aae3688row19_col21\" class=\"data row19 col21\" >-0.33</td>\n",
       "                        <td id=\"T_c6d84386_000e_11eb_8cb5_e4b97aae3688row19_col22\" class=\"data row19 col22\" >-0.26</td>\n",
       "            </tr>\n",
       "            <tr>\n",
       "                        <th id=\"T_c6d84386_000e_11eb_8cb5_e4b97aae3688level0_row20\" class=\"row_heading level0 row20\" >country_code_China</th>\n",
       "                        <td id=\"T_c6d84386_000e_11eb_8cb5_e4b97aae3688row20_col0\" class=\"data row20 col0\" >-0.05</td>\n",
       "                        <td id=\"T_c6d84386_000e_11eb_8cb5_e4b97aae3688row20_col1\" class=\"data row20 col1\" >-0.20</td>\n",
       "                        <td id=\"T_c6d84386_000e_11eb_8cb5_e4b97aae3688row20_col2\" class=\"data row20 col2\" >0.09</td>\n",
       "                        <td id=\"T_c6d84386_000e_11eb_8cb5_e4b97aae3688row20_col3\" class=\"data row20 col3\" >-0.02</td>\n",
       "                        <td id=\"T_c6d84386_000e_11eb_8cb5_e4b97aae3688row20_col4\" class=\"data row20 col4\" >-0.06</td>\n",
       "                        <td id=\"T_c6d84386_000e_11eb_8cb5_e4b97aae3688row20_col5\" class=\"data row20 col5\" >-0.04</td>\n",
       "                        <td id=\"T_c6d84386_000e_11eb_8cb5_e4b97aae3688row20_col6\" class=\"data row20 col6\" >-0.08</td>\n",
       "                        <td id=\"T_c6d84386_000e_11eb_8cb5_e4b97aae3688row20_col7\" class=\"data row20 col7\" >-0.01</td>\n",
       "                        <td id=\"T_c6d84386_000e_11eb_8cb5_e4b97aae3688row20_col8\" class=\"data row20 col8\" >0.09</td>\n",
       "                        <td id=\"T_c6d84386_000e_11eb_8cb5_e4b97aae3688row20_col9\" class=\"data row20 col9\" >0.00</td>\n",
       "                        <td id=\"T_c6d84386_000e_11eb_8cb5_e4b97aae3688row20_col10\" class=\"data row20 col10\" >-0.08</td>\n",
       "                        <td id=\"T_c6d84386_000e_11eb_8cb5_e4b97aae3688row20_col11\" class=\"data row20 col11\" >-0.01</td>\n",
       "                        <td id=\"T_c6d84386_000e_11eb_8cb5_e4b97aae3688row20_col12\" class=\"data row20 col12\" >-0.14</td>\n",
       "                        <td id=\"T_c6d84386_000e_11eb_8cb5_e4b97aae3688row20_col13\" class=\"data row20 col13\" >0.24</td>\n",
       "                        <td id=\"T_c6d84386_000e_11eb_8cb5_e4b97aae3688row20_col14\" class=\"data row20 col14\" >0.05</td>\n",
       "                        <td id=\"T_c6d84386_000e_11eb_8cb5_e4b97aae3688row20_col15\" class=\"data row20 col15\" >0.01</td>\n",
       "                        <td id=\"T_c6d84386_000e_11eb_8cb5_e4b97aae3688row20_col16\" class=\"data row20 col16\" >-0.10</td>\n",
       "                        <td id=\"T_c6d84386_000e_11eb_8cb5_e4b97aae3688row20_col17\" class=\"data row20 col17\" >-0.07</td>\n",
       "                        <td id=\"T_c6d84386_000e_11eb_8cb5_e4b97aae3688row20_col18\" class=\"data row20 col18\" >-0.12</td>\n",
       "                        <td id=\"T_c6d84386_000e_11eb_8cb5_e4b97aae3688row20_col19\" class=\"data row20 col19\" >-0.45</td>\n",
       "                        <td id=\"T_c6d84386_000e_11eb_8cb5_e4b97aae3688row20_col20\" class=\"data row20 col20\" >1.00</td>\n",
       "                        <td id=\"T_c6d84386_000e_11eb_8cb5_e4b97aae3688row20_col21\" class=\"data row20 col21\" >-0.39</td>\n",
       "                        <td id=\"T_c6d84386_000e_11eb_8cb5_e4b97aae3688row20_col22\" class=\"data row20 col22\" >-0.32</td>\n",
       "            </tr>\n",
       "            <tr>\n",
       "                        <th id=\"T_c6d84386_000e_11eb_8cb5_e4b97aae3688level0_row21\" class=\"row_heading level0 row21\" >country_code_Latvia</th>\n",
       "                        <td id=\"T_c6d84386_000e_11eb_8cb5_e4b97aae3688row21_col0\" class=\"data row21 col0\" >0.01</td>\n",
       "                        <td id=\"T_c6d84386_000e_11eb_8cb5_e4b97aae3688row21_col1\" class=\"data row21 col1\" >0.44</td>\n",
       "                        <td id=\"T_c6d84386_000e_11eb_8cb5_e4b97aae3688row21_col2\" class=\"data row21 col2\" >-0.01</td>\n",
       "                        <td id=\"T_c6d84386_000e_11eb_8cb5_e4b97aae3688row21_col3\" class=\"data row21 col3\" >0.01</td>\n",
       "                        <td id=\"T_c6d84386_000e_11eb_8cb5_e4b97aae3688row21_col4\" class=\"data row21 col4\" >0.01</td>\n",
       "                        <td id=\"T_c6d84386_000e_11eb_8cb5_e4b97aae3688row21_col5\" class=\"data row21 col5\" >-0.00</td>\n",
       "                        <td id=\"T_c6d84386_000e_11eb_8cb5_e4b97aae3688row21_col6\" class=\"data row21 col6\" >0.18</td>\n",
       "                        <td id=\"T_c6d84386_000e_11eb_8cb5_e4b97aae3688row21_col7\" class=\"data row21 col7\" >-0.02</td>\n",
       "                        <td id=\"T_c6d84386_000e_11eb_8cb5_e4b97aae3688row21_col8\" class=\"data row21 col8\" >-0.18</td>\n",
       "                        <td id=\"T_c6d84386_000e_11eb_8cb5_e4b97aae3688row21_col9\" class=\"data row21 col9\" >0.01</td>\n",
       "                        <td id=\"T_c6d84386_000e_11eb_8cb5_e4b97aae3688row21_col10\" class=\"data row21 col10\" >0.18</td>\n",
       "                        <td id=\"T_c6d84386_000e_11eb_8cb5_e4b97aae3688row21_col11\" class=\"data row21 col11\" >0.02</td>\n",
       "                        <td id=\"T_c6d84386_000e_11eb_8cb5_e4b97aae3688row21_col12\" class=\"data row21 col12\" >0.01</td>\n",
       "                        <td id=\"T_c6d84386_000e_11eb_8cb5_e4b97aae3688row21_col13\" class=\"data row21 col13\" >-0.09</td>\n",
       "                        <td id=\"T_c6d84386_000e_11eb_8cb5_e4b97aae3688row21_col14\" class=\"data row21 col14\" >0.12</td>\n",
       "                        <td id=\"T_c6d84386_000e_11eb_8cb5_e4b97aae3688row21_col15\" class=\"data row21 col15\" >0.02</td>\n",
       "                        <td id=\"T_c6d84386_000e_11eb_8cb5_e4b97aae3688row21_col16\" class=\"data row21 col16\" >-0.03</td>\n",
       "                        <td id=\"T_c6d84386_000e_11eb_8cb5_e4b97aae3688row21_col17\" class=\"data row21 col17\" >-0.06</td>\n",
       "                        <td id=\"T_c6d84386_000e_11eb_8cb5_e4b97aae3688row21_col18\" class=\"data row21 col18\" >-0.02</td>\n",
       "                        <td id=\"T_c6d84386_000e_11eb_8cb5_e4b97aae3688row21_col19\" class=\"data row21 col19\" >-0.33</td>\n",
       "                        <td id=\"T_c6d84386_000e_11eb_8cb5_e4b97aae3688row21_col20\" class=\"data row21 col20\" >-0.39</td>\n",
       "                        <td id=\"T_c6d84386_000e_11eb_8cb5_e4b97aae3688row21_col21\" class=\"data row21 col21\" >1.00</td>\n",
       "                        <td id=\"T_c6d84386_000e_11eb_8cb5_e4b97aae3688row21_col22\" class=\"data row21 col22\" >-0.23</td>\n",
       "            </tr>\n",
       "            <tr>\n",
       "                        <th id=\"T_c6d84386_000e_11eb_8cb5_e4b97aae3688level0_row22\" class=\"row_heading level0 row22\" >country_code_Peru</th>\n",
       "                        <td id=\"T_c6d84386_000e_11eb_8cb5_e4b97aae3688row22_col0\" class=\"data row22 col0\" >0.02</td>\n",
       "                        <td id=\"T_c6d84386_000e_11eb_8cb5_e4b97aae3688row22_col1\" class=\"data row22 col1\" >-0.22</td>\n",
       "                        <td id=\"T_c6d84386_000e_11eb_8cb5_e4b97aae3688row22_col2\" class=\"data row22 col2\" >-0.00</td>\n",
       "                        <td id=\"T_c6d84386_000e_11eb_8cb5_e4b97aae3688row22_col3\" class=\"data row22 col3\" >-0.01</td>\n",
       "                        <td id=\"T_c6d84386_000e_11eb_8cb5_e4b97aae3688row22_col4\" class=\"data row22 col4\" >0.00</td>\n",
       "                        <td id=\"T_c6d84386_000e_11eb_8cb5_e4b97aae3688row22_col5\" class=\"data row22 col5\" >0.01</td>\n",
       "                        <td id=\"T_c6d84386_000e_11eb_8cb5_e4b97aae3688row22_col6\" class=\"data row22 col6\" >0.06</td>\n",
       "                        <td id=\"T_c6d84386_000e_11eb_8cb5_e4b97aae3688row22_col7\" class=\"data row22 col7\" >-0.01</td>\n",
       "                        <td id=\"T_c6d84386_000e_11eb_8cb5_e4b97aae3688row22_col8\" class=\"data row22 col8\" >-0.07</td>\n",
       "                        <td id=\"T_c6d84386_000e_11eb_8cb5_e4b97aae3688row22_col9\" class=\"data row22 col9\" >0.02</td>\n",
       "                        <td id=\"T_c6d84386_000e_11eb_8cb5_e4b97aae3688row22_col10\" class=\"data row22 col10\" >0.06</td>\n",
       "                        <td id=\"T_c6d84386_000e_11eb_8cb5_e4b97aae3688row22_col11\" class=\"data row22 col11\" >0.00</td>\n",
       "                        <td id=\"T_c6d84386_000e_11eb_8cb5_e4b97aae3688row22_col12\" class=\"data row22 col12\" >0.10</td>\n",
       "                        <td id=\"T_c6d84386_000e_11eb_8cb5_e4b97aae3688row22_col13\" class=\"data row22 col13\" >-0.10</td>\n",
       "                        <td id=\"T_c6d84386_000e_11eb_8cb5_e4b97aae3688row22_col14\" class=\"data row22 col14\" >0.06</td>\n",
       "                        <td id=\"T_c6d84386_000e_11eb_8cb5_e4b97aae3688row22_col15\" class=\"data row22 col15\" >-0.05</td>\n",
       "                        <td id=\"T_c6d84386_000e_11eb_8cb5_e4b97aae3688row22_col16\" class=\"data row22 col16\" >-0.05</td>\n",
       "                        <td id=\"T_c6d84386_000e_11eb_8cb5_e4b97aae3688row22_col17\" class=\"data row22 col17\" >-0.03</td>\n",
       "                        <td id=\"T_c6d84386_000e_11eb_8cb5_e4b97aae3688row22_col18\" class=\"data row22 col18\" >0.11</td>\n",
       "                        <td id=\"T_c6d84386_000e_11eb_8cb5_e4b97aae3688row22_col19\" class=\"data row22 col19\" >-0.26</td>\n",
       "                        <td id=\"T_c6d84386_000e_11eb_8cb5_e4b97aae3688row22_col20\" class=\"data row22 col20\" >-0.32</td>\n",
       "                        <td id=\"T_c6d84386_000e_11eb_8cb5_e4b97aae3688row22_col21\" class=\"data row22 col21\" >-0.23</td>\n",
       "                        <td id=\"T_c6d84386_000e_11eb_8cb5_e4b97aae3688row22_col22\" class=\"data row22 col22\" >1.00</td>\n",
       "            </tr>\n",
       "    </tbody></table>"
      ],
      "text/plain": [
       "<pandas.io.formats.style.Styler at 0x7feb13acefd0>"
      ]
     },
     "execution_count": 53,
     "metadata": {},
     "output_type": "execute_result"
    },
    {
     "data": {
      "application/javascript": [
       "\n",
       "            setTimeout(function() {\n",
       "                var nbb_cell_id = 53;\n",
       "                var nbb_unformatted_code = \"df.corr().style.background_gradient(cmap=\\\"coolwarm\\\").set_precision(2)\";\n",
       "                var nbb_formatted_code = \"df.corr().style.background_gradient(cmap=\\\"coolwarm\\\").set_precision(2)\";\n",
       "                var nbb_cells = Jupyter.notebook.get_cells();\n",
       "                for (var i = 0; i < nbb_cells.length; ++i) {\n",
       "                    if (nbb_cells[i].input_prompt_number == nbb_cell_id) {\n",
       "                        if (nbb_cells[i].get_text() == nbb_unformatted_code) {\n",
       "                             nbb_cells[i].set_text(nbb_formatted_code);\n",
       "                        }\n",
       "                        break;\n",
       "                    }\n",
       "                }\n",
       "            }, 500);\n",
       "            "
      ],
      "text/plain": [
       "<IPython.core.display.Javascript object>"
      ]
     },
     "metadata": {},
     "output_type": "display_data"
    }
   ],
   "source": [
    "df.corr().style.background_gradient(cmap=\"coolwarm\").set_precision(2)"
   ]
  },
  {
   "cell_type": "code",
   "execution_count": 54,
   "metadata": {},
   "outputs": [
    {
     "data": {
      "text/html": [
       "<div>\n",
       "<style scoped>\n",
       "    .dataframe tbody tr th:only-of-type {\n",
       "        vertical-align: middle;\n",
       "    }\n",
       "\n",
       "    .dataframe tbody tr th {\n",
       "        vertical-align: top;\n",
       "    }\n",
       "\n",
       "    .dataframe thead th {\n",
       "        text-align: right;\n",
       "    }\n",
       "</style>\n",
       "<table border=\"1\" class=\"dataframe\">\n",
       "  <thead>\n",
       "    <tr style=\"text-align: right;\">\n",
       "      <th></th>\n",
       "      <th>timestamp</th>\n",
       "      <th>country_code</th>\n",
       "      <th>last_order_ts</th>\n",
       "      <th>first_order_ts</th>\n",
       "      <th>total_orders</th>\n",
       "      <th>voucher_amount</th>\n",
       "      <th>freq_0-4</th>\n",
       "      <th>freq_5-13</th>\n",
       "      <th>freq_13-37</th>\n",
       "      <th>freq_38-higher</th>\n",
       "      <th>...</th>\n",
       "      <th>cust_since_0-60</th>\n",
       "      <th>cust_since_60-120</th>\n",
       "      <th>cust_since_120-180</th>\n",
       "      <th>cust_since_180-240</th>\n",
       "      <th>cust_since_240-300</th>\n",
       "      <th>cust_since_300+</th>\n",
       "      <th>country_code_Australia</th>\n",
       "      <th>country_code_China</th>\n",
       "      <th>country_code_Latvia</th>\n",
       "      <th>country_code_Peru</th>\n",
       "    </tr>\n",
       "  </thead>\n",
       "  <tbody>\n",
       "    <tr>\n",
       "      <th>0</th>\n",
       "      <td>2018-07-21</td>\n",
       "      <td>Latvia</td>\n",
       "      <td>2018-04-20</td>\n",
       "      <td>2018-04-17</td>\n",
       "      <td>0.0</td>\n",
       "      <td>4400.0</td>\n",
       "      <td>1</td>\n",
       "      <td>0</td>\n",
       "      <td>0</td>\n",
       "      <td>0</td>\n",
       "      <td>...</td>\n",
       "      <td>0</td>\n",
       "      <td>1</td>\n",
       "      <td>0</td>\n",
       "      <td>0</td>\n",
       "      <td>0</td>\n",
       "      <td>0</td>\n",
       "      <td>0</td>\n",
       "      <td>0</td>\n",
       "      <td>1</td>\n",
       "      <td>0</td>\n",
       "    </tr>\n",
       "    <tr>\n",
       "      <th>1</th>\n",
       "      <td>2018-07-21</td>\n",
       "      <td>Peru</td>\n",
       "      <td>2018-04-20</td>\n",
       "      <td>2018-04-20</td>\n",
       "      <td>0.0</td>\n",
       "      <td>4400.0</td>\n",
       "      <td>1</td>\n",
       "      <td>0</td>\n",
       "      <td>0</td>\n",
       "      <td>0</td>\n",
       "      <td>...</td>\n",
       "      <td>0</td>\n",
       "      <td>1</td>\n",
       "      <td>0</td>\n",
       "      <td>0</td>\n",
       "      <td>0</td>\n",
       "      <td>0</td>\n",
       "      <td>0</td>\n",
       "      <td>0</td>\n",
       "      <td>0</td>\n",
       "      <td>1</td>\n",
       "    </tr>\n",
       "    <tr>\n",
       "      <th>2</th>\n",
       "      <td>2018-07-21</td>\n",
       "      <td>Peru</td>\n",
       "      <td>2018-04-20</td>\n",
       "      <td>2018-04-16</td>\n",
       "      <td>1.0</td>\n",
       "      <td>2640.0</td>\n",
       "      <td>1</td>\n",
       "      <td>0</td>\n",
       "      <td>0</td>\n",
       "      <td>0</td>\n",
       "      <td>...</td>\n",
       "      <td>0</td>\n",
       "      <td>1</td>\n",
       "      <td>0</td>\n",
       "      <td>0</td>\n",
       "      <td>0</td>\n",
       "      <td>0</td>\n",
       "      <td>0</td>\n",
       "      <td>0</td>\n",
       "      <td>0</td>\n",
       "      <td>1</td>\n",
       "    </tr>\n",
       "    <tr>\n",
       "      <th>3</th>\n",
       "      <td>2018-07-21</td>\n",
       "      <td>China</td>\n",
       "      <td>2018-04-20</td>\n",
       "      <td>2018-04-20</td>\n",
       "      <td>2.0</td>\n",
       "      <td>3080.0</td>\n",
       "      <td>1</td>\n",
       "      <td>0</td>\n",
       "      <td>0</td>\n",
       "      <td>0</td>\n",
       "      <td>...</td>\n",
       "      <td>0</td>\n",
       "      <td>1</td>\n",
       "      <td>0</td>\n",
       "      <td>0</td>\n",
       "      <td>0</td>\n",
       "      <td>0</td>\n",
       "      <td>0</td>\n",
       "      <td>1</td>\n",
       "      <td>0</td>\n",
       "      <td>0</td>\n",
       "    </tr>\n",
       "    <tr>\n",
       "      <th>4</th>\n",
       "      <td>2018-07-31</td>\n",
       "      <td>Peru</td>\n",
       "      <td>2018-04-20</td>\n",
       "      <td>2018-04-19</td>\n",
       "      <td>0.0</td>\n",
       "      <td>4400.0</td>\n",
       "      <td>1</td>\n",
       "      <td>0</td>\n",
       "      <td>0</td>\n",
       "      <td>0</td>\n",
       "      <td>...</td>\n",
       "      <td>0</td>\n",
       "      <td>1</td>\n",
       "      <td>0</td>\n",
       "      <td>0</td>\n",
       "      <td>0</td>\n",
       "      <td>0</td>\n",
       "      <td>0</td>\n",
       "      <td>0</td>\n",
       "      <td>0</td>\n",
       "      <td>1</td>\n",
       "    </tr>\n",
       "  </tbody>\n",
       "</table>\n",
       "<p>5 rows × 27 columns</p>\n",
       "</div>"
      ],
      "text/plain": [
       "   timestamp country_code last_order_ts first_order_ts  total_orders  \\\n",
       "0 2018-07-21       Latvia    2018-04-20     2018-04-17           0.0   \n",
       "1 2018-07-21         Peru    2018-04-20     2018-04-20           0.0   \n",
       "2 2018-07-21         Peru    2018-04-20     2018-04-16           1.0   \n",
       "3 2018-07-21        China    2018-04-20     2018-04-20           2.0   \n",
       "4 2018-07-31         Peru    2018-04-20     2018-04-19           0.0   \n",
       "\n",
       "   voucher_amount  freq_0-4  freq_5-13  freq_13-37  freq_38-higher  ...  \\\n",
       "0          4400.0         1          0           0               0  ...   \n",
       "1          4400.0         1          0           0               0  ...   \n",
       "2          2640.0         1          0           0               0  ...   \n",
       "3          3080.0         1          0           0               0  ...   \n",
       "4          4400.0         1          0           0               0  ...   \n",
       "\n",
       "   cust_since_0-60  cust_since_60-120  cust_since_120-180  cust_since_180-240  \\\n",
       "0                0                  1                   0                   0   \n",
       "1                0                  1                   0                   0   \n",
       "2                0                  1                   0                   0   \n",
       "3                0                  1                   0                   0   \n",
       "4                0                  1                   0                   0   \n",
       "\n",
       "   cust_since_240-300  cust_since_300+  country_code_Australia  \\\n",
       "0                   0                0                       0   \n",
       "1                   0                0                       0   \n",
       "2                   0                0                       0   \n",
       "3                   0                0                       0   \n",
       "4                   0                0                       0   \n",
       "\n",
       "   country_code_China  country_code_Latvia  country_code_Peru  \n",
       "0                   0                    1                  0  \n",
       "1                   0                    0                  1  \n",
       "2                   0                    0                  1  \n",
       "3                   1                    0                  0  \n",
       "4                   0                    0                  1  \n",
       "\n",
       "[5 rows x 27 columns]"
      ]
     },
     "execution_count": 54,
     "metadata": {},
     "output_type": "execute_result"
    },
    {
     "data": {
      "application/javascript": [
       "\n",
       "            setTimeout(function() {\n",
       "                var nbb_cell_id = 54;\n",
       "                var nbb_unformatted_code = \"df.head()\";\n",
       "                var nbb_formatted_code = \"df.head()\";\n",
       "                var nbb_cells = Jupyter.notebook.get_cells();\n",
       "                for (var i = 0; i < nbb_cells.length; ++i) {\n",
       "                    if (nbb_cells[i].input_prompt_number == nbb_cell_id) {\n",
       "                        if (nbb_cells[i].get_text() == nbb_unformatted_code) {\n",
       "                             nbb_cells[i].set_text(nbb_formatted_code);\n",
       "                        }\n",
       "                        break;\n",
       "                    }\n",
       "                }\n",
       "            }, 500);\n",
       "            "
      ],
      "text/plain": [
       "<IPython.core.display.Javascript object>"
      ]
     },
     "metadata": {},
     "output_type": "display_data"
    }
   ],
   "source": [
    "df.head()"
   ]
  },
  {
   "cell_type": "markdown",
   "metadata": {},
   "source": [
    "## Create most commonly used voucher column"
   ]
  },
  {
   "cell_type": "code",
   "execution_count": null,
   "metadata": {},
   "outputs": [],
   "source": []
  },
  {
   "cell_type": "code",
   "execution_count": 55,
   "metadata": {},
   "outputs": [
    {
     "data": {
      "text/plain": [
       "Index(['timestamp', 'country_code', 'last_order_ts', 'first_order_ts',\n",
       "       'total_orders', 'voucher_amount', 'freq_0-4', 'freq_5-13', 'freq_13-37',\n",
       "       'freq_38-higher', 'days_since_last_order', 'rec_segment_0-30',\n",
       "       'rec_segment_30-60', 'rec_segment_60-90', 'rec_segment_90-120',\n",
       "       'rec_segment_120-180', 'customer_since_days', 'cust_since_0-60',\n",
       "       'cust_since_60-120', 'cust_since_120-180', 'cust_since_180-240',\n",
       "       'cust_since_240-300', 'cust_since_300+', 'country_code_Australia',\n",
       "       'country_code_China', 'country_code_Latvia', 'country_code_Peru'],\n",
       "      dtype='object')"
      ]
     },
     "execution_count": 55,
     "metadata": {},
     "output_type": "execute_result"
    },
    {
     "data": {
      "application/javascript": [
       "\n",
       "            setTimeout(function() {\n",
       "                var nbb_cell_id = 55;\n",
       "                var nbb_unformatted_code = \"df.columns\";\n",
       "                var nbb_formatted_code = \"df.columns\";\n",
       "                var nbb_cells = Jupyter.notebook.get_cells();\n",
       "                for (var i = 0; i < nbb_cells.length; ++i) {\n",
       "                    if (nbb_cells[i].input_prompt_number == nbb_cell_id) {\n",
       "                        if (nbb_cells[i].get_text() == nbb_unformatted_code) {\n",
       "                             nbb_cells[i].set_text(nbb_formatted_code);\n",
       "                        }\n",
       "                        break;\n",
       "                    }\n",
       "                }\n",
       "            }, 500);\n",
       "            "
      ],
      "text/plain": [
       "<IPython.core.display.Javascript object>"
      ]
     },
     "metadata": {},
     "output_type": "display_data"
    }
   ],
   "source": [
    "df.columns"
   ]
  },
  {
   "cell_type": "code",
   "execution_count": 56,
   "metadata": {},
   "outputs": [
    {
     "data": {
      "application/javascript": [
       "\n",
       "            setTimeout(function() {\n",
       "                var nbb_cell_id = 56;\n",
       "                var nbb_unformatted_code = \"df_frequent_segment = df[\\n    [\\n        \\\"timestamp\\\",\\n        \\\"country_code\\\",\\n        \\\"last_order_ts\\\",\\n        \\\"first_order_ts\\\",\\n        \\\"total_orders\\\",\\n        \\\"voucher_amount\\\",\\n        \\\"freq_0-4\\\",\\n        \\\"freq_5-13\\\",\\n        \\\"freq_13-37\\\",\\n        \\\"freq_38-higher\\\",\\n        #         \\\"customer_since_days\\\",\\n        #         \\\"cust_since_0-60\\\",\\n        #         \\\"cust_since_60-120\\\",\\n        #         \\\"cust_since_120-180\\\",\\n        #         \\\"cust_since_180-240\\\",\\n        #         \\\"cust_since_240-300\\\",\\n        #         \\\"cust_since_300+\\\",\\n        \\\"country_code_Australia\\\",\\n        \\\"country_code_China\\\",\\n        \\\"country_code_Latvia\\\",\\n        \\\"country_code_Peru\\\",\\n    ]\\n]\";\n",
       "                var nbb_formatted_code = \"df_frequent_segment = df[\\n    [\\n        \\\"timestamp\\\",\\n        \\\"country_code\\\",\\n        \\\"last_order_ts\\\",\\n        \\\"first_order_ts\\\",\\n        \\\"total_orders\\\",\\n        \\\"voucher_amount\\\",\\n        \\\"freq_0-4\\\",\\n        \\\"freq_5-13\\\",\\n        \\\"freq_13-37\\\",\\n        \\\"freq_38-higher\\\",\\n        #         \\\"customer_since_days\\\",\\n        #         \\\"cust_since_0-60\\\",\\n        #         \\\"cust_since_60-120\\\",\\n        #         \\\"cust_since_120-180\\\",\\n        #         \\\"cust_since_180-240\\\",\\n        #         \\\"cust_since_240-300\\\",\\n        #         \\\"cust_since_300+\\\",\\n        \\\"country_code_Australia\\\",\\n        \\\"country_code_China\\\",\\n        \\\"country_code_Latvia\\\",\\n        \\\"country_code_Peru\\\",\\n    ]\\n]\";\n",
       "                var nbb_cells = Jupyter.notebook.get_cells();\n",
       "                for (var i = 0; i < nbb_cells.length; ++i) {\n",
       "                    if (nbb_cells[i].input_prompt_number == nbb_cell_id) {\n",
       "                        if (nbb_cells[i].get_text() == nbb_unformatted_code) {\n",
       "                             nbb_cells[i].set_text(nbb_formatted_code);\n",
       "                        }\n",
       "                        break;\n",
       "                    }\n",
       "                }\n",
       "            }, 500);\n",
       "            "
      ],
      "text/plain": [
       "<IPython.core.display.Javascript object>"
      ]
     },
     "metadata": {},
     "output_type": "display_data"
    }
   ],
   "source": [
    "df_frequent_segment = df[\n",
    "    [\n",
    "        \"timestamp\",\n",
    "        \"country_code\",\n",
    "        \"last_order_ts\",\n",
    "        \"first_order_ts\",\n",
    "        \"total_orders\",\n",
    "        \"voucher_amount\",\n",
    "        \"freq_0-4\",\n",
    "        \"freq_5-13\",\n",
    "        \"freq_13-37\",\n",
    "        \"freq_38-higher\",\n",
    "        #         \"customer_since_days\",\n",
    "        #         \"cust_since_0-60\",\n",
    "        #         \"cust_since_60-120\",\n",
    "        #         \"cust_since_120-180\",\n",
    "        #         \"cust_since_180-240\",\n",
    "        #         \"cust_since_240-300\",\n",
    "        #         \"cust_since_300+\",\n",
    "        \"country_code_Australia\",\n",
    "        \"country_code_China\",\n",
    "        \"country_code_Latvia\",\n",
    "        \"country_code_Peru\",\n",
    "    ]\n",
    "]"
   ]
  },
  {
   "cell_type": "code",
   "execution_count": 57,
   "metadata": {},
   "outputs": [
    {
     "data": {
      "application/javascript": [
       "\n",
       "            setTimeout(function() {\n",
       "                var nbb_cell_id = 57;\n",
       "                var nbb_unformatted_code = \"df_recency_segment = df[\\n    [\\n        \\\"timestamp\\\",\\n        \\\"country_code\\\",\\n        \\\"last_order_ts\\\",\\n        \\\"first_order_ts\\\",\\n        \\\"voucher_amount\\\",\\n        \\\"days_since_last_order\\\",\\n        \\\"rec_segment_0-30\\\",\\n        \\\"rec_segment_30-60\\\",\\n        \\\"rec_segment_60-90\\\",\\n        \\\"rec_segment_90-120\\\",\\n        \\\"rec_segment_120-180\\\",\\n        #         \\\"customer_since_days\\\",\\n        #         \\\"cust_since_0-60\\\",\\n        #         \\\"cust_since_60-120\\\",\\n        #         \\\"cust_since_120-180\\\",\\n        #         \\\"cust_since_180-240\\\",\\n        #         \\\"cust_since_240-300\\\",\\n        #         \\\"cust_since_300+\\\",\\n        \\\"country_code_Australia\\\",\\n        \\\"country_code_China\\\",\\n        \\\"country_code_Latvia\\\",\\n        \\\"country_code_Peru\\\",\\n    ]\\n]\";\n",
       "                var nbb_formatted_code = \"df_recency_segment = df[\\n    [\\n        \\\"timestamp\\\",\\n        \\\"country_code\\\",\\n        \\\"last_order_ts\\\",\\n        \\\"first_order_ts\\\",\\n        \\\"voucher_amount\\\",\\n        \\\"days_since_last_order\\\",\\n        \\\"rec_segment_0-30\\\",\\n        \\\"rec_segment_30-60\\\",\\n        \\\"rec_segment_60-90\\\",\\n        \\\"rec_segment_90-120\\\",\\n        \\\"rec_segment_120-180\\\",\\n        #         \\\"customer_since_days\\\",\\n        #         \\\"cust_since_0-60\\\",\\n        #         \\\"cust_since_60-120\\\",\\n        #         \\\"cust_since_120-180\\\",\\n        #         \\\"cust_since_180-240\\\",\\n        #         \\\"cust_since_240-300\\\",\\n        #         \\\"cust_since_300+\\\",\\n        \\\"country_code_Australia\\\",\\n        \\\"country_code_China\\\",\\n        \\\"country_code_Latvia\\\",\\n        \\\"country_code_Peru\\\",\\n    ]\\n]\";\n",
       "                var nbb_cells = Jupyter.notebook.get_cells();\n",
       "                for (var i = 0; i < nbb_cells.length; ++i) {\n",
       "                    if (nbb_cells[i].input_prompt_number == nbb_cell_id) {\n",
       "                        if (nbb_cells[i].get_text() == nbb_unformatted_code) {\n",
       "                             nbb_cells[i].set_text(nbb_formatted_code);\n",
       "                        }\n",
       "                        break;\n",
       "                    }\n",
       "                }\n",
       "            }, 500);\n",
       "            "
      ],
      "text/plain": [
       "<IPython.core.display.Javascript object>"
      ]
     },
     "metadata": {},
     "output_type": "display_data"
    }
   ],
   "source": [
    "df_recency_segment = df[\n",
    "    [\n",
    "        \"timestamp\",\n",
    "        \"country_code\",\n",
    "        \"last_order_ts\",\n",
    "        \"first_order_ts\",\n",
    "        \"voucher_amount\",\n",
    "        \"days_since_last_order\",\n",
    "        \"rec_segment_0-30\",\n",
    "        \"rec_segment_30-60\",\n",
    "        \"rec_segment_60-90\",\n",
    "        \"rec_segment_90-120\",\n",
    "        \"rec_segment_120-180\",\n",
    "        #         \"customer_since_days\",\n",
    "        #         \"cust_since_0-60\",\n",
    "        #         \"cust_since_60-120\",\n",
    "        #         \"cust_since_120-180\",\n",
    "        #         \"cust_since_180-240\",\n",
    "        #         \"cust_since_240-300\",\n",
    "        #         \"cust_since_300+\",\n",
    "        \"country_code_Australia\",\n",
    "        \"country_code_China\",\n",
    "        \"country_code_Latvia\",\n",
    "        \"country_code_Peru\",\n",
    "    ]\n",
    "]"
   ]
  },
  {
   "cell_type": "code",
   "execution_count": 58,
   "metadata": {},
   "outputs": [
    {
     "data": {
      "application/javascript": [
       "\n",
       "            setTimeout(function() {\n",
       "                var nbb_cell_id = 58;\n",
       "                var nbb_unformatted_code = \"df_frequent_most_used = (\\n    df_frequent_segment.groupby(\\n        [\\\"country_code\\\", \\\"freq_0-4\\\", \\\"freq_5-13\\\", \\\"freq_13-37\\\", \\\"freq_38-higher\\\"]\\n    )[\\\"voucher_amount\\\"]\\n    .apply(lambda x: x.value_counts().index[0])\\n    .reset_index()\\n)\";\n",
       "                var nbb_formatted_code = \"df_frequent_most_used = (\\n    df_frequent_segment.groupby(\\n        [\\\"country_code\\\", \\\"freq_0-4\\\", \\\"freq_5-13\\\", \\\"freq_13-37\\\", \\\"freq_38-higher\\\"]\\n    )[\\\"voucher_amount\\\"]\\n    .apply(lambda x: x.value_counts().index[0])\\n    .reset_index()\\n)\";\n",
       "                var nbb_cells = Jupyter.notebook.get_cells();\n",
       "                for (var i = 0; i < nbb_cells.length; ++i) {\n",
       "                    if (nbb_cells[i].input_prompt_number == nbb_cell_id) {\n",
       "                        if (nbb_cells[i].get_text() == nbb_unformatted_code) {\n",
       "                             nbb_cells[i].set_text(nbb_formatted_code);\n",
       "                        }\n",
       "                        break;\n",
       "                    }\n",
       "                }\n",
       "            }, 500);\n",
       "            "
      ],
      "text/plain": [
       "<IPython.core.display.Javascript object>"
      ]
     },
     "metadata": {},
     "output_type": "display_data"
    }
   ],
   "source": [
    "df_frequent_most_used = (\n",
    "    df_frequent_segment.groupby(\n",
    "        [\"country_code\", \"freq_0-4\", \"freq_5-13\", \"freq_13-37\", \"freq_38-higher\"]\n",
    "    )[\"voucher_amount\"]\n",
    "    .apply(lambda x: x.value_counts().index[0])\n",
    "    .reset_index()\n",
    ")"
   ]
  },
  {
   "cell_type": "code",
   "execution_count": 59,
   "metadata": {},
   "outputs": [
    {
     "data": {
      "application/javascript": [
       "\n",
       "            setTimeout(function() {\n",
       "                var nbb_cell_id = 59;\n",
       "                var nbb_unformatted_code = \"df_reecency_most_used = (\\n    df_recency_segment.groupby(\\n        [\\n            \\\"country_code\\\",\\n            \\\"rec_segment_0-30\\\",\\n            \\\"rec_segment_30-60\\\",\\n            \\\"rec_segment_60-90\\\",\\n            \\\"rec_segment_90-120\\\",\\n            \\\"rec_segment_120-180\\\",\\n        ]\\n    )[\\\"voucher_amount\\\"]\\n    .apply(lambda x: x.value_counts().index[0])\\n    .reset_index()\\n)\";\n",
       "                var nbb_formatted_code = \"df_reecency_most_used = (\\n    df_recency_segment.groupby(\\n        [\\n            \\\"country_code\\\",\\n            \\\"rec_segment_0-30\\\",\\n            \\\"rec_segment_30-60\\\",\\n            \\\"rec_segment_60-90\\\",\\n            \\\"rec_segment_90-120\\\",\\n            \\\"rec_segment_120-180\\\",\\n        ]\\n    )[\\\"voucher_amount\\\"]\\n    .apply(lambda x: x.value_counts().index[0])\\n    .reset_index()\\n)\";\n",
       "                var nbb_cells = Jupyter.notebook.get_cells();\n",
       "                for (var i = 0; i < nbb_cells.length; ++i) {\n",
       "                    if (nbb_cells[i].input_prompt_number == nbb_cell_id) {\n",
       "                        if (nbb_cells[i].get_text() == nbb_unformatted_code) {\n",
       "                             nbb_cells[i].set_text(nbb_formatted_code);\n",
       "                        }\n",
       "                        break;\n",
       "                    }\n",
       "                }\n",
       "            }, 500);\n",
       "            "
      ],
      "text/plain": [
       "<IPython.core.display.Javascript object>"
      ]
     },
     "metadata": {},
     "output_type": "display_data"
    }
   ],
   "source": [
    "df_reecency_most_used = (\n",
    "    df_recency_segment.groupby(\n",
    "        [\n",
    "            \"country_code\",\n",
    "            \"rec_segment_0-30\",\n",
    "            \"rec_segment_30-60\",\n",
    "            \"rec_segment_60-90\",\n",
    "            \"rec_segment_90-120\",\n",
    "            \"rec_segment_120-180\",\n",
    "        ]\n",
    "    )[\"voucher_amount\"]\n",
    "    .apply(lambda x: x.value_counts().index[0])\n",
    "    .reset_index()\n",
    ")"
   ]
  },
  {
   "cell_type": "code",
   "execution_count": 60,
   "metadata": {},
   "outputs": [
    {
     "data": {
      "application/javascript": [
       "\n",
       "            setTimeout(function() {\n",
       "                var nbb_cell_id = 60;\n",
       "                var nbb_unformatted_code = \"def apply_most_recently_used(row: dict) -> int:\\n\\n    #     print(\\\"DBG_TRC:\\\", row)\\n\\n    segment = None\\n    for k, v in row.items():\\n        if v == 1:\\n            segment = k\\n\\n    if not segment:\\n        print(\\\"No valid segment found\\\")\\n        return -1\\n\\n    return df_reecency_most_used[\\n        (row[\\\"country_code\\\"] == df_reecency_most_used.country_code)\\n        & (df_reecency_most_used[segment] == 1)\\n    ][\\\"voucher_amount\\\"].to_numpy()[0]\";\n",
       "                var nbb_formatted_code = \"def apply_most_recently_used(row: dict) -> int:\\n\\n    #     print(\\\"DBG_TRC:\\\", row)\\n\\n    segment = None\\n    for k, v in row.items():\\n        if v == 1:\\n            segment = k\\n\\n    if not segment:\\n        print(\\\"No valid segment found\\\")\\n        return -1\\n\\n    return df_reecency_most_used[\\n        (row[\\\"country_code\\\"] == df_reecency_most_used.country_code)\\n        & (df_reecency_most_used[segment] == 1)\\n    ][\\\"voucher_amount\\\"].to_numpy()[0]\";\n",
       "                var nbb_cells = Jupyter.notebook.get_cells();\n",
       "                for (var i = 0; i < nbb_cells.length; ++i) {\n",
       "                    if (nbb_cells[i].input_prompt_number == nbb_cell_id) {\n",
       "                        if (nbb_cells[i].get_text() == nbb_unformatted_code) {\n",
       "                             nbb_cells[i].set_text(nbb_formatted_code);\n",
       "                        }\n",
       "                        break;\n",
       "                    }\n",
       "                }\n",
       "            }, 500);\n",
       "            "
      ],
      "text/plain": [
       "<IPython.core.display.Javascript object>"
      ]
     },
     "metadata": {},
     "output_type": "display_data"
    }
   ],
   "source": [
    "def apply_most_recently_used(row: dict) -> int:\n",
    "\n",
    "    #     print(\"DBG_TRC:\", row)\n",
    "\n",
    "    segment = None\n",
    "    for k, v in row.items():\n",
    "        if v == 1:\n",
    "            segment = k\n",
    "\n",
    "    if not segment:\n",
    "        print(\"No valid segment found\")\n",
    "        return -1\n",
    "\n",
    "    return df_reecency_most_used[\n",
    "        (row[\"country_code\"] == df_reecency_most_used.country_code)\n",
    "        & (df_reecency_most_used[segment] == 1)\n",
    "    ][\"voucher_amount\"].to_numpy()[0]"
   ]
  },
  {
   "cell_type": "code",
   "execution_count": 67,
   "metadata": {},
   "outputs": [
    {
     "data": {
      "application/javascript": [
       "\n",
       "            setTimeout(function() {\n",
       "                var nbb_cell_id = 67;\n",
       "                var nbb_unformatted_code = \"def apply_most_frequently_used(row: dict) -> int:\\n\\n    segment = None\\n    for k, v in row.items():\\n        if v == 1:\\n            segment = k\\n\\n    if not segment:\\n        print(\\\"No valid segment found\\\")\\n        return -1\\n\\n    return df_frequent_most_used[\\n        (row[\\\"country_code\\\"] == df_frequent_most_used.country_code)\\n        & (df_frequent_most_used[segment] == 1)\\n    ][\\\"voucher_amount\\\"].to_numpy()[0]\";\n",
       "                var nbb_formatted_code = \"def apply_most_frequently_used(row: dict) -> int:\\n\\n    segment = None\\n    for k, v in row.items():\\n        if v == 1:\\n            segment = k\\n\\n    if not segment:\\n        print(\\\"No valid segment found\\\")\\n        return -1\\n\\n    return df_frequent_most_used[\\n        (row[\\\"country_code\\\"] == df_frequent_most_used.country_code)\\n        & (df_frequent_most_used[segment] == 1)\\n    ][\\\"voucher_amount\\\"].to_numpy()[0]\";\n",
       "                var nbb_cells = Jupyter.notebook.get_cells();\n",
       "                for (var i = 0; i < nbb_cells.length; ++i) {\n",
       "                    if (nbb_cells[i].input_prompt_number == nbb_cell_id) {\n",
       "                        if (nbb_cells[i].get_text() == nbb_unformatted_code) {\n",
       "                             nbb_cells[i].set_text(nbb_formatted_code);\n",
       "                        }\n",
       "                        break;\n",
       "                    }\n",
       "                }\n",
       "            }, 500);\n",
       "            "
      ],
      "text/plain": [
       "<IPython.core.display.Javascript object>"
      ]
     },
     "metadata": {},
     "output_type": "display_data"
    }
   ],
   "source": [
    "def apply_most_frequently_used(row: dict) -> int:\n",
    "\n",
    "    segment = None\n",
    "    for k, v in row.items():\n",
    "        if v == 1:\n",
    "            segment = k\n",
    "\n",
    "    if not segment:\n",
    "        print(\"No valid segment found\")\n",
    "        return -1\n",
    "\n",
    "    return df_frequent_most_used[\n",
    "        (row[\"country_code\"] == df_frequent_most_used.country_code)\n",
    "        & (df_frequent_most_used[segment] == 1)\n",
    "    ][\"voucher_amount\"].to_numpy()[0]"
   ]
  },
  {
   "cell_type": "code",
   "execution_count": 62,
   "metadata": {},
   "outputs": [
    {
     "name": "stderr",
     "output_type": "stream",
     "text": [
      "/home/rahul/Personal/Tech/GitHub/CustomerReactivation/venv_cust/lib/python3.6/site-packages/ipykernel_launcher.py:11: SettingWithCopyWarning: \n",
      "A value is trying to be set on a copy of a slice from a DataFrame.\n",
      "Try using .loc[row_indexer,col_indexer] = value instead\n",
      "\n",
      "See the caveats in the documentation: https://pandas.pydata.org/pandas-docs/stable/user_guide/indexing.html#returning-a-view-versus-a-copy\n",
      "  # This is added back by InteractiveShellApp.init_path()\n"
     ]
    },
    {
     "data": {
      "application/javascript": [
       "\n",
       "            setTimeout(function() {\n",
       "                var nbb_cell_id = 62;\n",
       "                var nbb_unformatted_code = \"df_recency_segment[\\\"most_common_voucher\\\"] = df_recency_segment[\\n    [\\n        \\\"country_code\\\",\\n        \\\"rec_segment_0-30\\\",\\n        \\\"rec_segment_30-60\\\",\\n        \\\"rec_segment_60-90\\\",\\n        \\\"rec_segment_90-120\\\",\\n        \\\"rec_segment_120-180\\\",\\n        \\\"voucher_amount\\\",\\n    ]\\n].parallel_apply(lambda x: apply_most_recently_used(x), axis=1)\";\n",
       "                var nbb_formatted_code = \"df_recency_segment[\\\"most_common_voucher\\\"] = df_recency_segment[\\n    [\\n        \\\"country_code\\\",\\n        \\\"rec_segment_0-30\\\",\\n        \\\"rec_segment_30-60\\\",\\n        \\\"rec_segment_60-90\\\",\\n        \\\"rec_segment_90-120\\\",\\n        \\\"rec_segment_120-180\\\",\\n        \\\"voucher_amount\\\",\\n    ]\\n].parallel_apply(lambda x: apply_most_recently_used(x), axis=1)\";\n",
       "                var nbb_cells = Jupyter.notebook.get_cells();\n",
       "                for (var i = 0; i < nbb_cells.length; ++i) {\n",
       "                    if (nbb_cells[i].input_prompt_number == nbb_cell_id) {\n",
       "                        if (nbb_cells[i].get_text() == nbb_unformatted_code) {\n",
       "                             nbb_cells[i].set_text(nbb_formatted_code);\n",
       "                        }\n",
       "                        break;\n",
       "                    }\n",
       "                }\n",
       "            }, 500);\n",
       "            "
      ],
      "text/plain": [
       "<IPython.core.display.Javascript object>"
      ]
     },
     "metadata": {},
     "output_type": "display_data"
    }
   ],
   "source": [
    "df_recency_segment[\"most_common_voucher\"] = df_recency_segment[\n",
    "    [\n",
    "        \"country_code\",\n",
    "        \"rec_segment_0-30\",\n",
    "        \"rec_segment_30-60\",\n",
    "        \"rec_segment_60-90\",\n",
    "        \"rec_segment_90-120\",\n",
    "        \"rec_segment_120-180\",\n",
    "        \"voucher_amount\",\n",
    "    ]\n",
    "].parallel_apply(lambda x: apply_most_recently_used(x), axis=1)"
   ]
  },
  {
   "cell_type": "code",
   "execution_count": 63,
   "metadata": {},
   "outputs": [
    {
     "data": {
      "text/html": [
       "<div>\n",
       "<style scoped>\n",
       "    .dataframe tbody tr th:only-of-type {\n",
       "        vertical-align: middle;\n",
       "    }\n",
       "\n",
       "    .dataframe tbody tr th {\n",
       "        vertical-align: top;\n",
       "    }\n",
       "\n",
       "    .dataframe thead th {\n",
       "        text-align: right;\n",
       "    }\n",
       "</style>\n",
       "<table border=\"1\" class=\"dataframe\">\n",
       "  <thead>\n",
       "    <tr style=\"text-align: right;\">\n",
       "      <th></th>\n",
       "      <th>timestamp</th>\n",
       "      <th>country_code</th>\n",
       "      <th>last_order_ts</th>\n",
       "      <th>first_order_ts</th>\n",
       "      <th>voucher_amount</th>\n",
       "      <th>days_since_last_order</th>\n",
       "      <th>rec_segment_0-30</th>\n",
       "      <th>rec_segment_30-60</th>\n",
       "      <th>rec_segment_60-90</th>\n",
       "      <th>rec_segment_90-120</th>\n",
       "      <th>rec_segment_120-180</th>\n",
       "      <th>country_code_Australia</th>\n",
       "      <th>country_code_China</th>\n",
       "      <th>country_code_Latvia</th>\n",
       "      <th>country_code_Peru</th>\n",
       "      <th>most_common_voucher</th>\n",
       "    </tr>\n",
       "  </thead>\n",
       "  <tbody>\n",
       "    <tr>\n",
       "      <th>0</th>\n",
       "      <td>2018-07-21</td>\n",
       "      <td>Latvia</td>\n",
       "      <td>2018-04-20</td>\n",
       "      <td>2018-04-17</td>\n",
       "      <td>4400.0</td>\n",
       "      <td>92</td>\n",
       "      <td>0</td>\n",
       "      <td>0</td>\n",
       "      <td>0</td>\n",
       "      <td>1</td>\n",
       "      <td>0</td>\n",
       "      <td>0</td>\n",
       "      <td>0</td>\n",
       "      <td>1</td>\n",
       "      <td>0</td>\n",
       "      <td>13200.0</td>\n",
       "    </tr>\n",
       "    <tr>\n",
       "      <th>1</th>\n",
       "      <td>2018-07-21</td>\n",
       "      <td>Peru</td>\n",
       "      <td>2018-04-20</td>\n",
       "      <td>2018-04-20</td>\n",
       "      <td>4400.0</td>\n",
       "      <td>92</td>\n",
       "      <td>0</td>\n",
       "      <td>0</td>\n",
       "      <td>0</td>\n",
       "      <td>1</td>\n",
       "      <td>0</td>\n",
       "      <td>0</td>\n",
       "      <td>0</td>\n",
       "      <td>0</td>\n",
       "      <td>1</td>\n",
       "      <td>2640.0</td>\n",
       "    </tr>\n",
       "    <tr>\n",
       "      <th>2</th>\n",
       "      <td>2018-07-21</td>\n",
       "      <td>Peru</td>\n",
       "      <td>2018-04-20</td>\n",
       "      <td>2018-04-16</td>\n",
       "      <td>2640.0</td>\n",
       "      <td>92</td>\n",
       "      <td>0</td>\n",
       "      <td>0</td>\n",
       "      <td>0</td>\n",
       "      <td>1</td>\n",
       "      <td>0</td>\n",
       "      <td>0</td>\n",
       "      <td>0</td>\n",
       "      <td>0</td>\n",
       "      <td>1</td>\n",
       "      <td>2640.0</td>\n",
       "    </tr>\n",
       "    <tr>\n",
       "      <th>3</th>\n",
       "      <td>2018-07-21</td>\n",
       "      <td>China</td>\n",
       "      <td>2018-04-20</td>\n",
       "      <td>2018-04-20</td>\n",
       "      <td>3080.0</td>\n",
       "      <td>92</td>\n",
       "      <td>0</td>\n",
       "      <td>0</td>\n",
       "      <td>0</td>\n",
       "      <td>1</td>\n",
       "      <td>0</td>\n",
       "      <td>0</td>\n",
       "      <td>1</td>\n",
       "      <td>0</td>\n",
       "      <td>0</td>\n",
       "      <td>1760.0</td>\n",
       "    </tr>\n",
       "    <tr>\n",
       "      <th>4</th>\n",
       "      <td>2018-07-31</td>\n",
       "      <td>Peru</td>\n",
       "      <td>2018-04-20</td>\n",
       "      <td>2018-04-19</td>\n",
       "      <td>4400.0</td>\n",
       "      <td>102</td>\n",
       "      <td>0</td>\n",
       "      <td>0</td>\n",
       "      <td>0</td>\n",
       "      <td>1</td>\n",
       "      <td>0</td>\n",
       "      <td>0</td>\n",
       "      <td>0</td>\n",
       "      <td>0</td>\n",
       "      <td>1</td>\n",
       "      <td>2640.0</td>\n",
       "    </tr>\n",
       "  </tbody>\n",
       "</table>\n",
       "</div>"
      ],
      "text/plain": [
       "   timestamp country_code last_order_ts first_order_ts  voucher_amount  \\\n",
       "0 2018-07-21       Latvia    2018-04-20     2018-04-17          4400.0   \n",
       "1 2018-07-21         Peru    2018-04-20     2018-04-20          4400.0   \n",
       "2 2018-07-21         Peru    2018-04-20     2018-04-16          2640.0   \n",
       "3 2018-07-21        China    2018-04-20     2018-04-20          3080.0   \n",
       "4 2018-07-31         Peru    2018-04-20     2018-04-19          4400.0   \n",
       "\n",
       "   days_since_last_order  rec_segment_0-30  rec_segment_30-60  \\\n",
       "0                     92                 0                  0   \n",
       "1                     92                 0                  0   \n",
       "2                     92                 0                  0   \n",
       "3                     92                 0                  0   \n",
       "4                    102                 0                  0   \n",
       "\n",
       "   rec_segment_60-90  rec_segment_90-120  rec_segment_120-180  \\\n",
       "0                  0                   1                    0   \n",
       "1                  0                   1                    0   \n",
       "2                  0                   1                    0   \n",
       "3                  0                   1                    0   \n",
       "4                  0                   1                    0   \n",
       "\n",
       "   country_code_Australia  country_code_China  country_code_Latvia  \\\n",
       "0                       0                   0                    1   \n",
       "1                       0                   0                    0   \n",
       "2                       0                   0                    0   \n",
       "3                       0                   1                    0   \n",
       "4                       0                   0                    0   \n",
       "\n",
       "   country_code_Peru  most_common_voucher  \n",
       "0                  0              13200.0  \n",
       "1                  1               2640.0  \n",
       "2                  1               2640.0  \n",
       "3                  0               1760.0  \n",
       "4                  1               2640.0  "
      ]
     },
     "execution_count": 63,
     "metadata": {},
     "output_type": "execute_result"
    },
    {
     "data": {
      "application/javascript": [
       "\n",
       "            setTimeout(function() {\n",
       "                var nbb_cell_id = 63;\n",
       "                var nbb_unformatted_code = \"df_recency_segment.head()\";\n",
       "                var nbb_formatted_code = \"df_recency_segment.head()\";\n",
       "                var nbb_cells = Jupyter.notebook.get_cells();\n",
       "                for (var i = 0; i < nbb_cells.length; ++i) {\n",
       "                    if (nbb_cells[i].input_prompt_number == nbb_cell_id) {\n",
       "                        if (nbb_cells[i].get_text() == nbb_unformatted_code) {\n",
       "                             nbb_cells[i].set_text(nbb_formatted_code);\n",
       "                        }\n",
       "                        break;\n",
       "                    }\n",
       "                }\n",
       "            }, 500);\n",
       "            "
      ],
      "text/plain": [
       "<IPython.core.display.Javascript object>"
      ]
     },
     "metadata": {},
     "output_type": "display_data"
    }
   ],
   "source": [
    "df_recency_segment.head()"
   ]
  },
  {
   "cell_type": "code",
   "execution_count": 65,
   "metadata": {},
   "outputs": [
    {
     "data": {
      "text/html": [
       "<div>\n",
       "<style scoped>\n",
       "    .dataframe tbody tr th:only-of-type {\n",
       "        vertical-align: middle;\n",
       "    }\n",
       "\n",
       "    .dataframe tbody tr th {\n",
       "        vertical-align: top;\n",
       "    }\n",
       "\n",
       "    .dataframe thead th {\n",
       "        text-align: right;\n",
       "    }\n",
       "</style>\n",
       "<table border=\"1\" class=\"dataframe\">\n",
       "  <thead>\n",
       "    <tr style=\"text-align: right;\">\n",
       "      <th></th>\n",
       "      <th>timestamp</th>\n",
       "      <th>country_code</th>\n",
       "      <th>last_order_ts</th>\n",
       "      <th>first_order_ts</th>\n",
       "      <th>total_orders</th>\n",
       "      <th>voucher_amount</th>\n",
       "      <th>freq_0-4</th>\n",
       "      <th>freq_5-13</th>\n",
       "      <th>freq_13-37</th>\n",
       "      <th>freq_38-higher</th>\n",
       "      <th>...</th>\n",
       "      <th>cust_since_0-60</th>\n",
       "      <th>cust_since_60-120</th>\n",
       "      <th>cust_since_120-180</th>\n",
       "      <th>cust_since_180-240</th>\n",
       "      <th>cust_since_240-300</th>\n",
       "      <th>cust_since_300+</th>\n",
       "      <th>country_code_Australia</th>\n",
       "      <th>country_code_China</th>\n",
       "      <th>country_code_Latvia</th>\n",
       "      <th>country_code_Peru</th>\n",
       "    </tr>\n",
       "  </thead>\n",
       "  <tbody>\n",
       "    <tr>\n",
       "      <th>0</th>\n",
       "      <td>2018-07-21</td>\n",
       "      <td>Latvia</td>\n",
       "      <td>2018-04-20</td>\n",
       "      <td>2018-04-17</td>\n",
       "      <td>0.0</td>\n",
       "      <td>4400.0</td>\n",
       "      <td>1</td>\n",
       "      <td>0</td>\n",
       "      <td>0</td>\n",
       "      <td>0</td>\n",
       "      <td>...</td>\n",
       "      <td>0</td>\n",
       "      <td>1</td>\n",
       "      <td>0</td>\n",
       "      <td>0</td>\n",
       "      <td>0</td>\n",
       "      <td>0</td>\n",
       "      <td>0</td>\n",
       "      <td>0</td>\n",
       "      <td>1</td>\n",
       "      <td>0</td>\n",
       "    </tr>\n",
       "    <tr>\n",
       "      <th>1</th>\n",
       "      <td>2018-07-21</td>\n",
       "      <td>Peru</td>\n",
       "      <td>2018-04-20</td>\n",
       "      <td>2018-04-20</td>\n",
       "      <td>0.0</td>\n",
       "      <td>4400.0</td>\n",
       "      <td>1</td>\n",
       "      <td>0</td>\n",
       "      <td>0</td>\n",
       "      <td>0</td>\n",
       "      <td>...</td>\n",
       "      <td>0</td>\n",
       "      <td>1</td>\n",
       "      <td>0</td>\n",
       "      <td>0</td>\n",
       "      <td>0</td>\n",
       "      <td>0</td>\n",
       "      <td>0</td>\n",
       "      <td>0</td>\n",
       "      <td>0</td>\n",
       "      <td>1</td>\n",
       "    </tr>\n",
       "    <tr>\n",
       "      <th>2</th>\n",
       "      <td>2018-07-21</td>\n",
       "      <td>Peru</td>\n",
       "      <td>2018-04-20</td>\n",
       "      <td>2018-04-16</td>\n",
       "      <td>1.0</td>\n",
       "      <td>2640.0</td>\n",
       "      <td>1</td>\n",
       "      <td>0</td>\n",
       "      <td>0</td>\n",
       "      <td>0</td>\n",
       "      <td>...</td>\n",
       "      <td>0</td>\n",
       "      <td>1</td>\n",
       "      <td>0</td>\n",
       "      <td>0</td>\n",
       "      <td>0</td>\n",
       "      <td>0</td>\n",
       "      <td>0</td>\n",
       "      <td>0</td>\n",
       "      <td>0</td>\n",
       "      <td>1</td>\n",
       "    </tr>\n",
       "    <tr>\n",
       "      <th>3</th>\n",
       "      <td>2018-07-21</td>\n",
       "      <td>China</td>\n",
       "      <td>2018-04-20</td>\n",
       "      <td>2018-04-20</td>\n",
       "      <td>2.0</td>\n",
       "      <td>3080.0</td>\n",
       "      <td>1</td>\n",
       "      <td>0</td>\n",
       "      <td>0</td>\n",
       "      <td>0</td>\n",
       "      <td>...</td>\n",
       "      <td>0</td>\n",
       "      <td>1</td>\n",
       "      <td>0</td>\n",
       "      <td>0</td>\n",
       "      <td>0</td>\n",
       "      <td>0</td>\n",
       "      <td>0</td>\n",
       "      <td>1</td>\n",
       "      <td>0</td>\n",
       "      <td>0</td>\n",
       "    </tr>\n",
       "    <tr>\n",
       "      <th>4</th>\n",
       "      <td>2018-07-31</td>\n",
       "      <td>Peru</td>\n",
       "      <td>2018-04-20</td>\n",
       "      <td>2018-04-19</td>\n",
       "      <td>0.0</td>\n",
       "      <td>4400.0</td>\n",
       "      <td>1</td>\n",
       "      <td>0</td>\n",
       "      <td>0</td>\n",
       "      <td>0</td>\n",
       "      <td>...</td>\n",
       "      <td>0</td>\n",
       "      <td>1</td>\n",
       "      <td>0</td>\n",
       "      <td>0</td>\n",
       "      <td>0</td>\n",
       "      <td>0</td>\n",
       "      <td>0</td>\n",
       "      <td>0</td>\n",
       "      <td>0</td>\n",
       "      <td>1</td>\n",
       "    </tr>\n",
       "  </tbody>\n",
       "</table>\n",
       "<p>5 rows × 27 columns</p>\n",
       "</div>"
      ],
      "text/plain": [
       "   timestamp country_code last_order_ts first_order_ts  total_orders  \\\n",
       "0 2018-07-21       Latvia    2018-04-20     2018-04-17           0.0   \n",
       "1 2018-07-21         Peru    2018-04-20     2018-04-20           0.0   \n",
       "2 2018-07-21         Peru    2018-04-20     2018-04-16           1.0   \n",
       "3 2018-07-21        China    2018-04-20     2018-04-20           2.0   \n",
       "4 2018-07-31         Peru    2018-04-20     2018-04-19           0.0   \n",
       "\n",
       "   voucher_amount  freq_0-4  freq_5-13  freq_13-37  freq_38-higher  ...  \\\n",
       "0          4400.0         1          0           0               0  ...   \n",
       "1          4400.0         1          0           0               0  ...   \n",
       "2          2640.0         1          0           0               0  ...   \n",
       "3          3080.0         1          0           0               0  ...   \n",
       "4          4400.0         1          0           0               0  ...   \n",
       "\n",
       "   cust_since_0-60  cust_since_60-120  cust_since_120-180  cust_since_180-240  \\\n",
       "0                0                  1                   0                   0   \n",
       "1                0                  1                   0                   0   \n",
       "2                0                  1                   0                   0   \n",
       "3                0                  1                   0                   0   \n",
       "4                0                  1                   0                   0   \n",
       "\n",
       "   cust_since_240-300  cust_since_300+  country_code_Australia  \\\n",
       "0                   0                0                       0   \n",
       "1                   0                0                       0   \n",
       "2                   0                0                       0   \n",
       "3                   0                0                       0   \n",
       "4                   0                0                       0   \n",
       "\n",
       "   country_code_China  country_code_Latvia  country_code_Peru  \n",
       "0                   0                    1                  0  \n",
       "1                   0                    0                  1  \n",
       "2                   0                    0                  1  \n",
       "3                   1                    0                  0  \n",
       "4                   0                    0                  1  \n",
       "\n",
       "[5 rows x 27 columns]"
      ]
     },
     "execution_count": 65,
     "metadata": {},
     "output_type": "execute_result"
    },
    {
     "data": {
      "application/javascript": [
       "\n",
       "            setTimeout(function() {\n",
       "                var nbb_cell_id = 65;\n",
       "                var nbb_unformatted_code = \"df.head()\";\n",
       "                var nbb_formatted_code = \"df.head()\";\n",
       "                var nbb_cells = Jupyter.notebook.get_cells();\n",
       "                for (var i = 0; i < nbb_cells.length; ++i) {\n",
       "                    if (nbb_cells[i].input_prompt_number == nbb_cell_id) {\n",
       "                        if (nbb_cells[i].get_text() == nbb_unformatted_code) {\n",
       "                             nbb_cells[i].set_text(nbb_formatted_code);\n",
       "                        }\n",
       "                        break;\n",
       "                    }\n",
       "                }\n",
       "            }, 500);\n",
       "            "
      ],
      "text/plain": [
       "<IPython.core.display.Javascript object>"
      ]
     },
     "metadata": {},
     "output_type": "display_data"
    }
   ],
   "source": [
    "df.head()"
   ]
  },
  {
   "cell_type": "code",
   "execution_count": 64,
   "metadata": {},
   "outputs": [
    {
     "data": {
      "text/html": [
       "<div>\n",
       "<style scoped>\n",
       "    .dataframe tbody tr th:only-of-type {\n",
       "        vertical-align: middle;\n",
       "    }\n",
       "\n",
       "    .dataframe tbody tr th {\n",
       "        vertical-align: top;\n",
       "    }\n",
       "\n",
       "    .dataframe thead th {\n",
       "        text-align: right;\n",
       "    }\n",
       "</style>\n",
       "<table border=\"1\" class=\"dataframe\">\n",
       "  <thead>\n",
       "    <tr style=\"text-align: right;\">\n",
       "      <th></th>\n",
       "      <th>timestamp</th>\n",
       "      <th>country_code</th>\n",
       "      <th>last_order_ts</th>\n",
       "      <th>first_order_ts</th>\n",
       "      <th>total_orders</th>\n",
       "      <th>voucher_amount</th>\n",
       "      <th>freq_0-4</th>\n",
       "      <th>freq_5-13</th>\n",
       "      <th>freq_13-37</th>\n",
       "      <th>freq_38-higher</th>\n",
       "      <th>country_code_Australia</th>\n",
       "      <th>country_code_China</th>\n",
       "      <th>country_code_Latvia</th>\n",
       "      <th>country_code_Peru</th>\n",
       "    </tr>\n",
       "  </thead>\n",
       "  <tbody>\n",
       "    <tr>\n",
       "      <th>0</th>\n",
       "      <td>2018-07-21</td>\n",
       "      <td>Latvia</td>\n",
       "      <td>2018-04-20</td>\n",
       "      <td>2018-04-17</td>\n",
       "      <td>0.0</td>\n",
       "      <td>4400.0</td>\n",
       "      <td>1</td>\n",
       "      <td>0</td>\n",
       "      <td>0</td>\n",
       "      <td>0</td>\n",
       "      <td>0</td>\n",
       "      <td>0</td>\n",
       "      <td>1</td>\n",
       "      <td>0</td>\n",
       "    </tr>\n",
       "    <tr>\n",
       "      <th>1</th>\n",
       "      <td>2018-07-21</td>\n",
       "      <td>Peru</td>\n",
       "      <td>2018-04-20</td>\n",
       "      <td>2018-04-20</td>\n",
       "      <td>0.0</td>\n",
       "      <td>4400.0</td>\n",
       "      <td>1</td>\n",
       "      <td>0</td>\n",
       "      <td>0</td>\n",
       "      <td>0</td>\n",
       "      <td>0</td>\n",
       "      <td>0</td>\n",
       "      <td>0</td>\n",
       "      <td>1</td>\n",
       "    </tr>\n",
       "    <tr>\n",
       "      <th>2</th>\n",
       "      <td>2018-07-21</td>\n",
       "      <td>Peru</td>\n",
       "      <td>2018-04-20</td>\n",
       "      <td>2018-04-16</td>\n",
       "      <td>1.0</td>\n",
       "      <td>2640.0</td>\n",
       "      <td>1</td>\n",
       "      <td>0</td>\n",
       "      <td>0</td>\n",
       "      <td>0</td>\n",
       "      <td>0</td>\n",
       "      <td>0</td>\n",
       "      <td>0</td>\n",
       "      <td>1</td>\n",
       "    </tr>\n",
       "    <tr>\n",
       "      <th>3</th>\n",
       "      <td>2018-07-21</td>\n",
       "      <td>China</td>\n",
       "      <td>2018-04-20</td>\n",
       "      <td>2018-04-20</td>\n",
       "      <td>2.0</td>\n",
       "      <td>3080.0</td>\n",
       "      <td>1</td>\n",
       "      <td>0</td>\n",
       "      <td>0</td>\n",
       "      <td>0</td>\n",
       "      <td>0</td>\n",
       "      <td>1</td>\n",
       "      <td>0</td>\n",
       "      <td>0</td>\n",
       "    </tr>\n",
       "    <tr>\n",
       "      <th>4</th>\n",
       "      <td>2018-07-31</td>\n",
       "      <td>Peru</td>\n",
       "      <td>2018-04-20</td>\n",
       "      <td>2018-04-19</td>\n",
       "      <td>0.0</td>\n",
       "      <td>4400.0</td>\n",
       "      <td>1</td>\n",
       "      <td>0</td>\n",
       "      <td>0</td>\n",
       "      <td>0</td>\n",
       "      <td>0</td>\n",
       "      <td>0</td>\n",
       "      <td>0</td>\n",
       "      <td>1</td>\n",
       "    </tr>\n",
       "  </tbody>\n",
       "</table>\n",
       "</div>"
      ],
      "text/plain": [
       "   timestamp country_code last_order_ts first_order_ts  total_orders  \\\n",
       "0 2018-07-21       Latvia    2018-04-20     2018-04-17           0.0   \n",
       "1 2018-07-21         Peru    2018-04-20     2018-04-20           0.0   \n",
       "2 2018-07-21         Peru    2018-04-20     2018-04-16           1.0   \n",
       "3 2018-07-21        China    2018-04-20     2018-04-20           2.0   \n",
       "4 2018-07-31         Peru    2018-04-20     2018-04-19           0.0   \n",
       "\n",
       "   voucher_amount  freq_0-4  freq_5-13  freq_13-37  freq_38-higher  \\\n",
       "0          4400.0         1          0           0               0   \n",
       "1          4400.0         1          0           0               0   \n",
       "2          2640.0         1          0           0               0   \n",
       "3          3080.0         1          0           0               0   \n",
       "4          4400.0         1          0           0               0   \n",
       "\n",
       "   country_code_Australia  country_code_China  country_code_Latvia  \\\n",
       "0                       0                   0                    1   \n",
       "1                       0                   0                    0   \n",
       "2                       0                   0                    0   \n",
       "3                       0                   1                    0   \n",
       "4                       0                   0                    0   \n",
       "\n",
       "   country_code_Peru  \n",
       "0                  0  \n",
       "1                  1  \n",
       "2                  1  \n",
       "3                  0  \n",
       "4                  1  "
      ]
     },
     "execution_count": 64,
     "metadata": {},
     "output_type": "execute_result"
    },
    {
     "data": {
      "application/javascript": [
       "\n",
       "            setTimeout(function() {\n",
       "                var nbb_cell_id = 64;\n",
       "                var nbb_unformatted_code = \"df_frequent_segment.head()\";\n",
       "                var nbb_formatted_code = \"df_frequent_segment.head()\";\n",
       "                var nbb_cells = Jupyter.notebook.get_cells();\n",
       "                for (var i = 0; i < nbb_cells.length; ++i) {\n",
       "                    if (nbb_cells[i].input_prompt_number == nbb_cell_id) {\n",
       "                        if (nbb_cells[i].get_text() == nbb_unformatted_code) {\n",
       "                             nbb_cells[i].set_text(nbb_formatted_code);\n",
       "                        }\n",
       "                        break;\n",
       "                    }\n",
       "                }\n",
       "            }, 500);\n",
       "            "
      ],
      "text/plain": [
       "<IPython.core.display.Javascript object>"
      ]
     },
     "metadata": {},
     "output_type": "display_data"
    }
   ],
   "source": [
    "df_frequent_segment.head()"
   ]
  },
  {
   "cell_type": "code",
   "execution_count": 68,
   "metadata": {},
   "outputs": [
    {
     "name": "stderr",
     "output_type": "stream",
     "text": [
      "/home/rahul/Personal/Tech/GitHub/CustomerReactivation/venv_cust/lib/python3.6/site-packages/ipykernel_launcher.py:10: SettingWithCopyWarning: \n",
      "A value is trying to be set on a copy of a slice from a DataFrame.\n",
      "Try using .loc[row_indexer,col_indexer] = value instead\n",
      "\n",
      "See the caveats in the documentation: https://pandas.pydata.org/pandas-docs/stable/user_guide/indexing.html#returning-a-view-versus-a-copy\n",
      "  # Remove the CWD from sys.path while we load stuff.\n"
     ]
    },
    {
     "data": {
      "application/javascript": [
       "\n",
       "            setTimeout(function() {\n",
       "                var nbb_cell_id = 68;\n",
       "                var nbb_unformatted_code = \"df_frequent_segment['most_common_voucher'] = df_frequent_segment[\\n    [\\n        \\\"country_code\\\",\\n        \\\"freq_0-4\\\",\\n        \\\"freq_5-13\\\",\\n        \\\"freq_13-37\\\",\\n        \\\"freq_38-higher\\\",\\n        \\\"voucher_amount\\\",\\n    ]\\n].parallel_apply(lambda x: apply_most_frequently_used(x), axis=1)\";\n",
       "                var nbb_formatted_code = \"df_frequent_segment[\\\"most_common_voucher\\\"] = df_frequent_segment[\\n    [\\n        \\\"country_code\\\",\\n        \\\"freq_0-4\\\",\\n        \\\"freq_5-13\\\",\\n        \\\"freq_13-37\\\",\\n        \\\"freq_38-higher\\\",\\n        \\\"voucher_amount\\\",\\n    ]\\n].parallel_apply(lambda x: apply_most_frequently_used(x), axis=1)\";\n",
       "                var nbb_cells = Jupyter.notebook.get_cells();\n",
       "                for (var i = 0; i < nbb_cells.length; ++i) {\n",
       "                    if (nbb_cells[i].input_prompt_number == nbb_cell_id) {\n",
       "                        if (nbb_cells[i].get_text() == nbb_unformatted_code) {\n",
       "                             nbb_cells[i].set_text(nbb_formatted_code);\n",
       "                        }\n",
       "                        break;\n",
       "                    }\n",
       "                }\n",
       "            }, 500);\n",
       "            "
      ],
      "text/plain": [
       "<IPython.core.display.Javascript object>"
      ]
     },
     "metadata": {},
     "output_type": "display_data"
    }
   ],
   "source": [
    "df_frequent_segment[\"most_common_voucher\"] = df_frequent_segment[\n",
    "    [\n",
    "        \"country_code\",\n",
    "        \"freq_0-4\",\n",
    "        \"freq_5-13\",\n",
    "        \"freq_13-37\",\n",
    "        \"freq_38-higher\",\n",
    "        \"voucher_amount\",\n",
    "    ]\n",
    "].parallel_apply(lambda x: apply_most_frequently_used(x), axis=1)"
   ]
  },
  {
   "cell_type": "code",
   "execution_count": 71,
   "metadata": {},
   "outputs": [
    {
     "data": {
      "application/javascript": [
       "\n",
       "            setTimeout(function() {\n",
       "                var nbb_cell_id = 71;\n",
       "                var nbb_unformatted_code = \"df_frequent_segment.to_csv('../data/frequent_segment_dataset.csv')\";\n",
       "                var nbb_formatted_code = \"df_frequent_segment.to_csv(\\\"../data/frequent_segment_dataset.csv\\\")\";\n",
       "                var nbb_cells = Jupyter.notebook.get_cells();\n",
       "                for (var i = 0; i < nbb_cells.length; ++i) {\n",
       "                    if (nbb_cells[i].input_prompt_number == nbb_cell_id) {\n",
       "                        if (nbb_cells[i].get_text() == nbb_unformatted_code) {\n",
       "                             nbb_cells[i].set_text(nbb_formatted_code);\n",
       "                        }\n",
       "                        break;\n",
       "                    }\n",
       "                }\n",
       "            }, 500);\n",
       "            "
      ],
      "text/plain": [
       "<IPython.core.display.Javascript object>"
      ]
     },
     "metadata": {},
     "output_type": "display_data"
    }
   ],
   "source": [
    "df_frequent_segment.to_csv(\"../data/frequent_segment_dataset.csv\")"
   ]
  },
  {
   "cell_type": "code",
   "execution_count": 72,
   "metadata": {},
   "outputs": [
    {
     "data": {
      "application/javascript": [
       "\n",
       "            setTimeout(function() {\n",
       "                var nbb_cell_id = 72;\n",
       "                var nbb_unformatted_code = \"df_recency_segment.to_csv(\\\"../data/recency_segment_dataset.csv\\\")\";\n",
       "                var nbb_formatted_code = \"df_recency_segment.to_csv(\\\"../data/recency_segment_dataset.csv\\\")\";\n",
       "                var nbb_cells = Jupyter.notebook.get_cells();\n",
       "                for (var i = 0; i < nbb_cells.length; ++i) {\n",
       "                    if (nbb_cells[i].input_prompt_number == nbb_cell_id) {\n",
       "                        if (nbb_cells[i].get_text() == nbb_unformatted_code) {\n",
       "                             nbb_cells[i].set_text(nbb_formatted_code);\n",
       "                        }\n",
       "                        break;\n",
       "                    }\n",
       "                }\n",
       "            }, 500);\n",
       "            "
      ],
      "text/plain": [
       "<IPython.core.display.Javascript object>"
      ]
     },
     "metadata": {},
     "output_type": "display_data"
    }
   ],
   "source": [
    "df_recency_segment.to_csv(\"../data/recency_segment_dataset.csv\")"
   ]
  },
  {
   "cell_type": "markdown",
   "metadata": {},
   "source": [
    "## Split Train and Test Set"
   ]
  },
  {
   "cell_type": "code",
   "execution_count": 116,
   "metadata": {},
   "outputs": [
    {
     "data": {
      "application/javascript": [
       "\n",
       "            setTimeout(function() {\n",
       "                var nbb_cell_id = 116;\n",
       "                var nbb_unformatted_code = \"def get_train_test_set(df):\\n    train, test = train_test_split(\\n        df, test_size=0.2, random_state=0, stratify=df[[\\\"country_code\\\"]],\\n    )\\n\\n    return train, test\";\n",
       "                var nbb_formatted_code = \"def get_train_test_set(df):\\n    train, test = train_test_split(\\n        df, test_size=0.2, random_state=0, stratify=df[[\\\"country_code\\\"]],\\n    )\\n\\n    return train, test\";\n",
       "                var nbb_cells = Jupyter.notebook.get_cells();\n",
       "                for (var i = 0; i < nbb_cells.length; ++i) {\n",
       "                    if (nbb_cells[i].input_prompt_number == nbb_cell_id) {\n",
       "                        if (nbb_cells[i].get_text() == nbb_unformatted_code) {\n",
       "                             nbb_cells[i].set_text(nbb_formatted_code);\n",
       "                        }\n",
       "                        break;\n",
       "                    }\n",
       "                }\n",
       "            }, 500);\n",
       "            "
      ],
      "text/plain": [
       "<IPython.core.display.Javascript object>"
      ]
     },
     "metadata": {},
     "output_type": "display_data"
    }
   ],
   "source": [
    "def get_train_test_set(df):\n",
    "    train, test = train_test_split(\n",
    "        df, test_size=0.2, random_state=0, stratify=df[[\"country_code\"]],\n",
    "    )\n",
    "\n",
    "    return train, test"
   ]
  },
  {
   "cell_type": "markdown",
   "metadata": {},
   "source": [
    "# Train model for Frequent Segment"
   ]
  },
  {
   "cell_type": "code",
   "execution_count": 117,
   "metadata": {},
   "outputs": [
    {
     "data": {
      "application/javascript": [
       "\n",
       "            setTimeout(function() {\n",
       "                var nbb_cell_id = 117;\n",
       "                var nbb_unformatted_code = \"train, test = get_train_test_set(df_frequent_segment)\";\n",
       "                var nbb_formatted_code = \"train, test = get_train_test_set(df_frequent_segment)\";\n",
       "                var nbb_cells = Jupyter.notebook.get_cells();\n",
       "                for (var i = 0; i < nbb_cells.length; ++i) {\n",
       "                    if (nbb_cells[i].input_prompt_number == nbb_cell_id) {\n",
       "                        if (nbb_cells[i].get_text() == nbb_unformatted_code) {\n",
       "                             nbb_cells[i].set_text(nbb_formatted_code);\n",
       "                        }\n",
       "                        break;\n",
       "                    }\n",
       "                }\n",
       "            }, 500);\n",
       "            "
      ],
      "text/plain": [
       "<IPython.core.display.Javascript object>"
      ]
     },
     "metadata": {},
     "output_type": "display_data"
    }
   ],
   "source": [
    "train, test = get_train_test_set(df_frequent_segment)"
   ]
  },
  {
   "cell_type": "code",
   "execution_count": 118,
   "metadata": {},
   "outputs": [
    {
     "data": {
      "application/javascript": [
       "\n",
       "            setTimeout(function() {\n",
       "                var nbb_cell_id = 118;\n",
       "                var nbb_unformatted_code = \"FREQUENT_SEGMENT_COLUMNS_TO_TRAIN = [\\n    \\\"freq_0-4\\\",\\n    \\\"freq_5-13\\\",\\n    \\\"freq_13-37\\\",\\n    \\\"freq_38-higher\\\",\\n    \\\"country_code_Australia\\\",\\n    \\\"country_code_China\\\",\\n    \\\"country_code_Latvia\\\",\\n    \\\"country_code_Peru\\\",\\n]\\n\\nTARGET_COLUMN = [\\\"most_common_voucher\\\"]\";\n",
       "                var nbb_formatted_code = \"FREQUENT_SEGMENT_COLUMNS_TO_TRAIN = [\\n    \\\"freq_0-4\\\",\\n    \\\"freq_5-13\\\",\\n    \\\"freq_13-37\\\",\\n    \\\"freq_38-higher\\\",\\n    \\\"country_code_Australia\\\",\\n    \\\"country_code_China\\\",\\n    \\\"country_code_Latvia\\\",\\n    \\\"country_code_Peru\\\",\\n]\\n\\nTARGET_COLUMN = [\\\"most_common_voucher\\\"]\";\n",
       "                var nbb_cells = Jupyter.notebook.get_cells();\n",
       "                for (var i = 0; i < nbb_cells.length; ++i) {\n",
       "                    if (nbb_cells[i].input_prompt_number == nbb_cell_id) {\n",
       "                        if (nbb_cells[i].get_text() == nbb_unformatted_code) {\n",
       "                             nbb_cells[i].set_text(nbb_formatted_code);\n",
       "                        }\n",
       "                        break;\n",
       "                    }\n",
       "                }\n",
       "            }, 500);\n",
       "            "
      ],
      "text/plain": [
       "<IPython.core.display.Javascript object>"
      ]
     },
     "metadata": {},
     "output_type": "display_data"
    }
   ],
   "source": [
    "FREQUENT_SEGMENT_COLUMNS_TO_TRAIN = [\n",
    "    \"freq_0-4\",\n",
    "    \"freq_5-13\",\n",
    "    \"freq_13-37\",\n",
    "    \"freq_38-higher\",\n",
    "    \"country_code_Australia\",\n",
    "    \"country_code_China\",\n",
    "    \"country_code_Latvia\",\n",
    "    \"country_code_Peru\",\n",
    "]\n",
    "\n",
    "TARGET_COLUMN = [\"most_common_voucher\"]"
   ]
  },
  {
   "cell_type": "code",
   "execution_count": 119,
   "metadata": {},
   "outputs": [
    {
     "data": {
      "application/javascript": [
       "\n",
       "            setTimeout(function() {\n",
       "                var nbb_cell_id = 119;\n",
       "                var nbb_unformatted_code = \"train, test = get_train_test_set(df_frequent_segment)\";\n",
       "                var nbb_formatted_code = \"train, test = get_train_test_set(df_frequent_segment)\";\n",
       "                var nbb_cells = Jupyter.notebook.get_cells();\n",
       "                for (var i = 0; i < nbb_cells.length; ++i) {\n",
       "                    if (nbb_cells[i].input_prompt_number == nbb_cell_id) {\n",
       "                        if (nbb_cells[i].get_text() == nbb_unformatted_code) {\n",
       "                             nbb_cells[i].set_text(nbb_formatted_code);\n",
       "                        }\n",
       "                        break;\n",
       "                    }\n",
       "                }\n",
       "            }, 500);\n",
       "            "
      ],
      "text/plain": [
       "<IPython.core.display.Javascript object>"
      ]
     },
     "metadata": {},
     "output_type": "display_data"
    }
   ],
   "source": [
    "train, test = get_train_test_set(df_frequent_segment)"
   ]
  },
  {
   "cell_type": "code",
   "execution_count": 120,
   "metadata": {},
   "outputs": [
    {
     "data": {
      "application/javascript": [
       "\n",
       "            setTimeout(function() {\n",
       "                var nbb_cell_id = 120;\n",
       "                var nbb_unformatted_code = \"X_train, Y_train = (\\n    train[FREQUENT_SEGMENT_COLUMNS_TO_TRAIN],\\n    train[TARGET_COLUMN],\\n)\";\n",
       "                var nbb_formatted_code = \"X_train, Y_train = (\\n    train[FREQUENT_SEGMENT_COLUMNS_TO_TRAIN],\\n    train[TARGET_COLUMN],\\n)\";\n",
       "                var nbb_cells = Jupyter.notebook.get_cells();\n",
       "                for (var i = 0; i < nbb_cells.length; ++i) {\n",
       "                    if (nbb_cells[i].input_prompt_number == nbb_cell_id) {\n",
       "                        if (nbb_cells[i].get_text() == nbb_unformatted_code) {\n",
       "                             nbb_cells[i].set_text(nbb_formatted_code);\n",
       "                        }\n",
       "                        break;\n",
       "                    }\n",
       "                }\n",
       "            }, 500);\n",
       "            "
      ],
      "text/plain": [
       "<IPython.core.display.Javascript object>"
      ]
     },
     "metadata": {},
     "output_type": "display_data"
    }
   ],
   "source": [
    "X_train, Y_train = (\n",
    "    train[FREQUENT_SEGMENT_COLUMNS_TO_TRAIN],\n",
    "    train[TARGET_COLUMN],\n",
    ")"
   ]
  },
  {
   "cell_type": "code",
   "execution_count": 121,
   "metadata": {},
   "outputs": [
    {
     "data": {
      "application/javascript": [
       "\n",
       "            setTimeout(function() {\n",
       "                var nbb_cell_id = 121;\n",
       "                var nbb_unformatted_code = \"X_test, Y_test = (\\n    test[FREQUENT_SEGMENT_COLUMNS_TO_TRAIN],\\n    test[TARGET_COLUMN],\\n)\";\n",
       "                var nbb_formatted_code = \"X_test, Y_test = (\\n    test[FREQUENT_SEGMENT_COLUMNS_TO_TRAIN],\\n    test[TARGET_COLUMN],\\n)\";\n",
       "                var nbb_cells = Jupyter.notebook.get_cells();\n",
       "                for (var i = 0; i < nbb_cells.length; ++i) {\n",
       "                    if (nbb_cells[i].input_prompt_number == nbb_cell_id) {\n",
       "                        if (nbb_cells[i].get_text() == nbb_unformatted_code) {\n",
       "                             nbb_cells[i].set_text(nbb_formatted_code);\n",
       "                        }\n",
       "                        break;\n",
       "                    }\n",
       "                }\n",
       "            }, 500);\n",
       "            "
      ],
      "text/plain": [
       "<IPython.core.display.Javascript object>"
      ]
     },
     "metadata": {},
     "output_type": "display_data"
    }
   ],
   "source": [
    "X_test, Y_test = (\n",
    "    test[FREQUENT_SEGMENT_COLUMNS_TO_TRAIN],\n",
    "    test[TARGET_COLUMN],\n",
    ")"
   ]
  },
  {
   "cell_type": "markdown",
   "metadata": {},
   "source": [
    "# Train Model"
   ]
  },
  {
   "cell_type": "code",
   "execution_count": 122,
   "metadata": {},
   "outputs": [
    {
     "data": {
      "application/javascript": [
       "\n",
       "            setTimeout(function() {\n",
       "                var nbb_cell_id = 122;\n",
       "                var nbb_unformatted_code = \"eval_set = [(X_train, Y_train), (X_test, Y_test)]\";\n",
       "                var nbb_formatted_code = \"eval_set = [(X_train, Y_train), (X_test, Y_test)]\";\n",
       "                var nbb_cells = Jupyter.notebook.get_cells();\n",
       "                for (var i = 0; i < nbb_cells.length; ++i) {\n",
       "                    if (nbb_cells[i].input_prompt_number == nbb_cell_id) {\n",
       "                        if (nbb_cells[i].get_text() == nbb_unformatted_code) {\n",
       "                             nbb_cells[i].set_text(nbb_formatted_code);\n",
       "                        }\n",
       "                        break;\n",
       "                    }\n",
       "                }\n",
       "            }, 500);\n",
       "            "
      ],
      "text/plain": [
       "<IPython.core.display.Javascript object>"
      ]
     },
     "metadata": {},
     "output_type": "display_data"
    }
   ],
   "source": [
    "eval_set = [(X_train, Y_train), (X_test, Y_test)]"
   ]
  },
  {
   "cell_type": "code",
   "execution_count": 123,
   "metadata": {},
   "outputs": [
    {
     "data": {
      "application/javascript": [
       "\n",
       "            setTimeout(function() {\n",
       "                var nbb_cell_id = 123;\n",
       "                var nbb_unformatted_code = \"freq_segment_model = xgb.XGBClassifier(\\n    learning_rate=0.001,\\n    max_depth=10,\\n    n_estimators=100,\\n    eval_metric=[\\\"merror\\\"],\\n    eval_set=eval_set,\\n    early_stopping_rounds=50,\\n)\";\n",
       "                var nbb_formatted_code = \"freq_segment_model = xgb.XGBClassifier(\\n    learning_rate=0.001,\\n    max_depth=10,\\n    n_estimators=100,\\n    eval_metric=[\\\"merror\\\"],\\n    eval_set=eval_set,\\n    early_stopping_rounds=50,\\n)\";\n",
       "                var nbb_cells = Jupyter.notebook.get_cells();\n",
       "                for (var i = 0; i < nbb_cells.length; ++i) {\n",
       "                    if (nbb_cells[i].input_prompt_number == nbb_cell_id) {\n",
       "                        if (nbb_cells[i].get_text() == nbb_unformatted_code) {\n",
       "                             nbb_cells[i].set_text(nbb_formatted_code);\n",
       "                        }\n",
       "                        break;\n",
       "                    }\n",
       "                }\n",
       "            }, 500);\n",
       "            "
      ],
      "text/plain": [
       "<IPython.core.display.Javascript object>"
      ]
     },
     "metadata": {},
     "output_type": "display_data"
    }
   ],
   "source": [
    "freq_segment_model = xgb.XGBClassifier(\n",
    "    learning_rate=0.001,\n",
    "    max_depth=10,\n",
    "    n_estimators=100,\n",
    "    eval_metric=[\"merror\"],\n",
    "    eval_set=eval_set,\n",
    "    early_stopping_rounds=50,\n",
    ")"
   ]
  },
  {
   "cell_type": "code",
   "execution_count": 124,
   "metadata": {},
   "outputs": [
    {
     "name": "stderr",
     "output_type": "stream",
     "text": [
      "/home/rahul/Personal/Tech/GitHub/CustomerReactivation/venv_cust/lib/python3.6/site-packages/sklearn/utils/validation.py:72: DataConversionWarning: A column-vector y was passed when a 1d array was expected. Please change the shape of y to (n_samples, ), for example using ravel().\n",
      "  return f(**kwargs)\n"
     ]
    },
    {
     "name": "stdout",
     "output_type": "stream",
     "text": [
      "[18:00:28] WARNING: xgboost/src/learner.cc:516: \n",
      "Parameters: { early_stopping_rounds, eval_set } might not be used.\n",
      "\n",
      "  This may not be accurate due to some parameters are only used in language bindings but\n",
      "  passed down to XGBoost core.  Or some parameters are not used but slip through this\n",
      "  verification. Please open an issue if you find above cases.\n",
      "\n",
      "\n"
     ]
    },
    {
     "data": {
      "text/plain": [
       "XGBClassifier(base_score=0.5, booster='gbtree', colsample_bylevel=1,\n",
       "              colsample_bynode=1, colsample_bytree=1, early_stopping_rounds=50,\n",
       "              eval_metric=['merror'],\n",
       "              eval_set=[(        freq_0-4  freq_5-13  freq_13-37  freq_38-higher  \\\n",
       "239285         1          0           0               0   \n",
       "63614          1          0           0               0   \n",
       "198014         1          0           0               0   \n",
       "278549         1          0           0               0   \n",
       "768            1          0           0               0   \n",
       "...          ...        ...         ...             ...   \n",
       "174046         0          0           1               0   \n",
       "40713          1          0           0               0   \n",
       "110477         0          0           1               0   \n",
       "199906         1          0           0               0   \n",
       "69674          0          0           1               0   \n",
       "\n",
       "        country_code_Australia  country_code_C...\n",
       "              gamma=0, gpu_id=-1, importance_type='gain',\n",
       "              interaction_constraints='', learning_rate=0.001, max_delta_step=0,\n",
       "              max_depth=10, min_child_weight=1, missing=nan,\n",
       "              monotone_constraints='()', n_estimators=100, n_jobs=0,\n",
       "              num_parallel_tree=1, objective='multi:softprob', random_state=0,\n",
       "              reg_alpha=0, reg_lambda=1, scale_pos_weight=None, subsample=1,\n",
       "              tree_method='exact', validate_parameters=1, verbosity=None)"
      ]
     },
     "execution_count": 124,
     "metadata": {},
     "output_type": "execute_result"
    },
    {
     "data": {
      "application/javascript": [
       "\n",
       "            setTimeout(function() {\n",
       "                var nbb_cell_id = 124;\n",
       "                var nbb_unformatted_code = \"freq_segment_model.fit(X_train, Y_train)\";\n",
       "                var nbb_formatted_code = \"freq_segment_model.fit(X_train, Y_train)\";\n",
       "                var nbb_cells = Jupyter.notebook.get_cells();\n",
       "                for (var i = 0; i < nbb_cells.length; ++i) {\n",
       "                    if (nbb_cells[i].input_prompt_number == nbb_cell_id) {\n",
       "                        if (nbb_cells[i].get_text() == nbb_unformatted_code) {\n",
       "                             nbb_cells[i].set_text(nbb_formatted_code);\n",
       "                        }\n",
       "                        break;\n",
       "                    }\n",
       "                }\n",
       "            }, 500);\n",
       "            "
      ],
      "text/plain": [
       "<IPython.core.display.Javascript object>"
      ]
     },
     "metadata": {},
     "output_type": "display_data"
    }
   ],
   "source": [
    "freq_segment_model.fit(X_train, Y_train)"
   ]
  },
  {
   "cell_type": "code",
   "execution_count": 125,
   "metadata": {},
   "outputs": [
    {
     "data": {
      "application/javascript": [
       "\n",
       "            setTimeout(function() {\n",
       "                var nbb_cell_id = 125;\n",
       "                var nbb_unformatted_code = \"frequest_segment_pred = freq_segment_model.predict(X_test)\";\n",
       "                var nbb_formatted_code = \"frequest_segment_pred = freq_segment_model.predict(X_test)\";\n",
       "                var nbb_cells = Jupyter.notebook.get_cells();\n",
       "                for (var i = 0; i < nbb_cells.length; ++i) {\n",
       "                    if (nbb_cells[i].input_prompt_number == nbb_cell_id) {\n",
       "                        if (nbb_cells[i].get_text() == nbb_unformatted_code) {\n",
       "                             nbb_cells[i].set_text(nbb_formatted_code);\n",
       "                        }\n",
       "                        break;\n",
       "                    }\n",
       "                }\n",
       "            }, 500);\n",
       "            "
      ],
      "text/plain": [
       "<IPython.core.display.Javascript object>"
      ]
     },
     "metadata": {},
     "output_type": "display_data"
    }
   ],
   "source": [
    "frequest_segment_pred = freq_segment_model.predict(X_test)"
   ]
  },
  {
   "cell_type": "code",
   "execution_count": 93,
   "metadata": {},
   "outputs": [
    {
     "data": {
      "application/javascript": [
       "\n",
       "            setTimeout(function() {\n",
       "                var nbb_cell_id = 93;\n",
       "                var nbb_unformatted_code = \"from sklearn.metrics import classification_report, confusion_matrix\";\n",
       "                var nbb_formatted_code = \"from sklearn.metrics import classification_report, confusion_matrix\";\n",
       "                var nbb_cells = Jupyter.notebook.get_cells();\n",
       "                for (var i = 0; i < nbb_cells.length; ++i) {\n",
       "                    if (nbb_cells[i].input_prompt_number == nbb_cell_id) {\n",
       "                        if (nbb_cells[i].get_text() == nbb_unformatted_code) {\n",
       "                             nbb_cells[i].set_text(nbb_formatted_code);\n",
       "                        }\n",
       "                        break;\n",
       "                    }\n",
       "                }\n",
       "            }, 500);\n",
       "            "
      ],
      "text/plain": [
       "<IPython.core.display.Javascript object>"
      ]
     },
     "metadata": {},
     "output_type": "display_data"
    }
   ],
   "source": [
    "from sklearn.metrics import classification_report, confusion_matrix"
   ]
  },
  {
   "cell_type": "code",
   "execution_count": 126,
   "metadata": {},
   "outputs": [
    {
     "name": "stdout",
     "output_type": "stream",
     "text": [
      "              precision    recall  f1-score   support\n",
      "\n",
      "      1760.0       1.00      1.00      1.00     18288\n",
      "      2200.0       1.00      1.00      1.00      9252\n",
      "      2640.0       1.00      1.00      1.00      8127\n",
      "      4400.0       1.00      1.00      1.00      6529\n",
      "      5720.0       1.00      1.00      1.00      5072\n",
      "     13200.0       1.00      1.00      1.00      4958\n",
      "\n",
      "    accuracy                           1.00     52226\n",
      "   macro avg       1.00      1.00      1.00     52226\n",
      "weighted avg       1.00      1.00      1.00     52226\n",
      "\n"
     ]
    },
    {
     "data": {
      "application/javascript": [
       "\n",
       "            setTimeout(function() {\n",
       "                var nbb_cell_id = 126;\n",
       "                var nbb_unformatted_code = \"print(classification_report(Y_test, frequest_segment_pred))\";\n",
       "                var nbb_formatted_code = \"print(classification_report(Y_test, frequest_segment_pred))\";\n",
       "                var nbb_cells = Jupyter.notebook.get_cells();\n",
       "                for (var i = 0; i < nbb_cells.length; ++i) {\n",
       "                    if (nbb_cells[i].input_prompt_number == nbb_cell_id) {\n",
       "                        if (nbb_cells[i].get_text() == nbb_unformatted_code) {\n",
       "                             nbb_cells[i].set_text(nbb_formatted_code);\n",
       "                        }\n",
       "                        break;\n",
       "                    }\n",
       "                }\n",
       "            }, 500);\n",
       "            "
      ],
      "text/plain": [
       "<IPython.core.display.Javascript object>"
      ]
     },
     "metadata": {},
     "output_type": "display_data"
    }
   ],
   "source": [
    "print(classification_report(Y_test, frequest_segment_pred))"
   ]
  },
  {
   "cell_type": "markdown",
   "metadata": {},
   "source": [
    "# Train model for Recency Segment"
   ]
  },
  {
   "cell_type": "code",
   "execution_count": 127,
   "metadata": {},
   "outputs": [
    {
     "data": {
      "application/javascript": [
       "\n",
       "            setTimeout(function() {\n",
       "                var nbb_cell_id = 127;\n",
       "                var nbb_unformatted_code = \"train, test = get_train_test_set(df_recency_segment)\";\n",
       "                var nbb_formatted_code = \"train, test = get_train_test_set(df_recency_segment)\";\n",
       "                var nbb_cells = Jupyter.notebook.get_cells();\n",
       "                for (var i = 0; i < nbb_cells.length; ++i) {\n",
       "                    if (nbb_cells[i].input_prompt_number == nbb_cell_id) {\n",
       "                        if (nbb_cells[i].get_text() == nbb_unformatted_code) {\n",
       "                             nbb_cells[i].set_text(nbb_formatted_code);\n",
       "                        }\n",
       "                        break;\n",
       "                    }\n",
       "                }\n",
       "            }, 500);\n",
       "            "
      ],
      "text/plain": [
       "<IPython.core.display.Javascript object>"
      ]
     },
     "metadata": {},
     "output_type": "display_data"
    }
   ],
   "source": [
    "train, test = get_train_test_set(df_recency_segment)"
   ]
  },
  {
   "cell_type": "code",
   "execution_count": 128,
   "metadata": {},
   "outputs": [
    {
     "data": {
      "application/javascript": [
       "\n",
       "            setTimeout(function() {\n",
       "                var nbb_cell_id = 128;\n",
       "                var nbb_unformatted_code = \"RECENCY_SEGMENT_COLUMNS_TO_TRAIN = [\\n    \\\"rec_segment_0-30\\\",\\n    \\\"rec_segment_30-60\\\",\\n    \\\"rec_segment_60-90\\\",\\n    \\\"rec_segment_90-120\\\",\\n    \\\"rec_segment_120-180\\\",\\n    \\\"country_code_Australia\\\",\\n    \\\"country_code_China\\\",\\n    \\\"country_code_Latvia\\\",\\n    \\\"country_code_Peru\\\",\\n]\\n\\nTARGET_COLUMN = [\\\"most_common_voucher\\\"]\";\n",
       "                var nbb_formatted_code = \"RECENCY_SEGMENT_COLUMNS_TO_TRAIN = [\\n    \\\"rec_segment_0-30\\\",\\n    \\\"rec_segment_30-60\\\",\\n    \\\"rec_segment_60-90\\\",\\n    \\\"rec_segment_90-120\\\",\\n    \\\"rec_segment_120-180\\\",\\n    \\\"country_code_Australia\\\",\\n    \\\"country_code_China\\\",\\n    \\\"country_code_Latvia\\\",\\n    \\\"country_code_Peru\\\",\\n]\\n\\nTARGET_COLUMN = [\\\"most_common_voucher\\\"]\";\n",
       "                var nbb_cells = Jupyter.notebook.get_cells();\n",
       "                for (var i = 0; i < nbb_cells.length; ++i) {\n",
       "                    if (nbb_cells[i].input_prompt_number == nbb_cell_id) {\n",
       "                        if (nbb_cells[i].get_text() == nbb_unformatted_code) {\n",
       "                             nbb_cells[i].set_text(nbb_formatted_code);\n",
       "                        }\n",
       "                        break;\n",
       "                    }\n",
       "                }\n",
       "            }, 500);\n",
       "            "
      ],
      "text/plain": [
       "<IPython.core.display.Javascript object>"
      ]
     },
     "metadata": {},
     "output_type": "display_data"
    }
   ],
   "source": [
    "RECENCY_SEGMENT_COLUMNS_TO_TRAIN = [\n",
    "    \"rec_segment_0-30\",\n",
    "    \"rec_segment_30-60\",\n",
    "    \"rec_segment_60-90\",\n",
    "    \"rec_segment_90-120\",\n",
    "    \"rec_segment_120-180\",\n",
    "    \"country_code_Australia\",\n",
    "    \"country_code_China\",\n",
    "    \"country_code_Latvia\",\n",
    "    \"country_code_Peru\",\n",
    "]\n",
    "\n",
    "TARGET_COLUMN = [\"most_common_voucher\"]"
   ]
  },
  {
   "cell_type": "code",
   "execution_count": 129,
   "metadata": {},
   "outputs": [
    {
     "data": {
      "application/javascript": [
       "\n",
       "            setTimeout(function() {\n",
       "                var nbb_cell_id = 129;\n",
       "                var nbb_unformatted_code = \"X_train, Y_train = (\\n    train[RECENCY_SEGMENT_COLUMNS_TO_TRAIN],\\n    train[TARGET_COLUMN],\\n)\";\n",
       "                var nbb_formatted_code = \"X_train, Y_train = (\\n    train[RECENCY_SEGMENT_COLUMNS_TO_TRAIN],\\n    train[TARGET_COLUMN],\\n)\";\n",
       "                var nbb_cells = Jupyter.notebook.get_cells();\n",
       "                for (var i = 0; i < nbb_cells.length; ++i) {\n",
       "                    if (nbb_cells[i].input_prompt_number == nbb_cell_id) {\n",
       "                        if (nbb_cells[i].get_text() == nbb_unformatted_code) {\n",
       "                             nbb_cells[i].set_text(nbb_formatted_code);\n",
       "                        }\n",
       "                        break;\n",
       "                    }\n",
       "                }\n",
       "            }, 500);\n",
       "            "
      ],
      "text/plain": [
       "<IPython.core.display.Javascript object>"
      ]
     },
     "metadata": {},
     "output_type": "display_data"
    }
   ],
   "source": [
    "X_train, Y_train = (\n",
    "    train[RECENCY_SEGMENT_COLUMNS_TO_TRAIN],\n",
    "    train[TARGET_COLUMN],\n",
    ")"
   ]
  },
  {
   "cell_type": "code",
   "execution_count": 130,
   "metadata": {},
   "outputs": [
    {
     "data": {
      "application/javascript": [
       "\n",
       "            setTimeout(function() {\n",
       "                var nbb_cell_id = 130;\n",
       "                var nbb_unformatted_code = \"X_test, Y_test = (\\n    test[RECENCY_SEGMENT_COLUMNS_TO_TRAIN],\\n    test[TARGET_COLUMN],\\n)\";\n",
       "                var nbb_formatted_code = \"X_test, Y_test = (\\n    test[RECENCY_SEGMENT_COLUMNS_TO_TRAIN],\\n    test[TARGET_COLUMN],\\n)\";\n",
       "                var nbb_cells = Jupyter.notebook.get_cells();\n",
       "                for (var i = 0; i < nbb_cells.length; ++i) {\n",
       "                    if (nbb_cells[i].input_prompt_number == nbb_cell_id) {\n",
       "                        if (nbb_cells[i].get_text() == nbb_unformatted_code) {\n",
       "                             nbb_cells[i].set_text(nbb_formatted_code);\n",
       "                        }\n",
       "                        break;\n",
       "                    }\n",
       "                }\n",
       "            }, 500);\n",
       "            "
      ],
      "text/plain": [
       "<IPython.core.display.Javascript object>"
      ]
     },
     "metadata": {},
     "output_type": "display_data"
    }
   ],
   "source": [
    "X_test, Y_test = (\n",
    "    test[RECENCY_SEGMENT_COLUMNS_TO_TRAIN],\n",
    "    test[TARGET_COLUMN],\n",
    ")"
   ]
  },
  {
   "cell_type": "markdown",
   "metadata": {},
   "source": [
    "# Train Model"
   ]
  },
  {
   "cell_type": "code",
   "execution_count": 131,
   "metadata": {},
   "outputs": [
    {
     "data": {
      "application/javascript": [
       "\n",
       "            setTimeout(function() {\n",
       "                var nbb_cell_id = 131;\n",
       "                var nbb_unformatted_code = \"eval_set = [(X_train, Y_train), (X_test, Y_test)]\";\n",
       "                var nbb_formatted_code = \"eval_set = [(X_train, Y_train), (X_test, Y_test)]\";\n",
       "                var nbb_cells = Jupyter.notebook.get_cells();\n",
       "                for (var i = 0; i < nbb_cells.length; ++i) {\n",
       "                    if (nbb_cells[i].input_prompt_number == nbb_cell_id) {\n",
       "                        if (nbb_cells[i].get_text() == nbb_unformatted_code) {\n",
       "                             nbb_cells[i].set_text(nbb_formatted_code);\n",
       "                        }\n",
       "                        break;\n",
       "                    }\n",
       "                }\n",
       "            }, 500);\n",
       "            "
      ],
      "text/plain": [
       "<IPython.core.display.Javascript object>"
      ]
     },
     "metadata": {},
     "output_type": "display_data"
    }
   ],
   "source": [
    "eval_set = [(X_train, Y_train), (X_test, Y_test)]"
   ]
  },
  {
   "cell_type": "code",
   "execution_count": 132,
   "metadata": {},
   "outputs": [
    {
     "data": {
      "application/javascript": [
       "\n",
       "            setTimeout(function() {\n",
       "                var nbb_cell_id = 132;\n",
       "                var nbb_unformatted_code = \"recency_segment_model = xgb.XGBClassifier(\\n    learning_rate=0.001,\\n    max_depth=10,\\n    n_estimators=100,\\n    eval_metric=[\\\"merror\\\"],\\n    eval_set=eval_set,\\n    early_stopping_rounds=50,\\n)\";\n",
       "                var nbb_formatted_code = \"recency_segment_model = xgb.XGBClassifier(\\n    learning_rate=0.001,\\n    max_depth=10,\\n    n_estimators=100,\\n    eval_metric=[\\\"merror\\\"],\\n    eval_set=eval_set,\\n    early_stopping_rounds=50,\\n)\";\n",
       "                var nbb_cells = Jupyter.notebook.get_cells();\n",
       "                for (var i = 0; i < nbb_cells.length; ++i) {\n",
       "                    if (nbb_cells[i].input_prompt_number == nbb_cell_id) {\n",
       "                        if (nbb_cells[i].get_text() == nbb_unformatted_code) {\n",
       "                             nbb_cells[i].set_text(nbb_formatted_code);\n",
       "                        }\n",
       "                        break;\n",
       "                    }\n",
       "                }\n",
       "            }, 500);\n",
       "            "
      ],
      "text/plain": [
       "<IPython.core.display.Javascript object>"
      ]
     },
     "metadata": {},
     "output_type": "display_data"
    }
   ],
   "source": [
    "recency_segment_model = xgb.XGBClassifier(\n",
    "    learning_rate=0.001,\n",
    "    max_depth=10,\n",
    "    n_estimators=100,\n",
    "    eval_metric=[\"merror\"],\n",
    "    eval_set=eval_set,\n",
    "    early_stopping_rounds=50,\n",
    ")"
   ]
  },
  {
   "cell_type": "code",
   "execution_count": 133,
   "metadata": {},
   "outputs": [
    {
     "name": "stderr",
     "output_type": "stream",
     "text": [
      "/home/rahul/Personal/Tech/GitHub/CustomerReactivation/venv_cust/lib/python3.6/site-packages/sklearn/utils/validation.py:72: DataConversionWarning: A column-vector y was passed when a 1d array was expected. Please change the shape of y to (n_samples, ), for example using ravel().\n",
      "  return f(**kwargs)\n"
     ]
    },
    {
     "name": "stdout",
     "output_type": "stream",
     "text": [
      "[18:01:34] WARNING: xgboost/src/learner.cc:516: \n",
      "Parameters: { early_stopping_rounds, eval_set } might not be used.\n",
      "\n",
      "  This may not be accurate due to some parameters are only used in language bindings but\n",
      "  passed down to XGBoost core.  Or some parameters are not used but slip through this\n",
      "  verification. Please open an issue if you find above cases.\n",
      "\n",
      "\n"
     ]
    },
    {
     "data": {
      "text/plain": [
       "XGBClassifier(base_score=0.5, booster='gbtree', colsample_bylevel=1,\n",
       "              colsample_bynode=1, colsample_bytree=1, early_stopping_rounds=50,\n",
       "              eval_metric=['merror'],\n",
       "              eval_set=[(        rec_segment_0-30  rec_segment_30-60  rec_segment_60-90  \\\n",
       "239285                 0                  0                  0   \n",
       "63614                  0                  0                  0   \n",
       "198014                 0                  0                  0   \n",
       "278549                 0                  1                  0   \n",
       "768                    0                  0                  0   \n",
       "...                  ...                ...                ...   \n",
       "174046                 0                  1                  0   \n",
       "40713                  0                  1                  0   \n",
       "110477                 0                  0                  1   \n",
       "199906                 0                  0                  0   \n",
       "69674                  0                  1                  0   \n",
       "\n",
       "        rec_segment_90-120  rec_segment_120-180  cou...\n",
       "              gamma=0, gpu_id=-1, importance_type='gain',\n",
       "              interaction_constraints='', learning_rate=0.001, max_delta_step=0,\n",
       "              max_depth=10, min_child_weight=1, missing=nan,\n",
       "              monotone_constraints='()', n_estimators=100, n_jobs=0,\n",
       "              num_parallel_tree=1, objective='multi:softprob', random_state=0,\n",
       "              reg_alpha=0, reg_lambda=1, scale_pos_weight=None, subsample=1,\n",
       "              tree_method='exact', validate_parameters=1, verbosity=None)"
      ]
     },
     "execution_count": 133,
     "metadata": {},
     "output_type": "execute_result"
    },
    {
     "data": {
      "application/javascript": [
       "\n",
       "            setTimeout(function() {\n",
       "                var nbb_cell_id = 133;\n",
       "                var nbb_unformatted_code = \"recency_segment_model.fit(X_train, Y_train)\";\n",
       "                var nbb_formatted_code = \"recency_segment_model.fit(X_train, Y_train)\";\n",
       "                var nbb_cells = Jupyter.notebook.get_cells();\n",
       "                for (var i = 0; i < nbb_cells.length; ++i) {\n",
       "                    if (nbb_cells[i].input_prompt_number == nbb_cell_id) {\n",
       "                        if (nbb_cells[i].get_text() == nbb_unformatted_code) {\n",
       "                             nbb_cells[i].set_text(nbb_formatted_code);\n",
       "                        }\n",
       "                        break;\n",
       "                    }\n",
       "                }\n",
       "            }, 500);\n",
       "            "
      ],
      "text/plain": [
       "<IPython.core.display.Javascript object>"
      ]
     },
     "metadata": {},
     "output_type": "display_data"
    }
   ],
   "source": [
    "recency_segment_model.fit(X_train, Y_train)"
   ]
  },
  {
   "cell_type": "code",
   "execution_count": 134,
   "metadata": {},
   "outputs": [
    {
     "data": {
      "application/javascript": [
       "\n",
       "            setTimeout(function() {\n",
       "                var nbb_cell_id = 134;\n",
       "                var nbb_unformatted_code = \"recency_segment_predict = recency_segment_model.predict(X_test)\";\n",
       "                var nbb_formatted_code = \"recency_segment_predict = recency_segment_model.predict(X_test)\";\n",
       "                var nbb_cells = Jupyter.notebook.get_cells();\n",
       "                for (var i = 0; i < nbb_cells.length; ++i) {\n",
       "                    if (nbb_cells[i].input_prompt_number == nbb_cell_id) {\n",
       "                        if (nbb_cells[i].get_text() == nbb_unformatted_code) {\n",
       "                             nbb_cells[i].set_text(nbb_formatted_code);\n",
       "                        }\n",
       "                        break;\n",
       "                    }\n",
       "                }\n",
       "            }, 500);\n",
       "            "
      ],
      "text/plain": [
       "<IPython.core.display.Javascript object>"
      ]
     },
     "metadata": {},
     "output_type": "display_data"
    }
   ],
   "source": [
    "recency_segment_predict = recency_segment_model.predict(X_test)"
   ]
  },
  {
   "cell_type": "code",
   "execution_count": 135,
   "metadata": {},
   "outputs": [
    {
     "name": "stdout",
     "output_type": "stream",
     "text": [
      "              precision    recall  f1-score   support\n",
      "\n",
      "      1760.0       1.00      1.00      1.00     18288\n",
      "      2200.0       1.00      1.00      1.00     14237\n",
      "      2640.0       1.00      1.00      1.00      8127\n",
      "      4400.0       1.00      1.00      1.00      4213\n",
      "      5720.0       1.00      1.00      1.00        87\n",
      "     13200.0       1.00      1.00      1.00      7274\n",
      "\n",
      "    accuracy                           1.00     52226\n",
      "   macro avg       1.00      1.00      1.00     52226\n",
      "weighted avg       1.00      1.00      1.00     52226\n",
      "\n"
     ]
    },
    {
     "data": {
      "application/javascript": [
       "\n",
       "            setTimeout(function() {\n",
       "                var nbb_cell_id = 135;\n",
       "                var nbb_unformatted_code = \"print(classification_report(Y_test, recency_segment_predict))\";\n",
       "                var nbb_formatted_code = \"print(classification_report(Y_test, recency_segment_predict))\";\n",
       "                var nbb_cells = Jupyter.notebook.get_cells();\n",
       "                for (var i = 0; i < nbb_cells.length; ++i) {\n",
       "                    if (nbb_cells[i].input_prompt_number == nbb_cell_id) {\n",
       "                        if (nbb_cells[i].get_text() == nbb_unformatted_code) {\n",
       "                             nbb_cells[i].set_text(nbb_formatted_code);\n",
       "                        }\n",
       "                        break;\n",
       "                    }\n",
       "                }\n",
       "            }, 500);\n",
       "            "
      ],
      "text/plain": [
       "<IPython.core.display.Javascript object>"
      ]
     },
     "metadata": {},
     "output_type": "display_data"
    }
   ],
   "source": [
    "print(classification_report(Y_test, recency_segment_predict))"
   ]
  },
  {
   "cell_type": "code",
   "execution_count": null,
   "metadata": {},
   "outputs": [],
   "source": []
  },
  {
   "cell_type": "code",
   "execution_count": null,
   "metadata": {},
   "outputs": [],
   "source": []
  },
  {
   "cell_type": "markdown",
   "metadata": {},
   "source": [
    "# Peru only Model"
   ]
  },
  {
   "cell_type": "markdown",
   "metadata": {},
   "source": [
    "from sklearn.metrics import classification_report, confusion_matrix"
   ]
  },
  {
   "cell_type": "markdown",
   "metadata": {},
   "source": [
    "df_peru = df[df.country_code == \"Peru\"]"
   ]
  },
  {
   "cell_type": "markdown",
   "metadata": {},
   "source": [
    "df_peru.voucher_amount.unique()"
   ]
  },
  {
   "cell_type": "markdown",
   "metadata": {},
   "source": [
    "voucher_to_label = {4400.0: 1, 2640.0: 2, 3520.0: 3}\n",
    "label_to_voucher = {1: 4400.0, 2: 2640.0, 3: 3520.0}"
   ]
  },
  {
   "cell_type": "markdown",
   "metadata": {},
   "source": [
    "def convert_voucher_to_label(voucher: float):\n",
    "    return voucher_to_label[voucher]"
   ]
  },
  {
   "cell_type": "markdown",
   "metadata": {},
   "source": [
    "df_peru[\"voucher_label\"] = df_peru.voucher_amount.apply(\n",
    "    lambda x: convert_voucher_to_label(x)\n",
    ")"
   ]
  },
  {
   "cell_type": "markdown",
   "metadata": {},
   "source": [
    "train, test = train_test_split(\n",
    "    df_peru, test_size=0.2, random_state=0, stratify=df_peru[[\"voucher_label\"]]\n",
    ")"
   ]
  },
  {
   "cell_type": "markdown",
   "metadata": {},
   "source": [
    "COLUMNS_TO_TRAIN_PERU = [\n",
    "    \"total_orders\",\n",
    "    \"days_since_last_order\",\n",
    "    \"customer_since_days\",\n",
    "    \"freq_0-4\",\n",
    "    \"freq_5-13\",\n",
    "    \"freq_13-37\",\n",
    "    \"freq_38-higher\",\n",
    "    \"rec_segment_0-30\",\n",
    "    \"rec_segment_30-60\",\n",
    "    \"rec_segment_60-90\",\n",
    "    \"rec_segment_90-120\",\n",
    "    \"rec_segment_120-180\",\n",
    "    \"cust_since_0-60\",\n",
    "    \"cust_since_60-120\",\n",
    "    \"cust_since_120-180\",\n",
    "    \"cust_since_180-240\",\n",
    "    \"cust_since_240-300\",\n",
    "    \"cust_since_300+\",\n",
    "]\n",
    "\n",
    "TARGET_COLUMN = [\"voucher_label\"]"
   ]
  },
  {
   "cell_type": "markdown",
   "metadata": {},
   "source": [
    "X_train, Y_train = train[COLUMNS_TO_TRAIN_PERU], train[TARGET_COLUMN]\n",
    "X_test, Y_test = test[COLUMNS_TO_TRAIN_PERU], test[TARGET_COLUMN]"
   ]
  },
  {
   "cell_type": "markdown",
   "metadata": {},
   "source": [
    "xgb_model = xgb.XGBClassifier(learning_rate=0.01, max_depth=1, n_estimators=500)"
   ]
  },
  {
   "cell_type": "markdown",
   "metadata": {},
   "source": [
    "xgb_model.fit(X_train, Y_train)"
   ]
  },
  {
   "cell_type": "markdown",
   "metadata": {},
   "source": [
    "xgb_predict_peru = xgb_model.predict(X_test)"
   ]
  },
  {
   "cell_type": "markdown",
   "metadata": {},
   "source": [
    "print(classification_report(Y_test, xgb_predict_peru))"
   ]
  },
  {
   "cell_type": "markdown",
   "metadata": {},
   "source": [
    "xgb_predict_peru"
   ]
  },
  {
   "cell_type": "markdown",
   "metadata": {},
   "source": [
    "df_peru.corr()[\"voucher_amount\"].to_frame().style.background_gradient(\n",
    "    cmap=\"coolwarm\"\n",
    ").set_precision(2)"
   ]
  },
  {
   "cell_type": "markdown",
   "metadata": {},
   "source": [
    "## Train only on original features"
   ]
  },
  {
   "cell_type": "markdown",
   "metadata": {},
   "source": [
    "ORIGINAL_COLUMNS_TO_TRAIN_PERU = [\n",
    "    \"total_orders\",\n",
    "    \"days_since_last_order\",\n",
    "    \"customer_since_days\",\n",
    "]\n",
    "\n",
    "TARGET_COLUMN = [\"voucher_label\"]"
   ]
  },
  {
   "cell_type": "markdown",
   "metadata": {},
   "source": [
    "train, test = train_test_split(\n",
    "    df_peru,\n",
    "    test_size=0.2,\n",
    "    random_state=0\n",
    "    #     , stratify=df_peru[[\"voucher_label\"]]\n",
    ")"
   ]
  },
  {
   "cell_type": "markdown",
   "metadata": {},
   "source": [
    "X_train, Y_train = train[COLUMNS_TO_TRAIN_PERU], train[TARGET_COLUMN]\n",
    "X_test, Y_test = test[COLUMNS_TO_TRAIN_PERU], test[TARGET_COLUMN]"
   ]
  },
  {
   "cell_type": "markdown",
   "metadata": {},
   "source": [
    "xgb_model = xgb.XGBClassifier(\n",
    "    learning_rate=0.001,\n",
    "    max_depth=20,\n",
    "    n_estimators=500,\n",
    "    objective=\"multi:softprob\",\n",
    "    random_state=42,\n",
    ")"
   ]
  },
  {
   "cell_type": "markdown",
   "metadata": {},
   "source": [
    "eval_set = [(X_train, Y_train), (X_test, Y_test)]"
   ]
  },
  {
   "cell_type": "markdown",
   "metadata": {},
   "source": [
    "xgb_model.fit(\n",
    "    X_train,\n",
    "    Y_train,\n",
    "    eval_metric=[\"merror\"],\n",
    "    eval_set=eval_set,\n",
    "    early_stopping_rounds=50\n",
    "    #     verbose=True,\n",
    ")"
   ]
  },
  {
   "cell_type": "markdown",
   "metadata": {},
   "source": [
    "xgb_predict_peru = xgb_model.predict(X_test)"
   ]
  },
  {
   "cell_type": "markdown",
   "metadata": {},
   "source": [
    "print(classification_report(Y_test, xgb_predict_peru))"
   ]
  },
  {
   "cell_type": "markdown",
   "metadata": {},
   "source": [
    "xgb_predict_peru[:20]"
   ]
  },
  {
   "cell_type": "markdown",
   "metadata": {},
   "source": [
    "Y_test[:20].values"
   ]
  },
  {
   "cell_type": "markdown",
   "metadata": {},
   "source": [
    "## Random Forest"
   ]
  },
  {
   "cell_type": "markdown",
   "metadata": {},
   "source": [
    "from sklearn.ensemble import RandomForestClassifier\n"
   ]
  },
  {
   "cell_type": "markdown",
   "metadata": {},
   "source": [
    "train, test = train_test_split(\n",
    "    df_peru, test_size=0.1, random_state=0, stratify=df_peru[[\"voucher_label\"]]\n",
    ")"
   ]
  },
  {
   "cell_type": "markdown",
   "metadata": {},
   "source": [
    "X_train, Y_train = train[COLUMNS_TO_TRAIN_PERU], train[TARGET_COLUMN]\n",
    "X_test, Y_test = test[COLUMNS_TO_TRAIN_PERU], test[TARGET_COLUMN]"
   ]
  },
  {
   "cell_type": "markdown",
   "metadata": {},
   "source": [
    "rnd_clf = RandomForestClassifier(\n",
    "    random_state=0, n_estimators=500, bootstrap=True, max_features=\"sqrt\"\n",
    ")"
   ]
  },
  {
   "cell_type": "markdown",
   "metadata": {},
   "source": [
    "rnd_clf.fit(X_train, Y_train)"
   ]
  },
  {
   "cell_type": "markdown",
   "metadata": {},
   "source": [
    "xgb_predict_peru = rnd_clf.predict(X_test)"
   ]
  },
  {
   "cell_type": "markdown",
   "metadata": {},
   "source": [
    "print(classification_report(Y_test, xgb_predict_peru))"
   ]
  },
  {
   "cell_type": "markdown",
   "metadata": {},
   "source": [
    "xgb_predict_peru[:20]"
   ]
  },
  {
   "cell_type": "markdown",
   "metadata": {},
   "source": [
    "Y_test[:20].values"
   ]
  },
  {
   "cell_type": "markdown",
   "metadata": {},
   "source": [
    "## Scale inputs"
   ]
  },
  {
   "cell_type": "markdown",
   "metadata": {},
   "source": [
    "from sklearn.preprocessing import StandardScaler"
   ]
  },
  {
   "cell_type": "markdown",
   "metadata": {},
   "source": [
    "scaler = StandardScaler()"
   ]
  },
  {
   "cell_type": "markdown",
   "metadata": {},
   "source": [
    "X_train_scaled = scaler.fit_transform(X_train.astype(np.float64))"
   ]
  },
  {
   "cell_type": "markdown",
   "metadata": {},
   "source": [
    "X_test_scaled = scaler.transform(X_test.astype(np.float64))"
   ]
  },
  {
   "cell_type": "markdown",
   "metadata": {},
   "source": [
    "rnd_clf = RandomForestClassifier(\n",
    "    random_state=0, n_estimators=500, bootstrap=True, max_features=\"sqrt\", n_jobs=8\n",
    ")"
   ]
  },
  {
   "cell_type": "markdown",
   "metadata": {},
   "source": [
    "rnd_clf.fit(X_train_scaled, Y_train)"
   ]
  },
  {
   "cell_type": "markdown",
   "metadata": {},
   "source": [
    "xgb_predict_peru = rnd_clf.predict(X_test_scaled)"
   ]
  },
  {
   "cell_type": "markdown",
   "metadata": {},
   "source": [
    "print(classification_report(Y_test, xgb_predict_peru))"
   ]
  },
  {
   "cell_type": "markdown",
   "metadata": {},
   "source": [
    "xgb_predict_peru[-20:]"
   ]
  },
  {
   "cell_type": "markdown",
   "metadata": {},
   "source": [
    "Y_test[-20:].values"
   ]
  },
  {
   "cell_type": "markdown",
   "metadata": {},
   "source": [
    "## Debug"
   ]
  },
  {
   "cell_type": "markdown",
   "metadata": {},
   "source": [
    "df_peru.head()"
   ]
  },
  {
   "cell_type": "markdown",
   "metadata": {},
   "source": [
    "df_peru[df_peru[\"freq_0-4\"] == 1][\"voucher_amount\"].value_counts()"
   ]
  },
  {
   "cell_type": "markdown",
   "metadata": {},
   "source": []
  }
 ],
 "metadata": {
  "kernelspec": {
   "display_name": "Python 3",
   "language": "python",
   "name": "python3"
  },
  "language_info": {
   "codemirror_mode": {
    "name": "ipython",
    "version": 3
   },
   "file_extension": ".py",
   "mimetype": "text/x-python",
   "name": "python",
   "nbconvert_exporter": "python",
   "pygments_lexer": "ipython3",
   "version": "3.6.9"
  }
 },
 "nbformat": 4,
 "nbformat_minor": 4
}
